{
 "cells": [
  {
   "cell_type": "code",
   "execution_count": 1,
   "id": "04addb5d",
   "metadata": {},
   "outputs": [],
   "source": [
    "import pymatgen"
   ]
  },
  {
   "cell_type": "code",
   "execution_count": 2,
   "id": "029437c7",
   "metadata": {},
   "outputs": [],
   "source": [
    "from pymatgen.core import Structure"
   ]
  },
  {
   "cell_type": "code",
   "execution_count": 3,
   "id": "19230a4a",
   "metadata": {},
   "outputs": [],
   "source": [
    "import os"
   ]
  },
  {
   "cell_type": "code",
   "execution_count": 4,
   "id": "563851d1",
   "metadata": {},
   "outputs": [],
   "source": [
    "os.chdir('/home/derejeb/data/Ca-Fe-O-P/FeP/')"
   ]
  },
  {
   "cell_type": "code",
   "execution_count": 5,
   "id": "36332a54",
   "metadata": {},
   "outputs": [
    {
     "name": "stdout",
     "output_type": "stream",
     "text": [
      "Full Formula (Fe4 P4)\n",
      "Reduced Formula: FeP\n",
      "abc   :   5.191000   3.099000   5.792000\n",
      "angles:  90.000000  90.000000  90.000000\n",
      "Sites (8)\n",
      "  #  SP        a     b      c\n",
      "---  ----  -----  ----  -----\n",
      "  0  Fe2+  0.502  0.25  0.3\n",
      "  1  Fe2+  0.002  0.25  0.2\n",
      "  2  Fe2+  0.498  0.75  0.7\n",
      "  3  Fe2+  0.998  0.75  0.8\n",
      "  4  P2-   0.692  0.25  0.931\n",
      "  5  P2-   0.192  0.25  0.569\n",
      "  6  P2-   0.308  0.75  0.069\n",
      "  7  P2-   0.808  0.75  0.431\n"
     ]
    }
   ],
   "source": [
    "structure = Structure.from_file(\"EntryWithCollCode633050.cif\")\n",
    "print(structure)"
   ]
  },
  {
   "cell_type": "code",
   "execution_count": 6,
   "id": "be4ce28c",
   "metadata": {},
   "outputs": [
    {
     "name": "stdout",
     "output_type": "stream",
     "text": [
      "Full Formula (Fe4 P4)\n",
      "Reduced Formula: FeP\n",
      "abc   :   5.191000   3.099000   5.792000\n",
      "angles:  90.000000  90.000000  90.000000\n",
      "Sites (8)\n",
      "  #  SP        a     b      c\n",
      "---  ----  -----  ----  -----\n",
      "  0  Fe2+  0.502  0.25  0.3\n",
      "  1  Fe2+  0.002  0.25  0.2\n",
      "  2  Fe2+  0.498  0.75  0.7\n",
      "  3  Fe2+  0.998  0.75  0.8\n",
      "  4  P2-   0.692  0.25  0.931\n",
      "  5  P2-   0.192  0.25  0.569\n",
      "  6  P2-   0.308  0.75  0.069\n",
      "  7  P2-   0.808  0.75  0.431\n"
     ]
    }
   ],
   "source": [
    "from pymatgen.core.composition import Composition\n",
    "from pymatgen.core.lattice import Lattice\n",
    "from pymatgen.core.operations import SymmOp\n",
    "from pymatgen.core.periodic_table import Element, Species\n",
    "from pymatgen.core.structure import (\n",
    "    IMolecule,\n",
    "    IStructure,\n",
    "    Molecule,\n",
    "    Structure,\n",
    "    StructureError,\n",
    ")\n",
    "\n",
    "s = structure.get_primitive_structure()\n",
    "print(s)"
   ]
  },
  {
   "cell_type": "code",
   "execution_count": 7,
   "id": "b73e4db1",
   "metadata": {},
   "outputs": [
    {
     "name": "stderr",
     "output_type": "stream",
     "text": [
      "/apps/anaconda/envs/pymatgen/lib/python3.9/site-packages/pymatgen/io/vasp/inputs.py:1751: UserWarning: Ignoring unknown variable type SHA256\n",
      "  warnings.warn(\"Ignoring unknown variable type %s\" % key)\n",
      "/apps/anaconda/envs/pymatgen/lib/python3.9/site-packages/pymatgen/io/vasp/inputs.py:1751: UserWarning: Ignoring unknown variable type COPYR\n",
      "  warnings.warn(\"Ignoring unknown variable type %s\" % key)\n",
      "/apps/anaconda/envs/pymatgen/lib/python3.9/site-packages/pymatgen/io/vasp/sets.py:129: BadInputSetWarning: POTCAR data with symbol Fe_pv is not known by pymatgen to                    correspond with the selected potcar_functional PBE. This POTCAR                    is known to correspond with functionals ['unvie_PBE_52', 'PBE_54', 'PBE_52']. Please verify that                    you are using the right POTCARs!\n",
      "  warnings.warn(\n",
      "/apps/anaconda/envs/pymatgen/lib/python3.9/site-packages/pymatgen/io/vasp/sets.py:129: BadInputSetWarning: POTCAR data with symbol P is not known by pymatgen to                    correspond with the selected potcar_functional PBE. This POTCAR                    is known to correspond with functionals ['unvie_PBE_52', 'PBE_54', 'PBE_52']. Please verify that                    you are using the right POTCARs!\n",
      "  warnings.warn(\n"
     ]
    }
   ],
   "source": [
    "from pymatgen.core.structure import Element\n",
    "from pymatgen.io.vasp.sets import MPRelaxSet\n",
    "from pymatgen.io.vasp.inputs import Potcar\n",
    "#import os\n",
    "#os.chdir('/home/derejeb/data/Vasp_potcars/potcars')\n",
    "\n",
    "from pymatgen.io.vasp.sets import MPRelaxSet\n",
    "from pymatgen.io.vasp.inputs import Kpoints\n",
    "kpoints = Kpoints.automatic(32)\n",
    "relaxset = MPRelaxSet(s,user_kpoints_settings=kpoints)\n",
    "relaxset.write_input('FeP')\n"
   ]
  },
  {
   "cell_type": "code",
   "execution_count": null,
   "id": "5611c676",
   "metadata": {},
   "outputs": [],
   "source": []
  }
 ],
 "metadata": {
  "kernelspec": {
   "display_name": "Python 3",
   "language": "python",
   "name": "python3"
  },
  "language_info": {
   "codemirror_mode": {
    "name": "ipython",
    "version": 3
   },
   "file_extension": ".py",
   "mimetype": "text/x-python",
   "name": "python",
   "nbconvert_exporter": "python",
   "pygments_lexer": "ipython3",
   "version": "3.9.4"
  }
 },
 "nbformat": 4,
 "nbformat_minor": 5
}
