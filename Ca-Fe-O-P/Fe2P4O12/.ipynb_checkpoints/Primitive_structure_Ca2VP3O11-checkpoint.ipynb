{
 "cells": [
  {
   "cell_type": "code",
   "execution_count": 1,
   "id": "04addb5d",
   "metadata": {},
   "outputs": [],
   "source": [
    "import pymatgen"
   ]
  },
  {
   "cell_type": "code",
   "execution_count": 2,
   "id": "029437c7",
   "metadata": {},
   "outputs": [],
   "source": [
    "from pymatgen.core import Structure"
   ]
  },
  {
   "cell_type": "code",
   "execution_count": 3,
   "id": "19230a4a",
   "metadata": {},
   "outputs": [],
   "source": [
    "import os"
   ]
  },
  {
   "cell_type": "code",
   "execution_count": 4,
   "id": "563851d1",
   "metadata": {},
   "outputs": [],
   "source": [
    "os.chdir('/home/derejeb/data/Ca-Fe-O-P/Fe2P4O12/')"
   ]
  },
  {
   "cell_type": "code",
   "execution_count": 5,
   "id": "36332a54",
   "metadata": {},
   "outputs": [
    {
     "name": "stdout",
     "output_type": "stream",
     "text": [
      "Full Formula (Fe8 P16 O48)\n",
      "Reduced Formula: Fe(PO3)2\n",
      "abc   :  11.944000   8.365000   9.932000\n",
      "angles:  90.000000 118.740000  90.000000\n",
      "Sites (72)\n",
      "  #  SP         a       b       c\n",
      "---  ----  ------  ------  ------\n",
      "  0  Fe2+  0.25    0.75    0.5\n",
      "  1  Fe2+  0.75    0.75    0\n",
      "  2  Fe2+  0.75    0.25    0.5\n",
      "  3  Fe2+  0.25    0.25    0\n",
      "  4  Fe2+  0       0.4511  0.75\n",
      "  5  Fe2+  0       0.5489  0.25\n",
      "  6  Fe2+  0.5     0.9511  0.75\n",
      "  7  Fe2+  0.5     0.0489  0.25\n",
      "  8  P5+   0.3063  0.4956  0.3028\n",
      "  9  P5+   0.6937  0.4956  0.1972\n",
      " 10  P5+   0.6937  0.5044  0.6972\n",
      " 11  P5+   0.3063  0.5044  0.8028\n",
      " 12  P5+   0.8063  0.9956  0.3028\n",
      " 13  P5+   0.1937  0.9956  0.1972\n",
      " 14  P5+   0.1937  0.0044  0.6972\n",
      " 15  P5+   0.8063  0.0044  0.8028\n",
      " 16  P5+   0.5103  0.2649  0.9766\n",
      " 17  P5+   0.4897  0.2649  0.5234\n",
      " 18  P5+   0.4897  0.7351  0.0234\n",
      " 19  P5+   0.5103  0.7351  0.4766\n",
      " 20  P5+   0.0103  0.7649  0.9766\n",
      " 21  P5+   0.9897  0.7649  0.5234\n",
      " 22  P5+   0.9897  0.2351  0.0234\n",
      " 23  P5+   0.0103  0.2351  0.4766\n",
      " 24  O2-   0.4201  0.3822  0.8417\n",
      " 25  O2-   0.5799  0.3822  0.6583\n",
      " 26  O2-   0.5799  0.6178  0.1583\n",
      " 27  O2-   0.4201  0.6178  0.3417\n",
      " 28  O2-   0.9201  0.8822  0.8417\n",
      " 29  O2-   0.0799  0.8822  0.6583\n",
      " 30  O2-   0.0799  0.1178  0.1583\n",
      " 31  O2-   0.9201  0.1178  0.3417\n",
      " 32  O2-   0.3634  0.6313  0.9385\n",
      " 33  O2-   0.6366  0.6313  0.5615\n",
      " 34  O2-   0.6366  0.3687  0.0615\n",
      " 35  O2-   0.3634  0.3687  0.4385\n",
      " 36  O2-   0.8634  0.1313  0.9385\n",
      " 37  O2-   0.1366  0.1313  0.5615\n",
      " 38  O2-   0.1366  0.8687  0.0615\n",
      " 39  O2-   0.8634  0.8687  0.4385\n",
      " 40  O2-   0.2733  0.5781  0.6541\n",
      " 41  O2-   0.7267  0.5781  0.8459\n",
      " 42  O2-   0.7267  0.4219  0.3459\n",
      " 43  O2-   0.2733  0.4219  0.1541\n",
      " 44  O2-   0.7733  0.0781  0.6541\n",
      " 45  O2-   0.2267  0.0781  0.8459\n",
      " 46  O2-   0.2267  0.9219  0.3459\n",
      " 47  O2-   0.7733  0.9219  0.1541\n",
      " 48  O2-   0.2022  0.4207  0.8187\n",
      " 49  O2-   0.7978  0.4207  0.6813\n",
      " 50  O2-   0.7978  0.5793  0.1813\n",
      " 51  O2-   0.2022  0.5793  0.3187\n",
      " 52  O2-   0.7022  0.9207  0.8187\n",
      " 53  O2-   0.2978  0.9207  0.6813\n",
      " 54  O2-   0.2978  0.0793  0.1813\n",
      " 55  O2-   0.7022  0.0793  0.3187\n",
      " 56  O2-   0.5459  0.76    0.9179\n",
      " 57  O2-   0.4541  0.76    0.5821\n",
      " 58  O2-   0.4541  0.24    0.0821\n",
      " 59  O2-   0.5459  0.24    0.4179\n",
      " 60  O2-   0.0459  0.26    0.9179\n",
      " 61  O2-   0.9541  0.26    0.5821\n",
      " 62  O2-   0.9541  0.74    0.0821\n",
      " 63  O2-   0.0459  0.74    0.4179\n",
      " 64  O2-   0.4599  0.8745  0.0896\n",
      " 65  O2-   0.5401  0.8745  0.4104\n",
      " 66  O2-   0.5401  0.1255  0.9104\n",
      " 67  O2-   0.4599  0.1255  0.5896\n",
      " 68  O2-   0.9599  0.3745  0.0896\n",
      " 69  O2-   0.0401  0.3745  0.4104\n",
      " 70  O2-   0.0401  0.6255  0.9104\n",
      " 71  O2-   0.9599  0.6255  0.5896\n"
     ]
    }
   ],
   "source": [
    "structure = Structure.from_file(\"EntryWithCollCode63500.cif\")\n",
    "print(structure)"
   ]
  },
  {
   "cell_type": "code",
   "execution_count": 6,
   "id": "be4ce28c",
   "metadata": {},
   "outputs": [
    {
     "name": "stdout",
     "output_type": "stream",
     "text": [
      "Full Formula (Fe4 P8 O24)\n",
      "Reduced Formula: Fe(PO3)2\n",
      "abc   :   7.290959   7.290959   9.734589\n",
      "angles:  98.384168 110.312277 109.988920\n",
      "Sites (36)\n",
      "  #  SP         a       b       c\n",
      "---  ----  ------  ------  ------\n",
      "  0  Fe2+  0.5     0.5     0.5\n",
      "  1  Fe2+  0.5     1       0\n",
      "  2  Fe2+  0.2989  0.5489  0.75\n",
      "  3  Fe2+  0.7011  0.4511  0.25\n",
      "  4  O2-   0.0394  0.0379  0.8417\n",
      "  5  O2-   0.6962  0.1977  0.6583\n",
      "  6  O2-   0.9606  0.9621  0.1583\n",
      "  7  O2-   0.3038  0.8023  0.3417\n",
      "  8  O2-   0.9438  0.7321  0.9385\n",
      "  9  O2-   0.2936  0.0053  0.5615\n",
      " 10  O2-   0.0562  0.2679  0.0615\n",
      " 11  O2-   0.7064  0.9947  0.4385\n",
      " 12  O2-   0.8027  0.6952  0.6541\n",
      " 13  O2-   0.5411  0.1486  0.8459\n",
      " 14  O2-   0.1973  0.3048  0.3459\n",
      " 15  O2-   0.4589  0.8514  0.1541\n",
      " 16  O2-   0.1958  0.7815  0.8187\n",
      " 17  O2-   0.4628  0.3771  0.6813\n",
      " 18  O2-   0.8042  0.2185  0.1813\n",
      " 19  O2-   0.5372  0.6229  0.3187\n",
      " 20  O2-   0.612   0.7859  0.9179\n",
      " 21  O2-   0.368   0.6941  0.5821\n",
      " 22  O2-   0.388   0.2141  0.0821\n",
      " 23  O2-   0.632   0.3059  0.4179\n",
      " 24  O2-   0.7552  0.5854  0.0896\n",
      " 25  O2-   0.9958  0.6656  0.4104\n",
      " 26  O2-   0.2448  0.4146  0.9104\n",
      " 27  O2-   0.0042  0.3344  0.5896\n",
      " 28  P5+   0.5009  0.8107  0.3028\n",
      " 29  P5+   0.0079  0.1981  0.1972\n",
      " 30  P5+   0.4991  0.1893  0.6972\n",
      " 31  P5+   0.9921  0.8019  0.8028\n",
      " 32  P5+   0.2014  0.2454  0.9766\n",
      " 33  P5+   0.7688  0.2248  0.5234\n",
      " 34  P5+   0.7986  0.7546  0.0234\n",
      " 35  P5+   0.2312  0.7752  0.4766\n"
     ]
    }
   ],
   "source": [
    "from pymatgen.core.composition import Composition\n",
    "from pymatgen.core.lattice import Lattice\n",
    "from pymatgen.core.operations import SymmOp\n",
    "from pymatgen.core.periodic_table import Element, Species\n",
    "from pymatgen.core.structure import (\n",
    "    IMolecule,\n",
    "    IStructure,\n",
    "    Molecule,\n",
    "    Structure,\n",
    "    StructureError,\n",
    ")\n",
    "\n",
    "s = structure.get_primitive_structure()\n",
    "print(s)"
   ]
  },
  {
   "cell_type": "code",
   "execution_count": 7,
   "id": "b73e4db1",
   "metadata": {},
   "outputs": [
    {
     "name": "stderr",
     "output_type": "stream",
     "text": [
      "/apps/anaconda/envs/pymatgen/lib/python3.9/site-packages/pymatgen/io/vasp/inputs.py:1751: UserWarning: Ignoring unknown variable type SHA256\n",
      "  warnings.warn(\"Ignoring unknown variable type %s\" % key)\n",
      "/apps/anaconda/envs/pymatgen/lib/python3.9/site-packages/pymatgen/io/vasp/inputs.py:1751: UserWarning: Ignoring unknown variable type COPYR\n",
      "  warnings.warn(\"Ignoring unknown variable type %s\" % key)\n",
      "/apps/anaconda/envs/pymatgen/lib/python3.9/site-packages/pymatgen/io/vasp/sets.py:129: BadInputSetWarning: POTCAR data with symbol Fe_pv is not known by pymatgen to                    correspond with the selected potcar_functional PBE. This POTCAR                    is known to correspond with functionals ['PBE_52', 'PBE_54', 'unvie_PBE_52']. Please verify that                    you are using the right POTCARs!\n",
      "  warnings.warn(\n",
      "/apps/anaconda/envs/pymatgen/lib/python3.9/site-packages/pymatgen/io/vasp/sets.py:129: BadInputSetWarning: POTCAR data with symbol P is not known by pymatgen to                    correspond with the selected potcar_functional PBE. This POTCAR                    is known to correspond with functionals ['PBE_52', 'PBE_54', 'unvie_PBE_52']. Please verify that                    you are using the right POTCARs!\n",
      "  warnings.warn(\n",
      "/apps/anaconda/envs/pymatgen/lib/python3.9/site-packages/pymatgen/io/vasp/sets.py:129: BadInputSetWarning: POTCAR data with symbol O is not known by pymatgen to                    correspond with the selected potcar_functional PBE. This POTCAR                    is known to correspond with functionals ['PBE_52', 'PBE_54', 'unvie_PBE_52']. Please verify that                    you are using the right POTCARs!\n",
      "  warnings.warn(\n"
     ]
    }
   ],
   "source": [
    "from pymatgen.core.structure import Element\n",
    "from pymatgen.io.vasp.sets import MPRelaxSet\n",
    "from pymatgen.io.vasp.inputs import Potcar\n",
    "#import os\n",
    "#os.chdir('/home/derejeb/data/Vasp_potcars/potcars')\n",
    "\n",
    "from pymatgen.io.vasp.sets import MPRelaxSet\n",
    "from pymatgen.io.vasp.inputs import Kpoints\n",
    "kpoints = Kpoints.automatic(32)\n",
    "relaxset = MPRelaxSet(s,user_kpoints_settings=kpoints)\n",
    "relaxset.write_input('Fe2P4O12')\n"
   ]
  },
  {
   "cell_type": "code",
   "execution_count": null,
   "id": "5611c676",
   "metadata": {},
   "outputs": [],
   "source": []
  }
 ],
 "metadata": {
  "kernelspec": {
   "display_name": "Python 3",
   "language": "python",
   "name": "python3"
  },
  "language_info": {
   "codemirror_mode": {
    "name": "ipython",
    "version": 3
   },
   "file_extension": ".py",
   "mimetype": "text/x-python",
   "name": "python",
   "nbconvert_exporter": "python",
   "pygments_lexer": "ipython3",
   "version": "3.9.4"
  }
 },
 "nbformat": 4,
 "nbformat_minor": 5
}
