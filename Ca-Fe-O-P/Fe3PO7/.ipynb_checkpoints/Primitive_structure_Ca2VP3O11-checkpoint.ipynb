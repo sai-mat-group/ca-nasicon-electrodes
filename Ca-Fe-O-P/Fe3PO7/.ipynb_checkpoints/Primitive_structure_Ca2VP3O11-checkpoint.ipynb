{
 "cells": [
  {
   "cell_type": "code",
   "execution_count": 1,
   "id": "04addb5d",
   "metadata": {},
   "outputs": [],
   "source": [
    "import pymatgen"
   ]
  },
  {
   "cell_type": "code",
   "execution_count": 2,
   "id": "029437c7",
   "metadata": {},
   "outputs": [],
   "source": [
    "from pymatgen.core import Structure"
   ]
  },
  {
   "cell_type": "code",
   "execution_count": 3,
   "id": "19230a4a",
   "metadata": {},
   "outputs": [],
   "source": [
    "import os"
   ]
  },
  {
   "cell_type": "code",
   "execution_count": 4,
   "id": "563851d1",
   "metadata": {},
   "outputs": [],
   "source": [
    "os.chdir('/home/derejeb/data/Ca-Fe-O-P/Fe3PO7/')"
   ]
  },
  {
   "cell_type": "code",
   "execution_count": 5,
   "id": "36332a54",
   "metadata": {},
   "outputs": [
    {
     "name": "stdout",
     "output_type": "stream",
     "text": [
      "Full Formula (Fe9 P3 O21)\n",
      "Reduced Formula: Fe3PO7\n",
      "abc   :   8.006000   8.006000   6.863000\n",
      "angles:  90.000000  90.000000 120.000000\n",
      "Sites (33)\n",
      "  #  SP           a         b         c\n",
      "---  ----  --------  --------  --------\n",
      "  0  Fe3+  0.406     0.203     0.7425\n",
      "  1  Fe3+  0.797     0.594     0.7425\n",
      "  2  Fe3+  0.797     0.203     0.7425\n",
      "  3  Fe3+  0.072667  0.536333  0.075833\n",
      "  4  Fe3+  0.463667  0.927333  0.075833\n",
      "  5  Fe3+  0.463667  0.536333  0.075833\n",
      "  6  Fe3+  0.739333  0.869667  0.409167\n",
      "  7  Fe3+  0.130333  0.260667  0.409167\n",
      "  8  Fe3+  0.130333  0.869667  0.409167\n",
      "  9  P5+   0         0         0\n",
      " 10  P5+   0.666667  0.333333  0.333333\n",
      " 11  P5+   0.333333  0.666667  0.666667\n",
      " 12  O2-   0         0         0.2289\n",
      " 13  O2-   0.666667  0.333333  0.562233\n",
      " 14  O2-   0.333333  0.666667  0.895567\n",
      " 15  O2-   0.9182    0.4591    0.8486\n",
      " 16  O2-   0.5409    0.0818    0.8486\n",
      " 17  O2-   0.5409    0.4591    0.8486\n",
      " 18  O2-   0.584867  0.792433  0.181933\n",
      " 19  O2-   0.207567  0.415133  0.181933\n",
      " 20  O2-   0.207567  0.792433  0.181933\n",
      " 21  O2-   0.251533  0.125767  0.515267\n",
      " 22  O2-   0.874233  0.748467  0.515267\n",
      " 23  O2-   0.874233  0.125767  0.515267\n",
      " 24  O2-   0.874     0.437     0.27\n",
      " 25  O2-   0.563     0.126     0.27\n",
      " 26  O2-   0.563     0.437     0.27\n",
      " 27  O2-   0.540667  0.770333  0.603333\n",
      " 28  O2-   0.229667  0.459333  0.603333\n",
      " 29  O2-   0.229667  0.770333  0.603333\n",
      " 30  O2-   0.207333  0.103667  0.936667\n",
      " 31  O2-   0.896333  0.792667  0.936667\n",
      " 32  O2-   0.896333  0.103667  0.936667\n"
     ]
    }
   ],
   "source": [
    "structure = Structure.from_file(\"EntryWithCollCode36207.cif\")\n",
    "print(structure)"
   ]
  },
  {
   "cell_type": "code",
   "execution_count": 6,
   "id": "be4ce28c",
   "metadata": {},
   "outputs": [
    {
     "name": "stdout",
     "output_type": "stream",
     "text": [
      "Full Formula (Fe3 P1 O7)\n",
      "Reduced Formula: Fe3PO7\n",
      "abc   :   5.157399   5.157399   5.157399\n",
      "angles: 101.821812 101.821812 101.821812\n",
      "Sites (11)\n",
      "  #  SP         a       b       c\n",
      "---  ----  ------  ------  ------\n",
      "  0  Fe3+  0.1485  0.5395  0.5395\n",
      "  1  Fe3+  0.5395  0.5395  0.1485\n",
      "  2  Fe3+  0.5395  0.1485  0.5395\n",
      "  3  O2-   0.2289  0.2289  0.2289\n",
      "  4  O2-   0.7668  0.3895  0.3895\n",
      "  5  O2-   0.3895  0.3895  0.7668\n",
      "  6  O2-   0.3895  0.7668  0.3895\n",
      "  7  O2-   0.144   0.833   0.833\n",
      "  8  O2-   0.833   0.833   0.144\n",
      "  9  O2-   0.833   0.144   0.833\n",
      " 10  P5+   0       0       0\n"
     ]
    }
   ],
   "source": [
    "from pymatgen.core.composition import Composition\n",
    "from pymatgen.core.lattice import Lattice\n",
    "from pymatgen.core.operations import SymmOp\n",
    "from pymatgen.core.periodic_table import Element, Species\n",
    "from pymatgen.core.structure import (\n",
    "    IMolecule,\n",
    "    IStructure,\n",
    "    Molecule,\n",
    "    Structure,\n",
    "    StructureError,\n",
    ")\n",
    "\n",
    "s = structure.get_primitive_structure()\n",
    "print(s)"
   ]
  },
  {
   "cell_type": "code",
   "execution_count": 7,
   "id": "b73e4db1",
   "metadata": {},
   "outputs": [
    {
     "name": "stderr",
     "output_type": "stream",
     "text": [
      "/apps/anaconda/envs/pymatgen/lib/python3.9/site-packages/pymatgen/io/vasp/inputs.py:1751: UserWarning: Ignoring unknown variable type SHA256\n",
      "  warnings.warn(\"Ignoring unknown variable type %s\" % key)\n",
      "/apps/anaconda/envs/pymatgen/lib/python3.9/site-packages/pymatgen/io/vasp/inputs.py:1751: UserWarning: Ignoring unknown variable type COPYR\n",
      "  warnings.warn(\"Ignoring unknown variable type %s\" % key)\n",
      "/apps/anaconda/envs/pymatgen/lib/python3.9/site-packages/pymatgen/io/vasp/sets.py:129: BadInputSetWarning: POTCAR data with symbol Fe_pv is not known by pymatgen to                    correspond with the selected potcar_functional PBE. This POTCAR                    is known to correspond with functionals ['PBE_54', 'unvie_PBE_52', 'PBE_52']. Please verify that                    you are using the right POTCARs!\n",
      "  warnings.warn(\n",
      "/apps/anaconda/envs/pymatgen/lib/python3.9/site-packages/pymatgen/io/vasp/sets.py:129: BadInputSetWarning: POTCAR data with symbol P is not known by pymatgen to                    correspond with the selected potcar_functional PBE. This POTCAR                    is known to correspond with functionals ['PBE_54', 'unvie_PBE_52', 'PBE_52']. Please verify that                    you are using the right POTCARs!\n",
      "  warnings.warn(\n",
      "/apps/anaconda/envs/pymatgen/lib/python3.9/site-packages/pymatgen/io/vasp/sets.py:129: BadInputSetWarning: POTCAR data with symbol O is not known by pymatgen to                    correspond with the selected potcar_functional PBE. This POTCAR                    is known to correspond with functionals ['PBE_54', 'unvie_PBE_52', 'PBE_52']. Please verify that                    you are using the right POTCARs!\n",
      "  warnings.warn(\n"
     ]
    }
   ],
   "source": [
    "from pymatgen.core.structure import Element\n",
    "from pymatgen.io.vasp.sets import MPRelaxSet\n",
    "from pymatgen.io.vasp.inputs import Potcar\n",
    "#import os\n",
    "#os.chdir('/home/derejeb/data/Vasp_potcars/potcars')\n",
    "\n",
    "from pymatgen.io.vasp.sets import MPRelaxSet\n",
    "from pymatgen.io.vasp.inputs import Kpoints\n",
    "kpoints = Kpoints.automatic(32)\n",
    "relaxset = MPRelaxSet(s,user_kpoints_settings=kpoints)\n",
    "relaxset.write_input('Fe3PO7')\n"
   ]
  },
  {
   "cell_type": "code",
   "execution_count": null,
   "id": "5611c676",
   "metadata": {},
   "outputs": [],
   "source": []
  }
 ],
 "metadata": {
  "kernelspec": {
   "display_name": "Python 3",
   "language": "python",
   "name": "python3"
  },
  "language_info": {
   "codemirror_mode": {
    "name": "ipython",
    "version": 3
   },
   "file_extension": ".py",
   "mimetype": "text/x-python",
   "name": "python",
   "nbconvert_exporter": "python",
   "pygments_lexer": "ipython3",
   "version": "3.9.4"
  }
 },
 "nbformat": 4,
 "nbformat_minor": 5
}
