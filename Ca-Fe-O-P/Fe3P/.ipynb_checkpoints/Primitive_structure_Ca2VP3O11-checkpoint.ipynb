{
 "cells": [
  {
   "cell_type": "code",
   "execution_count": 1,
   "id": "04addb5d",
   "metadata": {},
   "outputs": [],
   "source": [
    "import pymatgen"
   ]
  },
  {
   "cell_type": "code",
   "execution_count": 2,
   "id": "029437c7",
   "metadata": {},
   "outputs": [],
   "source": [
    "from pymatgen.core import Structure"
   ]
  },
  {
   "cell_type": "code",
   "execution_count": 3,
   "id": "19230a4a",
   "metadata": {},
   "outputs": [],
   "source": [
    "import os"
   ]
  },
  {
   "cell_type": "code",
   "execution_count": 4,
   "id": "563851d1",
   "metadata": {},
   "outputs": [],
   "source": [
    "os.chdir('/home/derejeb/data/Ca-Fe-O-P/Fe3P/')"
   ]
  },
  {
   "cell_type": "code",
   "execution_count": 4,
   "id": "36332a54",
   "metadata": {},
   "outputs": [
    {
     "name": "stdout",
     "output_type": "stream",
     "text": [
      "Full Formula (Fe24 P8)\n",
      "Reduced Formula: Fe3P\n",
      "abc   :   9.107000   9.107000   4.460000\n",
      "angles:  90.000000  90.000000  90.000000\n",
      "Sites (32)\n",
      "  #  SP         a       b       c\n",
      "---  ----  ------  ------  ------\n",
      "  0  Fe0+  0.8941  0.0793  0.7662\n",
      "  1  Fe0+  0.1059  0.9207  0.7662\n",
      "  2  Fe0+  0.9207  0.8941  0.2338\n",
      "  3  Fe0+  0.0793  0.1059  0.2338\n",
      "  4  Fe0+  0.3941  0.5793  0.2662\n",
      "  5  Fe0+  0.6059  0.4207  0.2662\n",
      "  6  Fe0+  0.4207  0.3941  0.7338\n",
      "  7  Fe0+  0.5793  0.6059  0.7338\n",
      "  8  Fe0+  0.969   0.3605  0.014\n",
      "  9  Fe0+  0.031   0.6395  0.014\n",
      " 10  Fe0+  0.6395  0.969   0.986\n",
      " 11  Fe0+  0.3605  0.031   0.986\n",
      " 12  Fe0+  0.469   0.8605  0.514\n",
      " 13  Fe0+  0.531   0.1395  0.514\n",
      " 14  Fe0+  0.1395  0.469   0.486\n",
      " 15  Fe0+  0.8605  0.531   0.486\n",
      " 16  Fe0+  0.7805  0.1717  0.2452\n",
      " 17  Fe0+  0.2195  0.8283  0.2452\n",
      " 18  Fe0+  0.8283  0.7805  0.7548\n",
      " 19  Fe0+  0.1717  0.2195  0.7548\n",
      " 20  Fe0+  0.2805  0.6717  0.7452\n",
      " 21  Fe0+  0.7195  0.3283  0.7452\n",
      " 22  Fe0+  0.3283  0.2805  0.2548\n",
      " 23  Fe0+  0.6717  0.7195  0.2548\n",
      " 24  P0+   0.9546  0.2921  0.5097\n",
      " 25  P0+   0.0454  0.7079  0.5097\n",
      " 26  P0+   0.7079  0.9546  0.4903\n",
      " 27  P0+   0.2921  0.0454  0.4903\n",
      " 28  P0+   0.4546  0.7921  0.0097\n",
      " 29  P0+   0.5454  0.2079  0.0097\n",
      " 30  P0+   0.2079  0.4546  0.9903\n",
      " 31  P0+   0.7921  0.5454  0.9903\n"
     ]
    }
   ],
   "source": [
    "structure = Structure.from_file(\"EntryWithCollCode43365.cif\")\n",
    "print(structure)"
   ]
  },
  {
   "cell_type": "code",
   "execution_count": 5,
   "id": "be4ce28c",
   "metadata": {},
   "outputs": [
    {
     "name": "stdout",
     "output_type": "stream",
     "text": [
      "Full Formula (Fe12 P4)\n",
      "Reduced Formula: Fe3P\n",
      "abc   :   4.460000   6.814809   6.814809\n",
      "angles:  83.853068  70.899355  70.899355\n",
      "Sites (16)\n",
      "  #  SP         a       b       c\n",
      "---  ----  ------  ------  ------\n",
      "  0  Fe0+  0.1279  0.0266  0.1852\n",
      "  1  Fe0+  0.3397  0.9734  0.8148\n",
      "  2  Fe0+  0.6869  0.1852  0.9734\n",
      "  3  Fe0+  0.8455  0.8148  0.0266\n",
      "  4  Fe0+  0.955   0.6705  0.3915\n",
      "  5  Fe0+  0.017   0.3295  0.6085\n",
      "  6  Fe0+  0.6535  0.3915  0.3295\n",
      "  7  Fe0+  0.3745  0.6085  0.6705\n",
      "  8  Fe0+  0.5353  0.0478  0.3912\n",
      "  9  Fe0+  0.9743  0.9522  0.6088\n",
      " 10  Fe0+  0.0735  0.3912  0.9522\n",
      " 11  Fe0+  0.4169  0.6088  0.0478\n",
      " 12  P0+   0.4449  0.7533  0.3375\n",
      " 13  P0+   0.5357  0.2467  0.6625\n",
      " 14  P0+   0.2176  0.3375  0.2467\n",
      " 15  P0+   0.8018  0.6625  0.7533\n"
     ]
    }
   ],
   "source": [
    "from pymatgen.core.composition import Composition\n",
    "from pymatgen.core.lattice import Lattice\n",
    "from pymatgen.core.operations import SymmOp\n",
    "from pymatgen.core.periodic_table import Element, Species\n",
    "from pymatgen.core.structure import (\n",
    "    IMolecule,\n",
    "    IStructure,\n",
    "    Molecule,\n",
    "    Structure,\n",
    "    StructureError,\n",
    ")\n",
    "\n",
    "s = structure.get_primitive_structure()\n",
    "print(s)"
   ]
  },
  {
   "cell_type": "code",
   "execution_count": 6,
   "id": "b73e4db1",
   "metadata": {},
   "outputs": [
    {
     "name": "stderr",
     "output_type": "stream",
     "text": [
      "/apps/anaconda/envs/pymatgen/lib/python3.9/site-packages/pymatgen/io/vasp/inputs.py:1751: UserWarning: Ignoring unknown variable type SHA256\n",
      "  warnings.warn(\"Ignoring unknown variable type %s\" % key)\n",
      "/apps/anaconda/envs/pymatgen/lib/python3.9/site-packages/pymatgen/io/vasp/inputs.py:1751: UserWarning: Ignoring unknown variable type COPYR\n",
      "  warnings.warn(\"Ignoring unknown variable type %s\" % key)\n",
      "/apps/anaconda/envs/pymatgen/lib/python3.9/site-packages/pymatgen/io/vasp/sets.py:129: BadInputSetWarning: POTCAR data with symbol Fe_pv is not known by pymatgen to                    correspond with the selected potcar_functional PBE. This POTCAR                    is known to correspond with functionals ['PBE_52', 'PBE_54', 'unvie_PBE_52']. Please verify that                    you are using the right POTCARs!\n",
      "  warnings.warn(\n",
      "/apps/anaconda/envs/pymatgen/lib/python3.9/site-packages/pymatgen/io/vasp/sets.py:129: BadInputSetWarning: POTCAR data with symbol P is not known by pymatgen to                    correspond with the selected potcar_functional PBE. This POTCAR                    is known to correspond with functionals ['PBE_52', 'PBE_54', 'unvie_PBE_52']. Please verify that                    you are using the right POTCARs!\n",
      "  warnings.warn(\n"
     ]
    }
   ],
   "source": [
    "from pymatgen.core.structure import Element\n",
    "from pymatgen.io.vasp.sets import MPRelaxSet\n",
    "from pymatgen.io.vasp.inputs import Potcar\n",
    "#import os\n",
    "#os.chdir('/home/derejeb/data/Vasp_potcars/potcars')\n",
    "\n",
    "from pymatgen.io.vasp.sets import MPRelaxSet\n",
    "from pymatgen.io.vasp.inputs import Kpoints\n",
    "kpoints = Kpoints.automatic(32)\n",
    "relaxset = MPRelaxSet(s,user_kpoints_settings=kpoints)\n",
    "relaxset.write_input('Fe3P')\n"
   ]
  },
  {
   "cell_type": "code",
   "execution_count": null,
   "id": "5611c676",
   "metadata": {},
   "outputs": [],
   "source": []
  }
 ],
 "metadata": {
  "kernelspec": {
   "display_name": "Python 3",
   "language": "python",
   "name": "python3"
  },
  "language_info": {
   "codemirror_mode": {
    "name": "ipython",
    "version": 3
   },
   "file_extension": ".py",
   "mimetype": "text/x-python",
   "name": "python",
   "nbconvert_exporter": "python",
   "pygments_lexer": "ipython3",
   "version": "3.9.4"
  }
 },
 "nbformat": 4,
 "nbformat_minor": 5
}
