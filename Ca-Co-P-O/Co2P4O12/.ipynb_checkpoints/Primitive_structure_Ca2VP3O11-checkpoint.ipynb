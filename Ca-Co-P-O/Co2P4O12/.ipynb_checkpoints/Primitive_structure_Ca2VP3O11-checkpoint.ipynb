{
 "cells": [
  {
   "cell_type": "code",
   "execution_count": 1,
   "id": "04addb5d",
   "metadata": {},
   "outputs": [],
   "source": [
    "import pymatgen"
   ]
  },
  {
   "cell_type": "code",
   "execution_count": 2,
   "id": "029437c7",
   "metadata": {},
   "outputs": [],
   "source": [
    "from pymatgen.core import Structure"
   ]
  },
  {
   "cell_type": "code",
   "execution_count": 3,
   "id": "19230a4a",
   "metadata": {},
   "outputs": [],
   "source": [
    "import os"
   ]
  },
  {
   "cell_type": "code",
   "execution_count": 4,
   "id": "563851d1",
   "metadata": {},
   "outputs": [],
   "source": [
    "os.chdir('/home/derejeb/data/Ca-Co-P-O/Ca-Co-P-O/Co2P4O12/')"
   ]
  },
  {
   "cell_type": "code",
   "execution_count": 5,
   "id": "36332a54",
   "metadata": {},
   "outputs": [
    {
     "name": "stdout",
     "output_type": "stream",
     "text": [
      "Full Formula (Co8 P16 O48)\n",
      "Reduced Formula: Co(PO3)2\n",
      "abc   :  11.782000   8.279000  11.182000\n",
      "angles:  90.000000 128.950000  90.000000\n",
      "Sites (72)\n",
      "  #  SP          a        b        c\n",
      "---  ----  -------  -------  -------\n",
      "  0  Co2+  0        0.80211  0.75\n",
      "  1  Co2+  0        0.19789  0.25\n",
      "  2  Co2+  0.5      0.30211  0.75\n",
      "  3  Co2+  0.5      0.69789  0.25\n",
      "  4  Co2+  0        0        0.5\n",
      "  5  Co2+  0        0        0\n",
      "  6  Co2+  0.5      0.5      0.5\n",
      "  7  Co2+  0.5      0.5      0\n",
      "  8  P5+   0.2835   0.98697  0.52339\n",
      "  9  P5+   0.7165   0.98697  0.97661\n",
      " 10  P5+   0.7165   0.01303  0.47661\n",
      " 11  P5+   0.2835   0.01303  0.02339\n",
      " 12  P5+   0.7835   0.48697  0.52339\n",
      " 13  P5+   0.2165   0.48697  0.97661\n",
      " 14  P5+   0.2165   0.51303  0.47661\n",
      " 15  P5+   0.7835   0.51303  0.02339\n",
      " 16  P5+   0.25173  0.74368  0.69713\n",
      " 17  P5+   0.74827  0.74368  0.80287\n",
      " 18  P5+   0.74827  0.25632  0.30287\n",
      " 19  P5+   0.25173  0.25632  0.19713\n",
      " 20  P5+   0.75173  0.24368  0.69713\n",
      " 21  P5+   0.24827  0.24368  0.80287\n",
      " 22  P5+   0.24827  0.75632  0.30287\n",
      " 23  P5+   0.75173  0.75632  0.19713\n",
      " 24  O2-   0.37829  0.12867  0.59164\n",
      " 25  O2-   0.62171  0.12867  0.90836\n",
      " 26  O2-   0.62171  0.87133  0.40836\n",
      " 27  O2-   0.37829  0.87133  0.09164\n",
      " 28  O2-   0.87829  0.62867  0.59164\n",
      " 29  O2-   0.12171  0.62867  0.90836\n",
      " 30  O2-   0.12171  0.37133  0.40836\n",
      " 31  O2-   0.87829  0.37133  0.09164\n",
      " 32  O2-   0.12017  0.0092   0.41766\n",
      " 33  O2-   0.87983  0.0092   0.08234\n",
      " 34  O2-   0.87983  0.9908   0.58234\n",
      " 35  O2-   0.12017  0.9908   0.91766\n",
      " 36  O2-   0.62017  0.5092   0.41766\n",
      " 37  O2-   0.37983  0.5092   0.08234\n",
      " 38  O2-   0.37983  0.4908   0.58234\n",
      " 39  O2-   0.62017  0.4908   0.91766\n",
      " 40  O2-   0.3279   0.86365  0.65594\n",
      " 41  O2-   0.6721   0.86365  0.84406\n",
      " 42  O2-   0.6721   0.13635  0.34406\n",
      " 43  O2-   0.3279   0.13635  0.15594\n",
      " 44  O2-   0.8279   0.36365  0.65594\n",
      " 45  O2-   0.1721   0.36365  0.84406\n",
      " 46  O2-   0.1721   0.63635  0.34406\n",
      " 47  O2-   0.8279   0.63635  0.15594\n",
      " 48  O2-   0.36685  0.67251  0.8473\n",
      " 49  O2-   0.63315  0.67251  0.6527\n",
      " 50  O2-   0.63315  0.32749  0.1527\n",
      " 51  O2-   0.36685  0.32749  0.3473\n",
      " 52  O2-   0.86685  0.17251  0.8473\n",
      " 53  O2-   0.13315  0.17251  0.6527\n",
      " 54  O2-   0.13315  0.82749  0.1527\n",
      " 55  O2-   0.86685  0.82749  0.3473\n",
      " 56  O2-   0.13006  0.83196  0.67829\n",
      " 57  O2-   0.86994  0.83196  0.82171\n",
      " 58  O2-   0.86994  0.16804  0.32171\n",
      " 59  O2-   0.13006  0.16804  0.17829\n",
      " 60  O2-   0.63006  0.33196  0.67829\n",
      " 61  O2-   0.36994  0.33196  0.82171\n",
      " 62  O2-   0.36994  0.66804  0.32171\n",
      " 63  O2-   0.63006  0.66804  0.17829\n",
      " 64  O2-   0.17306  0.61232  0.56385\n",
      " 65  O2-   0.82694  0.61232  0.93615\n",
      " 66  O2-   0.82694  0.38768  0.43615\n",
      " 67  O2-   0.17306  0.38768  0.06385\n",
      " 68  O2-   0.67306  0.11232  0.56385\n",
      " 69  O2-   0.32694  0.11232  0.93615\n",
      " 70  O2-   0.32694  0.88768  0.43615\n",
      " 71  O2-   0.67306  0.88768  0.06385\n"
     ]
    }
   ],
   "source": [
    "structure = Structure.from_file(\"EntryWithCollCode409093.cif\")\n",
    "print(structure)"
   ]
  },
  {
   "cell_type": "code",
   "execution_count": 6,
   "id": "be4ce28c",
   "metadata": {},
   "outputs": [
    {
     "name": "stdout",
     "output_type": "stream",
     "text": [
      "Full Formula (Co4 P8 O24)\n",
      "Reduced Formula: Co(PO3)2\n",
      "abc   :   7.199954   7.199954   9.698206\n",
      "angles:  98.589342 109.965160 109.809950\n",
      "Sites (36)\n",
      "  #  SP          a        b        c\n",
      "---  ----  -------  -------  -------\n",
      "  0  Co2+  0.80211  0.55211  0.75\n",
      "  1  Co2+  0.19789  0.44789  0.25\n",
      "  2  Co2+  0        0.5      0.5\n",
      "  3  Co2+  0        0        0\n",
      "  4  O2-   0.50696  0.34202  0.59164\n",
      "  5  O2-   0.75038  0.41532  0.90836\n",
      "  6  O2-   0.49304  0.65798  0.40836\n",
      "  7  O2-   0.24962  0.58468  0.09164\n",
      "  8  O2-   0.12937  0.30669  0.41766\n",
      "  9  O2-   0.88903  0.21171  0.08234\n",
      " 10  O2-   0.87063  0.69331  0.58234\n",
      " 11  O2-   0.11097  0.78829  0.91766\n",
      " 12  O2-   0.19155  0.19169  0.65594\n",
      " 13  O2-   0.53575  0.03561  0.84406\n",
      " 14  O2-   0.80845  0.80831  0.34406\n",
      " 15  O2-   0.46425  0.96439  0.15594\n",
      " 16  O2-   0.03936  0.15296  0.8473\n",
      " 17  O2-   0.30566  0.69206  0.6527\n",
      " 18  O2-   0.96064  0.84704  0.1527\n",
      " 19  O2-   0.69434  0.30794  0.3473\n",
      " 20  O2-   0.96202  0.38019  0.67829\n",
      " 21  O2-   0.7019   0.78373  0.82171\n",
      " 22  O2-   0.03798  0.61981  0.32171\n",
      " 23  O2-   0.2981   0.21627  0.17829\n",
      " 24  O2-   0.78538  0.00311  0.56385\n",
      " 25  O2-   0.43926  0.72153  0.93615\n",
      " 26  O2-   0.21462  0.99689  0.43615\n",
      " 27  O2-   0.56074  0.27847  0.06385\n",
      " 28  P5+   0.27047  0.22686  0.52339\n",
      " 29  P5+   0.70347  0.24708  0.97661\n",
      " 30  P5+   0.72953  0.77314  0.47661\n",
      " 31  P5+   0.29653  0.75292  0.02339\n",
      " 32  P5+   0.99541  0.18908  0.69713\n",
      " 33  P5+   0.49195  0.79828  0.80287\n",
      " 34  P5+   0.00459  0.81092  0.30287\n",
      " 35  P5+   0.50805  0.20172  0.19713\n"
     ]
    }
   ],
   "source": [
    "from pymatgen.core.composition import Composition\n",
    "from pymatgen.core.lattice import Lattice\n",
    "from pymatgen.core.operations import SymmOp\n",
    "from pymatgen.core.periodic_table import Element, Species\n",
    "from pymatgen.core.structure import (\n",
    "    IMolecule,\n",
    "    IStructure,\n",
    "    Molecule,\n",
    "    Structure,\n",
    "    StructureError,\n",
    ")\n",
    "\n",
    "s = structure.get_primitive_structure()\n",
    "print(s)"
   ]
  },
  {
   "cell_type": "code",
   "execution_count": 7,
   "id": "b73e4db1",
   "metadata": {},
   "outputs": [
    {
     "name": "stderr",
     "output_type": "stream",
     "text": [
      "/apps/anaconda/envs/pymatgen/lib/python3.9/site-packages/pymatgen/io/vasp/sets.py:519: UserWarning: Co without oxidation state is initialized low spin by default. If this is not desired, please set the spin on the magmom on the site directly to ensure correct initialization\n",
      "  warnings.warn(\"Co without oxidation state is initialized low spin by default. If this is \"\n",
      "/apps/anaconda/envs/pymatgen/lib/python3.9/site-packages/pymatgen/io/vasp/inputs.py:1751: UserWarning: Ignoring unknown variable type SHA256\n",
      "  warnings.warn(\"Ignoring unknown variable type %s\" % key)\n",
      "/apps/anaconda/envs/pymatgen/lib/python3.9/site-packages/pymatgen/io/vasp/inputs.py:1751: UserWarning: Ignoring unknown variable type COPYR\n",
      "  warnings.warn(\"Ignoring unknown variable type %s\" % key)\n",
      "/apps/anaconda/envs/pymatgen/lib/python3.9/site-packages/pymatgen/io/vasp/sets.py:129: BadInputSetWarning: POTCAR data with symbol Co is not known by pymatgen to                    correspond with the selected potcar_functional PBE. This POTCAR                    is known to correspond with functionals ['PBE_54', 'unvie_PBE_52', 'PBE_52']. Please verify that                    you are using the right POTCARs!\n",
      "  warnings.warn(\n",
      "/apps/anaconda/envs/pymatgen/lib/python3.9/site-packages/pymatgen/io/vasp/sets.py:129: BadInputSetWarning: POTCAR data with symbol P is not known by pymatgen to                    correspond with the selected potcar_functional PBE. This POTCAR                    is known to correspond with functionals ['PBE_54', 'unvie_PBE_52', 'PBE_52']. Please verify that                    you are using the right POTCARs!\n",
      "  warnings.warn(\n",
      "/apps/anaconda/envs/pymatgen/lib/python3.9/site-packages/pymatgen/io/vasp/sets.py:129: BadInputSetWarning: POTCAR data with symbol O is not known by pymatgen to                    correspond with the selected potcar_functional PBE. This POTCAR                    is known to correspond with functionals ['PBE_54', 'unvie_PBE_52', 'PBE_52']. Please verify that                    you are using the right POTCARs!\n",
      "  warnings.warn(\n"
     ]
    }
   ],
   "source": [
    "from pymatgen.core.structure import Element\n",
    "from pymatgen.io.vasp.sets import MPRelaxSet\n",
    "from pymatgen.io.vasp.inputs import Potcar\n",
    "#import os\n",
    "#os.chdir('/home/derejeb/data/Vasp_potcars/potcars')\n",
    "\n",
    "from pymatgen.io.vasp.sets import MPRelaxSet\n",
    "from pymatgen.io.vasp.inputs import Kpoints\n",
    "kpoints = Kpoints.automatic(32)\n",
    "relaxset = MPRelaxSet(s,user_kpoints_settings=kpoints)\n",
    "relaxset.write_input('Co2P4O12')\n"
   ]
  },
  {
   "cell_type": "code",
   "execution_count": null,
   "id": "5611c676",
   "metadata": {},
   "outputs": [],
   "source": []
  }
 ],
 "metadata": {
  "kernelspec": {
   "display_name": "Python 3",
   "language": "python",
   "name": "python3"
  },
  "language_info": {
   "codemirror_mode": {
    "name": "ipython",
    "version": 3
   },
   "file_extension": ".py",
   "mimetype": "text/x-python",
   "name": "python",
   "nbconvert_exporter": "python",
   "pygments_lexer": "ipython3",
   "version": "3.9.4"
  }
 },
 "nbformat": 4,
 "nbformat_minor": 5
}
