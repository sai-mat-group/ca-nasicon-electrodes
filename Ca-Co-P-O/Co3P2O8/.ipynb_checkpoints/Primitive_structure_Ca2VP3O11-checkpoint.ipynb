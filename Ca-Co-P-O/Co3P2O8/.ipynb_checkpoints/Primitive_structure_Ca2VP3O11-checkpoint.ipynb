{
 "cells": [
  {
   "cell_type": "code",
   "execution_count": 1,
   "id": "04addb5d",
   "metadata": {},
   "outputs": [],
   "source": [
    "import pymatgen"
   ]
  },
  {
   "cell_type": "code",
   "execution_count": 2,
   "id": "029437c7",
   "metadata": {},
   "outputs": [],
   "source": [
    "from pymatgen.core import Structure"
   ]
  },
  {
   "cell_type": "code",
   "execution_count": 3,
   "id": "19230a4a",
   "metadata": {},
   "outputs": [],
   "source": [
    "import os"
   ]
  },
  {
   "cell_type": "code",
   "execution_count": 4,
   "id": "563851d1",
   "metadata": {},
   "outputs": [],
   "source": [
    "os.chdir('/home/derejeb/data/Ca-Co-P-O/Ca-Co-P-O/Co3P2O8/')"
   ]
  },
  {
   "cell_type": "code",
   "execution_count": 5,
   "id": "36332a54",
   "metadata": {},
   "outputs": [
    {
     "name": "stdout",
     "output_type": "stream",
     "text": [
      "Full Formula (Co6 P4 O16)\n",
      "Reduced Formula: Co3(PO4)2\n",
      "abc   :   5.063000   8.361000   8.788000\n",
      "angles:  90.000000 121.000000  90.000000\n",
      "Sites (26)\n",
      "  #  SP         a       b       c\n",
      "---  ----  ------  ------  ------\n",
      "  0  Co2+  0       0.5     0.5\n",
      "  1  Co2+  0       0       0\n",
      "  2  Co2+  0.0202  0.1409  0.6142\n",
      "  3  Co2+  0.9798  0.6409  0.8858\n",
      "  4  Co2+  0.9798  0.8591  0.3858\n",
      "  5  Co2+  0.0202  0.3591  0.1142\n",
      "  6  P5+   0.3404  0.8062  0.8024\n",
      "  7  P5+   0.6596  0.3062  0.6976\n",
      "  8  P5+   0.6596  0.1938  0.1976\n",
      "  9  P5+   0.3404  0.6938  0.3024\n",
      " 10  O2-   0.2729  0.8578  0.9455\n",
      " 11  O2-   0.7271  0.3578  0.5545\n",
      " 12  O2-   0.7271  0.1422  0.0545\n",
      " 13  O2-   0.2729  0.6422  0.4455\n",
      " 14  O2-   0.6881  0.8042  0.875\n",
      " 15  O2-   0.3119  0.3042  0.625\n",
      " 16  O2-   0.3119  0.1958  0.125\n",
      " 17  O2-   0.6881  0.6958  0.375\n",
      " 18  O2-   0.1902  0.9214  0.6432\n",
      " 19  O2-   0.8098  0.4214  0.8568\n",
      " 20  O2-   0.8098  0.0786  0.3568\n",
      " 21  O2-   0.1902  0.5786  0.1432\n",
      " 22  O2-   0.1903  0.6382  0.7435\n",
      " 23  O2-   0.8097  0.1382  0.7565\n",
      " 24  O2-   0.8097  0.3618  0.2565\n",
      " 25  O2-   0.1903  0.8618  0.2435\n"
     ]
    }
   ],
   "source": [
    "structure = Structure.from_file(\"EntryWithCollCode4268.cif\")\n",
    "print(structure)"
   ]
  },
  {
   "cell_type": "code",
   "execution_count": 6,
   "id": "be4ce28c",
   "metadata": {},
   "outputs": [
    {
     "name": "stdout",
     "output_type": "stream",
     "text": [
      "Full Formula (Co6 P4 O16)\n",
      "Reduced Formula: Co3(PO4)2\n",
      "abc   :   5.063000   8.361000   8.788000\n",
      "angles:  90.000000 121.000000  90.000000\n",
      "Sites (26)\n",
      "  #  SP         a       b       c\n",
      "---  ----  ------  ------  ------\n",
      "  0  Co2+  0       0.5     0.5\n",
      "  1  Co2+  0       0       0\n",
      "  2  Co2+  0.0202  0.1409  0.6142\n",
      "  3  Co2+  0.9798  0.6409  0.8858\n",
      "  4  Co2+  0.9798  0.8591  0.3858\n",
      "  5  Co2+  0.0202  0.3591  0.1142\n",
      "  6  P5+   0.3404  0.8062  0.8024\n",
      "  7  P5+   0.6596  0.3062  0.6976\n",
      "  8  P5+   0.6596  0.1938  0.1976\n",
      "  9  P5+   0.3404  0.6938  0.3024\n",
      " 10  O2-   0.2729  0.8578  0.9455\n",
      " 11  O2-   0.7271  0.3578  0.5545\n",
      " 12  O2-   0.7271  0.1422  0.0545\n",
      " 13  O2-   0.2729  0.6422  0.4455\n",
      " 14  O2-   0.6881  0.8042  0.875\n",
      " 15  O2-   0.3119  0.3042  0.625\n",
      " 16  O2-   0.3119  0.1958  0.125\n",
      " 17  O2-   0.6881  0.6958  0.375\n",
      " 18  O2-   0.1902  0.9214  0.6432\n",
      " 19  O2-   0.8098  0.4214  0.8568\n",
      " 20  O2-   0.8098  0.0786  0.3568\n",
      " 21  O2-   0.1902  0.5786  0.1432\n",
      " 22  O2-   0.1903  0.6382  0.7435\n",
      " 23  O2-   0.8097  0.1382  0.7565\n",
      " 24  O2-   0.8097  0.3618  0.2565\n",
      " 25  O2-   0.1903  0.8618  0.2435\n"
     ]
    }
   ],
   "source": [
    "from pymatgen.core.composition import Composition\n",
    "from pymatgen.core.lattice import Lattice\n",
    "from pymatgen.core.operations import SymmOp\n",
    "from pymatgen.core.periodic_table import Element, Species\n",
    "from pymatgen.core.structure import (\n",
    "    IMolecule,\n",
    "    IStructure,\n",
    "    Molecule,\n",
    "    Structure,\n",
    "    StructureError,\n",
    ")\n",
    "\n",
    "s = structure.get_primitive_structure()\n",
    "print(s)"
   ]
  },
  {
   "cell_type": "code",
   "execution_count": 7,
   "id": "b73e4db1",
   "metadata": {},
   "outputs": [
    {
     "name": "stderr",
     "output_type": "stream",
     "text": [
      "/apps/anaconda/envs/pymatgen/lib/python3.9/site-packages/pymatgen/io/vasp/sets.py:519: UserWarning: Co without oxidation state is initialized low spin by default. If this is not desired, please set the spin on the magmom on the site directly to ensure correct initialization\n",
      "  warnings.warn(\"Co without oxidation state is initialized low spin by default. If this is \"\n",
      "/apps/anaconda/envs/pymatgen/lib/python3.9/site-packages/pymatgen/io/vasp/inputs.py:1751: UserWarning: Ignoring unknown variable type SHA256\n",
      "  warnings.warn(\"Ignoring unknown variable type %s\" % key)\n",
      "/apps/anaconda/envs/pymatgen/lib/python3.9/site-packages/pymatgen/io/vasp/inputs.py:1751: UserWarning: Ignoring unknown variable type COPYR\n",
      "  warnings.warn(\"Ignoring unknown variable type %s\" % key)\n",
      "/apps/anaconda/envs/pymatgen/lib/python3.9/site-packages/pymatgen/io/vasp/sets.py:129: BadInputSetWarning: POTCAR data with symbol Co is not known by pymatgen to                    correspond with the selected potcar_functional PBE. This POTCAR                    is known to correspond with functionals ['unvie_PBE_52', 'PBE_52', 'PBE_54']. Please verify that                    you are using the right POTCARs!\n",
      "  warnings.warn(\n",
      "/apps/anaconda/envs/pymatgen/lib/python3.9/site-packages/pymatgen/io/vasp/sets.py:129: BadInputSetWarning: POTCAR data with symbol P is not known by pymatgen to                    correspond with the selected potcar_functional PBE. This POTCAR                    is known to correspond with functionals ['unvie_PBE_52', 'PBE_52', 'PBE_54']. Please verify that                    you are using the right POTCARs!\n",
      "  warnings.warn(\n",
      "/apps/anaconda/envs/pymatgen/lib/python3.9/site-packages/pymatgen/io/vasp/sets.py:129: BadInputSetWarning: POTCAR data with symbol O is not known by pymatgen to                    correspond with the selected potcar_functional PBE. This POTCAR                    is known to correspond with functionals ['unvie_PBE_52', 'PBE_52', 'PBE_54']. Please verify that                    you are using the right POTCARs!\n",
      "  warnings.warn(\n"
     ]
    }
   ],
   "source": [
    "from pymatgen.core.structure import Element\n",
    "from pymatgen.io.vasp.sets import MPRelaxSet\n",
    "from pymatgen.io.vasp.inputs import Potcar\n",
    "#import os\n",
    "#os.chdir('/home/derejeb/data/Vasp_potcars/potcars')\n",
    "\n",
    "from pymatgen.io.vasp.sets import MPRelaxSet\n",
    "from pymatgen.io.vasp.inputs import Kpoints\n",
    "kpoints = Kpoints.automatic(32)\n",
    "relaxset = MPRelaxSet(s,user_kpoints_settings=kpoints)\n",
    "relaxset.write_input('Co3P2O8')\n"
   ]
  },
  {
   "cell_type": "code",
   "execution_count": null,
   "id": "5611c676",
   "metadata": {},
   "outputs": [],
   "source": []
  }
 ],
 "metadata": {
  "kernelspec": {
   "display_name": "Python 3",
   "language": "python",
   "name": "python3"
  },
  "language_info": {
   "codemirror_mode": {
    "name": "ipython",
    "version": 3
   },
   "file_extension": ".py",
   "mimetype": "text/x-python",
   "name": "python",
   "nbconvert_exporter": "python",
   "pygments_lexer": "ipython3",
   "version": "3.9.4"
  }
 },
 "nbformat": 4,
 "nbformat_minor": 5
}
