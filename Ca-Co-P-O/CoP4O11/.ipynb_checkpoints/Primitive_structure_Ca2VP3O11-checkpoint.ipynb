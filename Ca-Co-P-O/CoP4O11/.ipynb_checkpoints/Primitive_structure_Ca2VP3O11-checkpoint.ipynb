{
 "cells": [
  {
   "cell_type": "code",
   "execution_count": 1,
   "id": "04addb5d",
   "metadata": {},
   "outputs": [],
   "source": [
    "import pymatgen"
   ]
  },
  {
   "cell_type": "code",
   "execution_count": 2,
   "id": "029437c7",
   "metadata": {},
   "outputs": [],
   "source": [
    "from pymatgen.core import Structure"
   ]
  },
  {
   "cell_type": "code",
   "execution_count": 3,
   "id": "19230a4a",
   "metadata": {},
   "outputs": [],
   "source": [
    "import os"
   ]
  },
  {
   "cell_type": "code",
   "execution_count": 4,
   "id": "563851d1",
   "metadata": {},
   "outputs": [],
   "source": [
    "os.chdir('/home/derejeb/data/Ca-Co-P-O/Ca-Co-P-O/CoP4O11/')"
   ]
  },
  {
   "cell_type": "code",
   "execution_count": 5,
   "id": "36332a54",
   "metadata": {},
   "outputs": [
    {
     "name": "stdout",
     "output_type": "stream",
     "text": [
      "Full Formula (Co4 P16 O44)\n",
      "Reduced Formula: CoP4O11\n",
      "abc   :   5.320000  22.263000   7.408000\n",
      "angles:  90.000000 110.070000  90.000000\n",
      "Sites (64)\n",
      "  #  SP          a        b        c\n",
      "---  ----  -------  -------  -------\n",
      "  0  Co2+  0.00388  0.11406  0.86999\n",
      "  1  Co2+  0.99612  0.61406  0.63001\n",
      "  2  Co2+  0.99612  0.88594  0.13001\n",
      "  3  Co2+  0.00388  0.38594  0.36999\n",
      "  4  P5+   0.4031   0.03483  0.70806\n",
      "  5  P5+   0.5969   0.53483  0.79194\n",
      "  6  P5+   0.5969   0.96517  0.29194\n",
      "  7  P5+   0.4031   0.46517  0.20806\n",
      "  8  P5+   0.6942   0.92796  0.68699\n",
      "  9  P5+   0.3058   0.42796  0.81301\n",
      " 10  P5+   0.3058   0.07204  0.31301\n",
      " 11  P5+   0.6942   0.57204  0.18699\n",
      " 12  P5+   0.3231   0.82172  0.55457\n",
      " 13  P5+   0.6769   0.32172  0.94543\n",
      " 14  P5+   0.6769   0.17828  0.44543\n",
      " 15  P5+   0.3231   0.67828  0.05457\n",
      " 16  P5+   0.398    0.69592  0.46851\n",
      " 17  P5+   0.602    0.19592  0.03149\n",
      " 18  P5+   0.602    0.30408  0.53149\n",
      " 19  P5+   0.398    0.80408  0.96851\n",
      " 20  O2-   0.2226   0.04476  0.8147\n",
      " 21  O2-   0.7774   0.54476  0.6853\n",
      " 22  O2-   0.7774   0.95524  0.1853\n",
      " 23  O2-   0.2226   0.45524  0.3147\n",
      " 24  O2-   0.6621   0.06482  0.75\n",
      " 25  O2-   0.3379   0.56482  0.75\n",
      " 26  O2-   0.3379   0.93518  0.25\n",
      " 27  O2-   0.6621   0.43518  0.25\n",
      " 28  O2-   0.7687   0.95495  0.5188\n",
      " 29  O2-   0.2313   0.45495  0.9812\n",
      " 30  O2-   0.2313   0.04505  0.4812\n",
      " 31  O2-   0.7687   0.54505  0.0188\n",
      " 32  O2-   0.4464   0.96275  0.7022\n",
      " 33  O2-   0.5536   0.46275  0.7978\n",
      " 34  O2-   0.5536   0.03725  0.2978\n",
      " 35  O2-   0.4464   0.53725  0.2022\n",
      " 36  O2-   0.9288   0.92403  0.8588\n",
      " 37  O2-   0.0712   0.42403  0.6412\n",
      " 38  O2-   0.0712   0.07597  0.1412\n",
      " 39  O2-   0.9288   0.57597  0.3588\n",
      " 40  O2-   0.5737   0.86417  0.6159\n",
      " 41  O2-   0.4263   0.36417  0.8841\n",
      " 42  O2-   0.4263   0.13583  0.3841\n",
      " 43  O2-   0.5737   0.63583  0.1159\n",
      " 44  O2-   0.085    0.8448   0.4059\n",
      " 45  O2-   0.915    0.3448   0.0941\n",
      " 46  O2-   0.915    0.1552   0.5941\n",
      " 47  O2-   0.085    0.6552   0.9059\n",
      " 48  O2-   0.4626   0.7669   0.4994\n",
      " 49  O2-   0.5374   0.2669   0.0006\n",
      " 50  O2-   0.5374   0.2331   0.5006\n",
      " 51  O2-   0.4626   0.7331   0.9994\n",
      " 52  O2-   0.2565   0.8073   0.7373\n",
      " 53  O2-   0.7435   0.3073   0.7627\n",
      " 54  O2-   0.7435   0.1927   0.2627\n",
      " 55  O2-   0.2565   0.6927   0.2373\n",
      " 56  O2-   0.1921   0.68283  0.5529\n",
      " 57  O2-   0.8079   0.18283  0.9471\n",
      " 58  O2-   0.8079   0.31717  0.4471\n",
      " 59  O2-   0.1921   0.81717  0.0529\n",
      " 60  O2-   0.653    0.6639   0.5188\n",
      " 61  O2-   0.347    0.1639   0.9812\n",
      " 62  O2-   0.347    0.3361   0.4812\n",
      " 63  O2-   0.653    0.8361   0.0188\n"
     ]
    }
   ],
   "source": [
    "structure = Structure.from_file(\"EntryWithCollCode400181.cif\")\n",
    "print(structure)"
   ]
  },
  {
   "cell_type": "code",
   "execution_count": 6,
   "id": "be4ce28c",
   "metadata": {},
   "outputs": [
    {
     "name": "stdout",
     "output_type": "stream",
     "text": [
      "Full Formula (Co4 P16 O44)\n",
      "Reduced Formula: CoP4O11\n",
      "abc   :   5.320000  22.263000   7.408000\n",
      "angles:  90.000000 110.070000  90.000000\n",
      "Sites (64)\n",
      "  #  SP          a        b        c\n",
      "---  ----  -------  -------  -------\n",
      "  0  Co2+  0.00388  0.11406  0.86999\n",
      "  1  Co2+  0.99612  0.61406  0.63001\n",
      "  2  Co2+  0.99612  0.88594  0.13001\n",
      "  3  Co2+  0.00388  0.38594  0.36999\n",
      "  4  P5+   0.4031   0.03483  0.70806\n",
      "  5  P5+   0.5969   0.53483  0.79194\n",
      "  6  P5+   0.5969   0.96517  0.29194\n",
      "  7  P5+   0.4031   0.46517  0.20806\n",
      "  8  P5+   0.6942   0.92796  0.68699\n",
      "  9  P5+   0.3058   0.42796  0.81301\n",
      " 10  P5+   0.3058   0.07204  0.31301\n",
      " 11  P5+   0.6942   0.57204  0.18699\n",
      " 12  P5+   0.3231   0.82172  0.55457\n",
      " 13  P5+   0.6769   0.32172  0.94543\n",
      " 14  P5+   0.6769   0.17828  0.44543\n",
      " 15  P5+   0.3231   0.67828  0.05457\n",
      " 16  P5+   0.398    0.69592  0.46851\n",
      " 17  P5+   0.602    0.19592  0.03149\n",
      " 18  P5+   0.602    0.30408  0.53149\n",
      " 19  P5+   0.398    0.80408  0.96851\n",
      " 20  O2-   0.2226   0.04476  0.8147\n",
      " 21  O2-   0.7774   0.54476  0.6853\n",
      " 22  O2-   0.7774   0.95524  0.1853\n",
      " 23  O2-   0.2226   0.45524  0.3147\n",
      " 24  O2-   0.6621   0.06482  0.75\n",
      " 25  O2-   0.3379   0.56482  0.75\n",
      " 26  O2-   0.3379   0.93518  0.25\n",
      " 27  O2-   0.6621   0.43518  0.25\n",
      " 28  O2-   0.7687   0.95495  0.5188\n",
      " 29  O2-   0.2313   0.45495  0.9812\n",
      " 30  O2-   0.2313   0.04505  0.4812\n",
      " 31  O2-   0.7687   0.54505  0.0188\n",
      " 32  O2-   0.4464   0.96275  0.7022\n",
      " 33  O2-   0.5536   0.46275  0.7978\n",
      " 34  O2-   0.5536   0.03725  0.2978\n",
      " 35  O2-   0.4464   0.53725  0.2022\n",
      " 36  O2-   0.9288   0.92403  0.8588\n",
      " 37  O2-   0.0712   0.42403  0.6412\n",
      " 38  O2-   0.0712   0.07597  0.1412\n",
      " 39  O2-   0.9288   0.57597  0.3588\n",
      " 40  O2-   0.5737   0.86417  0.6159\n",
      " 41  O2-   0.4263   0.36417  0.8841\n",
      " 42  O2-   0.4263   0.13583  0.3841\n",
      " 43  O2-   0.5737   0.63583  0.1159\n",
      " 44  O2-   0.085    0.8448   0.4059\n",
      " 45  O2-   0.915    0.3448   0.0941\n",
      " 46  O2-   0.915    0.1552   0.5941\n",
      " 47  O2-   0.085    0.6552   0.9059\n",
      " 48  O2-   0.4626   0.7669   0.4994\n",
      " 49  O2-   0.5374   0.2669   0.0006\n",
      " 50  O2-   0.5374   0.2331   0.5006\n",
      " 51  O2-   0.4626   0.7331   0.9994\n",
      " 52  O2-   0.2565   0.8073   0.7373\n",
      " 53  O2-   0.7435   0.3073   0.7627\n",
      " 54  O2-   0.7435   0.1927   0.2627\n",
      " 55  O2-   0.2565   0.6927   0.2373\n",
      " 56  O2-   0.1921   0.68283  0.5529\n",
      " 57  O2-   0.8079   0.18283  0.9471\n",
      " 58  O2-   0.8079   0.31717  0.4471\n",
      " 59  O2-   0.1921   0.81717  0.0529\n",
      " 60  O2-   0.653    0.6639   0.5188\n",
      " 61  O2-   0.347    0.1639   0.9812\n",
      " 62  O2-   0.347    0.3361   0.4812\n",
      " 63  O2-   0.653    0.8361   0.0188\n"
     ]
    }
   ],
   "source": [
    "from pymatgen.core.composition import Composition\n",
    "from pymatgen.core.lattice import Lattice\n",
    "from pymatgen.core.operations import SymmOp\n",
    "from pymatgen.core.periodic_table import Element, Species\n",
    "from pymatgen.core.structure import (\n",
    "    IMolecule,\n",
    "    IStructure,\n",
    "    Molecule,\n",
    "    Structure,\n",
    "    StructureError,\n",
    ")\n",
    "\n",
    "s = structure.get_primitive_structure()\n",
    "print(s)"
   ]
  },
  {
   "cell_type": "code",
   "execution_count": 7,
   "id": "b73e4db1",
   "metadata": {},
   "outputs": [
    {
     "name": "stderr",
     "output_type": "stream",
     "text": [
      "/apps/anaconda/envs/pymatgen/lib/python3.9/site-packages/pymatgen/io/vasp/sets.py:519: UserWarning: Co without oxidation state is initialized low spin by default. If this is not desired, please set the spin on the magmom on the site directly to ensure correct initialization\n",
      "  warnings.warn(\"Co without oxidation state is initialized low spin by default. If this is \"\n",
      "/apps/anaconda/envs/pymatgen/lib/python3.9/site-packages/pymatgen/io/vasp/inputs.py:1751: UserWarning: Ignoring unknown variable type SHA256\n",
      "  warnings.warn(\"Ignoring unknown variable type %s\" % key)\n",
      "/apps/anaconda/envs/pymatgen/lib/python3.9/site-packages/pymatgen/io/vasp/inputs.py:1751: UserWarning: Ignoring unknown variable type COPYR\n",
      "  warnings.warn(\"Ignoring unknown variable type %s\" % key)\n",
      "/apps/anaconda/envs/pymatgen/lib/python3.9/site-packages/pymatgen/io/vasp/sets.py:129: BadInputSetWarning: POTCAR data with symbol Co is not known by pymatgen to                    correspond with the selected potcar_functional PBE. This POTCAR                    is known to correspond with functionals ['PBE_52', 'PBE_54', 'unvie_PBE_52']. Please verify that                    you are using the right POTCARs!\n",
      "  warnings.warn(\n",
      "/apps/anaconda/envs/pymatgen/lib/python3.9/site-packages/pymatgen/io/vasp/sets.py:129: BadInputSetWarning: POTCAR data with symbol P is not known by pymatgen to                    correspond with the selected potcar_functional PBE. This POTCAR                    is known to correspond with functionals ['PBE_52', 'PBE_54', 'unvie_PBE_52']. Please verify that                    you are using the right POTCARs!\n",
      "  warnings.warn(\n",
      "/apps/anaconda/envs/pymatgen/lib/python3.9/site-packages/pymatgen/io/vasp/sets.py:129: BadInputSetWarning: POTCAR data with symbol O is not known by pymatgen to                    correspond with the selected potcar_functional PBE. This POTCAR                    is known to correspond with functionals ['PBE_52', 'PBE_54', 'unvie_PBE_52']. Please verify that                    you are using the right POTCARs!\n",
      "  warnings.warn(\n"
     ]
    }
   ],
   "source": [
    "from pymatgen.core.structure import Element\n",
    "from pymatgen.io.vasp.sets import MPRelaxSet\n",
    "from pymatgen.io.vasp.inputs import Potcar\n",
    "#import os\n",
    "#os.chdir('/home/derejeb/data/Vasp_potcars/potcars')\n",
    "\n",
    "from pymatgen.io.vasp.sets import MPRelaxSet\n",
    "from pymatgen.io.vasp.inputs import Kpoints\n",
    "kpoints = Kpoints.automatic(32)\n",
    "relaxset = MPRelaxSet(s,user_kpoints_settings=kpoints)\n",
    "relaxset.write_input('CoP4O11')\n"
   ]
  },
  {
   "cell_type": "code",
   "execution_count": null,
   "id": "5611c676",
   "metadata": {},
   "outputs": [],
   "source": []
  }
 ],
 "metadata": {
  "kernelspec": {
   "display_name": "Python 3",
   "language": "python",
   "name": "python3"
  },
  "language_info": {
   "codemirror_mode": {
    "name": "ipython",
    "version": 3
   },
   "file_extension": ".py",
   "mimetype": "text/x-python",
   "name": "python",
   "nbconvert_exporter": "python",
   "pygments_lexer": "ipython3",
   "version": "3.9.4"
  }
 },
 "nbformat": 4,
 "nbformat_minor": 5
}
