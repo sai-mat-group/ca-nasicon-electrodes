{
 "cells": [
  {
   "cell_type": "code",
   "execution_count": 1,
   "id": "04addb5d",
   "metadata": {},
   "outputs": [],
   "source": [
    "import pymatgen"
   ]
  },
  {
   "cell_type": "code",
   "execution_count": 2,
   "id": "029437c7",
   "metadata": {},
   "outputs": [],
   "source": [
    "from pymatgen.core import Structure"
   ]
  },
  {
   "cell_type": "code",
   "execution_count": 3,
   "id": "19230a4a",
   "metadata": {},
   "outputs": [],
   "source": [
    "import os"
   ]
  },
  {
   "cell_type": "code",
   "execution_count": 4,
   "id": "563851d1",
   "metadata": {},
   "outputs": [],
   "source": [
    "os.chdir('/home/derejeb/data/Ca-Co-P-O/Ca-Co-P-O/Co12P7/')"
   ]
  },
  {
   "cell_type": "code",
   "execution_count": 5,
   "id": "36332a54",
   "metadata": {},
   "outputs": [
    {
     "name": "stdout",
     "output_type": "stream",
     "text": [
      "Full Formula (Co12 P7)\n",
      "Reduced Formula: Co12P7\n",
      "abc   :   7.970000   7.970000   3.203400\n",
      "angles:  90.000000  90.000000 120.000000\n",
      "Sites (19)\n",
      "  #  SP         a       b    c\n",
      "---  ----  ------  ------  ---\n",
      "  0  Co0+  0.2491  0.9815  0\n",
      "  1  Co0+  0.7324  0.7509  0\n",
      "  2  Co0+  0.0185  0.2676  0\n",
      "  3  Co0+  0.4926  0.8687  0\n",
      "  4  Co0+  0.3761  0.5074  0\n",
      "  5  Co0+  0.1313  0.6239  0\n",
      "  6  Co0+  0.9876  0.7839  0.5\n",
      "  7  Co0+  0.7963  0.0124  0.5\n",
      "  8  Co0+  0.2161  0.2037  0.5\n",
      "  9  Co0+  0.6156  0.4815  0.5\n",
      " 10  Co0+  0.8659  0.3844  0.5\n",
      " 11  Co0+  0.5185  0.1341  0.5\n",
      " 12  P0+   0.2836  0.8307  0.5\n",
      " 13  P0+   0.5471  0.7164  0.5\n",
      " 14  P0+   0.1693  0.4529  0.5\n",
      " 15  P0+   0.8341  0.5546  0\n",
      " 16  P0+   0.7205  0.1659  0\n",
      " 17  P0+   0.4454  0.2795  0\n",
      " 18  P0+   0       0       0\n"
     ]
    }
   ],
   "source": [
    "structure = Structure.from_file(\"EntryWithCollCode132330.cif\")\n",
    "print(structure)"
   ]
  },
  {
   "cell_type": "code",
   "execution_count": 6,
   "id": "be4ce28c",
   "metadata": {},
   "outputs": [
    {
     "name": "stdout",
     "output_type": "stream",
     "text": [
      "Full Formula (Co12 P7)\n",
      "Reduced Formula: Co12P7\n",
      "abc   :   7.970000   7.970000   3.203400\n",
      "angles:  90.000000  90.000000 120.000000\n",
      "Sites (19)\n",
      "  #  SP         a       b    c\n",
      "---  ----  ------  ------  ---\n",
      "  0  Co0+  0.2491  0.9815  0\n",
      "  1  Co0+  0.7324  0.7509  0\n",
      "  2  Co0+  0.0185  0.2676  0\n",
      "  3  Co0+  0.4926  0.8687  0\n",
      "  4  Co0+  0.3761  0.5074  0\n",
      "  5  Co0+  0.1313  0.6239  0\n",
      "  6  Co0+  0.9876  0.7839  0.5\n",
      "  7  Co0+  0.7963  0.0124  0.5\n",
      "  8  Co0+  0.2161  0.2037  0.5\n",
      "  9  Co0+  0.6156  0.4815  0.5\n",
      " 10  Co0+  0.8659  0.3844  0.5\n",
      " 11  Co0+  0.5185  0.1341  0.5\n",
      " 12  P0+   0.2836  0.8307  0.5\n",
      " 13  P0+   0.5471  0.7164  0.5\n",
      " 14  P0+   0.1693  0.4529  0.5\n",
      " 15  P0+   0.8341  0.5546  0\n",
      " 16  P0+   0.7205  0.1659  0\n",
      " 17  P0+   0.4454  0.2795  0\n",
      " 18  P0+   0       0       0\n"
     ]
    }
   ],
   "source": [
    "from pymatgen.core.composition import Composition\n",
    "from pymatgen.core.lattice import Lattice\n",
    "from pymatgen.core.operations import SymmOp\n",
    "from pymatgen.core.periodic_table import Element, Species\n",
    "from pymatgen.core.structure import (\n",
    "    IMolecule,\n",
    "    IStructure,\n",
    "    Molecule,\n",
    "    Structure,\n",
    "    StructureError,\n",
    ")\n",
    "\n",
    "s = structure.get_primitive_structure()\n",
    "print(s)"
   ]
  },
  {
   "cell_type": "code",
   "execution_count": 7,
   "id": "b73e4db1",
   "metadata": {},
   "outputs": [
    {
     "name": "stderr",
     "output_type": "stream",
     "text": [
      "/apps/anaconda/envs/pymatgen/lib/python3.9/site-packages/pymatgen/io/vasp/sets.py:519: UserWarning: Co without oxidation state is initialized low spin by default. If this is not desired, please set the spin on the magmom on the site directly to ensure correct initialization\n",
      "  warnings.warn(\"Co without oxidation state is initialized low spin by default. If this is \"\n",
      "/apps/anaconda/envs/pymatgen/lib/python3.9/site-packages/pymatgen/io/vasp/inputs.py:1751: UserWarning: Ignoring unknown variable type SHA256\n",
      "  warnings.warn(\"Ignoring unknown variable type %s\" % key)\n",
      "/apps/anaconda/envs/pymatgen/lib/python3.9/site-packages/pymatgen/io/vasp/inputs.py:1751: UserWarning: Ignoring unknown variable type COPYR\n",
      "  warnings.warn(\"Ignoring unknown variable type %s\" % key)\n",
      "/apps/anaconda/envs/pymatgen/lib/python3.9/site-packages/pymatgen/io/vasp/sets.py:129: BadInputSetWarning: POTCAR data with symbol Co is not known by pymatgen to                    correspond with the selected potcar_functional PBE. This POTCAR                    is known to correspond with functionals ['PBE_54', 'PBE_52', 'unvie_PBE_52']. Please verify that                    you are using the right POTCARs!\n",
      "  warnings.warn(\n",
      "/apps/anaconda/envs/pymatgen/lib/python3.9/site-packages/pymatgen/io/vasp/sets.py:129: BadInputSetWarning: POTCAR data with symbol P is not known by pymatgen to                    correspond with the selected potcar_functional PBE. This POTCAR                    is known to correspond with functionals ['PBE_54', 'PBE_52', 'unvie_PBE_52']. Please verify that                    you are using the right POTCARs!\n",
      "  warnings.warn(\n"
     ]
    }
   ],
   "source": [
    "from pymatgen.core.structure import Element\n",
    "from pymatgen.io.vasp.sets import MPRelaxSet\n",
    "from pymatgen.io.vasp.inputs import Potcar\n",
    "#import os\n",
    "#os.chdir('/home/derejeb/data/Vasp_potcars/potcars')\n",
    "\n",
    "from pymatgen.io.vasp.sets import MPRelaxSet\n",
    "from pymatgen.io.vasp.inputs import Kpoints\n",
    "kpoints = Kpoints.automatic(32)\n",
    "relaxset = MPRelaxSet(s,user_kpoints_settings=kpoints)\n",
    "relaxset.write_input('Co12P7')\n"
   ]
  },
  {
   "cell_type": "code",
   "execution_count": null,
   "id": "5611c676",
   "metadata": {},
   "outputs": [],
   "source": []
  }
 ],
 "metadata": {
  "kernelspec": {
   "display_name": "Python 3",
   "language": "python",
   "name": "python3"
  },
  "language_info": {
   "codemirror_mode": {
    "name": "ipython",
    "version": 3
   },
   "file_extension": ".py",
   "mimetype": "text/x-python",
   "name": "python",
   "nbconvert_exporter": "python",
   "pygments_lexer": "ipython3",
   "version": "3.9.4"
  }
 },
 "nbformat": 4,
 "nbformat_minor": 5
}
