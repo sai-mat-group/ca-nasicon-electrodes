{
 "cells": [
  {
   "cell_type": "code",
   "execution_count": 1,
   "id": "04addb5d",
   "metadata": {},
   "outputs": [],
   "source": [
    "import pymatgen"
   ]
  },
  {
   "cell_type": "code",
   "execution_count": 2,
   "id": "029437c7",
   "metadata": {},
   "outputs": [],
   "source": [
    "from pymatgen.core import Structure"
   ]
  },
  {
   "cell_type": "code",
   "execution_count": 3,
   "id": "19230a4a",
   "metadata": {},
   "outputs": [],
   "source": [
    "import os"
   ]
  },
  {
   "cell_type": "code",
   "execution_count": 4,
   "id": "563851d1",
   "metadata": {},
   "outputs": [],
   "source": [
    "os.chdir('/home/derejeb/data/Ca-Co-P-O/Ca-Co-P-O/CaCo3P4O14/')"
   ]
  },
  {
   "cell_type": "code",
   "execution_count": 5,
   "id": "36332a54",
   "metadata": {},
   "outputs": [
    {
     "name": "stdout",
     "output_type": "stream",
     "text": [
      "Full Formula (Ca2 Co6 P8 O28)\n",
      "Reduced Formula: CaCo3(P2O7)2\n",
      "abc   :   7.394000   7.626600   9.444000\n",
      "angles:  90.000000 111.730000  90.000000\n",
      "Sites (44)\n",
      "  #  SP         a       b       c\n",
      "---  ----  ------  ------  ------\n",
      "  0  Ca2+  0.5     0.5     0.5\n",
      "  1  Ca2+  0.5     0       0\n",
      "  2  Co2+  0.1873  0.874   0.5274\n",
      "  3  Co2+  0.8127  0.374   0.9726\n",
      "  4  Co2+  0.8127  0.126   0.4726\n",
      "  5  Co2+  0.1873  0.626   0.0274\n",
      "  6  Co2+  0       0.5     0.5\n",
      "  7  Co2+  0       0       0\n",
      "  8  P5+   0.8785  0.7952  0.6918\n",
      "  9  P5+   0.1215  0.2952  0.8082\n",
      " 10  P5+   0.1215  0.2048  0.3082\n",
      " 11  P5+   0.8785  0.7048  0.1918\n",
      " 12  P5+   0.5974  0.0661  0.7038\n",
      " 13  P5+   0.4026  0.5661  0.7962\n",
      " 14  P5+   0.4026  0.9339  0.2962\n",
      " 15  P5+   0.5974  0.4339  0.2038\n",
      " 16  O2-   0.3936  0.0245  0.6937\n",
      " 17  O2-   0.6064  0.5245  0.8063\n",
      " 18  O2-   0.6064  0.9755  0.3063\n",
      " 19  O2-   0.3936  0.4755  0.1937\n",
      " 20  O2-   0.0105  0.2873  0.6371\n",
      " 21  O2-   0.9895  0.7873  0.8629\n",
      " 22  O2-   0.9895  0.7127  0.3629\n",
      " 23  O2-   0.0105  0.2127  0.1371\n",
      " 24  O2-   0.9725  0.9211  0.6138\n",
      " 25  O2-   0.0275  0.4211  0.8862\n",
      " 26  O2-   0.0275  0.0789  0.3862\n",
      " 27  O2-   0.9725  0.5789  0.1138\n",
      " 28  O2-   0.6739  0.8789  0.6746\n",
      " 29  O2-   0.3261  0.3789  0.8254\n",
      " 30  O2-   0.3261  0.1211  0.3254\n",
      " 31  O2-   0.6739  0.6211  0.1746\n",
      " 32  O2-   0.6201  0.1935  0.5892\n",
      " 33  O2-   0.3799  0.6935  0.9108\n",
      " 34  O2-   0.3799  0.8065  0.4108\n",
      " 35  O2-   0.6201  0.3065  0.0892\n",
      " 36  O2-   0.2761  0.618   0.6318\n",
      " 37  O2-   0.7239  0.118   0.8682\n",
      " 38  O2-   0.7239  0.382   0.3682\n",
      " 39  O2-   0.2761  0.882   0.1318\n",
      " 40  O2-   0.8286  0.622   0.6072\n",
      " 41  O2-   0.1714  0.122   0.8928\n",
      " 42  O2-   0.1714  0.378   0.3928\n",
      " 43  O2-   0.8286  0.878   0.1072\n"
     ]
    }
   ],
   "source": [
    "structure = Structure.from_file(\"EntryWithCollCode74047.cif\")\n",
    "print(structure)"
   ]
  },
  {
   "cell_type": "code",
   "execution_count": 6,
   "id": "be4ce28c",
   "metadata": {},
   "outputs": [
    {
     "name": "stdout",
     "output_type": "stream",
     "text": [
      "Full Formula (Ca2 Co6 P8 O28)\n",
      "Reduced Formula: CaCo3(P2O7)2\n",
      "abc   :   7.394000   7.626600   9.444000\n",
      "angles:  90.000000 111.730000  90.000000\n",
      "Sites (44)\n",
      "  #  SP         a       b       c\n",
      "---  ----  ------  ------  ------\n",
      "  0  Ca2+  0.5     0.5     0.5\n",
      "  1  Ca2+  0.5     0       0\n",
      "  2  Co2+  0.1873  0.874   0.5274\n",
      "  3  Co2+  0.8127  0.374   0.9726\n",
      "  4  Co2+  0.8127  0.126   0.4726\n",
      "  5  Co2+  0.1873  0.626   0.0274\n",
      "  6  Co2+  0       0.5     0.5\n",
      "  7  Co2+  0       0       0\n",
      "  8  P5+   0.8785  0.7952  0.6918\n",
      "  9  P5+   0.1215  0.2952  0.8082\n",
      " 10  P5+   0.1215  0.2048  0.3082\n",
      " 11  P5+   0.8785  0.7048  0.1918\n",
      " 12  P5+   0.5974  0.0661  0.7038\n",
      " 13  P5+   0.4026  0.5661  0.7962\n",
      " 14  P5+   0.4026  0.9339  0.2962\n",
      " 15  P5+   0.5974  0.4339  0.2038\n",
      " 16  O2-   0.3936  0.0245  0.6937\n",
      " 17  O2-   0.6064  0.5245  0.8063\n",
      " 18  O2-   0.6064  0.9755  0.3063\n",
      " 19  O2-   0.3936  0.4755  0.1937\n",
      " 20  O2-   0.0105  0.2873  0.6371\n",
      " 21  O2-   0.9895  0.7873  0.8629\n",
      " 22  O2-   0.9895  0.7127  0.3629\n",
      " 23  O2-   0.0105  0.2127  0.1371\n",
      " 24  O2-   0.9725  0.9211  0.6138\n",
      " 25  O2-   0.0275  0.4211  0.8862\n",
      " 26  O2-   0.0275  0.0789  0.3862\n",
      " 27  O2-   0.9725  0.5789  0.1138\n",
      " 28  O2-   0.6739  0.8789  0.6746\n",
      " 29  O2-   0.3261  0.3789  0.8254\n",
      " 30  O2-   0.3261  0.1211  0.3254\n",
      " 31  O2-   0.6739  0.6211  0.1746\n",
      " 32  O2-   0.6201  0.1935  0.5892\n",
      " 33  O2-   0.3799  0.6935  0.9108\n",
      " 34  O2-   0.3799  0.8065  0.4108\n",
      " 35  O2-   0.6201  0.3065  0.0892\n",
      " 36  O2-   0.2761  0.618   0.6318\n",
      " 37  O2-   0.7239  0.118   0.8682\n",
      " 38  O2-   0.7239  0.382   0.3682\n",
      " 39  O2-   0.2761  0.882   0.1318\n",
      " 40  O2-   0.8286  0.622   0.6072\n",
      " 41  O2-   0.1714  0.122   0.8928\n",
      " 42  O2-   0.1714  0.378   0.3928\n",
      " 43  O2-   0.8286  0.878   0.1072\n"
     ]
    }
   ],
   "source": [
    "from pymatgen.core.composition import Composition\n",
    "from pymatgen.core.lattice import Lattice\n",
    "from pymatgen.core.operations import SymmOp\n",
    "from pymatgen.core.periodic_table import Element, Species\n",
    "from pymatgen.core.structure import (\n",
    "    IMolecule,\n",
    "    IStructure,\n",
    "    Molecule,\n",
    "    Structure,\n",
    "    StructureError,\n",
    ")\n",
    "\n",
    "s = structure.get_primitive_structure()\n",
    "print(s)"
   ]
  },
  {
   "cell_type": "code",
   "execution_count": 7,
   "id": "b73e4db1",
   "metadata": {},
   "outputs": [
    {
     "name": "stderr",
     "output_type": "stream",
     "text": [
      "/apps/anaconda/envs/pymatgen/lib/python3.9/site-packages/pymatgen/io/vasp/inputs.py:1751: UserWarning: Ignoring unknown variable type SHA256\n",
      "  warnings.warn(\"Ignoring unknown variable type %s\" % key)\n",
      "/apps/anaconda/envs/pymatgen/lib/python3.9/site-packages/pymatgen/io/vasp/inputs.py:1751: UserWarning: Ignoring unknown variable type COPYR\n",
      "  warnings.warn(\"Ignoring unknown variable type %s\" % key)\n",
      "/apps/anaconda/envs/pymatgen/lib/python3.9/site-packages/pymatgen/io/vasp/sets.py:129: BadInputSetWarning: POTCAR data with symbol Fe_pv is not known by pymatgen to                    correspond with the selected potcar_functional PBE. This POTCAR                    is known to correspond with functionals ['PBE_52', 'unvie_PBE_52', 'PBE_54']. Please verify that                    you are using the right POTCARs!\n",
      "  warnings.warn(\n",
      "/apps/anaconda/envs/pymatgen/lib/python3.9/site-packages/pymatgen/io/vasp/sets.py:129: BadInputSetWarning: POTCAR data with symbol P is not known by pymatgen to                    correspond with the selected potcar_functional PBE. This POTCAR                    is known to correspond with functionals ['PBE_52', 'unvie_PBE_52', 'PBE_54']. Please verify that                    you are using the right POTCARs!\n",
      "  warnings.warn(\n"
     ]
    }
   ],
   "source": [
    "from pymatgen.core.structure import Element\n",
    "from pymatgen.io.vasp.sets import MPRelaxSet\n",
    "from pymatgen.io.vasp.inputs import Potcar\n",
    "#import os\n",
    "#os.chdir('/home/derejeb/data/Vasp_potcars/potcars')\n",
    "\n",
    "from pymatgen.io.vasp.sets import MPRelaxSet\n",
    "from pymatgen.io.vasp.inputs import Kpoints\n",
    "kpoints = Kpoints.automatic(32)\n",
    "relaxset = MPRelaxSet(s,user_kpoints_settings=kpoints)\n",
    "relaxset.write_input('FeP2')\n"
   ]
  },
  {
   "cell_type": "code",
   "execution_count": null,
   "id": "5611c676",
   "metadata": {},
   "outputs": [],
   "source": []
  }
 ],
 "metadata": {
  "kernelspec": {
   "display_name": "Python 3",
   "language": "python",
   "name": "python3"
  },
  "language_info": {
   "codemirror_mode": {
    "name": "ipython",
    "version": 3
   },
   "file_extension": ".py",
   "mimetype": "text/x-python",
   "name": "python",
   "nbconvert_exporter": "python",
   "pygments_lexer": "ipython3",
   "version": "3.9.4"
  }
 },
 "nbformat": 4,
 "nbformat_minor": 5
}
