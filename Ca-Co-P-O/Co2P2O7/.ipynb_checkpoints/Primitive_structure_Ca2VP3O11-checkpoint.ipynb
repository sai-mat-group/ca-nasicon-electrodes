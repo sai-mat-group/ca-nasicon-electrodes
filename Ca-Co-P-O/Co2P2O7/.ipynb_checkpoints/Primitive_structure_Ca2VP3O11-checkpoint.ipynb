{
 "cells": [
  {
   "cell_type": "code",
   "execution_count": 1,
   "id": "04addb5d",
   "metadata": {},
   "outputs": [],
   "source": [
    "import pymatgen"
   ]
  },
  {
   "cell_type": "code",
   "execution_count": 2,
   "id": "029437c7",
   "metadata": {},
   "outputs": [],
   "source": [
    "from pymatgen.core import Structure"
   ]
  },
  {
   "cell_type": "code",
   "execution_count": 3,
   "id": "19230a4a",
   "metadata": {},
   "outputs": [],
   "source": [
    "import os"
   ]
  },
  {
   "cell_type": "code",
   "execution_count": 4,
   "id": "563851d1",
   "metadata": {},
   "outputs": [],
   "source": [
    "os.chdir('/home/derejeb/data/Ca-Co-P-O/Ca-Co-P-O/Co2P2O7/')"
   ]
  },
  {
   "cell_type": "code",
   "execution_count": 5,
   "id": "36332a54",
   "metadata": {},
   "outputs": [
    {
     "name": "stdout",
     "output_type": "stream",
     "text": [
      "Full Formula (Co8 P8 O28)\n",
      "Reduced Formula: Co2P2O7\n",
      "abc   :   7.002200   8.363400   9.011400\n",
      "angles:  90.000000 113.600000  90.000000\n",
      "Sites (44)\n",
      "  #  SP          a        b        c\n",
      "---  ----  -------  -------  -------\n",
      "  0  Co2+  0.23247  0.57118  0.60884\n",
      "  1  Co2+  0.76753  0.07118  0.89116\n",
      "  2  Co2+  0.76753  0.42882  0.39116\n",
      "  3  Co2+  0.23247  0.92882  0.10884\n",
      "  4  Co2+  0.69933  0.05843  0.32475\n",
      "  5  Co2+  0.30067  0.55843  0.17525\n",
      "  6  Co2+  0.30067  0.94157  0.67525\n",
      "  7  Co2+  0.69933  0.44157  0.82475\n",
      "  8  P5+   0.94042  0.73203  0.25824\n",
      "  9  P5+   0.05958  0.23203  0.24176\n",
      " 10  P5+   0.05958  0.26797  0.74176\n",
      " 11  P5+   0.94042  0.76797  0.75824\n",
      " 12  P5+   0.5317   0.72571  0.96771\n",
      " 13  P5+   0.4683   0.22571  0.53229\n",
      " 14  P5+   0.4683   0.27429  0.03229\n",
      " 15  P5+   0.5317   0.77429  0.46771\n",
      " 16  O2-   0.74908  0.67011  0.10005\n",
      " 17  O2-   0.25092  0.17011  0.39995\n",
      " 18  O2-   0.25092  0.32989  0.89995\n",
      " 19  O2-   0.74908  0.82989  0.60005\n",
      " 20  O2-   0.37848  0.73512  0.04938\n",
      " 21  O2-   0.62152  0.23512  0.45062\n",
      " 22  O2-   0.62152  0.26488  0.95062\n",
      " 23  O2-   0.37848  0.76488  0.54938\n",
      " 24  O2-   0.11902  0.74085  0.20267\n",
      " 25  O2-   0.88098  0.24085  0.29733\n",
      " 26  O2-   0.88098  0.25915  0.79733\n",
      " 27  O2-   0.11902  0.75915  0.70267\n",
      " 28  O2-   0.97662  0.59855  0.38165\n",
      " 29  O2-   0.02338  0.09855  0.11835\n",
      " 30  O2-   0.02338  0.40145  0.61835\n",
      " 31  O2-   0.97662  0.90145  0.88165\n",
      " 32  O2-   0.88706  0.88936  0.31112\n",
      " 33  O2-   0.11294  0.38936  0.18888\n",
      " 34  O2-   0.11294  0.11064  0.68888\n",
      " 35  O2-   0.88706  0.61064  0.81112\n",
      " 36  O2-   0.48086  0.59066  0.84431\n",
      " 37  O2-   0.51914  0.09066  0.65569\n",
      " 38  O2-   0.51914  0.40934  0.15569\n",
      " 39  O2-   0.48086  0.90934  0.34431\n",
      " 40  O2-   0.55344  0.8872   0.89749\n",
      " 41  O2-   0.44656  0.3872   0.60251\n",
      " 42  O2-   0.44656  0.1128   0.10251\n",
      " 43  O2-   0.55344  0.6128   0.39749\n"
     ]
    }
   ],
   "source": [
    "structure = Structure.from_file(\"EntryWithCollCode280959.cif\")\n",
    "print(structure)"
   ]
  },
  {
   "cell_type": "code",
   "execution_count": 6,
   "id": "be4ce28c",
   "metadata": {},
   "outputs": [
    {
     "name": "stdout",
     "output_type": "stream",
     "text": [
      "Full Formula (Co8 P8 O28)\n",
      "Reduced Formula: Co2P2O7\n",
      "abc   :   7.002200   8.363400   9.011400\n",
      "angles:  90.000000 113.600000  90.000000\n",
      "Sites (44)\n",
      "  #  SP          a        b        c\n",
      "---  ----  -------  -------  -------\n",
      "  0  Co2+  0.23247  0.57118  0.60884\n",
      "  1  Co2+  0.76753  0.07118  0.89116\n",
      "  2  Co2+  0.76753  0.42882  0.39116\n",
      "  3  Co2+  0.23247  0.92882  0.10884\n",
      "  4  Co2+  0.69933  0.05843  0.32475\n",
      "  5  Co2+  0.30067  0.55843  0.17525\n",
      "  6  Co2+  0.30067  0.94157  0.67525\n",
      "  7  Co2+  0.69933  0.44157  0.82475\n",
      "  8  P5+   0.94042  0.73203  0.25824\n",
      "  9  P5+   0.05958  0.23203  0.24176\n",
      " 10  P5+   0.05958  0.26797  0.74176\n",
      " 11  P5+   0.94042  0.76797  0.75824\n",
      " 12  P5+   0.5317   0.72571  0.96771\n",
      " 13  P5+   0.4683   0.22571  0.53229\n",
      " 14  P5+   0.4683   0.27429  0.03229\n",
      " 15  P5+   0.5317   0.77429  0.46771\n",
      " 16  O2-   0.74908  0.67011  0.10005\n",
      " 17  O2-   0.25092  0.17011  0.39995\n",
      " 18  O2-   0.25092  0.32989  0.89995\n",
      " 19  O2-   0.74908  0.82989  0.60005\n",
      " 20  O2-   0.37848  0.73512  0.04938\n",
      " 21  O2-   0.62152  0.23512  0.45062\n",
      " 22  O2-   0.62152  0.26488  0.95062\n",
      " 23  O2-   0.37848  0.76488  0.54938\n",
      " 24  O2-   0.11902  0.74085  0.20267\n",
      " 25  O2-   0.88098  0.24085  0.29733\n",
      " 26  O2-   0.88098  0.25915  0.79733\n",
      " 27  O2-   0.11902  0.75915  0.70267\n",
      " 28  O2-   0.97662  0.59855  0.38165\n",
      " 29  O2-   0.02338  0.09855  0.11835\n",
      " 30  O2-   0.02338  0.40145  0.61835\n",
      " 31  O2-   0.97662  0.90145  0.88165\n",
      " 32  O2-   0.88706  0.88936  0.31112\n",
      " 33  O2-   0.11294  0.38936  0.18888\n",
      " 34  O2-   0.11294  0.11064  0.68888\n",
      " 35  O2-   0.88706  0.61064  0.81112\n",
      " 36  O2-   0.48086  0.59066  0.84431\n",
      " 37  O2-   0.51914  0.09066  0.65569\n",
      " 38  O2-   0.51914  0.40934  0.15569\n",
      " 39  O2-   0.48086  0.90934  0.34431\n",
      " 40  O2-   0.55344  0.8872   0.89749\n",
      " 41  O2-   0.44656  0.3872   0.60251\n",
      " 42  O2-   0.44656  0.1128   0.10251\n",
      " 43  O2-   0.55344  0.6128   0.39749\n"
     ]
    }
   ],
   "source": [
    "from pymatgen.core.composition import Composition\n",
    "from pymatgen.core.lattice import Lattice\n",
    "from pymatgen.core.operations import SymmOp\n",
    "from pymatgen.core.periodic_table import Element, Species\n",
    "from pymatgen.core.structure import (\n",
    "    IMolecule,\n",
    "    IStructure,\n",
    "    Molecule,\n",
    "    Structure,\n",
    "    StructureError,\n",
    ")\n",
    "\n",
    "s = structure.get_primitive_structure()\n",
    "print(s)"
   ]
  },
  {
   "cell_type": "code",
   "execution_count": 7,
   "id": "b73e4db1",
   "metadata": {},
   "outputs": [
    {
     "name": "stderr",
     "output_type": "stream",
     "text": [
      "/apps/anaconda/envs/pymatgen/lib/python3.9/site-packages/pymatgen/io/vasp/sets.py:519: UserWarning: Co without oxidation state is initialized low spin by default. If this is not desired, please set the spin on the magmom on the site directly to ensure correct initialization\n",
      "  warnings.warn(\"Co without oxidation state is initialized low spin by default. If this is \"\n",
      "/apps/anaconda/envs/pymatgen/lib/python3.9/site-packages/pymatgen/io/vasp/inputs.py:1751: UserWarning: Ignoring unknown variable type SHA256\n",
      "  warnings.warn(\"Ignoring unknown variable type %s\" % key)\n",
      "/apps/anaconda/envs/pymatgen/lib/python3.9/site-packages/pymatgen/io/vasp/inputs.py:1751: UserWarning: Ignoring unknown variable type COPYR\n",
      "  warnings.warn(\"Ignoring unknown variable type %s\" % key)\n",
      "/apps/anaconda/envs/pymatgen/lib/python3.9/site-packages/pymatgen/io/vasp/sets.py:129: BadInputSetWarning: POTCAR data with symbol Co is not known by pymatgen to                    correspond with the selected potcar_functional PBE. This POTCAR                    is known to correspond with functionals ['unvie_PBE_52', 'PBE_54', 'PBE_52']. Please verify that                    you are using the right POTCARs!\n",
      "  warnings.warn(\n",
      "/apps/anaconda/envs/pymatgen/lib/python3.9/site-packages/pymatgen/io/vasp/sets.py:129: BadInputSetWarning: POTCAR data with symbol P is not known by pymatgen to                    correspond with the selected potcar_functional PBE. This POTCAR                    is known to correspond with functionals ['unvie_PBE_52', 'PBE_54', 'PBE_52']. Please verify that                    you are using the right POTCARs!\n",
      "  warnings.warn(\n",
      "/apps/anaconda/envs/pymatgen/lib/python3.9/site-packages/pymatgen/io/vasp/sets.py:129: BadInputSetWarning: POTCAR data with symbol O is not known by pymatgen to                    correspond with the selected potcar_functional PBE. This POTCAR                    is known to correspond with functionals ['unvie_PBE_52', 'PBE_54', 'PBE_52']. Please verify that                    you are using the right POTCARs!\n",
      "  warnings.warn(\n"
     ]
    }
   ],
   "source": [
    "from pymatgen.core.structure import Element\n",
    "from pymatgen.io.vasp.sets import MPRelaxSet\n",
    "from pymatgen.io.vasp.inputs import Potcar\n",
    "#import os\n",
    "#os.chdir('/home/derejeb/data/Vasp_potcars/potcars')\n",
    "\n",
    "from pymatgen.io.vasp.sets import MPRelaxSet\n",
    "from pymatgen.io.vasp.inputs import Kpoints\n",
    "kpoints = Kpoints.automatic(32)\n",
    "relaxset = MPRelaxSet(s,user_kpoints_settings=kpoints)\n",
    "relaxset.write_input('Co2P2O7')\n"
   ]
  },
  {
   "cell_type": "code",
   "execution_count": null,
   "id": "5611c676",
   "metadata": {},
   "outputs": [],
   "source": []
  }
 ],
 "metadata": {
  "kernelspec": {
   "display_name": "Python 3",
   "language": "python",
   "name": "python3"
  },
  "language_info": {
   "codemirror_mode": {
    "name": "ipython",
    "version": 3
   },
   "file_extension": ".py",
   "mimetype": "text/x-python",
   "name": "python",
   "nbconvert_exporter": "python",
   "pygments_lexer": "ipython3",
   "version": "3.9.4"
  }
 },
 "nbformat": 4,
 "nbformat_minor": 5
}
