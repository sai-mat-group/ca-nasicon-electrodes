{
 "cells": [
  {
   "cell_type": "code",
   "execution_count": 1,
   "id": "04addb5d",
   "metadata": {},
   "outputs": [],
   "source": [
    "import pymatgen"
   ]
  },
  {
   "cell_type": "code",
   "execution_count": 2,
   "id": "029437c7",
   "metadata": {},
   "outputs": [],
   "source": [
    "from pymatgen.core import Structure"
   ]
  },
  {
   "cell_type": "code",
   "execution_count": 3,
   "id": "19230a4a",
   "metadata": {},
   "outputs": [],
   "source": [
    "import os"
   ]
  },
  {
   "cell_type": "code",
   "execution_count": 4,
   "id": "563851d1",
   "metadata": {},
   "outputs": [],
   "source": [
    "os.chdir('/home/derejeb/data/Ca-Co-P-O/Ca-Co-P-O/CaCoP2O7/')"
   ]
  },
  {
   "cell_type": "code",
   "execution_count": 5,
   "id": "36332a54",
   "metadata": {},
   "outputs": [
    {
     "name": "stdout",
     "output_type": "stream",
     "text": [
      "Full Formula (Ca2 Co2 P4 O14)\n",
      "Reduced Formula: CaCoP2O7\n",
      "abc   :   6.547600   6.544100   6.574300\n",
      "angles:  66.407000  83.264000  87.579000\n",
      "Sites (22)\n",
      "  #  SP          a        b        c\n",
      "---  ----  -------  -------  -------\n",
      "  0  Ca2+  0.87875  0.20212  0.26478\n",
      "  1  Ca2+  0.12125  0.79788  0.73522\n",
      "  2  Co2+  0.64748  0.77087  0.10355\n",
      "  3  Co2+  0.35252  0.22913  0.89645\n",
      "  4  P5+   0.34393  0.32132  0.36299\n",
      "  5  P5+   0.65607  0.67868  0.63701\n",
      "  6  P5+   0.8581   0.25959  0.76917\n",
      "  7  P5+   0.1419   0.74041  0.23083\n",
      "  8  O2-   0.941    0.1408   0.6241\n",
      "  9  O2-   0.059    0.8592   0.3759\n",
      " 10  O2-   0.6857   0.1335   0.9513\n",
      " 11  O2-   0.3143   0.8665   0.0487\n",
      " 12  O2-   0.2628   0.2542   0.2107\n",
      " 13  O2-   0.7372   0.7458   0.7893\n",
      " 14  O2-   0.624    0.8495   0.3994\n",
      " 15  O2-   0.376    0.1505   0.6006\n",
      " 16  O2-   0.4157   0.5773   0.7466\n",
      " 17  O2-   0.5843   0.4227   0.2534\n",
      " 18  O2-   0.0221   0.3241   0.8796\n",
      " 19  O2-   0.9779   0.6759   0.1204\n",
      " 20  O2-   0.2397   0.521    0.3967\n",
      " 21  O2-   0.7603   0.479    0.6033\n"
     ]
    }
   ],
   "source": [
    "structure = Structure.from_file(\"EntryWithCollCode202852.cif\")\n",
    "print(structure)"
   ]
  },
  {
   "cell_type": "code",
   "execution_count": 6,
   "id": "be4ce28c",
   "metadata": {},
   "outputs": [
    {
     "name": "stdout",
     "output_type": "stream",
     "text": [
      "Full Formula (Ca2 Co2 P4 O14)\n",
      "Reduced Formula: CaCoP2O7\n",
      "abc   :   6.547600   6.544100   6.574300\n",
      "angles:  66.407000  83.264000  87.579000\n",
      "Sites (22)\n",
      "  #  SP          a        b        c\n",
      "---  ----  -------  -------  -------\n",
      "  0  Ca2+  0.87875  0.20212  0.26478\n",
      "  1  Ca2+  0.12125  0.79788  0.73522\n",
      "  2  Co2+  0.64748  0.77087  0.10355\n",
      "  3  Co2+  0.35252  0.22913  0.89645\n",
      "  4  P5+   0.34393  0.32132  0.36299\n",
      "  5  P5+   0.65607  0.67868  0.63701\n",
      "  6  P5+   0.8581   0.25959  0.76917\n",
      "  7  P5+   0.1419   0.74041  0.23083\n",
      "  8  O2-   0.941    0.1408   0.6241\n",
      "  9  O2-   0.059    0.8592   0.3759\n",
      " 10  O2-   0.6857   0.1335   0.9513\n",
      " 11  O2-   0.3143   0.8665   0.0487\n",
      " 12  O2-   0.2628   0.2542   0.2107\n",
      " 13  O2-   0.7372   0.7458   0.7893\n",
      " 14  O2-   0.624    0.8495   0.3994\n",
      " 15  O2-   0.376    0.1505   0.6006\n",
      " 16  O2-   0.4157   0.5773   0.7466\n",
      " 17  O2-   0.5843   0.4227   0.2534\n",
      " 18  O2-   0.0221   0.3241   0.8796\n",
      " 19  O2-   0.9779   0.6759   0.1204\n",
      " 20  O2-   0.2397   0.521    0.3967\n",
      " 21  O2-   0.7603   0.479    0.6033\n"
     ]
    }
   ],
   "source": [
    "from pymatgen.core.composition import Composition\n",
    "from pymatgen.core.lattice import Lattice\n",
    "from pymatgen.core.operations import SymmOp\n",
    "from pymatgen.core.periodic_table import Element, Species\n",
    "from pymatgen.core.structure import (\n",
    "    IMolecule,\n",
    "    IStructure,\n",
    "    Molecule,\n",
    "    Structure,\n",
    "    StructureError,\n",
    ")\n",
    "\n",
    "s = structure.get_primitive_structure()\n",
    "print(s)"
   ]
  },
  {
   "cell_type": "code",
   "execution_count": 7,
   "id": "b73e4db1",
   "metadata": {},
   "outputs": [
    {
     "name": "stderr",
     "output_type": "stream",
     "text": [
      "/apps/anaconda/envs/pymatgen/lib/python3.9/site-packages/pymatgen/io/vasp/sets.py:519: UserWarning: Co without oxidation state is initialized low spin by default. If this is not desired, please set the spin on the magmom on the site directly to ensure correct initialization\n",
      "  warnings.warn(\"Co without oxidation state is initialized low spin by default. If this is \"\n",
      "/apps/anaconda/envs/pymatgen/lib/python3.9/site-packages/pymatgen/io/vasp/inputs.py:1751: UserWarning: Ignoring unknown variable type SHA256\n",
      "  warnings.warn(\"Ignoring unknown variable type %s\" % key)\n",
      "/apps/anaconda/envs/pymatgen/lib/python3.9/site-packages/pymatgen/io/vasp/inputs.py:1751: UserWarning: Ignoring unknown variable type COPYR\n",
      "  warnings.warn(\"Ignoring unknown variable type %s\" % key)\n",
      "/apps/anaconda/envs/pymatgen/lib/python3.9/site-packages/pymatgen/io/vasp/sets.py:129: BadInputSetWarning: POTCAR data with symbol Ca_sv is not known by pymatgen to                    correspond with the selected potcar_functional PBE. This POTCAR                    is known to correspond with functionals ['PBE_54', 'PBE_52', 'unvie_PBE_52']. Please verify that                    you are using the right POTCARs!\n",
      "  warnings.warn(\n",
      "/apps/anaconda/envs/pymatgen/lib/python3.9/site-packages/pymatgen/io/vasp/sets.py:129: BadInputSetWarning: POTCAR data with symbol Co is not known by pymatgen to                    correspond with the selected potcar_functional PBE. This POTCAR                    is known to correspond with functionals ['PBE_54', 'PBE_52', 'unvie_PBE_52']. Please verify that                    you are using the right POTCARs!\n",
      "  warnings.warn(\n",
      "/apps/anaconda/envs/pymatgen/lib/python3.9/site-packages/pymatgen/io/vasp/sets.py:129: BadInputSetWarning: POTCAR data with symbol P is not known by pymatgen to                    correspond with the selected potcar_functional PBE. This POTCAR                    is known to correspond with functionals ['PBE_54', 'PBE_52', 'unvie_PBE_52']. Please verify that                    you are using the right POTCARs!\n",
      "  warnings.warn(\n",
      "/apps/anaconda/envs/pymatgen/lib/python3.9/site-packages/pymatgen/io/vasp/sets.py:129: BadInputSetWarning: POTCAR data with symbol O is not known by pymatgen to                    correspond with the selected potcar_functional PBE. This POTCAR                    is known to correspond with functionals ['PBE_54', 'PBE_52', 'unvie_PBE_52']. Please verify that                    you are using the right POTCARs!\n",
      "  warnings.warn(\n"
     ]
    }
   ],
   "source": [
    "from pymatgen.core.structure import Element\n",
    "from pymatgen.io.vasp.sets import MPRelaxSet\n",
    "from pymatgen.io.vasp.inputs import Potcar\n",
    "#import os\n",
    "#os.chdir('/home/derejeb/data/Vasp_potcars/potcars')\n",
    "\n",
    "from pymatgen.io.vasp.sets import MPRelaxSet\n",
    "from pymatgen.io.vasp.inputs import Kpoints\n",
    "kpoints = Kpoints.automatic(32)\n",
    "relaxset = MPRelaxSet(s,user_kpoints_settings=kpoints)\n",
    "relaxset.write_input('CaCoP2O7')\n"
   ]
  },
  {
   "cell_type": "code",
   "execution_count": null,
   "id": "5611c676",
   "metadata": {},
   "outputs": [],
   "source": []
  }
 ],
 "metadata": {
  "kernelspec": {
   "display_name": "Python 3",
   "language": "python",
   "name": "python3"
  },
  "language_info": {
   "codemirror_mode": {
    "name": "ipython",
    "version": 3
   },
   "file_extension": ".py",
   "mimetype": "text/x-python",
   "name": "python",
   "nbconvert_exporter": "python",
   "pygments_lexer": "ipython3",
   "version": "3.9.4"
  }
 },
 "nbformat": 4,
 "nbformat_minor": 5
}
