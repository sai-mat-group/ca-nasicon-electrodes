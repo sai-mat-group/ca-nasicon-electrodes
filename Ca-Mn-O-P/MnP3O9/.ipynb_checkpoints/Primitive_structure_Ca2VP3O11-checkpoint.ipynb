{
 "cells": [
  {
   "cell_type": "code",
   "execution_count": 1,
   "id": "04addb5d",
   "metadata": {},
   "outputs": [],
   "source": [
    "import pymatgen"
   ]
  },
  {
   "cell_type": "code",
   "execution_count": 2,
   "id": "029437c7",
   "metadata": {},
   "outputs": [],
   "source": [
    "from pymatgen.core import Structure"
   ]
  },
  {
   "cell_type": "code",
   "execution_count": 3,
   "id": "19230a4a",
   "metadata": {},
   "outputs": [],
   "source": [
    "import os"
   ]
  },
  {
   "cell_type": "code",
   "execution_count": 4,
   "id": "563851d1",
   "metadata": {},
   "outputs": [],
   "source": [
    "os.chdir('/home/derejeb/data/Ca-Mn-O-P/MnP3O9')"
   ]
  },
  {
   "cell_type": "code",
   "execution_count": 4,
   "id": "36332a54",
   "metadata": {},
   "outputs": [
    {
     "name": "stdout",
     "output_type": "stream",
     "text": [
      "Full Formula (Mn4 P12 O36)\n",
      "Reduced Formula: Mn(PO3)3\n",
      "abc   :   9.703000  10.667000   6.362000\n",
      "angles:  90.000000  90.000000  90.000000\n",
      "Sites (52)\n",
      "  #  SP         a       b       c\n",
      "---  ----  ------  ------  ------\n",
      "  0  Mn3+  0.5     0.5     0\n",
      "  1  Mn3+  0.5     0       0.5\n",
      "  2  Mn3+  0       0.5     0.5\n",
      "  3  Mn3+  0       0       0\n",
      "  4  P5+   0.0836  0.75    0.75\n",
      "  5  P5+   0.4164  0.25    0.25\n",
      "  6  P5+   0.9164  0.25    0.25\n",
      "  7  P5+   0.5836  0.75    0.75\n",
      "  8  P5+   0.7141  0.865   0.1329\n",
      "  9  P5+   0.7141  0.635   0.3671\n",
      " 10  P5+   0.7859  0.135   0.6329\n",
      " 11  P5+   0.7859  0.365   0.8671\n",
      " 12  P5+   0.2859  0.135   0.8671\n",
      " 13  P5+   0.2859  0.365   0.6329\n",
      " 14  P5+   0.2141  0.865   0.3671\n",
      " 15  P5+   0.2141  0.635   0.1329\n",
      " 16  O2-   0.5034  0.3475  0.1483\n",
      " 17  O2-   0.5034  0.1525  0.3517\n",
      " 18  O2-   0.9966  0.6525  0.6483\n",
      " 19  O2-   0.9966  0.8475  0.8517\n",
      " 20  O2-   0.4966  0.6525  0.8517\n",
      " 21  O2-   0.4966  0.8475  0.6483\n",
      " 22  O2-   0.0034  0.3475  0.3517\n",
      " 23  O2-   0.0034  0.1525  0.1483\n",
      " 24  O2-   0.5837  0.5993  0.267\n",
      " 25  O2-   0.5837  0.9007  0.233\n",
      " 26  O2-   0.9163  0.4007  0.767\n",
      " 27  O2-   0.9163  0.0993  0.733\n",
      " 28  O2-   0.4163  0.4007  0.733\n",
      " 29  O2-   0.4163  0.0993  0.767\n",
      " 30  O2-   0.0837  0.5993  0.233\n",
      " 31  O2-   0.0837  0.9007  0.267\n",
      " 32  O2-   0.8204  0.5345  0.3904\n",
      " 33  O2-   0.8204  0.9655  0.1096\n",
      " 34  O2-   0.6796  0.4655  0.8904\n",
      " 35  O2-   0.6796  0.0345  0.6096\n",
      " 36  O2-   0.1796  0.4655  0.6096\n",
      " 37  O2-   0.1796  0.0345  0.8904\n",
      " 38  O2-   0.3204  0.5345  0.1096\n",
      " 39  O2-   0.3204  0.9655  0.3904\n",
      " 40  O2-   0.8101  0.1912  0.4062\n",
      " 41  O2-   0.8101  0.3088  0.0938\n",
      " 42  O2-   0.6899  0.8088  0.9062\n",
      " 43  O2-   0.6899  0.6912  0.5938\n",
      " 44  O2-   0.1899  0.8088  0.5938\n",
      " 45  O2-   0.1899  0.6912  0.9062\n",
      " 46  O2-   0.3101  0.1912  0.0938\n",
      " 47  O2-   0.3101  0.3088  0.4062\n",
      " 48  O2-   0.7852  0.75    0.25\n",
      " 49  O2-   0.7148  0.25    0.75\n",
      " 50  O2-   0.2148  0.25    0.75\n",
      " 51  O2-   0.2852  0.75    0.25\n"
     ]
    }
   ],
   "source": [
    "structure = Structure.from_file(\"EntryWithCollCode1720.cif\")\n",
    "print(structure)"
   ]
  },
  {
   "cell_type": "code",
   "execution_count": 5,
   "id": "be4ce28c",
   "metadata": {},
   "outputs": [
    {
     "name": "stdout",
     "output_type": "stream",
     "text": [
      "Full Formula (Mn4 P12 O36)\n",
      "Reduced Formula: Mn(PO3)3\n",
      "abc   :   9.703000  10.667000   6.362000\n",
      "angles:  90.000000  90.000000  90.000000\n",
      "Sites (52)\n",
      "  #  SP         a       b       c\n",
      "---  ----  ------  ------  ------\n",
      "  0  Mn3+  0.5     0.5     0\n",
      "  1  Mn3+  0.5     0       0.5\n",
      "  2  Mn3+  0       0.5     0.5\n",
      "  3  Mn3+  0       0       0\n",
      "  4  P5+   0.0836  0.75    0.75\n",
      "  5  P5+   0.4164  0.25    0.25\n",
      "  6  P5+   0.9164  0.25    0.25\n",
      "  7  P5+   0.5836  0.75    0.75\n",
      "  8  P5+   0.7141  0.865   0.1329\n",
      "  9  P5+   0.7141  0.635   0.3671\n",
      " 10  P5+   0.7859  0.135   0.6329\n",
      " 11  P5+   0.7859  0.365   0.8671\n",
      " 12  P5+   0.2859  0.135   0.8671\n",
      " 13  P5+   0.2859  0.365   0.6329\n",
      " 14  P5+   0.2141  0.865   0.3671\n",
      " 15  P5+   0.2141  0.635   0.1329\n",
      " 16  O2-   0.5034  0.3475  0.1483\n",
      " 17  O2-   0.5034  0.1525  0.3517\n",
      " 18  O2-   0.9966  0.6525  0.6483\n",
      " 19  O2-   0.9966  0.8475  0.8517\n",
      " 20  O2-   0.4966  0.6525  0.8517\n",
      " 21  O2-   0.4966  0.8475  0.6483\n",
      " 22  O2-   0.0034  0.3475  0.3517\n",
      " 23  O2-   0.0034  0.1525  0.1483\n",
      " 24  O2-   0.5837  0.5993  0.267\n",
      " 25  O2-   0.5837  0.9007  0.233\n",
      " 26  O2-   0.9163  0.4007  0.767\n",
      " 27  O2-   0.9163  0.0993  0.733\n",
      " 28  O2-   0.4163  0.4007  0.733\n",
      " 29  O2-   0.4163  0.0993  0.767\n",
      " 30  O2-   0.0837  0.5993  0.233\n",
      " 31  O2-   0.0837  0.9007  0.267\n",
      " 32  O2-   0.8204  0.5345  0.3904\n",
      " 33  O2-   0.8204  0.9655  0.1096\n",
      " 34  O2-   0.6796  0.4655  0.8904\n",
      " 35  O2-   0.6796  0.0345  0.6096\n",
      " 36  O2-   0.1796  0.4655  0.6096\n",
      " 37  O2-   0.1796  0.0345  0.8904\n",
      " 38  O2-   0.3204  0.5345  0.1096\n",
      " 39  O2-   0.3204  0.9655  0.3904\n",
      " 40  O2-   0.8101  0.1912  0.4062\n",
      " 41  O2-   0.8101  0.3088  0.0938\n",
      " 42  O2-   0.6899  0.8088  0.9062\n",
      " 43  O2-   0.6899  0.6912  0.5938\n",
      " 44  O2-   0.1899  0.8088  0.5938\n",
      " 45  O2-   0.1899  0.6912  0.9062\n",
      " 46  O2-   0.3101  0.1912  0.0938\n",
      " 47  O2-   0.3101  0.3088  0.4062\n",
      " 48  O2-   0.7852  0.75    0.25\n",
      " 49  O2-   0.7148  0.25    0.75\n",
      " 50  O2-   0.2148  0.25    0.75\n",
      " 51  O2-   0.2852  0.75    0.25\n"
     ]
    }
   ],
   "source": [
    "from pymatgen.core.composition import Composition\n",
    "from pymatgen.core.lattice import Lattice\n",
    "from pymatgen.core.operations import SymmOp\n",
    "from pymatgen.core.periodic_table import Element, Species\n",
    "from pymatgen.core.structure import (\n",
    "    IMolecule,\n",
    "    IStructure,\n",
    "    Molecule,\n",
    "    Structure,\n",
    "    StructureError,\n",
    ")\n",
    "\n",
    "s = structure.get_primitive_structure()\n",
    "print(s)"
   ]
  },
  {
   "cell_type": "code",
   "execution_count": 6,
   "id": "b73e4db1",
   "metadata": {},
   "outputs": [
    {
     "name": "stderr",
     "output_type": "stream",
     "text": [
      "/apps/anaconda/envs/pymatgen/lib/python3.9/site-packages/pymatgen/io/vasp/inputs.py:1751: UserWarning: Ignoring unknown variable type SHA256\n",
      "  warnings.warn(\"Ignoring unknown variable type %s\" % key)\n",
      "/apps/anaconda/envs/pymatgen/lib/python3.9/site-packages/pymatgen/io/vasp/inputs.py:1751: UserWarning: Ignoring unknown variable type COPYR\n",
      "  warnings.warn(\"Ignoring unknown variable type %s\" % key)\n",
      "/apps/anaconda/envs/pymatgen/lib/python3.9/site-packages/pymatgen/io/vasp/sets.py:129: BadInputSetWarning: POTCAR data with symbol Mn_pv is not known by pymatgen to                    correspond with the selected potcar_functional PBE. This POTCAR                    is known to correspond with functionals ['PBE_52', 'PBE_54', 'unvie_PBE_52']. Please verify that                    you are using the right POTCARs!\n",
      "  warnings.warn(\n",
      "/apps/anaconda/envs/pymatgen/lib/python3.9/site-packages/pymatgen/io/vasp/sets.py:129: BadInputSetWarning: POTCAR data with symbol P is not known by pymatgen to                    correspond with the selected potcar_functional PBE. This POTCAR                    is known to correspond with functionals ['PBE_52', 'PBE_54', 'unvie_PBE_52']. Please verify that                    you are using the right POTCARs!\n",
      "  warnings.warn(\n",
      "/apps/anaconda/envs/pymatgen/lib/python3.9/site-packages/pymatgen/io/vasp/sets.py:129: BadInputSetWarning: POTCAR data with symbol O is not known by pymatgen to                    correspond with the selected potcar_functional PBE. This POTCAR                    is known to correspond with functionals ['PBE_52', 'PBE_54', 'unvie_PBE_52']. Please verify that                    you are using the right POTCARs!\n",
      "  warnings.warn(\n"
     ]
    }
   ],
   "source": [
    "from pymatgen.core.structure import Element\n",
    "from pymatgen.io.vasp.sets import MPRelaxSet\n",
    "from pymatgen.io.vasp.inputs import Potcar\n",
    "#import os\n",
    "#os.chdir('/home/derejeb/data/Vasp_potcars/potcars')\n",
    "\n",
    "from pymatgen.io.vasp.sets import MPRelaxSet\n",
    "from pymatgen.io.vasp.inputs import Kpoints\n",
    "kpoints = Kpoints.automatic(32)\n",
    "relaxset = MPRelaxSet(s,user_kpoints_settings=kpoints)\n",
    "relaxset.write_input('MnP3O9')\n"
   ]
  },
  {
   "cell_type": "code",
   "execution_count": null,
   "id": "5611c676",
   "metadata": {},
   "outputs": [],
   "source": []
  }
 ],
 "metadata": {
  "kernelspec": {
   "display_name": "Python 3",
   "language": "python",
   "name": "python3"
  },
  "language_info": {
   "codemirror_mode": {
    "name": "ipython",
    "version": 3
   },
   "file_extension": ".py",
   "mimetype": "text/x-python",
   "name": "python",
   "nbconvert_exporter": "python",
   "pygments_lexer": "ipython3",
   "version": "3.9.4"
  }
 },
 "nbformat": 4,
 "nbformat_minor": 5
}
