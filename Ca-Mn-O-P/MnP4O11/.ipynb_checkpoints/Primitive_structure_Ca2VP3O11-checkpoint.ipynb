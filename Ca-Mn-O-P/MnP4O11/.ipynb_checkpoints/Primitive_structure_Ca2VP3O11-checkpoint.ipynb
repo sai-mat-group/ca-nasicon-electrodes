{
 "cells": [
  {
   "cell_type": "code",
   "execution_count": 1,
   "id": "04addb5d",
   "metadata": {},
   "outputs": [],
   "source": [
    "import pymatgen"
   ]
  },
  {
   "cell_type": "code",
   "execution_count": 2,
   "id": "029437c7",
   "metadata": {},
   "outputs": [],
   "source": [
    "from pymatgen.core import Structure"
   ]
  },
  {
   "cell_type": "code",
   "execution_count": 3,
   "id": "19230a4a",
   "metadata": {},
   "outputs": [],
   "source": [
    "import os"
   ]
  },
  {
   "cell_type": "code",
   "execution_count": 4,
   "id": "563851d1",
   "metadata": {},
   "outputs": [],
   "source": [
    "os.chdir('/home/derejeb/data/Ca-Mn-O-P/MnP4O11/')"
   ]
  },
  {
   "cell_type": "code",
   "execution_count": 5,
   "id": "36332a54",
   "metadata": {},
   "outputs": [
    {
     "name": "stdout",
     "output_type": "stream",
     "text": [
      "Full Formula (Mn4 P16 O44)\n",
      "Reduced Formula: MnP4O11\n",
      "abc   :   9.306000   9.271000  10.758000\n",
      "angles: 108.570000 108.930000  90.340000\n",
      "Sites (64)\n",
      "  #  SP         a       b       c\n",
      "---  ----  ------  ------  ------\n",
      "  0  Mn2+  0.7297  0.7455  0.9789\n",
      "  1  Mn2+  0.2703  0.2545  0.0211\n",
      "  2  Mn2+  0.233   0.7742  0.5042\n",
      "  3  Mn2+  0.767   0.2258  0.4958\n",
      "  4  P5+   0.9447  0.086   0.7519\n",
      "  5  P5+   0.0553  0.914   0.2481\n",
      "  6  P5+   0.9205  0.7644  0.6085\n",
      "  7  P5+   0.0795  0.2356  0.3915\n",
      "  8  P5+   0.7311  0.1006  0.9117\n",
      "  9  P5+   0.2689  0.8994  0.0883\n",
      " 10  P5+   0.5855  0.7377  0.4403\n",
      " 11  P5+   0.4145  0.2623  0.5597\n",
      " 12  P5+   0.921   0.5579  0.7661\n",
      " 13  P5+   0.079   0.4421  0.2339\n",
      " 14  P5+   0.7475  0.432   0.0768\n",
      " 15  P5+   0.2525  0.568   0.9232\n",
      " 16  P5+   0.4106  0.1043  0.7649\n",
      " 17  P5+   0.5894  0.8957  0.2351\n",
      " 18  P5+   0.6004  0.4145  0.2808\n",
      " 19  P5+   0.3996  0.5855  0.7192\n",
      " 20  O2-   0.9661  0.9105  0.743\n",
      " 21  O2-   0.0339  0.0895  0.257\n",
      " 22  O2-   0.8335  0.0798  0.6165\n",
      " 23  O2-   0.1665  0.9202  0.3835\n",
      " 24  O2-   0.0945  0.179   0.8169\n",
      " 25  O2-   0.9055  0.821   0.1831\n",
      " 26  O2-   0.8673  0.1357  0.871\n",
      " 27  O2-   0.1327  0.8643  0.129\n",
      " 28  O2-   0.7407  0.7415  0.5587\n",
      " 29  O2-   0.2593  0.2585  0.4413\n",
      " 30  O2-   0.986   0.7672  0.5038\n",
      " 31  O2-   0.014   0.2328  0.4962\n",
      " 32  O2-   0.967   0.6318  0.6651\n",
      " 33  O2-   0.033   0.3682  0.3349\n",
      " 34  O2-   0.7383  0.2522  0.0346\n",
      " 35  O2-   0.2617  0.7478  0.9654\n",
      " 36  O2-   0.5898  0.0916  0.782\n",
      " 37  O2-   0.4102  0.9084  0.218\n",
      " 38  O2-   0.7389  0.973   0.9617\n",
      " 39  O2-   0.2611  0.027   0.0383\n",
      " 40  O2-   0.6359  0.8113  0.349\n",
      " 41  O2-   0.3641  0.1887  0.651\n",
      " 42  O2-   0.5345  0.5661  0.3523\n",
      " 43  O2-   0.4655  0.4339  0.6477\n",
      " 44  O2-   0.4708  0.8061  0.4972\n",
      " 45  O2-   0.5292  0.1939  0.5028\n",
      " 46  O2-   0.0833  0.5074  0.8328\n",
      " 47  O2-   0.9167  0.4926  0.1672\n",
      " 48  O2-   0.8162  0.4167  0.6814\n",
      " 49  O2-   0.1838  0.5833  0.3186\n",
      " 50  O2-   0.886   0.6812  0.873\n",
      " 51  O2-   0.114   0.3188  0.127\n",
      " 52  O2-   0.6948  0.4918  0.9628\n",
      " 53  O2-   0.3052  0.5082  0.0372\n",
      " 54  O2-   0.6581  0.4766  0.1791\n",
      " 55  O2-   0.3419  0.5234  0.8209\n",
      " 56  O2-   0.3214  0.9532  0.7\n",
      " 57  O2-   0.6786  0.0468  0.3\n",
      " 58  O2-   0.4123  0.2128  0.8989\n",
      " 59  O2-   0.5877  0.7872  0.1011\n",
      " 60  O2-   0.7333  0.388   0.3866\n",
      " 61  O2-   0.2667  0.612   0.6134\n",
      " 62  O2-   0.4679  0.2979  0.1989\n",
      " 63  O2-   0.5321  0.7021  0.8011\n"
     ]
    }
   ],
   "source": [
    "structure = Structure.from_file(\"EntryWithCollCode39835.cif\")\n",
    "print(structure)"
   ]
  },
  {
   "cell_type": "code",
   "execution_count": 6,
   "id": "be4ce28c",
   "metadata": {},
   "outputs": [
    {
     "name": "stdout",
     "output_type": "stream",
     "text": [
      "Full Formula (Mn4 P16 O44)\n",
      "Reduced Formula: MnP4O11\n",
      "abc   :   9.306000   9.271000  10.758000\n",
      "angles: 108.570000 108.930000  90.340000\n",
      "Sites (64)\n",
      "  #  SP         a       b       c\n",
      "---  ----  ------  ------  ------\n",
      "  0  Mn2+  0.7297  0.7455  0.9789\n",
      "  1  Mn2+  0.2703  0.2545  0.0211\n",
      "  2  Mn2+  0.233   0.7742  0.5042\n",
      "  3  Mn2+  0.767   0.2258  0.4958\n",
      "  4  P5+   0.9447  0.086   0.7519\n",
      "  5  P5+   0.0553  0.914   0.2481\n",
      "  6  P5+   0.9205  0.7644  0.6085\n",
      "  7  P5+   0.0795  0.2356  0.3915\n",
      "  8  P5+   0.7311  0.1006  0.9117\n",
      "  9  P5+   0.2689  0.8994  0.0883\n",
      " 10  P5+   0.5855  0.7377  0.4403\n",
      " 11  P5+   0.4145  0.2623  0.5597\n",
      " 12  P5+   0.921   0.5579  0.7661\n",
      " 13  P5+   0.079   0.4421  0.2339\n",
      " 14  P5+   0.7475  0.432   0.0768\n",
      " 15  P5+   0.2525  0.568   0.9232\n",
      " 16  P5+   0.4106  0.1043  0.7649\n",
      " 17  P5+   0.5894  0.8957  0.2351\n",
      " 18  P5+   0.6004  0.4145  0.2808\n",
      " 19  P5+   0.3996  0.5855  0.7192\n",
      " 20  O2-   0.9661  0.9105  0.743\n",
      " 21  O2-   0.0339  0.0895  0.257\n",
      " 22  O2-   0.8335  0.0798  0.6165\n",
      " 23  O2-   0.1665  0.9202  0.3835\n",
      " 24  O2-   0.0945  0.179   0.8169\n",
      " 25  O2-   0.9055  0.821   0.1831\n",
      " 26  O2-   0.8673  0.1357  0.871\n",
      " 27  O2-   0.1327  0.8643  0.129\n",
      " 28  O2-   0.7407  0.7415  0.5587\n",
      " 29  O2-   0.2593  0.2585  0.4413\n",
      " 30  O2-   0.986   0.7672  0.5038\n",
      " 31  O2-   0.014   0.2328  0.4962\n",
      " 32  O2-   0.967   0.6318  0.6651\n",
      " 33  O2-   0.033   0.3682  0.3349\n",
      " 34  O2-   0.7383  0.2522  0.0346\n",
      " 35  O2-   0.2617  0.7478  0.9654\n",
      " 36  O2-   0.5898  0.0916  0.782\n",
      " 37  O2-   0.4102  0.9084  0.218\n",
      " 38  O2-   0.7389  0.973   0.9617\n",
      " 39  O2-   0.2611  0.027   0.0383\n",
      " 40  O2-   0.6359  0.8113  0.349\n",
      " 41  O2-   0.3641  0.1887  0.651\n",
      " 42  O2-   0.5345  0.5661  0.3523\n",
      " 43  O2-   0.4655  0.4339  0.6477\n",
      " 44  O2-   0.4708  0.8061  0.4972\n",
      " 45  O2-   0.5292  0.1939  0.5028\n",
      " 46  O2-   0.0833  0.5074  0.8328\n",
      " 47  O2-   0.9167  0.4926  0.1672\n",
      " 48  O2-   0.8162  0.4167  0.6814\n",
      " 49  O2-   0.1838  0.5833  0.3186\n",
      " 50  O2-   0.886   0.6812  0.873\n",
      " 51  O2-   0.114   0.3188  0.127\n",
      " 52  O2-   0.6948  0.4918  0.9628\n",
      " 53  O2-   0.3052  0.5082  0.0372\n",
      " 54  O2-   0.6581  0.4766  0.1791\n",
      " 55  O2-   0.3419  0.5234  0.8209\n",
      " 56  O2-   0.3214  0.9532  0.7\n",
      " 57  O2-   0.6786  0.0468  0.3\n",
      " 58  O2-   0.4123  0.2128  0.8989\n",
      " 59  O2-   0.5877  0.7872  0.1011\n",
      " 60  O2-   0.7333  0.388   0.3866\n",
      " 61  O2-   0.2667  0.612   0.6134\n",
      " 62  O2-   0.4679  0.2979  0.1989\n",
      " 63  O2-   0.5321  0.7021  0.8011\n"
     ]
    }
   ],
   "source": [
    "from pymatgen.core.composition import Composition\n",
    "from pymatgen.core.lattice import Lattice\n",
    "from pymatgen.core.operations import SymmOp\n",
    "from pymatgen.core.periodic_table import Element, Species\n",
    "from pymatgen.core.structure import (\n",
    "    IMolecule,\n",
    "    IStructure,\n",
    "    Molecule,\n",
    "    Structure,\n",
    "    StructureError,\n",
    ")\n",
    "\n",
    "s = structure.get_primitive_structure()\n",
    "print(s)"
   ]
  },
  {
   "cell_type": "code",
   "execution_count": 7,
   "id": "b73e4db1",
   "metadata": {},
   "outputs": [
    {
     "name": "stderr",
     "output_type": "stream",
     "text": [
      "/apps/anaconda/envs/pymatgen/lib/python3.9/site-packages/pymatgen/io/vasp/inputs.py:1751: UserWarning: Ignoring unknown variable type SHA256\n",
      "  warnings.warn(\"Ignoring unknown variable type %s\" % key)\n",
      "/apps/anaconda/envs/pymatgen/lib/python3.9/site-packages/pymatgen/io/vasp/inputs.py:1751: UserWarning: Ignoring unknown variable type COPYR\n",
      "  warnings.warn(\"Ignoring unknown variable type %s\" % key)\n",
      "/apps/anaconda/envs/pymatgen/lib/python3.9/site-packages/pymatgen/io/vasp/sets.py:129: BadInputSetWarning: POTCAR data with symbol Mn_pv is not known by pymatgen to                    correspond with the selected potcar_functional PBE. This POTCAR                    is known to correspond with functionals ['PBE_52', 'unvie_PBE_52', 'PBE_54']. Please verify that                    you are using the right POTCARs!\n",
      "  warnings.warn(\n",
      "/apps/anaconda/envs/pymatgen/lib/python3.9/site-packages/pymatgen/io/vasp/sets.py:129: BadInputSetWarning: POTCAR data with symbol P is not known by pymatgen to                    correspond with the selected potcar_functional PBE. This POTCAR                    is known to correspond with functionals ['PBE_52', 'unvie_PBE_52', 'PBE_54']. Please verify that                    you are using the right POTCARs!\n",
      "  warnings.warn(\n",
      "/apps/anaconda/envs/pymatgen/lib/python3.9/site-packages/pymatgen/io/vasp/sets.py:129: BadInputSetWarning: POTCAR data with symbol O is not known by pymatgen to                    correspond with the selected potcar_functional PBE. This POTCAR                    is known to correspond with functionals ['PBE_52', 'unvie_PBE_52', 'PBE_54']. Please verify that                    you are using the right POTCARs!\n",
      "  warnings.warn(\n"
     ]
    }
   ],
   "source": [
    "from pymatgen.core.structure import Element\n",
    "from pymatgen.io.vasp.sets import MPRelaxSet\n",
    "from pymatgen.io.vasp.inputs import Potcar\n",
    "#import os\n",
    "#os.chdir('/home/derejeb/data/Vasp_potcars/potcars')\n",
    "\n",
    "from pymatgen.io.vasp.sets import MPRelaxSet\n",
    "from pymatgen.io.vasp.inputs import Kpoints\n",
    "kpoints = Kpoints.automatic(32)\n",
    "relaxset = MPRelaxSet(s,user_kpoints_settings=kpoints)\n",
    "relaxset.write_input('MnP4O11')\n"
   ]
  },
  {
   "cell_type": "code",
   "execution_count": null,
   "id": "5611c676",
   "metadata": {},
   "outputs": [],
   "source": []
  }
 ],
 "metadata": {
  "kernelspec": {
   "display_name": "Python 3",
   "language": "python",
   "name": "python3"
  },
  "language_info": {
   "codemirror_mode": {
    "name": "ipython",
    "version": 3
   },
   "file_extension": ".py",
   "mimetype": "text/x-python",
   "name": "python",
   "nbconvert_exporter": "python",
   "pygments_lexer": "ipython3",
   "version": "3.9.4"
  }
 },
 "nbformat": 4,
 "nbformat_minor": 5
}
