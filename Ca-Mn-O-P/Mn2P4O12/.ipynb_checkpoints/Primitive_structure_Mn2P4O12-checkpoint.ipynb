{
 "cells": [
  {
   "cell_type": "code",
   "execution_count": 1,
   "id": "04addb5d",
   "metadata": {},
   "outputs": [],
   "source": [
    "import pymatgen"
   ]
  },
  {
   "cell_type": "code",
   "execution_count": 2,
   "id": "029437c7",
   "metadata": {},
   "outputs": [],
   "source": [
    "from pymatgen.core import Structure"
   ]
  },
  {
   "cell_type": "code",
   "execution_count": 3,
   "id": "19230a4a",
   "metadata": {},
   "outputs": [],
   "source": [
    "import os"
   ]
  },
  {
   "cell_type": "code",
   "execution_count": 4,
   "id": "563851d1",
   "metadata": {},
   "outputs": [],
   "source": [
    "os.chdir('/home/derejeb/data/Ca-Mn-O-P/Mn2P4O12/')"
   ]
  },
  {
   "cell_type": "code",
   "execution_count": 5,
   "id": "36332a54",
   "metadata": {},
   "outputs": [
    {
     "name": "stdout",
     "output_type": "stream",
     "text": [
      "Full Formula (Mn8 P16 O48)\n",
      "Reduced Formula: Mn(PO3)2\n",
      "abc   :  12.065000   8.467800  10.170200\n",
      "angles:  90.000000 119.290000  90.000000\n",
      "Sites (72)\n",
      "  #  SP          a        b        c\n",
      "---  ----  -------  -------  -------\n",
      "  0  Mn2+  0.25     0.75     0\n",
      "  1  Mn2+  0.75     0.75     0.5\n",
      "  2  Mn2+  0.75     0.25     0\n",
      "  3  Mn2+  0.25     0.25     0.5\n",
      "  4  Mn2+  0        0.54316  0.75\n",
      "  5  Mn2+  0        0.45684  0.25\n",
      "  6  Mn2+  0.5      0.04316  0.75\n",
      "  7  Mn2+  0.5      0.95684  0.25\n",
      "  8  P5+   0.30676  0.49454  0.80556\n",
      "  9  P5+   0.69324  0.49454  0.69444\n",
      " 10  P5+   0.69324  0.50546  0.19444\n",
      " 11  P5+   0.30676  0.50546  0.30556\n",
      " 12  P5+   0.80676  0.99454  0.80556\n",
      " 13  P5+   0.19324  0.99454  0.69444\n",
      " 14  P5+   0.19324  0.00546  0.19444\n",
      " 15  P5+   0.80676  0.00546  0.30556\n",
      " 16  P5+   0.4908   0.26724  0.02294\n",
      " 17  P5+   0.5092   0.26724  0.47706\n",
      " 18  P5+   0.5092   0.73276  0.97706\n",
      " 19  P5+   0.4908   0.73276  0.52294\n",
      " 20  P5+   0.9908   0.76724  0.02294\n",
      " 21  P5+   0.0092   0.76724  0.47706\n",
      " 22  P5+   0.0092   0.23276  0.97706\n",
      " 23  P5+   0.9908   0.23276  0.52294\n",
      " 24  O2-   0.4186   0.61693  0.84371\n",
      " 25  O2-   0.5814   0.61693  0.65629\n",
      " 26  O2-   0.5814   0.38307  0.15629\n",
      " 27  O2-   0.4186   0.38307  0.34371\n",
      " 28  O2-   0.9186   0.11693  0.84371\n",
      " 29  O2-   0.0814   0.11693  0.65629\n",
      " 30  O2-   0.0814   0.88307  0.15629\n",
      " 31  O2-   0.9186   0.88307  0.34371\n",
      " 32  O2-   0.36519  0.37013  0.93979\n",
      " 33  O2-   0.63481  0.37013  0.56021\n",
      " 34  O2-   0.63481  0.62987  0.06021\n",
      " 35  O2-   0.36519  0.62987  0.43979\n",
      " 36  O2-   0.86519  0.87013  0.93979\n",
      " 37  O2-   0.13481  0.87013  0.56021\n",
      " 38  O2-   0.13481  0.12987  0.06021\n",
      " 39  O2-   0.86519  0.12987  0.43979\n",
      " 40  O2-   0.27326  0.42162  0.66041\n",
      " 41  O2-   0.72674  0.42162  0.83959\n",
      " 42  O2-   0.72674  0.57838  0.33959\n",
      " 43  O2-   0.27326  0.57838  0.16041\n",
      " 44  O2-   0.77326  0.92162  0.66041\n",
      " 45  O2-   0.22674  0.92162  0.83959\n",
      " 46  O2-   0.22674  0.07838  0.33959\n",
      " 47  O2-   0.77326  0.07838  0.16041\n",
      " 48  O2-   0.20407  0.57644  0.82236\n",
      " 49  O2-   0.79593  0.57644  0.67764\n",
      " 50  O2-   0.79593  0.42356  0.17764\n",
      " 51  O2-   0.20407  0.42356  0.32236\n",
      " 52  O2-   0.70407  0.07644  0.82236\n",
      " 53  O2-   0.29593  0.07644  0.67764\n",
      " 54  O2-   0.29593  0.92356  0.17764\n",
      " 55  O2-   0.70407  0.92356  0.32236\n",
      " 56  O2-   0.04543  0.74215  0.91963\n",
      " 57  O2-   0.95457  0.74215  0.58037\n",
      " 58  O2-   0.95457  0.25785  0.08037\n",
      " 59  O2-   0.04543  0.25785  0.41963\n",
      " 60  O2-   0.54543  0.24215  0.91963\n",
      " 61  O2-   0.45457  0.24215  0.58037\n",
      " 62  O2-   0.45457  0.75785  0.08037\n",
      " 63  O2-   0.54543  0.75785  0.41963\n",
      " 64  O2-   0.03824  0.37023  0.91234\n",
      " 65  O2-   0.96176  0.37023  0.58766\n",
      " 66  O2-   0.96176  0.62977  0.08766\n",
      " 67  O2-   0.03824  0.62977  0.41234\n",
      " 68  O2-   0.53824  0.87023  0.91234\n",
      " 69  O2-   0.46176  0.87023  0.58766\n",
      " 70  O2-   0.46176  0.12977  0.08766\n",
      " 71  O2-   0.53824  0.12977  0.41234\n"
     ]
    }
   ],
   "source": [
    "structure = Structure.from_file(\"EntryWithCollCode412558.cif\")\n",
    "print(structure)"
   ]
  },
  {
   "cell_type": "code",
   "execution_count": 6,
   "id": "be4ce28c",
   "metadata": {},
   "outputs": [
    {
     "name": "stdout",
     "output_type": "stream",
     "text": [
      "Full Formula (Mn4 P8 O24)\n",
      "Reduced Formula: Mn(PO3)2\n",
      "abc   :   7.370004   7.370004   9.885327\n",
      "angles:  99.121811 109.485298 109.873934\n",
      "Sites (36)\n",
      "  #  SP          a        b        c\n",
      "---  ----  -------  -------  -------\n",
      "  0  Mn2+  0        0.5      1\n",
      "  1  Mn2+  1        1        0.5\n",
      "  2  Mn2+  0.20684  0.45684  0.75\n",
      "  3  Mn2+  0.79316  0.54316  0.25\n",
      "  4  O2-   0.80818  0.80167  0.84371\n",
      "  5  O2-   0.45796  0.96447  0.65629\n",
      "  6  O2-   0.19182  0.19833  0.15629\n",
      "  7  O2-   0.54204  0.03553  0.34371\n",
      "  8  O2-   0.20447  0.99506  0.93979\n",
      "  9  O2-   0.55527  0.26468  0.56021\n",
      " 10  O2-   0.79553  0.00494  0.06021\n",
      " 11  O2-   0.44473  0.73532  0.43979\n",
      " 12  O2-   0.96553  0.85164  0.66041\n",
      " 13  O2-   0.69123  0.30512  0.83959\n",
      " 14  O2-   0.03447  0.14836  0.33959\n",
      " 15  O2-   0.30877  0.69488  0.16041\n",
      " 16  O2-   0.04185  0.62763  0.82236\n",
      " 17  O2-   0.30527  0.21949  0.67764\n",
      " 18  O2-   0.95815  0.37237  0.17764\n",
      " 19  O2-   0.69473  0.78051  0.32236\n",
      " 20  O2-   0.13205  0.30328  0.91963\n",
      " 21  O2-   0.88365  0.21242  0.58037\n",
      " 22  O2-   0.86795  0.69672  0.08037\n",
      " 23  O2-   0.11635  0.78758  0.41963\n",
      " 24  O2-   0.50387  0.66801  0.91234\n",
      " 25  O2-   0.25567  0.59153  0.58766\n",
      " 26  O2-   0.49613  0.33199  0.08766\n",
      " 27  O2-   0.74433  0.40847  0.41234\n",
      " 28  P5+   0.00426  0.81222  0.80556\n",
      " 29  P5+   0.50666  0.1987   0.69444\n",
      " 30  P5+   0.99574  0.18778  0.19444\n",
      " 31  P5+   0.49334  0.8013   0.30556\n",
      " 32  P5+   0.2649   0.22356  0.02294\n",
      " 33  P5+   0.70062  0.24196  0.47706\n",
      " 34  P5+   0.7351   0.77644  0.97706\n",
      " 35  P5+   0.29938  0.75804  0.52294\n"
     ]
    }
   ],
   "source": [
    "from pymatgen.core.composition import Composition\n",
    "from pymatgen.core.lattice import Lattice\n",
    "from pymatgen.core.operations import SymmOp\n",
    "from pymatgen.core.periodic_table import Element, Species\n",
    "from pymatgen.core.structure import (\n",
    "    IMolecule,\n",
    "    IStructure,\n",
    "    Molecule,\n",
    "    Structure,\n",
    "    StructureError,\n",
    ")\n",
    "\n",
    "s = structure.get_primitive_structure()\n",
    "print(s)"
   ]
  },
  {
   "cell_type": "code",
   "execution_count": 7,
   "id": "b73e4db1",
   "metadata": {},
   "outputs": [
    {
     "name": "stderr",
     "output_type": "stream",
     "text": [
      "/apps/anaconda/envs/pymatgen/lib/python3.9/site-packages/pymatgen/io/vasp/inputs.py:1751: UserWarning: Ignoring unknown variable type SHA256\n",
      "  warnings.warn(\"Ignoring unknown variable type %s\" % key)\n",
      "/apps/anaconda/envs/pymatgen/lib/python3.9/site-packages/pymatgen/io/vasp/inputs.py:1751: UserWarning: Ignoring unknown variable type COPYR\n",
      "  warnings.warn(\"Ignoring unknown variable type %s\" % key)\n",
      "/apps/anaconda/envs/pymatgen/lib/python3.9/site-packages/pymatgen/io/vasp/sets.py:129: BadInputSetWarning: POTCAR data with symbol Mn_pv is not known by pymatgen to                    correspond with the selected potcar_functional PBE. This POTCAR                    is known to correspond with functionals ['PBE_54', 'unvie_PBE_52', 'PBE_52']. Please verify that                    you are using the right POTCARs!\n",
      "  warnings.warn(\n",
      "/apps/anaconda/envs/pymatgen/lib/python3.9/site-packages/pymatgen/io/vasp/sets.py:129: BadInputSetWarning: POTCAR data with symbol P is not known by pymatgen to                    correspond with the selected potcar_functional PBE. This POTCAR                    is known to correspond with functionals ['PBE_54', 'unvie_PBE_52', 'PBE_52']. Please verify that                    you are using the right POTCARs!\n",
      "  warnings.warn(\n",
      "/apps/anaconda/envs/pymatgen/lib/python3.9/site-packages/pymatgen/io/vasp/sets.py:129: BadInputSetWarning: POTCAR data with symbol O is not known by pymatgen to                    correspond with the selected potcar_functional PBE. This POTCAR                    is known to correspond with functionals ['PBE_54', 'unvie_PBE_52', 'PBE_52']. Please verify that                    you are using the right POTCARs!\n",
      "  warnings.warn(\n"
     ]
    }
   ],
   "source": [
    "from pymatgen.core.structure import Element\n",
    "from pymatgen.io.vasp.sets import MPRelaxSet\n",
    "from pymatgen.io.vasp.inputs import Potcar\n",
    "#import os\n",
    "#os.chdir('/home/derejeb/data/Vasp_potcars/potcars')\n",
    "\n",
    "from pymatgen.io.vasp.sets import MPRelaxSet\n",
    "from pymatgen.io.vasp.inputs import Kpoints\n",
    "kpoints = Kpoints.automatic(32)\n",
    "relaxset = MPRelaxSet(s,user_kpoints_settings=kpoints)\n",
    "relaxset.write_input('Mn2P4O12')\n"
   ]
  },
  {
   "cell_type": "code",
   "execution_count": null,
   "id": "5611c676",
   "metadata": {},
   "outputs": [],
   "source": []
  }
 ],
 "metadata": {
  "kernelspec": {
   "display_name": "Python 3",
   "language": "python",
   "name": "python3"
  },
  "language_info": {
   "codemirror_mode": {
    "name": "ipython",
    "version": 3
   },
   "file_extension": ".py",
   "mimetype": "text/x-python",
   "name": "python",
   "nbconvert_exporter": "python",
   "pygments_lexer": "ipython3",
   "version": "3.9.4"
  }
 },
 "nbformat": 4,
 "nbformat_minor": 5
}
