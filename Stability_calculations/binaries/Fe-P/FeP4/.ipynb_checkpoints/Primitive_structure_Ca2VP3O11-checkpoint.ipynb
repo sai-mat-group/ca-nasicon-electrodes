{
 "cells": [
  {
   "cell_type": "code",
   "execution_count": 1,
   "id": "04addb5d",
   "metadata": {},
   "outputs": [],
   "source": [
    "import pymatgen"
   ]
  },
  {
   "cell_type": "code",
   "execution_count": 2,
   "id": "029437c7",
   "metadata": {},
   "outputs": [],
   "source": [
    "from pymatgen.core import Structure"
   ]
  },
  {
   "cell_type": "code",
   "execution_count": 3,
   "id": "19230a4a",
   "metadata": {},
   "outputs": [],
   "source": [
    "import os"
   ]
  },
  {
   "cell_type": "code",
   "execution_count": 4,
   "id": "563851d1",
   "metadata": {},
   "outputs": [],
   "source": [
    "os.chdir('/home/derejeb/data/Ca-Fe-O-P/FeP4/')"
   ]
  },
  {
   "cell_type": "code",
   "execution_count": 5,
   "id": "36332a54",
   "metadata": {},
   "outputs": [
    {
     "name": "stdout",
     "output_type": "stream",
     "text": [
      "Full Formula (Fe6 P24)\n",
      "Reduced Formula: FeP4\n",
      "abc   :   4.619000  13.670000   7.002000\n",
      "angles:  90.000000 101.480000  90.000000\n",
      "Sites (30)\n",
      "  #  SP         a       b       c\n",
      "---  ----  ------  ------  ------\n",
      "  0  Fe0+  0       0.5     0.5\n",
      "  1  Fe0+  0       0       0\n",
      "  2  Fe0+  0.14    0.3301  0.8809\n",
      "  3  Fe0+  0.86    0.8301  0.6191\n",
      "  4  Fe0+  0.86    0.6699  0.1191\n",
      "  5  Fe0+  0.14    0.1699  0.3809\n",
      "  6  P0+   0.1975  0.5535  0.2493\n",
      "  7  P0+   0.8025  0.0535  0.2507\n",
      "  8  P0+   0.8025  0.4465  0.7507\n",
      "  9  P0+   0.1975  0.9465  0.7493\n",
      " 10  P0+   0.3458  0.3925  0.6456\n",
      " 11  P0+   0.6542  0.8925  0.8544\n",
      " 12  P0+   0.6542  0.6075  0.3544\n",
      " 13  P0+   0.3458  0.1075  0.1456\n",
      " 14  P0+   0.2647  0.6133  0.6962\n",
      " 15  P0+   0.7353  0.1133  0.8038\n",
      " 16  P0+   0.7353  0.3867  0.3038\n",
      " 17  P0+   0.2647  0.8867  0.1962\n",
      " 18  P0+   0.3687  0.0553  0.5709\n",
      " 19  P0+   0.6313  0.5553  0.9291\n",
      " 20  P0+   0.6313  0.9447  0.4291\n",
      " 21  P0+   0.3687  0.4447  0.0709\n",
      " 22  P0+   0.9256  0.2253  0.635\n",
      " 23  P0+   0.0744  0.7253  0.865\n",
      " 24  P0+   0.0744  0.7747  0.365\n",
      " 25  P0+   0.9256  0.2747  0.135\n",
      " 26  P0+   0.4925  0.2192  0.9673\n",
      " 27  P0+   0.5075  0.7192  0.5327\n",
      " 28  P0+   0.5075  0.7808  0.0327\n",
      " 29  P0+   0.4925  0.2808  0.4673\n"
     ]
    }
   ],
   "source": [
    "structure = Structure.from_file(\"EntryWithCollCode2413.cif\")\n",
    "print(structure)"
   ]
  },
  {
   "cell_type": "code",
   "execution_count": 6,
   "id": "be4ce28c",
   "metadata": {},
   "outputs": [
    {
     "name": "stdout",
     "output_type": "stream",
     "text": [
      "Full Formula (Fe6 P24)\n",
      "Reduced Formula: FeP4\n",
      "abc   :   4.619000  13.670000   7.002000\n",
      "angles:  90.000000 101.480000  90.000000\n",
      "Sites (30)\n",
      "  #  SP         a       b       c\n",
      "---  ----  ------  ------  ------\n",
      "  0  Fe0+  0       0.5     0.5\n",
      "  1  Fe0+  0       0       0\n",
      "  2  Fe0+  0.14    0.3301  0.8809\n",
      "  3  Fe0+  0.86    0.8301  0.6191\n",
      "  4  Fe0+  0.86    0.6699  0.1191\n",
      "  5  Fe0+  0.14    0.1699  0.3809\n",
      "  6  P0+   0.1975  0.5535  0.2493\n",
      "  7  P0+   0.8025  0.0535  0.2507\n",
      "  8  P0+   0.8025  0.4465  0.7507\n",
      "  9  P0+   0.1975  0.9465  0.7493\n",
      " 10  P0+   0.3458  0.3925  0.6456\n",
      " 11  P0+   0.6542  0.8925  0.8544\n",
      " 12  P0+   0.6542  0.6075  0.3544\n",
      " 13  P0+   0.3458  0.1075  0.1456\n",
      " 14  P0+   0.2647  0.6133  0.6962\n",
      " 15  P0+   0.7353  0.1133  0.8038\n",
      " 16  P0+   0.7353  0.3867  0.3038\n",
      " 17  P0+   0.2647  0.8867  0.1962\n",
      " 18  P0+   0.3687  0.0553  0.5709\n",
      " 19  P0+   0.6313  0.5553  0.9291\n",
      " 20  P0+   0.6313  0.9447  0.4291\n",
      " 21  P0+   0.3687  0.4447  0.0709\n",
      " 22  P0+   0.9256  0.2253  0.635\n",
      " 23  P0+   0.0744  0.7253  0.865\n",
      " 24  P0+   0.0744  0.7747  0.365\n",
      " 25  P0+   0.9256  0.2747  0.135\n",
      " 26  P0+   0.4925  0.2192  0.9673\n",
      " 27  P0+   0.5075  0.7192  0.5327\n",
      " 28  P0+   0.5075  0.7808  0.0327\n",
      " 29  P0+   0.4925  0.2808  0.4673\n"
     ]
    }
   ],
   "source": [
    "from pymatgen.core.composition import Composition\n",
    "from pymatgen.core.lattice import Lattice\n",
    "from pymatgen.core.operations import SymmOp\n",
    "from pymatgen.core.periodic_table import Element, Species\n",
    "from pymatgen.core.structure import (\n",
    "    IMolecule,\n",
    "    IStructure,\n",
    "    Molecule,\n",
    "    Structure,\n",
    "    StructureError,\n",
    ")\n",
    "\n",
    "s = structure.get_primitive_structure()\n",
    "print(s)"
   ]
  },
  {
   "cell_type": "code",
   "execution_count": 7,
   "id": "b73e4db1",
   "metadata": {},
   "outputs": [
    {
     "name": "stderr",
     "output_type": "stream",
     "text": [
      "/apps/anaconda/envs/pymatgen/lib/python3.9/site-packages/pymatgen/io/vasp/inputs.py:1751: UserWarning: Ignoring unknown variable type SHA256\n",
      "  warnings.warn(\"Ignoring unknown variable type %s\" % key)\n",
      "/apps/anaconda/envs/pymatgen/lib/python3.9/site-packages/pymatgen/io/vasp/inputs.py:1751: UserWarning: Ignoring unknown variable type COPYR\n",
      "  warnings.warn(\"Ignoring unknown variable type %s\" % key)\n",
      "/apps/anaconda/envs/pymatgen/lib/python3.9/site-packages/pymatgen/io/vasp/sets.py:129: BadInputSetWarning: POTCAR data with symbol Fe_pv is not known by pymatgen to                    correspond with the selected potcar_functional PBE. This POTCAR                    is known to correspond with functionals ['PBE_52', 'unvie_PBE_52', 'PBE_54']. Please verify that                    you are using the right POTCARs!\n",
      "  warnings.warn(\n",
      "/apps/anaconda/envs/pymatgen/lib/python3.9/site-packages/pymatgen/io/vasp/sets.py:129: BadInputSetWarning: POTCAR data with symbol P is not known by pymatgen to                    correspond with the selected potcar_functional PBE. This POTCAR                    is known to correspond with functionals ['PBE_52', 'unvie_PBE_52', 'PBE_54']. Please verify that                    you are using the right POTCARs!\n",
      "  warnings.warn(\n"
     ]
    }
   ],
   "source": [
    "from pymatgen.core.structure import Element\n",
    "from pymatgen.io.vasp.sets import MPRelaxSet\n",
    "from pymatgen.io.vasp.inputs import Potcar\n",
    "#import os\n",
    "#os.chdir('/home/derejeb/data/Vasp_potcars/potcars')\n",
    "\n",
    "from pymatgen.io.vasp.sets import MPRelaxSet\n",
    "from pymatgen.io.vasp.inputs import Kpoints\n",
    "kpoints = Kpoints.automatic(32)\n",
    "relaxset = MPRelaxSet(s,user_kpoints_settings=kpoints)\n",
    "relaxset.write_input('FeP4')\n"
   ]
  },
  {
   "cell_type": "code",
   "execution_count": null,
   "id": "5611c676",
   "metadata": {},
   "outputs": [],
   "source": []
  }
 ],
 "metadata": {
  "kernelspec": {
   "display_name": "Python 3",
   "language": "python",
   "name": "python3"
  },
  "language_info": {
   "codemirror_mode": {
    "name": "ipython",
    "version": 3
   },
   "file_extension": ".py",
   "mimetype": "text/x-python",
   "name": "python",
   "nbconvert_exporter": "python",
   "pygments_lexer": "ipython3",
   "version": "3.9.4"
  }
 },
 "nbformat": 4,
 "nbformat_minor": 5
}
