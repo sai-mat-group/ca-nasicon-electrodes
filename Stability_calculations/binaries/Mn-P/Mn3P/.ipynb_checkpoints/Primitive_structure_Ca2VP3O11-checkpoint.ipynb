{
 "cells": [
  {
   "cell_type": "code",
   "execution_count": 2,
   "id": "04addb5d",
   "metadata": {},
   "outputs": [],
   "source": [
    "import pymatgen"
   ]
  },
  {
   "cell_type": "code",
   "execution_count": 3,
   "id": "029437c7",
   "metadata": {},
   "outputs": [],
   "source": [
    "from pymatgen.core import Structure"
   ]
  },
  {
   "cell_type": "code",
   "execution_count": 4,
   "id": "19230a4a",
   "metadata": {},
   "outputs": [],
   "source": [
    "import os"
   ]
  },
  {
   "cell_type": "code",
   "execution_count": 5,
   "id": "563851d1",
   "metadata": {},
   "outputs": [],
   "source": [
    "os.chdir('/home/derejeb/data/Ca-Mn-O-P/Mn3P/')"
   ]
  },
  {
   "cell_type": "code",
   "execution_count": 6,
   "id": "36332a54",
   "metadata": {},
   "outputs": [
    {
     "name": "stdout",
     "output_type": "stream",
     "text": [
      "Full Formula (Mn24 P8)\n",
      "Reduced Formula: Mn3P\n",
      "abc   :   9.181000   9.181000   4.568000\n",
      "angles:  90.000000  90.000000  90.000000\n",
      "Sites (32)\n",
      "  #  SP         a       b       c\n",
      "---  ----  ------  ------  ------\n",
      "  0  Mn0+  0.8929  0.0807  0.7721\n",
      "  1  Mn0+  0.1071  0.9193  0.7721\n",
      "  2  Mn0+  0.9193  0.8929  0.2279\n",
      "  3  Mn0+  0.0807  0.1071  0.2279\n",
      "  4  Mn0+  0.3929  0.5807  0.2721\n",
      "  5  Mn0+  0.6071  0.4193  0.2721\n",
      "  6  Mn0+  0.4193  0.3929  0.7279\n",
      "  7  Mn0+  0.5807  0.6071  0.7279\n",
      "  8  Mn0+  0.9681  0.3567  0.0137\n",
      "  9  Mn0+  0.0319  0.6433  0.0137\n",
      " 10  Mn0+  0.6433  0.9681  0.9863\n",
      " 11  Mn0+  0.3567  0.0319  0.9863\n",
      " 12  Mn0+  0.4681  0.8567  0.5137\n",
      " 13  Mn0+  0.5319  0.1433  0.5137\n",
      " 14  Mn0+  0.1433  0.4681  0.4863\n",
      " 15  Mn0+  0.8567  0.5319  0.4863\n",
      " 16  Mn0+  0.7808  0.1721  0.2469\n",
      " 17  Mn0+  0.2192  0.8279  0.2469\n",
      " 18  Mn0+  0.8279  0.7808  0.7531\n",
      " 19  Mn0+  0.1721  0.2192  0.7531\n",
      " 20  Mn0+  0.2808  0.6721  0.7469\n",
      " 21  Mn0+  0.7192  0.3279  0.7469\n",
      " 22  Mn0+  0.3279  0.2808  0.2531\n",
      " 23  Mn0+  0.6721  0.7192  0.2531\n",
      " 24  P0+   0.955   0.2935  0.512\n",
      " 25  P0+   0.045   0.7065  0.512\n",
      " 26  P0+   0.7065  0.955   0.488\n",
      " 27  P0+   0.2935  0.045   0.488\n",
      " 28  P0+   0.455   0.7935  0.012\n",
      " 29  P0+   0.545   0.2065  0.012\n",
      " 30  P0+   0.2065  0.455   0.988\n",
      " 31  P0+   0.7935  0.545   0.988\n"
     ]
    }
   ],
   "source": [
    "structure = Structure.from_file(\"EntryWithCollCode43393.cif\")\n",
    "print(structure)"
   ]
  },
  {
   "cell_type": "code",
   "execution_count": 7,
   "id": "be4ce28c",
   "metadata": {},
   "outputs": [
    {
     "name": "stdout",
     "output_type": "stream",
     "text": [
      "Full Formula (Mn12 P4)\n",
      "Reduced Formula: Mn3P\n",
      "abc   :   4.568000   6.882008   6.882008\n",
      "angles:  83.676369  70.617084  70.617084\n",
      "Sites (16)\n",
      "  #  SP         a       b       c\n",
      "---  ----  ------  ------  ------\n",
      "  0  Mn0+  0.1208  0.0264  0.1878\n",
      "  1  Mn0+  0.335   0.9736  0.8122\n",
      "  2  Mn0+  0.6914  0.1878  0.9736\n",
      "  3  Mn0+  0.8528  0.8122  0.0264\n",
      "  4  Mn0+  0.9544  0.6752  0.3886\n",
      "  5  Mn0+  0.0182  0.3248  0.6114\n",
      "  6  Mn0+  0.657   0.3886  0.3248\n",
      "  7  Mn0+  0.3704  0.6114  0.6752\n",
      "  8  Mn0+  0.5339  0.0471  0.3913\n",
      "  9  Mn0+  0.9723  0.9529  0.6087\n",
      " 10  Mn0+  0.0748  0.3913  0.9529\n",
      " 11  Mn0+  0.419   0.6087  0.0471\n",
      " 12  P0+   0.443   0.7515  0.3385\n",
      " 13  P0+   0.533   0.2485  0.6615\n",
      " 14  P0+   0.2185  0.3385  0.2485\n",
      " 15  P0+   0.8055  0.6615  0.7515\n"
     ]
    }
   ],
   "source": [
    "from pymatgen.core.composition import Composition\n",
    "from pymatgen.core.lattice import Lattice\n",
    "from pymatgen.core.operations import SymmOp\n",
    "from pymatgen.core.periodic_table import Element, Species\n",
    "from pymatgen.core.structure import (\n",
    "    IMolecule,\n",
    "    IStructure,\n",
    "    Molecule,\n",
    "    Structure,\n",
    "    StructureError,\n",
    ")\n",
    "\n",
    "s = structure.get_primitive_structure()\n",
    "print(s)"
   ]
  },
  {
   "cell_type": "code",
   "execution_count": 8,
   "id": "b73e4db1",
   "metadata": {},
   "outputs": [
    {
     "name": "stderr",
     "output_type": "stream",
     "text": [
      "/apps/anaconda/envs/pymatgen/lib/python3.9/site-packages/pymatgen/io/vasp/inputs.py:1751: UserWarning: Ignoring unknown variable type SHA256\n",
      "  warnings.warn(\"Ignoring unknown variable type %s\" % key)\n",
      "/apps/anaconda/envs/pymatgen/lib/python3.9/site-packages/pymatgen/io/vasp/inputs.py:1751: UserWarning: Ignoring unknown variable type COPYR\n",
      "  warnings.warn(\"Ignoring unknown variable type %s\" % key)\n",
      "/apps/anaconda/envs/pymatgen/lib/python3.9/site-packages/pymatgen/io/vasp/sets.py:129: BadInputSetWarning: POTCAR data with symbol Mn_pv is not known by pymatgen to                    correspond with the selected potcar_functional PBE. This POTCAR                    is known to correspond with functionals ['unvie_PBE_52', 'PBE_52', 'PBE_54']. Please verify that                    you are using the right POTCARs!\n",
      "  warnings.warn(\n",
      "/apps/anaconda/envs/pymatgen/lib/python3.9/site-packages/pymatgen/io/vasp/sets.py:129: BadInputSetWarning: POTCAR data with symbol P is not known by pymatgen to                    correspond with the selected potcar_functional PBE. This POTCAR                    is known to correspond with functionals ['unvie_PBE_52', 'PBE_52', 'PBE_54']. Please verify that                    you are using the right POTCARs!\n",
      "  warnings.warn(\n"
     ]
    }
   ],
   "source": [
    "from pymatgen.core.structure import Element\n",
    "from pymatgen.io.vasp.sets import MPRelaxSet\n",
    "from pymatgen.io.vasp.inputs import Potcar\n",
    "#import os\n",
    "#os.chdir('/home/derejeb/data/Vasp_potcars/potcars')\n",
    "\n",
    "from pymatgen.io.vasp.sets import MPRelaxSet\n",
    "from pymatgen.io.vasp.inputs import Kpoints\n",
    "kpoints = Kpoints.automatic(32)\n",
    "relaxset = MPRelaxSet(s,user_kpoints_settings=kpoints)\n",
    "relaxset.write_input('Mn3P')\n"
   ]
  },
  {
   "cell_type": "code",
   "execution_count": null,
   "id": "5611c676",
   "metadata": {},
   "outputs": [],
   "source": []
  }
 ],
 "metadata": {
  "kernelspec": {
   "display_name": "Python 3",
   "language": "python",
   "name": "python3"
  },
  "language_info": {
   "codemirror_mode": {
    "name": "ipython",
    "version": 3
   },
   "file_extension": ".py",
   "mimetype": "text/x-python",
   "name": "python",
   "nbconvert_exporter": "python",
   "pygments_lexer": "ipython3",
   "version": "3.9.4"
  }
 },
 "nbformat": 4,
 "nbformat_minor": 5
}
