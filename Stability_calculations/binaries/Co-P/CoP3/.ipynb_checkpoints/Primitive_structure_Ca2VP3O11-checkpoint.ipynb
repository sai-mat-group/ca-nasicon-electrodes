{
 "cells": [
  {
   "cell_type": "code",
   "execution_count": 1,
   "id": "04addb5d",
   "metadata": {},
   "outputs": [],
   "source": [
    "import pymatgen"
   ]
  },
  {
   "cell_type": "code",
   "execution_count": 2,
   "id": "029437c7",
   "metadata": {},
   "outputs": [],
   "source": [
    "from pymatgen.core import Structure"
   ]
  },
  {
   "cell_type": "code",
   "execution_count": 3,
   "id": "19230a4a",
   "metadata": {},
   "outputs": [],
   "source": [
    "import os"
   ]
  },
  {
   "cell_type": "code",
   "execution_count": 4,
   "id": "563851d1",
   "metadata": {},
   "outputs": [],
   "source": [
    "os.chdir('/home/derejeb/data/Ca-Co-P-O/Ca-Co-P-O/CoP3/')"
   ]
  },
  {
   "cell_type": "code",
   "execution_count": 5,
   "id": "36332a54",
   "metadata": {},
   "outputs": [
    {
     "name": "stdout",
     "output_type": "stream",
     "text": [
      "Full Formula (Co8 P24)\n",
      "Reduced Formula: CoP3\n",
      "abc   :   7.707300   7.707300   7.707300\n",
      "angles:  90.000000  90.000000  90.000000\n",
      "Sites (32)\n",
      "  #  SP         a       b       c\n",
      "---  ----  ------  ------  ------\n",
      "  0  Co0+  0.75    0.25    0.25\n",
      "  1  Co0+  0.25    0.25    0.75\n",
      "  2  Co0+  0.25    0.75    0.25\n",
      "  3  Co0+  0.75    0.75    0.75\n",
      "  4  Co0+  0.25    0.75    0.75\n",
      "  5  Co0+  0.75    0.75    0.25\n",
      "  6  Co0+  0.75    0.25    0.75\n",
      "  7  Co0+  0.25    0.25    0.25\n",
      "  8  P0+   0.8547  0       0.3482\n",
      "  9  P0+   0.1453  0       0.6518\n",
      " 10  P0+   0.1453  0       0.3482\n",
      " 11  P0+   0.8547  0       0.6518\n",
      " 12  P0+   0.3482  0.8547  0\n",
      " 13  P0+   0.6518  0.1453  0\n",
      " 14  P0+   0.3482  0.1453  0\n",
      " 15  P0+   0.6518  0.8547  0\n",
      " 16  P0+   0       0.3482  0.8547\n",
      " 17  P0+   0       0.6518  0.1453\n",
      " 18  P0+   0       0.3482  0.1453\n",
      " 19  P0+   0       0.6518  0.8547\n",
      " 20  P0+   0.3547  0.5     0.8482\n",
      " 21  P0+   0.6453  0.5     0.1518\n",
      " 22  P0+   0.6453  0.5     0.8482\n",
      " 23  P0+   0.3547  0.5     0.1518\n",
      " 24  P0+   0.8482  0.3547  0.5\n",
      " 25  P0+   0.1518  0.6453  0.5\n",
      " 26  P0+   0.8482  0.6453  0.5\n",
      " 27  P0+   0.1518  0.3547  0.5\n",
      " 28  P0+   0.5     0.8482  0.3547\n",
      " 29  P0+   0.5     0.1518  0.6453\n",
      " 30  P0+   0.5     0.8482  0.6453\n",
      " 31  P0+   0.5     0.1518  0.3547\n"
     ]
    }
   ],
   "source": [
    "structure = Structure.from_file(\"EntryWithCollCode23711.cif\")\n",
    "print(structure)"
   ]
  },
  {
   "cell_type": "code",
   "execution_count": 6,
   "id": "be4ce28c",
   "metadata": {},
   "outputs": [
    {
     "name": "stdout",
     "output_type": "stream",
     "text": [
      "Full Formula (Co4 P12)\n",
      "Reduced Formula: CoP3\n",
      "abc   :   6.674718   6.674718   6.674718\n",
      "angles: 109.471221 109.471221 109.471221\n",
      "Sites (16)\n",
      "  #  SP         a       b       c\n",
      "---  ----  ------  ------  ------\n",
      "  0  Co0+  0       0.5     0\n",
      "  1  Co0+  0.5     0.5     0.5\n",
      "  2  Co0+  0       1       0.5\n",
      "  3  Co0+  0.5     0       0\n",
      "  4  P0+   0.8547  0.5065  0.6518\n",
      "  5  P0+   0.1453  0.4935  0.3482\n",
      "  6  P0+   0.1453  0.7971  0.6518\n",
      "  7  P0+   0.8547  0.2029  0.3482\n",
      "  8  P0+   0.2029  0.3482  0.8547\n",
      "  9  P0+   0.7971  0.6518  0.1453\n",
      " 10  P0+   0.4935  0.3482  0.1453\n",
      " 11  P0+   0.5065  0.6518  0.8547\n",
      " 12  P0+   0.3482  0.1453  0.4935\n",
      " 13  P0+   0.6518  0.8547  0.5065\n",
      " 14  P0+   0.3482  0.8547  0.2029\n",
      " 15  P0+   0.6518  0.1453  0.7971\n"
     ]
    }
   ],
   "source": [
    "from pymatgen.core.composition import Composition\n",
    "from pymatgen.core.lattice import Lattice\n",
    "from pymatgen.core.operations import SymmOp\n",
    "from pymatgen.core.periodic_table import Element, Species\n",
    "from pymatgen.core.structure import (\n",
    "    IMolecule,\n",
    "    IStructure,\n",
    "    Molecule,\n",
    "    Structure,\n",
    "    StructureError,\n",
    ")\n",
    "\n",
    "s = structure.get_primitive_structure()\n",
    "print(s)"
   ]
  },
  {
   "cell_type": "code",
   "execution_count": 7,
   "id": "b73e4db1",
   "metadata": {},
   "outputs": [
    {
     "name": "stderr",
     "output_type": "stream",
     "text": [
      "/apps/anaconda/envs/pymatgen/lib/python3.9/site-packages/pymatgen/io/vasp/sets.py:519: UserWarning: Co without oxidation state is initialized low spin by default. If this is not desired, please set the spin on the magmom on the site directly to ensure correct initialization\n",
      "  warnings.warn(\"Co without oxidation state is initialized low spin by default. If this is \"\n",
      "/apps/anaconda/envs/pymatgen/lib/python3.9/site-packages/pymatgen/io/vasp/inputs.py:1751: UserWarning: Ignoring unknown variable type SHA256\n",
      "  warnings.warn(\"Ignoring unknown variable type %s\" % key)\n",
      "/apps/anaconda/envs/pymatgen/lib/python3.9/site-packages/pymatgen/io/vasp/inputs.py:1751: UserWarning: Ignoring unknown variable type COPYR\n",
      "  warnings.warn(\"Ignoring unknown variable type %s\" % key)\n",
      "/apps/anaconda/envs/pymatgen/lib/python3.9/site-packages/pymatgen/io/vasp/sets.py:129: BadInputSetWarning: POTCAR data with symbol Co is not known by pymatgen to                    correspond with the selected potcar_functional PBE. This POTCAR                    is known to correspond with functionals ['PBE_54', 'unvie_PBE_52', 'PBE_52']. Please verify that                    you are using the right POTCARs!\n",
      "  warnings.warn(\n",
      "/apps/anaconda/envs/pymatgen/lib/python3.9/site-packages/pymatgen/io/vasp/sets.py:129: BadInputSetWarning: POTCAR data with symbol P is not known by pymatgen to                    correspond with the selected potcar_functional PBE. This POTCAR                    is known to correspond with functionals ['PBE_54', 'unvie_PBE_52', 'PBE_52']. Please verify that                    you are using the right POTCARs!\n",
      "  warnings.warn(\n"
     ]
    }
   ],
   "source": [
    "from pymatgen.core.structure import Element\n",
    "from pymatgen.io.vasp.sets import MPRelaxSet\n",
    "from pymatgen.io.vasp.inputs import Potcar\n",
    "#import os\n",
    "#os.chdir('/home/derejeb/data/Vasp_potcars/potcars')\n",
    "\n",
    "from pymatgen.io.vasp.sets import MPRelaxSet\n",
    "from pymatgen.io.vasp.inputs import Kpoints\n",
    "kpoints = Kpoints.automatic(32)\n",
    "relaxset = MPRelaxSet(s,user_kpoints_settings=kpoints)\n",
    "relaxset.write_input('CoP3')\n"
   ]
  },
  {
   "cell_type": "code",
   "execution_count": null,
   "id": "5611c676",
   "metadata": {},
   "outputs": [],
   "source": []
  }
 ],
 "metadata": {
  "kernelspec": {
   "display_name": "Python 3",
   "language": "python",
   "name": "python3"
  },
  "language_info": {
   "codemirror_mode": {
    "name": "ipython",
    "version": 3
   },
   "file_extension": ".py",
   "mimetype": "text/x-python",
   "name": "python",
   "nbconvert_exporter": "python",
   "pygments_lexer": "ipython3",
   "version": "3.9.4"
  }
 },
 "nbformat": 4,
 "nbformat_minor": 5
}
