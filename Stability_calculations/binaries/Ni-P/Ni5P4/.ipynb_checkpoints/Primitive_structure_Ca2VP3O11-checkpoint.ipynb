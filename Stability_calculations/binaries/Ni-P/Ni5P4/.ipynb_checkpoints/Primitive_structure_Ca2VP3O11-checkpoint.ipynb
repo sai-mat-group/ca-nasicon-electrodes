{
 "cells": [
  {
   "cell_type": "code",
   "execution_count": 1,
   "id": "04addb5d",
   "metadata": {},
   "outputs": [],
   "source": [
    "import pymatgen"
   ]
  },
  {
   "cell_type": "code",
   "execution_count": 2,
   "id": "029437c7",
   "metadata": {},
   "outputs": [],
   "source": [
    "from pymatgen.core import Structure"
   ]
  },
  {
   "cell_type": "code",
   "execution_count": 3,
   "id": "19230a4a",
   "metadata": {},
   "outputs": [],
   "source": [
    "import os"
   ]
  },
  {
   "cell_type": "code",
   "execution_count": 4,
   "id": "563851d1",
   "metadata": {},
   "outputs": [],
   "source": [
    "os.chdir('/home/derejeb/data/Ca-Ni-P-O/Ni5P4/')"
   ]
  },
  {
   "cell_type": "code",
   "execution_count": 5,
   "id": "36332a54",
   "metadata": {},
   "outputs": [
    {
     "name": "stdout",
     "output_type": "stream",
     "text": [
      "Full Formula (Ni20 P16)\n",
      "Reduced Formula: Ni5P4\n",
      "abc   :   6.818400   6.818400  11.028800\n",
      "angles:  90.000000  90.000000 120.000000\n",
      "Sites (36)\n",
      "  #  SP            a         b        c\n",
      "---  -----  --------  --------  -------\n",
      "  0  Ni2+   0.46241   0.92482   0.5891\n",
      "  1  Ni2+   0.07518   0.53759   0.5891\n",
      "  2  Ni2+   0.46241   0.53759   0.5891\n",
      "  3  Ni2+   0.53759   0.07518   0.0891\n",
      "  4  Ni2+   0.92482   0.46241   0.0891\n",
      "  5  Ni2+   0.53759   0.46241   0.0891\n",
      "  6  Ni2+   0.79245   0.5849    0.7375\n",
      "  7  Ni2+   0.4151    0.20755   0.7375\n",
      "  8  Ni2+   0.79245   0.20755   0.7375\n",
      "  9  Ni2+   0.20755   0.4151    0.2375\n",
      " 10  Ni2+   0.5849    0.79245   0.2375\n",
      " 11  Ni2+   0.20755   0.79245   0.2375\n",
      " 12  Ni2+   0.45996   0.91992   0.87946\n",
      " 13  Ni2+   0.08008   0.54004   0.87946\n",
      " 14  Ni2+   0.45996   0.54004   0.87946\n",
      " 15  Ni2+   0.54004   0.08008   0.37946\n",
      " 16  Ni2+   0.91992   0.45996   0.37946\n",
      " 17  Ni2+   0.54004   0.45996   0.37946\n",
      " 18  Ni2+   0         0         0.7009\n",
      " 19  Ni2+   0         0         0.2009\n",
      " 20  P2.5-  0.1818    0.3636    0.7315\n",
      " 21  P2.5-  0.6364    0.8182    0.7315\n",
      " 22  P2.5-  0.1818    0.8182    0.7315\n",
      " 23  P2.5-  0.8182    0.6364    0.2315\n",
      " 24  P2.5-  0.3636    0.1818    0.2315\n",
      " 25  P2.5-  0.8182    0.1818    0.2315\n",
      " 26  P2.5-  0.8219    0.6438    0.943\n",
      " 27  P2.5-  0.3562    0.1781    0.943\n",
      " 28  P2.5-  0.8219    0.1781    0.943\n",
      " 29  P2.5-  0.1781    0.3562    0.443\n",
      " 30  P2.5-  0.6438    0.8219    0.443\n",
      " 31  P2.5-  0.1781    0.8219    0.443\n",
      " 32  P2.5-  0         0         0.5003\n",
      " 33  P2.5-  0         0         0.0003\n",
      " 34  P2.5-  0.666667  0.333333  0.5587\n",
      " 35  P2.5-  0.333333  0.666667  0.0587\n"
     ]
    },
    {
     "name": "stderr",
     "output_type": "stream",
     "text": [
      "/apps/anaconda/envs/pymatgen/lib/python3.9/site-packages/pymatgen/io/cif.py:1123: UserWarning: Issues encountered while parsing CIF: Some fractional co-ordinates rounded to ideal values to avoid issues with finite precision.\n",
      "  warnings.warn(\"Issues encountered while parsing CIF: %s\" % \"\\n\".join(self.warnings))\n"
     ]
    }
   ],
   "source": [
    "structure = Structure.from_file(\"EntryWithCollCode781.cif\")\n",
    "print(structure)"
   ]
  },
  {
   "cell_type": "code",
   "execution_count": 6,
   "id": "be4ce28c",
   "metadata": {},
   "outputs": [
    {
     "name": "stdout",
     "output_type": "stream",
     "text": [
      "Full Formula (Ni20 P16)\n",
      "Reduced Formula: Ni5P4\n",
      "abc   :   6.818400   6.818400  11.028800\n",
      "angles:  90.000000  90.000000 120.000000\n",
      "Sites (36)\n",
      "  #  SP            a         b        c\n",
      "---  -----  --------  --------  -------\n",
      "  0  Ni2+   0.46241   0.92482   0.5891\n",
      "  1  Ni2+   0.07518   0.53759   0.5891\n",
      "  2  Ni2+   0.46241   0.53759   0.5891\n",
      "  3  Ni2+   0.53759   0.07518   0.0891\n",
      "  4  Ni2+   0.92482   0.46241   0.0891\n",
      "  5  Ni2+   0.53759   0.46241   0.0891\n",
      "  6  Ni2+   0.79245   0.5849    0.7375\n",
      "  7  Ni2+   0.4151    0.20755   0.7375\n",
      "  8  Ni2+   0.79245   0.20755   0.7375\n",
      "  9  Ni2+   0.20755   0.4151    0.2375\n",
      " 10  Ni2+   0.5849    0.79245   0.2375\n",
      " 11  Ni2+   0.20755   0.79245   0.2375\n",
      " 12  Ni2+   0.45996   0.91992   0.87946\n",
      " 13  Ni2+   0.08008   0.54004   0.87946\n",
      " 14  Ni2+   0.45996   0.54004   0.87946\n",
      " 15  Ni2+   0.54004   0.08008   0.37946\n",
      " 16  Ni2+   0.91992   0.45996   0.37946\n",
      " 17  Ni2+   0.54004   0.45996   0.37946\n",
      " 18  Ni2+   0         0         0.7009\n",
      " 19  Ni2+   0         0         0.2009\n",
      " 20  P2.5-  0.1818    0.3636    0.7315\n",
      " 21  P2.5-  0.6364    0.8182    0.7315\n",
      " 22  P2.5-  0.1818    0.8182    0.7315\n",
      " 23  P2.5-  0.8182    0.6364    0.2315\n",
      " 24  P2.5-  0.3636    0.1818    0.2315\n",
      " 25  P2.5-  0.8182    0.1818    0.2315\n",
      " 26  P2.5-  0.8219    0.6438    0.943\n",
      " 27  P2.5-  0.3562    0.1781    0.943\n",
      " 28  P2.5-  0.8219    0.1781    0.943\n",
      " 29  P2.5-  0.1781    0.3562    0.443\n",
      " 30  P2.5-  0.6438    0.8219    0.443\n",
      " 31  P2.5-  0.1781    0.8219    0.443\n",
      " 32  P2.5-  0         0         0.5003\n",
      " 33  P2.5-  0         0         0.0003\n",
      " 34  P2.5-  0.666667  0.333333  0.5587\n",
      " 35  P2.5-  0.333333  0.666667  0.0587\n"
     ]
    }
   ],
   "source": [
    "from pymatgen.core.composition import Composition\n",
    "from pymatgen.core.lattice import Lattice\n",
    "from pymatgen.core.operations import SymmOp\n",
    "from pymatgen.core.periodic_table import Element, Species\n",
    "from pymatgen.core.structure import (\n",
    "    IMolecule,\n",
    "    IStructure,\n",
    "    Molecule,\n",
    "    Structure,\n",
    "    StructureError,\n",
    ")\n",
    "\n",
    "s = structure.get_primitive_structure()\n",
    "print(s)"
   ]
  },
  {
   "cell_type": "code",
   "execution_count": 7,
   "id": "b73e4db1",
   "metadata": {},
   "outputs": [
    {
     "name": "stderr",
     "output_type": "stream",
     "text": [
      "/apps/anaconda/envs/pymatgen/lib/python3.9/site-packages/pymatgen/io/vasp/inputs.py:1751: UserWarning: Ignoring unknown variable type SHA256\n",
      "  warnings.warn(\"Ignoring unknown variable type %s\" % key)\n",
      "/apps/anaconda/envs/pymatgen/lib/python3.9/site-packages/pymatgen/io/vasp/inputs.py:1751: UserWarning: Ignoring unknown variable type COPYR\n",
      "  warnings.warn(\"Ignoring unknown variable type %s\" % key)\n",
      "/apps/anaconda/envs/pymatgen/lib/python3.9/site-packages/pymatgen/io/vasp/sets.py:129: BadInputSetWarning: POTCAR data with symbol Ni_pv is not known by pymatgen to                    correspond with the selected potcar_functional PBE. This POTCAR                    is known to correspond with functionals ['PBE_52', 'unvie_PBE_52', 'PBE_54']. Please verify that                    you are using the right POTCARs!\n",
      "  warnings.warn(\n",
      "/apps/anaconda/envs/pymatgen/lib/python3.9/site-packages/pymatgen/io/vasp/sets.py:129: BadInputSetWarning: POTCAR data with symbol P is not known by pymatgen to                    correspond with the selected potcar_functional PBE. This POTCAR                    is known to correspond with functionals ['PBE_52', 'unvie_PBE_52', 'PBE_54']. Please verify that                    you are using the right POTCARs!\n",
      "  warnings.warn(\n"
     ]
    }
   ],
   "source": [
    "from pymatgen.core.structure import Element\n",
    "from pymatgen.io.vasp.sets import MPRelaxSet\n",
    "from pymatgen.io.vasp.inputs import Potcar\n",
    "#import os\n",
    "#os.chdir('/home/derejeb/data/Vasp_potcars/potcars')\n",
    "\n",
    "from pymatgen.io.vasp.sets import MPRelaxSet\n",
    "from pymatgen.io.vasp.inputs import Kpoints\n",
    "kpoints = Kpoints.automatic(32)\n",
    "relaxset = MPRelaxSet(s,user_kpoints_settings=kpoints)\n",
    "relaxset.write_input('Ni5P4')\n"
   ]
  },
  {
   "cell_type": "code",
   "execution_count": null,
   "id": "5611c676",
   "metadata": {},
   "outputs": [],
   "source": []
  }
 ],
 "metadata": {
  "kernelspec": {
   "display_name": "Python 3",
   "language": "python",
   "name": "python3"
  },
  "language_info": {
   "codemirror_mode": {
    "name": "ipython",
    "version": 3
   },
   "file_extension": ".py",
   "mimetype": "text/x-python",
   "name": "python",
   "nbconvert_exporter": "python",
   "pygments_lexer": "ipython3",
   "version": "3.9.4"
  }
 },
 "nbformat": 4,
 "nbformat_minor": 5
}
