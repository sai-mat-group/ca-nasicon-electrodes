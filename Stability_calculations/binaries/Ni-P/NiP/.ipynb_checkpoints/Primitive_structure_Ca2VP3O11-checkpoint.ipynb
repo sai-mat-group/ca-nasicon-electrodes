{
 "cells": [
  {
   "cell_type": "code",
   "execution_count": 1,
   "id": "04addb5d",
   "metadata": {},
   "outputs": [],
   "source": [
    "import pymatgen"
   ]
  },
  {
   "cell_type": "code",
   "execution_count": 2,
   "id": "029437c7",
   "metadata": {},
   "outputs": [],
   "source": [
    "from pymatgen.core import Structure"
   ]
  },
  {
   "cell_type": "code",
   "execution_count": 3,
   "id": "19230a4a",
   "metadata": {},
   "outputs": [],
   "source": [
    "import os"
   ]
  },
  {
   "cell_type": "code",
   "execution_count": 4,
   "id": "563851d1",
   "metadata": {},
   "outputs": [],
   "source": [
    "os.chdir('/home/derejeb/data/Ca-Ni-P-O/NiP/')"
   ]
  },
  {
   "cell_type": "code",
   "execution_count": 5,
   "id": "36332a54",
   "metadata": {},
   "outputs": [
    {
     "name": "stdout",
     "output_type": "stream",
     "text": [
      "Full Formula (Ni8 P8)\n",
      "Reduced Formula: NiP\n",
      "abc   :   6.050000   4.881000   6.890000\n",
      "angles:  90.000000  90.000000  90.000000\n",
      "Sites (16)\n",
      "  #  SP         a       b       c\n",
      "---  ----  ------  ------  ------\n",
      "  0  Ni2+  0.6944  0.0113  0.1039\n",
      "  1  Ni2+  0.1944  0.4887  0.8961\n",
      "  2  Ni2+  0.3056  0.5113  0.3961\n",
      "  3  Ni2+  0.8056  0.9887  0.6039\n",
      "  4  Ni2+  0.3056  0.9887  0.8961\n",
      "  5  Ni2+  0.8056  0.5113  0.1039\n",
      "  6  Ni2+  0.6944  0.4887  0.6039\n",
      "  7  Ni2+  0.1944  0.0113  0.3961\n",
      "  8  P2-   0.5571  0.1764  0.3862\n",
      "  9  P2-   0.0571  0.3236  0.6138\n",
      " 10  P2-   0.4429  0.6764  0.1138\n",
      " 11  P2-   0.9429  0.8236  0.8862\n",
      " 12  P2-   0.4429  0.8236  0.6138\n",
      " 13  P2-   0.9429  0.6764  0.3862\n",
      " 14  P2-   0.5571  0.3236  0.8862\n",
      " 15  P2-   0.0571  0.1764  0.1138\n"
     ]
    }
   ],
   "source": [
    "structure = Structure.from_file(\"EntryWithCollCode27159.cif\")\n",
    "print(structure)"
   ]
  },
  {
   "cell_type": "code",
   "execution_count": 6,
   "id": "be4ce28c",
   "metadata": {},
   "outputs": [
    {
     "name": "stdout",
     "output_type": "stream",
     "text": [
      "Full Formula (Ni8 P8)\n",
      "Reduced Formula: NiP\n",
      "abc   :   6.050000   4.881000   6.890000\n",
      "angles:  90.000000  90.000000  90.000000\n",
      "Sites (16)\n",
      "  #  SP         a       b       c\n",
      "---  ----  ------  ------  ------\n",
      "  0  Ni2+  0.6944  0.0113  0.1039\n",
      "  1  Ni2+  0.1944  0.4887  0.8961\n",
      "  2  Ni2+  0.3056  0.5113  0.3961\n",
      "  3  Ni2+  0.8056  0.9887  0.6039\n",
      "  4  Ni2+  0.3056  0.9887  0.8961\n",
      "  5  Ni2+  0.8056  0.5113  0.1039\n",
      "  6  Ni2+  0.6944  0.4887  0.6039\n",
      "  7  Ni2+  0.1944  0.0113  0.3961\n",
      "  8  P2-   0.5571  0.1764  0.3862\n",
      "  9  P2-   0.0571  0.3236  0.6138\n",
      " 10  P2-   0.4429  0.6764  0.1138\n",
      " 11  P2-   0.9429  0.8236  0.8862\n",
      " 12  P2-   0.4429  0.8236  0.6138\n",
      " 13  P2-   0.9429  0.6764  0.3862\n",
      " 14  P2-   0.5571  0.3236  0.8862\n",
      " 15  P2-   0.0571  0.1764  0.1138\n"
     ]
    }
   ],
   "source": [
    "from pymatgen.core.composition import Composition\n",
    "from pymatgen.core.lattice import Lattice\n",
    "from pymatgen.core.operations import SymmOp\n",
    "from pymatgen.core.periodic_table import Element, Species\n",
    "from pymatgen.core.structure import (\n",
    "    IMolecule,\n",
    "    IStructure,\n",
    "    Molecule,\n",
    "    Structure,\n",
    "    StructureError,\n",
    ")\n",
    "\n",
    "s = structure.get_primitive_structure()\n",
    "print(s)"
   ]
  },
  {
   "cell_type": "code",
   "execution_count": 7,
   "id": "b73e4db1",
   "metadata": {},
   "outputs": [
    {
     "name": "stderr",
     "output_type": "stream",
     "text": [
      "/apps/anaconda/envs/pymatgen/lib/python3.9/site-packages/pymatgen/io/vasp/inputs.py:1751: UserWarning: Ignoring unknown variable type SHA256\n",
      "  warnings.warn(\"Ignoring unknown variable type %s\" % key)\n",
      "/apps/anaconda/envs/pymatgen/lib/python3.9/site-packages/pymatgen/io/vasp/inputs.py:1751: UserWarning: Ignoring unknown variable type COPYR\n",
      "  warnings.warn(\"Ignoring unknown variable type %s\" % key)\n",
      "/apps/anaconda/envs/pymatgen/lib/python3.9/site-packages/pymatgen/io/vasp/sets.py:129: BadInputSetWarning: POTCAR data with symbol Ni_pv is not known by pymatgen to                    correspond with the selected potcar_functional PBE. This POTCAR                    is known to correspond with functionals ['PBE_54', 'PBE_52', 'unvie_PBE_52']. Please verify that                    you are using the right POTCARs!\n",
      "  warnings.warn(\n",
      "/apps/anaconda/envs/pymatgen/lib/python3.9/site-packages/pymatgen/io/vasp/sets.py:129: BadInputSetWarning: POTCAR data with symbol P is not known by pymatgen to                    correspond with the selected potcar_functional PBE. This POTCAR                    is known to correspond with functionals ['PBE_54', 'PBE_52', 'unvie_PBE_52']. Please verify that                    you are using the right POTCARs!\n",
      "  warnings.warn(\n"
     ]
    }
   ],
   "source": [
    "from pymatgen.core.structure import Element\n",
    "from pymatgen.io.vasp.sets import MPRelaxSet\n",
    "from pymatgen.io.vasp.inputs import Potcar\n",
    "#import os\n",
    "#os.chdir('/home/derejeb/data/Vasp_potcars/potcars')\n",
    "\n",
    "from pymatgen.io.vasp.sets import MPRelaxSet\n",
    "from pymatgen.io.vasp.inputs import Kpoints\n",
    "kpoints = Kpoints.automatic(32)\n",
    "relaxset = MPRelaxSet(s,user_kpoints_settings=kpoints)\n",
    "relaxset.write_input('NiP')\n"
   ]
  },
  {
   "cell_type": "code",
   "execution_count": null,
   "id": "5611c676",
   "metadata": {},
   "outputs": [],
   "source": []
  }
 ],
 "metadata": {
  "kernelspec": {
   "display_name": "Python 3",
   "language": "python",
   "name": "python3"
  },
  "language_info": {
   "codemirror_mode": {
    "name": "ipython",
    "version": 3
   },
   "file_extension": ".py",
   "mimetype": "text/x-python",
   "name": "python",
   "nbconvert_exporter": "python",
   "pygments_lexer": "ipython3",
   "version": "3.9.4"
  }
 },
 "nbformat": 4,
 "nbformat_minor": 5
}
