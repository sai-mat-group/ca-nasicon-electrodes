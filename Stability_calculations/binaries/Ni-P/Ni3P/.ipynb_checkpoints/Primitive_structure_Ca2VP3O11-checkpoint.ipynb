{
 "cells": [
  {
   "cell_type": "code",
   "execution_count": 1,
   "id": "04addb5d",
   "metadata": {},
   "outputs": [],
   "source": [
    "import pymatgen"
   ]
  },
  {
   "cell_type": "code",
   "execution_count": 2,
   "id": "029437c7",
   "metadata": {},
   "outputs": [],
   "source": [
    "from pymatgen.core import Structure"
   ]
  },
  {
   "cell_type": "code",
   "execution_count": 3,
   "id": "19230a4a",
   "metadata": {},
   "outputs": [],
   "source": [
    "import os"
   ]
  },
  {
   "cell_type": "code",
   "execution_count": 4,
   "id": "563851d1",
   "metadata": {},
   "outputs": [],
   "source": [
    "os.chdir('/home/derejeb/data/Ca-Ni-P-O/Ni3P/')"
   ]
  },
  {
   "cell_type": "code",
   "execution_count": 5,
   "id": "36332a54",
   "metadata": {},
   "outputs": [
    {
     "name": "stdout",
     "output_type": "stream",
     "text": [
      "Full Formula (Ni24 P8)\n",
      "Reduced Formula: Ni3P\n",
      "abc   :   8.949900   8.949900   4.385000\n",
      "angles:  90.000000  90.000000  90.000000\n",
      "Sites (32)\n",
      "  #  SP         a       b      c\n",
      "---  ----  ------  ------  -----\n",
      "  0  Ni0+  0.8868  0.0783  0.752\n",
      "  1  Ni0+  0.1132  0.9217  0.752\n",
      "  2  Ni0+  0.9217  0.8868  0.248\n",
      "  3  Ni0+  0.0783  0.1132  0.248\n",
      "  4  Ni0+  0.3868  0.5783  0.252\n",
      "  5  Ni0+  0.6132  0.4217  0.252\n",
      "  6  Ni0+  0.4217  0.3868  0.748\n",
      "  7  Ni0+  0.5783  0.6132  0.748\n",
      "  8  Ni0+  0.969   0.3651  0.028\n",
      "  9  Ni0+  0.031   0.6349  0.028\n",
      " 10  Ni0+  0.6349  0.969   0.972\n",
      " 11  Ni0+  0.3651  0.031   0.972\n",
      " 12  Ni0+  0.469   0.8651  0.528\n",
      " 13  Ni0+  0.531   0.1349  0.528\n",
      " 14  Ni0+  0.1349  0.469   0.472\n",
      " 15  Ni0+  0.8651  0.531   0.472\n",
      " 16  Ni0+  0.7799  0.1677  0.25\n",
      " 17  Ni0+  0.2201  0.8323  0.25\n",
      " 18  Ni0+  0.8323  0.7799  0.75\n",
      " 19  Ni0+  0.1677  0.2201  0.75\n",
      " 20  Ni0+  0.2799  0.6677  0.75\n",
      " 21  Ni0+  0.7201  0.3323  0.75\n",
      " 22  Ni0+  0.3323  0.2799  0.25\n",
      " 23  Ni0+  0.6677  0.7201  0.25\n",
      " 24  P0+   0.9542  0.2869  0.52\n",
      " 25  P0+   0.0458  0.7131  0.52\n",
      " 26  P0+   0.7131  0.9542  0.48\n",
      " 27  P0+   0.2869  0.0458  0.48\n",
      " 28  P0+   0.4542  0.7869  0.02\n",
      " 29  P0+   0.5458  0.2131  0.02\n",
      " 30  P0+   0.2131  0.4542  0.98\n",
      " 31  P0+   0.7869  0.5458  0.98\n"
     ]
    }
   ],
   "source": [
    "structure = Structure.from_file(\"EntryWithCollCode98373.cif\")\n",
    "print(structure)"
   ]
  },
  {
   "cell_type": "code",
   "execution_count": 6,
   "id": "be4ce28c",
   "metadata": {},
   "outputs": [
    {
     "name": "stdout",
     "output_type": "stream",
     "text": [
      "Full Formula (Ni12 P4)\n",
      "Reduced Formula: Ni3P\n",
      "abc   :   4.385000   6.697568   6.697568\n",
      "angles:  83.848197  70.891526  70.891526\n",
      "Sites (16)\n",
      "  #  SP         a       b       c\n",
      "---  ----  ------  ------  ------\n",
      "  0  Ni0+  0.1348  0.0349  0.1915\n",
      "  1  Ni0+  0.3612  0.9651  0.8085\n",
      "  2  Ni0+  0.6737  0.1915  0.9651\n",
      "  3  Ni0+  0.8303  0.8085  0.0349\n",
      "  4  Ni0+  0.941   0.6659  0.3961\n",
      "  5  Ni0+  0.003   0.3341  0.6039\n",
      "  6  Ni0+  0.6629  0.3961  0.3341\n",
      "  7  Ni0+  0.3931  0.6039  0.6659\n",
      "  8  Ni0+  0.5299  0.0524  0.3878\n",
      "  9  Ni0+  0.9701  0.9476  0.6122\n",
      " 10  Ni0+  0.0823  0.3878  0.9476\n",
      " 11  Ni0+  0.4177  0.6122  0.0524\n",
      " 12  P0+   0.4342  0.7589  0.3327\n",
      " 13  P0+   0.5258  0.2411  0.6673\n",
      " 14  P0+   0.2331  0.3327  0.2411\n",
      " 15  P0+   0.8069  0.6673  0.7589\n"
     ]
    }
   ],
   "source": [
    "from pymatgen.core.composition import Composition\n",
    "from pymatgen.core.lattice import Lattice\n",
    "from pymatgen.core.operations import SymmOp\n",
    "from pymatgen.core.periodic_table import Element, Species\n",
    "from pymatgen.core.structure import (\n",
    "    IMolecule,\n",
    "    IStructure,\n",
    "    Molecule,\n",
    "    Structure,\n",
    "    StructureError,\n",
    ")\n",
    "\n",
    "s = structure.get_primitive_structure()\n",
    "print(s)"
   ]
  },
  {
   "cell_type": "code",
   "execution_count": 7,
   "id": "b73e4db1",
   "metadata": {},
   "outputs": [
    {
     "name": "stderr",
     "output_type": "stream",
     "text": [
      "/apps/anaconda/envs/pymatgen/lib/python3.9/site-packages/pymatgen/io/vasp/inputs.py:1751: UserWarning: Ignoring unknown variable type SHA256\n",
      "  warnings.warn(\"Ignoring unknown variable type %s\" % key)\n",
      "/apps/anaconda/envs/pymatgen/lib/python3.9/site-packages/pymatgen/io/vasp/inputs.py:1751: UserWarning: Ignoring unknown variable type COPYR\n",
      "  warnings.warn(\"Ignoring unknown variable type %s\" % key)\n",
      "/apps/anaconda/envs/pymatgen/lib/python3.9/site-packages/pymatgen/io/vasp/sets.py:129: BadInputSetWarning: POTCAR data with symbol Ni_pv is not known by pymatgen to                    correspond with the selected potcar_functional PBE. This POTCAR                    is known to correspond with functionals ['unvie_PBE_52', 'PBE_54', 'PBE_52']. Please verify that                    you are using the right POTCARs!\n",
      "  warnings.warn(\n",
      "/apps/anaconda/envs/pymatgen/lib/python3.9/site-packages/pymatgen/io/vasp/sets.py:129: BadInputSetWarning: POTCAR data with symbol P is not known by pymatgen to                    correspond with the selected potcar_functional PBE. This POTCAR                    is known to correspond with functionals ['unvie_PBE_52', 'PBE_54', 'PBE_52']. Please verify that                    you are using the right POTCARs!\n",
      "  warnings.warn(\n"
     ]
    }
   ],
   "source": [
    "from pymatgen.core.structure import Element\n",
    "from pymatgen.io.vasp.sets import MPRelaxSet\n",
    "from pymatgen.io.vasp.inputs import Potcar\n",
    "#import os\n",
    "#os.chdir('/home/derejeb/data/Vasp_potcars/potcars')\n",
    "\n",
    "from pymatgen.io.vasp.sets import MPRelaxSet\n",
    "from pymatgen.io.vasp.inputs import Kpoints\n",
    "kpoints = Kpoints.automatic(32)\n",
    "relaxset = MPRelaxSet(s,user_kpoints_settings=kpoints)\n",
    "relaxset.write_input('Ni3P')\n"
   ]
  },
  {
   "cell_type": "code",
   "execution_count": null,
   "id": "5611c676",
   "metadata": {},
   "outputs": [],
   "source": []
  }
 ],
 "metadata": {
  "kernelspec": {
   "display_name": "Python 3",
   "language": "python",
   "name": "python3"
  },
  "language_info": {
   "codemirror_mode": {
    "name": "ipython",
    "version": 3
   },
   "file_extension": ".py",
   "mimetype": "text/x-python",
   "name": "python",
   "nbconvert_exporter": "python",
   "pygments_lexer": "ipython3",
   "version": "3.9.4"
  }
 },
 "nbformat": 4,
 "nbformat_minor": 5
}
