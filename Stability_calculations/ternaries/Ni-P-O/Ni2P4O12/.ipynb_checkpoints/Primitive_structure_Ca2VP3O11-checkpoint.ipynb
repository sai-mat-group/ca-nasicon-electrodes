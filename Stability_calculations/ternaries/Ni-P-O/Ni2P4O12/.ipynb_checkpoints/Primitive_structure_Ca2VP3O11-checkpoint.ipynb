{
 "cells": [
  {
   "cell_type": "code",
   "execution_count": 1,
   "id": "04addb5d",
   "metadata": {},
   "outputs": [],
   "source": [
    "import pymatgen"
   ]
  },
  {
   "cell_type": "code",
   "execution_count": 2,
   "id": "029437c7",
   "metadata": {},
   "outputs": [],
   "source": [
    "from pymatgen.core import Structure"
   ]
  },
  {
   "cell_type": "code",
   "execution_count": 3,
   "id": "19230a4a",
   "metadata": {},
   "outputs": [],
   "source": [
    "import os"
   ]
  },
  {
   "cell_type": "code",
   "execution_count": 4,
   "id": "563851d1",
   "metadata": {},
   "outputs": [],
   "source": [
    "os.chdir('/home/derejeb/data/Ca-Ni-P-O/Ni2P4O12/')"
   ]
  },
  {
   "cell_type": "code",
   "execution_count": 5,
   "id": "36332a54",
   "metadata": {},
   "outputs": [
    {
     "name": "stdout",
     "output_type": "stream",
     "text": [
      "Full Formula (Ni8 P16 O48)\n",
      "Reduced Formula: Ni(PO3)2\n",
      "abc   :  11.611000   8.218000   9.826000\n",
      "angles:  90.000000 118.410000  90.000000\n",
      "Sites (72)\n",
      "  #  SP          a        b        c\n",
      "---  ----  -------  -------  -------\n",
      "  0  Ni2+  0.25     0.75     0\n",
      "  1  Ni2+  0.75     0.75     0.5\n",
      "  2  Ni2+  0.75     0.25     0\n",
      "  3  Ni2+  0.25     0.25     0.5\n",
      "  4  Ni2+  0        0.5557   0.75\n",
      "  5  Ni2+  0        0.4443   0.25\n",
      "  6  Ni2+  0.5      0.0557   0.75\n",
      "  7  Ni2+  0.5      0.9443   0.25\n",
      "  8  P5+   0.30292  0.4928   0.80227\n",
      "  9  P5+   0.69708  0.4928   0.69773\n",
      " 10  P5+   0.69708  0.5072   0.19773\n",
      " 11  P5+   0.30292  0.5072   0.30227\n",
      " 12  P5+   0.80292  0.9928   0.80227\n",
      " 13  P5+   0.19708  0.9928   0.69773\n",
      " 14  P5+   0.19708  0.0072   0.19773\n",
      " 15  P5+   0.80292  0.0072   0.30227\n",
      " 16  P5+   0.48963  0.26148  0.02371\n",
      " 17  P5+   0.51037  0.26148  0.47629\n",
      " 18  P5+   0.51037  0.73852  0.97629\n",
      " 19  P5+   0.48963  0.73852  0.52371\n",
      " 20  P5+   0.98963  0.76148  0.02371\n",
      " 21  P5+   0.01037  0.76148  0.47629\n",
      " 22  P5+   0.01037  0.23852  0.97629\n",
      " 23  P5+   0.98963  0.23852  0.52371\n",
      " 24  O2-   0.423    0.6116   0.8446\n",
      " 25  O2-   0.577    0.6116   0.6554\n",
      " 26  O2-   0.577    0.3884   0.1554\n",
      " 27  O2-   0.423    0.3884   0.3446\n",
      " 28  O2-   0.923    0.1116   0.8446\n",
      " 29  O2-   0.077    0.1116   0.6554\n",
      " 30  O2-   0.077    0.8884   0.1554\n",
      " 31  O2-   0.923    0.8884   0.3446\n",
      " 32  O2-   0.356    0.3586   0.9348\n",
      " 33  O2-   0.644    0.3586   0.5652\n",
      " 34  O2-   0.644    0.6414   0.0652\n",
      " 35  O2-   0.356    0.6414   0.4348\n",
      " 36  O2-   0.856    0.8586   0.9348\n",
      " 37  O2-   0.144    0.8586   0.5652\n",
      " 38  O2-   0.144    0.1414   0.0652\n",
      " 39  O2-   0.856    0.1414   0.4348\n",
      " 40  O2-   0.266    0.423    0.6502\n",
      " 41  O2-   0.734    0.423    0.8498\n",
      " 42  O2-   0.734    0.577    0.3498\n",
      " 43  O2-   0.266    0.577    0.1502\n",
      " 44  O2-   0.766    0.923    0.6502\n",
      " 45  O2-   0.234    0.923    0.8498\n",
      " 46  O2-   0.234    0.077    0.3498\n",
      " 47  O2-   0.766    0.077    0.1502\n",
      " 48  O2-   0.1998   0.5841   0.8228\n",
      " 49  O2-   0.8002   0.5841   0.6772\n",
      " 50  O2-   0.8002   0.4159   0.1772\n",
      " 51  O2-   0.1998   0.4159   0.3228\n",
      " 52  O2-   0.6998   0.0841   0.8228\n",
      " 53  O2-   0.3002   0.0841   0.6772\n",
      " 54  O2-   0.3002   0.9159   0.1772\n",
      " 55  O2-   0.6998   0.9159   0.3228\n",
      " 56  O2-   0.0487   0.7422   0.9169\n",
      " 57  O2-   0.9513   0.7422   0.5831\n",
      " 58  O2-   0.9513   0.2578   0.0831\n",
      " 59  O2-   0.0487   0.2578   0.4169\n",
      " 60  O2-   0.5487   0.2422   0.9169\n",
      " 61  O2-   0.4513   0.2422   0.5831\n",
      " 62  O2-   0.4513   0.7578   0.0831\n",
      " 63  O2-   0.5487   0.7578   0.4169\n",
      " 64  O2-   0.0352   0.3817   0.9064\n",
      " 65  O2-   0.9648   0.3817   0.5936\n",
      " 66  O2-   0.9648   0.6183   0.0936\n",
      " 67  O2-   0.0352   0.6183   0.4064\n",
      " 68  O2-   0.5352   0.8817   0.9064\n",
      " 69  O2-   0.4648   0.8817   0.5936\n",
      " 70  O2-   0.4648   0.1183   0.0936\n",
      " 71  O2-   0.5352   0.1183   0.4064\n"
     ]
    }
   ],
   "source": [
    "structure = Structure.from_file(\"EntryWithCollCode409092.cif\")\n",
    "print(structure)"
   ]
  },
  {
   "cell_type": "code",
   "execution_count": 6,
   "id": "be4ce28c",
   "metadata": {},
   "outputs": [
    {
     "name": "stdout",
     "output_type": "stream",
     "text": [
      "Full Formula (Ni4 P8 O24)\n",
      "Reduced Formula: Ni(PO3)2\n",
      "abc   :   7.112504   7.112504   9.636216\n",
      "angles:  98.660812 110.005158 109.420028\n",
      "Sites (36)\n",
      "  #  SP          a        b        c\n",
      "---  ----  -------  -------  -------\n",
      "  0  Ni2+  0        0.5      0\n",
      "  1  Ni2+  0        1        0.5\n",
      "  2  Ni2+  0.1943   0.4443   0.75\n",
      "  3  Ni2+  0.8057   0.5557   0.25\n",
      "  4  O2-   0.81     0.8114   0.8446\n",
      "  5  O2-   0.4668   0.9654   0.6554\n",
      "  6  O2-   0.19     0.1886   0.1554\n",
      "  7  O2-   0.5332   0.0346   0.3446\n",
      "  8  O2-   0.2202   0.9974   0.9348\n",
      "  9  O2-   0.5626   0.2854   0.5652\n",
      " 10  O2-   0.7798   0.0026   0.0652\n",
      " 11  O2-   0.4374   0.7146   0.4348\n",
      " 12  O2-   0.9612   0.843    0.6502\n",
      " 13  O2-   0.6928   0.311    0.8498\n",
      " 14  O2-   0.0388   0.157    0.3498\n",
      " 15  O2-   0.3072   0.689    0.1502\n",
      " 16  O2-   0.0389   0.6157   0.8228\n",
      " 17  O2-   0.2929   0.2161   0.6772\n",
      " 18  O2-   0.9611   0.3843   0.1772\n",
      " 19  O2-   0.7071   0.7839   0.3228\n",
      " 20  O2-   0.126    0.3065   0.9169\n",
      " 21  O2-   0.8896   0.2091   0.5831\n",
      " 22  O2-   0.874    0.6935   0.0831\n",
      " 23  O2-   0.1104   0.7909   0.4169\n",
      " 24  O2-   0.4895   0.6535   0.9064\n",
      " 25  O2-   0.2471   0.5831   0.5936\n",
      " 26  O2-   0.5105   0.3465   0.0936\n",
      " 27  O2-   0.7529   0.4169   0.4064\n",
      " 28  P5+   0.00655  0.81012  0.80227\n",
      " 29  P5+   0.50785  0.20428  0.69773\n",
      " 30  P5+   0.99345  0.18988  0.19773\n",
      " 31  P5+   0.49215  0.79572  0.30227\n",
      " 32  P5+   0.2726   0.22815  0.02371\n",
      " 33  P5+   0.70444  0.24889  0.47629\n",
      " 34  P5+   0.7274   0.77185  0.97629\n",
      " 35  P5+   0.29556  0.75111  0.52371\n"
     ]
    }
   ],
   "source": [
    "from pymatgen.core.composition import Composition\n",
    "from pymatgen.core.lattice import Lattice\n",
    "from pymatgen.core.operations import SymmOp\n",
    "from pymatgen.core.periodic_table import Element, Species\n",
    "from pymatgen.core.structure import (\n",
    "    IMolecule,\n",
    "    IStructure,\n",
    "    Molecule,\n",
    "    Structure,\n",
    "    StructureError,\n",
    ")\n",
    "\n",
    "s = structure.get_primitive_structure()\n",
    "print(s)"
   ]
  },
  {
   "cell_type": "code",
   "execution_count": 7,
   "id": "b73e4db1",
   "metadata": {},
   "outputs": [
    {
     "name": "stderr",
     "output_type": "stream",
     "text": [
      "/apps/anaconda/envs/pymatgen/lib/python3.9/site-packages/pymatgen/io/vasp/inputs.py:1751: UserWarning: Ignoring unknown variable type SHA256\n",
      "  warnings.warn(\"Ignoring unknown variable type %s\" % key)\n",
      "/apps/anaconda/envs/pymatgen/lib/python3.9/site-packages/pymatgen/io/vasp/inputs.py:1751: UserWarning: Ignoring unknown variable type COPYR\n",
      "  warnings.warn(\"Ignoring unknown variable type %s\" % key)\n",
      "/apps/anaconda/envs/pymatgen/lib/python3.9/site-packages/pymatgen/io/vasp/sets.py:129: BadInputSetWarning: POTCAR data with symbol Ni_pv is not known by pymatgen to                    correspond with the selected potcar_functional PBE. This POTCAR                    is known to correspond with functionals ['unvie_PBE_52', 'PBE_54', 'PBE_52']. Please verify that                    you are using the right POTCARs!\n",
      "  warnings.warn(\n",
      "/apps/anaconda/envs/pymatgen/lib/python3.9/site-packages/pymatgen/io/vasp/sets.py:129: BadInputSetWarning: POTCAR data with symbol P is not known by pymatgen to                    correspond with the selected potcar_functional PBE. This POTCAR                    is known to correspond with functionals ['unvie_PBE_52', 'PBE_54', 'PBE_52']. Please verify that                    you are using the right POTCARs!\n",
      "  warnings.warn(\n",
      "/apps/anaconda/envs/pymatgen/lib/python3.9/site-packages/pymatgen/io/vasp/sets.py:129: BadInputSetWarning: POTCAR data with symbol O is not known by pymatgen to                    correspond with the selected potcar_functional PBE. This POTCAR                    is known to correspond with functionals ['unvie_PBE_52', 'PBE_54', 'PBE_52']. Please verify that                    you are using the right POTCARs!\n",
      "  warnings.warn(\n"
     ]
    }
   ],
   "source": [
    "from pymatgen.core.structure import Element\n",
    "from pymatgen.io.vasp.sets import MPRelaxSet\n",
    "from pymatgen.io.vasp.inputs import Potcar\n",
    "#import os\n",
    "#os.chdir('/home/derejeb/data/Vasp_potcars/potcars')\n",
    "\n",
    "from pymatgen.io.vasp.sets import MPRelaxSet\n",
    "from pymatgen.io.vasp.inputs import Kpoints\n",
    "kpoints = Kpoints.automatic(32)\n",
    "relaxset = MPRelaxSet(s,user_kpoints_settings=kpoints)\n",
    "relaxset.write_input('Ni2P4O12')\n"
   ]
  },
  {
   "cell_type": "code",
   "execution_count": null,
   "id": "5611c676",
   "metadata": {},
   "outputs": [],
   "source": []
  }
 ],
 "metadata": {
  "kernelspec": {
   "display_name": "Python 3",
   "language": "python",
   "name": "python3"
  },
  "language_info": {
   "codemirror_mode": {
    "name": "ipython",
    "version": 3
   },
   "file_extension": ".py",
   "mimetype": "text/x-python",
   "name": "python",
   "nbconvert_exporter": "python",
   "pygments_lexer": "ipython3",
   "version": "3.9.4"
  }
 },
 "nbformat": 4,
 "nbformat_minor": 5
}
