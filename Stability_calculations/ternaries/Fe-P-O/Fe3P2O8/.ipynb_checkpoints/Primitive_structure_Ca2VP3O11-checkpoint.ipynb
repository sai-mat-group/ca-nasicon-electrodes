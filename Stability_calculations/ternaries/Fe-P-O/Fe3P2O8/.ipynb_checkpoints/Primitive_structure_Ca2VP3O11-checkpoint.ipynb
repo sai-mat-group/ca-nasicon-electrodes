{
 "cells": [
  {
   "cell_type": "code",
   "execution_count": 1,
   "id": "04addb5d",
   "metadata": {},
   "outputs": [],
   "source": [
    "import pymatgen"
   ]
  },
  {
   "cell_type": "code",
   "execution_count": 2,
   "id": "029437c7",
   "metadata": {},
   "outputs": [],
   "source": [
    "from pymatgen.core import Structure"
   ]
  },
  {
   "cell_type": "code",
   "execution_count": 3,
   "id": "19230a4a",
   "metadata": {},
   "outputs": [],
   "source": [
    "import os"
   ]
  },
  {
   "cell_type": "code",
   "execution_count": 4,
   "id": "563851d1",
   "metadata": {},
   "outputs": [],
   "source": [
    "os.chdir('/home/derejeb/data/Ca-Fe-O-P/Fe3P2O8/')"
   ]
  },
  {
   "cell_type": "code",
   "execution_count": 5,
   "id": "36332a54",
   "metadata": {},
   "outputs": [
    {
     "name": "stdout",
     "output_type": "stream",
     "text": [
      "Full Formula (Fe6 P4 O16)\n",
      "Reduced Formula: Fe3(PO4)2\n",
      "abc   :   6.013700   4.772700  10.405200\n",
      "angles:  90.000000  90.944000  90.000000\n",
      "Sites (26)\n",
      "  #  SP         a       b       c\n",
      "---  ----  ------  ------  ------\n",
      "  0  Fe2+  0.5     0.5     0.5\n",
      "  1  Fe2+  0.5     0       0\n",
      "  2  Fe2+  0.2375  0.5152  0.7821\n",
      "  3  Fe2+  0.7625  0.0152  0.7179\n",
      "  4  Fe2+  0.7625  0.4848  0.2179\n",
      "  5  Fe2+  0.2375  0.9848  0.2821\n",
      "  6  P5+   0.2602  0.0673  0.6005\n",
      "  7  P5+   0.7398  0.5673  0.8995\n",
      "  8  P5+   0.7398  0.9327  0.3995\n",
      "  9  P5+   0.2602  0.4327  0.1005\n",
      " 10  O2-   0.2778  0.7453  0.6042\n",
      " 11  O2-   0.7222  0.2453  0.8958\n",
      " 12  O2-   0.7222  0.2547  0.3958\n",
      " 13  O2-   0.2778  0.7547  0.1042\n",
      " 14  O2-   0.2533  0.319   0.9638\n",
      " 15  O2-   0.7467  0.819   0.5362\n",
      " 16  O2-   0.7467  0.681   0.0362\n",
      " 17  O2-   0.2533  0.181   0.4638\n",
      " 18  O2-   0.0716  0.1755  0.682\n",
      " 19  O2-   0.9284  0.6755  0.818\n",
      " 20  O2-   0.9284  0.8245  0.318\n",
      " 21  O2-   0.0716  0.3245  0.182\n",
      " 22  O2-   0.468   0.2148  0.6627\n",
      " 23  O2-   0.532   0.7148  0.8373\n",
      " 24  O2-   0.532   0.7852  0.3373\n",
      " 25  O2-   0.468   0.2852  0.1627\n"
     ]
    }
   ],
   "source": [
    "structure = Structure.from_file(\"EntryWithCollCode72050.cif\")\n",
    "print(structure)"
   ]
  },
  {
   "cell_type": "code",
   "execution_count": 6,
   "id": "be4ce28c",
   "metadata": {},
   "outputs": [
    {
     "name": "stdout",
     "output_type": "stream",
     "text": [
      "Full Formula (Fe6 P4 O16)\n",
      "Reduced Formula: Fe3(PO4)2\n",
      "abc   :   6.013700   4.772700  10.405200\n",
      "angles:  90.000000  90.944000  90.000000\n",
      "Sites (26)\n",
      "  #  SP         a       b       c\n",
      "---  ----  ------  ------  ------\n",
      "  0  Fe2+  0.5     0.5     0.5\n",
      "  1  Fe2+  0.5     0       0\n",
      "  2  Fe2+  0.2375  0.5152  0.7821\n",
      "  3  Fe2+  0.7625  0.0152  0.7179\n",
      "  4  Fe2+  0.7625  0.4848  0.2179\n",
      "  5  Fe2+  0.2375  0.9848  0.2821\n",
      "  6  P5+   0.2602  0.0673  0.6005\n",
      "  7  P5+   0.7398  0.5673  0.8995\n",
      "  8  P5+   0.7398  0.9327  0.3995\n",
      "  9  P5+   0.2602  0.4327  0.1005\n",
      " 10  O2-   0.2778  0.7453  0.6042\n",
      " 11  O2-   0.7222  0.2453  0.8958\n",
      " 12  O2-   0.7222  0.2547  0.3958\n",
      " 13  O2-   0.2778  0.7547  0.1042\n",
      " 14  O2-   0.2533  0.319   0.9638\n",
      " 15  O2-   0.7467  0.819   0.5362\n",
      " 16  O2-   0.7467  0.681   0.0362\n",
      " 17  O2-   0.2533  0.181   0.4638\n",
      " 18  O2-   0.0716  0.1755  0.682\n",
      " 19  O2-   0.9284  0.6755  0.818\n",
      " 20  O2-   0.9284  0.8245  0.318\n",
      " 21  O2-   0.0716  0.3245  0.182\n",
      " 22  O2-   0.468   0.2148  0.6627\n",
      " 23  O2-   0.532   0.7148  0.8373\n",
      " 24  O2-   0.532   0.7852  0.3373\n",
      " 25  O2-   0.468   0.2852  0.1627\n"
     ]
    }
   ],
   "source": [
    "from pymatgen.core.composition import Composition\n",
    "from pymatgen.core.lattice import Lattice\n",
    "from pymatgen.core.operations import SymmOp\n",
    "from pymatgen.core.periodic_table import Element, Species\n",
    "from pymatgen.core.structure import (\n",
    "    IMolecule,\n",
    "    IStructure,\n",
    "    Molecule,\n",
    "    Structure,\n",
    "    StructureError,\n",
    ")\n",
    "\n",
    "s = structure.get_primitive_structure()\n",
    "print(s)"
   ]
  },
  {
   "cell_type": "code",
   "execution_count": 7,
   "id": "b73e4db1",
   "metadata": {},
   "outputs": [
    {
     "name": "stderr",
     "output_type": "stream",
     "text": [
      "/apps/anaconda/envs/pymatgen/lib/python3.9/site-packages/pymatgen/io/vasp/inputs.py:1751: UserWarning: Ignoring unknown variable type SHA256\n",
      "  warnings.warn(\"Ignoring unknown variable type %s\" % key)\n",
      "/apps/anaconda/envs/pymatgen/lib/python3.9/site-packages/pymatgen/io/vasp/inputs.py:1751: UserWarning: Ignoring unknown variable type COPYR\n",
      "  warnings.warn(\"Ignoring unknown variable type %s\" % key)\n",
      "/apps/anaconda/envs/pymatgen/lib/python3.9/site-packages/pymatgen/io/vasp/sets.py:129: BadInputSetWarning: POTCAR data with symbol Fe_pv is not known by pymatgen to                    correspond with the selected potcar_functional PBE. This POTCAR                    is known to correspond with functionals ['PBE_52', 'PBE_54', 'unvie_PBE_52']. Please verify that                    you are using the right POTCARs!\n",
      "  warnings.warn(\n",
      "/apps/anaconda/envs/pymatgen/lib/python3.9/site-packages/pymatgen/io/vasp/sets.py:129: BadInputSetWarning: POTCAR data with symbol P is not known by pymatgen to                    correspond with the selected potcar_functional PBE. This POTCAR                    is known to correspond with functionals ['PBE_52', 'PBE_54', 'unvie_PBE_52']. Please verify that                    you are using the right POTCARs!\n",
      "  warnings.warn(\n",
      "/apps/anaconda/envs/pymatgen/lib/python3.9/site-packages/pymatgen/io/vasp/sets.py:129: BadInputSetWarning: POTCAR data with symbol O is not known by pymatgen to                    correspond with the selected potcar_functional PBE. This POTCAR                    is known to correspond with functionals ['PBE_52', 'PBE_54', 'unvie_PBE_52']. Please verify that                    you are using the right POTCARs!\n",
      "  warnings.warn(\n"
     ]
    }
   ],
   "source": [
    "from pymatgen.core.structure import Element\n",
    "from pymatgen.io.vasp.sets import MPRelaxSet\n",
    "from pymatgen.io.vasp.inputs import Potcar\n",
    "#import os\n",
    "#os.chdir('/home/derejeb/data/Vasp_potcars/potcars')\n",
    "\n",
    "from pymatgen.io.vasp.sets import MPRelaxSet\n",
    "from pymatgen.io.vasp.inputs import Kpoints\n",
    "kpoints = Kpoints.automatic(32)\n",
    "relaxset = MPRelaxSet(s,user_kpoints_settings=kpoints)\n",
    "relaxset.write_input('Fe3P2O8')\n"
   ]
  },
  {
   "cell_type": "code",
   "execution_count": null,
   "id": "5611c676",
   "metadata": {},
   "outputs": [],
   "source": []
  }
 ],
 "metadata": {
  "kernelspec": {
   "display_name": "Python 3",
   "language": "python",
   "name": "python3"
  },
  "language_info": {
   "codemirror_mode": {
    "name": "ipython",
    "version": 3
   },
   "file_extension": ".py",
   "mimetype": "text/x-python",
   "name": "python",
   "nbconvert_exporter": "python",
   "pygments_lexer": "ipython3",
   "version": "3.9.4"
  }
 },
 "nbformat": 4,
 "nbformat_minor": 5
}
