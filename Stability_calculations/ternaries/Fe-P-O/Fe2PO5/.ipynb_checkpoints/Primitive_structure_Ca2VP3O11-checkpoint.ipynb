{
 "cells": [
  {
   "cell_type": "code",
   "execution_count": 1,
   "id": "04addb5d",
   "metadata": {},
   "outputs": [],
   "source": [
    "import pymatgen"
   ]
  },
  {
   "cell_type": "code",
   "execution_count": 2,
   "id": "029437c7",
   "metadata": {},
   "outputs": [],
   "source": [
    "from pymatgen.core import Structure"
   ]
  },
  {
   "cell_type": "code",
   "execution_count": 3,
   "id": "19230a4a",
   "metadata": {},
   "outputs": [],
   "source": [
    "import os"
   ]
  },
  {
   "cell_type": "code",
   "execution_count": 4,
   "id": "563851d1",
   "metadata": {},
   "outputs": [],
   "source": [
    "os.chdir('/home/derejeb/data/Ca-Fe-O-P/Fe2PO5/')"
   ]
  },
  {
   "cell_type": "code",
   "execution_count": 4,
   "id": "36332a54",
   "metadata": {},
   "outputs": [
    {
     "name": "stdout",
     "output_type": "stream",
     "text": [
      "Full Formula (Fe8 P4 O20)\n",
      "Reduced Formula: Fe2PO5\n",
      "abc   :   5.336000   5.336000  12.457000\n",
      "angles:  90.000000  90.000000  90.000000\n",
      "Sites (32)\n",
      "  #  SP          a      b       c\n",
      "---  ------  -----  -----  ------\n",
      "  0  Fe2.5+  0.25   0.75   0.75\n",
      "  1  Fe2.5+  0      0.5    0.5\n",
      "  2  Fe2.5+  0      0      0.5\n",
      "  3  Fe2.5+  0.75   0.75   0.75\n",
      "  4  Fe2.5+  0.75   0.25   0.25\n",
      "  5  Fe2.5+  0.25   0.25   0.25\n",
      "  6  Fe2.5+  0.5    0      0\n",
      "  7  Fe2.5+  0.5    0.5    0\n",
      "  8  P5+     0      0.75   0.125\n",
      "  9  P5+     0      0.25   0.875\n",
      " 10  P5+     0.5    0.25   0.625\n",
      " 11  P5+     0.5    0.75   0.375\n",
      " 12  O2-     0.745  0.75   0.4425\n",
      " 13  O2-     0      0.995  0.1925\n",
      " 14  O2-     0      0.505  0.1925\n",
      " 15  O2-     0.255  0.75   0.4425\n",
      " 16  O2-     0.255  0.25   0.5575\n",
      " 17  O2-     0      0.005  0.8075\n",
      " 18  O2-     0      0.495  0.8075\n",
      " 19  O2-     0.745  0.25   0.5575\n",
      " 20  O2-     0.245  0.25   0.9425\n",
      " 21  O2-     0.5    0.495  0.6925\n",
      " 22  O2-     0.5    0.005  0.6925\n",
      " 23  O2-     0.755  0.25   0.9425\n",
      " 24  O2-     0.755  0.75   0.0575\n",
      " 25  O2-     0.5    0.505  0.3075\n",
      " 26  O2-     0.5    0.995  0.3075\n",
      " 27  O2-     0.245  0.75   0.0575\n",
      " 28  O2-     0.5    0.75   0.875\n",
      " 29  O2-     0      0.75   0.625\n",
      " 30  O2-     0.5    0.25   0.125\n",
      " 31  O2-     0      0.25   0.375\n"
     ]
    }
   ],
   "source": [
    "structure = Structure.from_file(\"EntryWithCollCode80554.cif\")\n",
    "print(structure)"
   ]
  },
  {
   "cell_type": "code",
   "execution_count": 5,
   "id": "be4ce28c",
   "metadata": {},
   "outputs": [
    {
     "name": "stdout",
     "output_type": "stream",
     "text": [
      "Full Formula (Fe4 P2 O10)\n",
      "Reduced Formula: Fe2PO5\n",
      "abc   :   5.336000   5.336000   7.282215\n",
      "angles: 111.492044 111.492044  90.000000\n",
      "Sites (16)\n",
      "  #  SP           a       b      c\n",
      "---  ------  ------  ------  -----\n",
      "  0  Fe2.5+  1       0.5     0.5\n",
      "  1  Fe2.5+  0.5     0       0\n",
      "  2  Fe2.5+  0.5     0.5     0\n",
      "  3  Fe2.5+  0.5     0.5     0.5\n",
      "  4  O2-     0.1875  0.1925  0.885\n",
      "  5  O2-     0.1925  0.1875  0.385\n",
      "  6  O2-     0.1925  0.6975  0.385\n",
      "  7  O2-     0.6975  0.1925  0.885\n",
      "  8  O2-     0.8125  0.8075  0.115\n",
      "  9  O2-     0.8075  0.8125  0.615\n",
      " 10  O2-     0.8075  0.3025  0.615\n",
      " 11  O2-     0.3025  0.8075  0.115\n",
      " 12  O2-     0.375   0.625   0.75\n",
      " 13  O2-     0.625   0.375   0.25\n",
      " 14  P5+     0.125   0.875   0.25\n",
      " 15  P5+     0.875   0.125   0.75\n"
     ]
    }
   ],
   "source": [
    "from pymatgen.core.composition import Composition\n",
    "from pymatgen.core.lattice import Lattice\n",
    "from pymatgen.core.operations import SymmOp\n",
    "from pymatgen.core.periodic_table import Element, Species\n",
    "from pymatgen.core.structure import (\n",
    "    IMolecule,\n",
    "    IStructure,\n",
    "    Molecule,\n",
    "    Structure,\n",
    "    StructureError,\n",
    ")\n",
    "\n",
    "s = structure.get_primitive_structure()\n",
    "print(s)"
   ]
  },
  {
   "cell_type": "code",
   "execution_count": 6,
   "id": "b73e4db1",
   "metadata": {},
   "outputs": [
    {
     "name": "stderr",
     "output_type": "stream",
     "text": [
      "/apps/anaconda/envs/pymatgen/lib/python3.9/site-packages/pymatgen/io/vasp/inputs.py:1751: UserWarning: Ignoring unknown variable type SHA256\n",
      "  warnings.warn(\"Ignoring unknown variable type %s\" % key)\n",
      "/apps/anaconda/envs/pymatgen/lib/python3.9/site-packages/pymatgen/io/vasp/inputs.py:1751: UserWarning: Ignoring unknown variable type COPYR\n",
      "  warnings.warn(\"Ignoring unknown variable type %s\" % key)\n",
      "/apps/anaconda/envs/pymatgen/lib/python3.9/site-packages/pymatgen/io/vasp/sets.py:129: BadInputSetWarning: POTCAR data with symbol Fe_pv is not known by pymatgen to                    correspond with the selected potcar_functional PBE. This POTCAR                    is known to correspond with functionals ['PBE_54', 'PBE_52', 'unvie_PBE_52']. Please verify that                    you are using the right POTCARs!\n",
      "  warnings.warn(\n",
      "/apps/anaconda/envs/pymatgen/lib/python3.9/site-packages/pymatgen/io/vasp/sets.py:129: BadInputSetWarning: POTCAR data with symbol P is not known by pymatgen to                    correspond with the selected potcar_functional PBE. This POTCAR                    is known to correspond with functionals ['PBE_54', 'PBE_52', 'unvie_PBE_52']. Please verify that                    you are using the right POTCARs!\n",
      "  warnings.warn(\n",
      "/apps/anaconda/envs/pymatgen/lib/python3.9/site-packages/pymatgen/io/vasp/sets.py:129: BadInputSetWarning: POTCAR data with symbol O is not known by pymatgen to                    correspond with the selected potcar_functional PBE. This POTCAR                    is known to correspond with functionals ['PBE_54', 'PBE_52', 'unvie_PBE_52']. Please verify that                    you are using the right POTCARs!\n",
      "  warnings.warn(\n"
     ]
    }
   ],
   "source": [
    "from pymatgen.core.structure import Element\n",
    "from pymatgen.io.vasp.sets import MPRelaxSet\n",
    "from pymatgen.io.vasp.inputs import Potcar\n",
    "#import os\n",
    "#os.chdir('/home/derejeb/data/Vasp_potcars/potcars')\n",
    "\n",
    "from pymatgen.io.vasp.sets import MPRelaxSet\n",
    "from pymatgen.io.vasp.inputs import Kpoints\n",
    "kpoints = Kpoints.automatic(32)\n",
    "relaxset = MPRelaxSet(s,user_kpoints_settings=kpoints)\n",
    "relaxset.write_input('Fe2PO5')\n"
   ]
  },
  {
   "cell_type": "code",
   "execution_count": null,
   "id": "5611c676",
   "metadata": {},
   "outputs": [],
   "source": []
  }
 ],
 "metadata": {
  "kernelspec": {
   "display_name": "Python 3",
   "language": "python",
   "name": "python3"
  },
  "language_info": {
   "codemirror_mode": {
    "name": "ipython",
    "version": 3
   },
   "file_extension": ".py",
   "mimetype": "text/x-python",
   "name": "python",
   "nbconvert_exporter": "python",
   "pygments_lexer": "ipython3",
   "version": "3.9.4"
  }
 },
 "nbformat": 4,
 "nbformat_minor": 5
}
