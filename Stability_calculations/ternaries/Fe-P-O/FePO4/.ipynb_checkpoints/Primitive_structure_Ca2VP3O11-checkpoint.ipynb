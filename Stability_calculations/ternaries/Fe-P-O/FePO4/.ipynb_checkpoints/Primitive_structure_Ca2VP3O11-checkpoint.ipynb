{
 "cells": [
  {
   "cell_type": "code",
   "execution_count": 1,
   "id": "04addb5d",
   "metadata": {},
   "outputs": [],
   "source": [
    "import pymatgen"
   ]
  },
  {
   "cell_type": "code",
   "execution_count": 2,
   "id": "029437c7",
   "metadata": {},
   "outputs": [],
   "source": [
    "from pymatgen.core import Structure"
   ]
  },
  {
   "cell_type": "code",
   "execution_count": 3,
   "id": "19230a4a",
   "metadata": {},
   "outputs": [],
   "source": [
    "import os"
   ]
  },
  {
   "cell_type": "code",
   "execution_count": 4,
   "id": "563851d1",
   "metadata": {},
   "outputs": [],
   "source": [
    "os.chdir('/home/derejeb/data/Ca-Fe-O-P/FePO4/')"
   ]
  },
  {
   "cell_type": "code",
   "execution_count": 5,
   "id": "36332a54",
   "metadata": {},
   "outputs": [
    {
     "name": "stdout",
     "output_type": "stream",
     "text": [
      "Full Formula (Fe4 P4 O16)\n",
      "Reduced Formula: FePO4\n",
      "abc   :   9.814200   5.789300   4.782000\n",
      "angles:  90.000000  90.000000  90.000000\n",
      "Sites (24)\n",
      "  #  SP         a       b       c\n",
      "---  ----  ------  ------  ------\n",
      "  0  Fe3+  0.7753  0.25    0.5496\n",
      "  1  Fe3+  0.2753  0.25    0.9504\n",
      "  2  Fe3+  0.2247  0.75    0.4504\n",
      "  3  Fe3+  0.7247  0.75    0.0496\n",
      "  4  P5+   0.593   0.25    0.1011\n",
      "  5  P5+   0.093   0.25    0.3989\n",
      "  6  P5+   0.407   0.75    0.8989\n",
      "  7  P5+   0.907   0.75    0.6011\n",
      "  8  O2-   0.6153  0.25    0.7893\n",
      "  9  O2-   0.1153  0.25    0.7107\n",
      " 10  O2-   0.3847  0.75    0.2107\n",
      " 11  O2-   0.8847  0.75    0.2893\n",
      " 12  O2-   0.945   0.25    0.3489\n",
      " 13  O2-   0.445   0.25    0.1511\n",
      " 14  O2-   0.055   0.75    0.6511\n",
      " 15  O2-   0.555   0.75    0.8489\n",
      " 16  O2-   0.6649  0.0465  0.248\n",
      " 17  O2-   0.1649  0.4535  0.252\n",
      " 18  O2-   0.3351  0.5465  0.752\n",
      " 19  O2-   0.8351  0.9535  0.748\n",
      " 20  O2-   0.3351  0.9535  0.752\n",
      " 21  O2-   0.8351  0.5465  0.748\n",
      " 22  O2-   0.6649  0.4535  0.248\n",
      " 23  O2-   0.1649  0.0465  0.252\n"
     ]
    }
   ],
   "source": [
    "structure = Structure.from_file(\"EntryWithCollCode92199.cif\")\n",
    "print(structure)"
   ]
  },
  {
   "cell_type": "code",
   "execution_count": 6,
   "id": "be4ce28c",
   "metadata": {},
   "outputs": [
    {
     "name": "stdout",
     "output_type": "stream",
     "text": [
      "Full Formula (Fe4 P4 O16)\n",
      "Reduced Formula: FePO4\n",
      "abc   :   9.814200   5.789300   4.782000\n",
      "angles:  90.000000  90.000000  90.000000\n",
      "Sites (24)\n",
      "  #  SP         a       b       c\n",
      "---  ----  ------  ------  ------\n",
      "  0  Fe3+  0.7753  0.25    0.5496\n",
      "  1  Fe3+  0.2753  0.25    0.9504\n",
      "  2  Fe3+  0.2247  0.75    0.4504\n",
      "  3  Fe3+  0.7247  0.75    0.0496\n",
      "  4  P5+   0.593   0.25    0.1011\n",
      "  5  P5+   0.093   0.25    0.3989\n",
      "  6  P5+   0.407   0.75    0.8989\n",
      "  7  P5+   0.907   0.75    0.6011\n",
      "  8  O2-   0.6153  0.25    0.7893\n",
      "  9  O2-   0.1153  0.25    0.7107\n",
      " 10  O2-   0.3847  0.75    0.2107\n",
      " 11  O2-   0.8847  0.75    0.2893\n",
      " 12  O2-   0.945   0.25    0.3489\n",
      " 13  O2-   0.445   0.25    0.1511\n",
      " 14  O2-   0.055   0.75    0.6511\n",
      " 15  O2-   0.555   0.75    0.8489\n",
      " 16  O2-   0.6649  0.0465  0.248\n",
      " 17  O2-   0.1649  0.4535  0.252\n",
      " 18  O2-   0.3351  0.5465  0.752\n",
      " 19  O2-   0.8351  0.9535  0.748\n",
      " 20  O2-   0.3351  0.9535  0.752\n",
      " 21  O2-   0.8351  0.5465  0.748\n",
      " 22  O2-   0.6649  0.4535  0.248\n",
      " 23  O2-   0.1649  0.0465  0.252\n"
     ]
    }
   ],
   "source": [
    "from pymatgen.core.composition import Composition\n",
    "from pymatgen.core.lattice import Lattice\n",
    "from pymatgen.core.operations import SymmOp\n",
    "from pymatgen.core.periodic_table import Element, Species\n",
    "from pymatgen.core.structure import (\n",
    "    IMolecule,\n",
    "    IStructure,\n",
    "    Molecule,\n",
    "    Structure,\n",
    "    StructureError,\n",
    ")\n",
    "\n",
    "s = structure.get_primitive_structure()\n",
    "print(s)"
   ]
  },
  {
   "cell_type": "code",
   "execution_count": 7,
   "id": "b73e4db1",
   "metadata": {},
   "outputs": [
    {
     "name": "stderr",
     "output_type": "stream",
     "text": [
      "/apps/anaconda/envs/pymatgen/lib/python3.9/site-packages/pymatgen/io/vasp/inputs.py:1751: UserWarning: Ignoring unknown variable type SHA256\n",
      "  warnings.warn(\"Ignoring unknown variable type %s\" % key)\n",
      "/apps/anaconda/envs/pymatgen/lib/python3.9/site-packages/pymatgen/io/vasp/inputs.py:1751: UserWarning: Ignoring unknown variable type COPYR\n",
      "  warnings.warn(\"Ignoring unknown variable type %s\" % key)\n",
      "/apps/anaconda/envs/pymatgen/lib/python3.9/site-packages/pymatgen/io/vasp/sets.py:129: BadInputSetWarning: POTCAR data with symbol Fe_pv is not known by pymatgen to                    correspond with the selected potcar_functional PBE. This POTCAR                    is known to correspond with functionals ['PBE_54', 'PBE_52', 'unvie_PBE_52']. Please verify that                    you are using the right POTCARs!\n",
      "  warnings.warn(\n",
      "/apps/anaconda/envs/pymatgen/lib/python3.9/site-packages/pymatgen/io/vasp/sets.py:129: BadInputSetWarning: POTCAR data with symbol P is not known by pymatgen to                    correspond with the selected potcar_functional PBE. This POTCAR                    is known to correspond with functionals ['PBE_54', 'PBE_52', 'unvie_PBE_52']. Please verify that                    you are using the right POTCARs!\n",
      "  warnings.warn(\n",
      "/apps/anaconda/envs/pymatgen/lib/python3.9/site-packages/pymatgen/io/vasp/sets.py:129: BadInputSetWarning: POTCAR data with symbol O is not known by pymatgen to                    correspond with the selected potcar_functional PBE. This POTCAR                    is known to correspond with functionals ['PBE_54', 'PBE_52', 'unvie_PBE_52']. Please verify that                    you are using the right POTCARs!\n",
      "  warnings.warn(\n"
     ]
    }
   ],
   "source": [
    "from pymatgen.core.structure import Element\n",
    "from pymatgen.io.vasp.sets import MPRelaxSet\n",
    "from pymatgen.io.vasp.inputs import Potcar\n",
    "#import os\n",
    "#os.chdir('/home/derejeb/data/Vasp_potcars/potcars')\n",
    "\n",
    "from pymatgen.io.vasp.sets import MPRelaxSet\n",
    "from pymatgen.io.vasp.inputs import Kpoints\n",
    "kpoints = Kpoints.automatic(32)\n",
    "relaxset = MPRelaxSet(s,user_kpoints_settings=kpoints)\n",
    "relaxset.write_input('FePO4')\n"
   ]
  },
  {
   "cell_type": "code",
   "execution_count": null,
   "id": "5611c676",
   "metadata": {},
   "outputs": [],
   "source": []
  }
 ],
 "metadata": {
  "kernelspec": {
   "display_name": "Python 3",
   "language": "python",
   "name": "python3"
  },
  "language_info": {
   "codemirror_mode": {
    "name": "ipython",
    "version": 3
   },
   "file_extension": ".py",
   "mimetype": "text/x-python",
   "name": "python",
   "nbconvert_exporter": "python",
   "pygments_lexer": "ipython3",
   "version": "3.9.4"
  }
 },
 "nbformat": 4,
 "nbformat_minor": 5
}
