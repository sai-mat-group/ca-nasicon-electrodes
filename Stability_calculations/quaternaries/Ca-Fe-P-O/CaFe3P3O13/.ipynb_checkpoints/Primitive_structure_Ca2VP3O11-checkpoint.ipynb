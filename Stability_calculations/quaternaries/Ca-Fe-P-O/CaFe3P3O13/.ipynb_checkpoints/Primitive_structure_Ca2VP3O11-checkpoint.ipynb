{
 "cells": [
  {
   "cell_type": "code",
   "execution_count": 2,
   "id": "04addb5d",
   "metadata": {},
   "outputs": [],
   "source": [
    "import pymatgen"
   ]
  },
  {
   "cell_type": "code",
   "execution_count": 3,
   "id": "029437c7",
   "metadata": {},
   "outputs": [],
   "source": [
    "from pymatgen.core import Structure"
   ]
  },
  {
   "cell_type": "code",
   "execution_count": 4,
   "id": "19230a4a",
   "metadata": {},
   "outputs": [],
   "source": [
    "import os"
   ]
  },
  {
   "cell_type": "code",
   "execution_count": 5,
   "id": "563851d1",
   "metadata": {},
   "outputs": [],
   "source": [
    "os.chdir('/home/derejeb/data/Ca-Fe-O-P/CaFe3P3O13/')"
   ]
  },
  {
   "cell_type": "code",
   "execution_count": 6,
   "id": "36332a54",
   "metadata": {},
   "outputs": [
    {
     "name": "stdout",
     "output_type": "stream",
     "text": [
      "Full Formula (Ca2 Fe6 P6 O26)\n",
      "Reduced Formula: CaFe3P3O13\n",
      "abc   :   7.521000   6.330000  10.160000\n",
      "angles:  90.000000 100.030000  90.000000\n",
      "Sites (40)\n",
      "  #  SP          a       b        c\n",
      "---  ----  -------  ------  -------\n",
      "  0  Ca2+  0.66161  0.75    0.19595\n",
      "  1  Ca2+  0.33839  0.25    0.80405\n",
      "  2  Fe3+  0        0       0\n",
      "  3  Fe3+  0        0.5     0\n",
      "  4  Fe3+  0.35074  0.25    0.20179\n",
      "  5  Fe3+  0.64926  0.75    0.79821\n",
      "  6  Fe3+  0.78612  0.25    0.43643\n",
      "  7  Fe3+  0.21388  0.75    0.56357\n",
      "  8  P5+   0.68297  0.25    0.11247\n",
      "  9  P5+   0.31703  0.75    0.88753\n",
      " 10  P5+   0.26341  0.75    0.2394\n",
      " 11  P5+   0.73659  0.25    0.7606\n",
      " 12  P5+   0.21762  0.25    0.4889\n",
      " 13  P5+   0.78238  0.75    0.5111\n",
      " 14  O2-   0.4913   0.25    0.031\n",
      " 15  O2-   0.5087   0.75    0.969\n",
      " 16  O2-   0.6402   0.25    0.2566\n",
      " 17  O2-   0.3598   0.75    0.7434\n",
      " 18  O2-   0.7893   0.0489  0.09386\n",
      " 19  O2-   0.2107   0.5489  0.90614\n",
      " 20  O2-   0.2107   0.9511  0.90614\n",
      " 21  O2-   0.7893   0.4511  0.09386\n",
      " 22  O2-   0.0855   0.75    0.134\n",
      " 23  O2-   0.9145   0.25    0.866\n",
      " 24  O2-   0.2123   0.75    0.377\n",
      " 25  O2-   0.7877   0.25    0.623\n",
      " 26  O2-   0.379    0.939   0.21363\n",
      " 27  O2-   0.621    0.439   0.78637\n",
      " 28  O2-   0.621    0.061   0.78637\n",
      " 29  O2-   0.379    0.561   0.21363\n",
      " 30  O2-   0.0256   0.25    0.4084\n",
      " 31  O2-   0.9744   0.75    0.5916\n",
      " 32  O2-   0.3513   0.25    0.3933\n",
      " 33  O2-   0.6487   0.75    0.6067\n",
      " 34  O2-   0.7521   0.5599  0.4146\n",
      " 35  O2-   0.2479   0.0599  0.5854\n",
      " 36  O2-   0.2479   0.4401  0.5854\n",
      " 37  O2-   0.7521   0.9401  0.4146\n",
      " 38  O2-   0.1235   0.25    0.0924\n",
      " 39  O2-   0.8765   0.75    0.9076\n"
     ]
    }
   ],
   "source": [
    "structure = Structure.from_file(\"EntryWithCollCode260429.cif\")\n",
    "print(structure)"
   ]
  },
  {
   "cell_type": "code",
   "execution_count": 7,
   "id": "be4ce28c",
   "metadata": {},
   "outputs": [
    {
     "name": "stdout",
     "output_type": "stream",
     "text": [
      "Full Formula (Ca2 Fe6 P6 O26)\n",
      "Reduced Formula: CaFe3P3O13\n",
      "abc   :   7.521000   6.330000  10.160000\n",
      "angles:  90.000000 100.030000  90.000000\n",
      "Sites (40)\n",
      "  #  SP          a       b        c\n",
      "---  ----  -------  ------  -------\n",
      "  0  Ca2+  0.66161  0.75    0.19595\n",
      "  1  Ca2+  0.33839  0.25    0.80405\n",
      "  2  Fe3+  0        0       0\n",
      "  3  Fe3+  0        0.5     0\n",
      "  4  Fe3+  0.35074  0.25    0.20179\n",
      "  5  Fe3+  0.64926  0.75    0.79821\n",
      "  6  Fe3+  0.78612  0.25    0.43643\n",
      "  7  Fe3+  0.21388  0.75    0.56357\n",
      "  8  P5+   0.68297  0.25    0.11247\n",
      "  9  P5+   0.31703  0.75    0.88753\n",
      " 10  P5+   0.26341  0.75    0.2394\n",
      " 11  P5+   0.73659  0.25    0.7606\n",
      " 12  P5+   0.21762  0.25    0.4889\n",
      " 13  P5+   0.78238  0.75    0.5111\n",
      " 14  O2-   0.4913   0.25    0.031\n",
      " 15  O2-   0.5087   0.75    0.969\n",
      " 16  O2-   0.6402   0.25    0.2566\n",
      " 17  O2-   0.3598   0.75    0.7434\n",
      " 18  O2-   0.7893   0.0489  0.09386\n",
      " 19  O2-   0.2107   0.5489  0.90614\n",
      " 20  O2-   0.2107   0.9511  0.90614\n",
      " 21  O2-   0.7893   0.4511  0.09386\n",
      " 22  O2-   0.0855   0.75    0.134\n",
      " 23  O2-   0.9145   0.25    0.866\n",
      " 24  O2-   0.2123   0.75    0.377\n",
      " 25  O2-   0.7877   0.25    0.623\n",
      " 26  O2-   0.379    0.939   0.21363\n",
      " 27  O2-   0.621    0.439   0.78637\n",
      " 28  O2-   0.621    0.061   0.78637\n",
      " 29  O2-   0.379    0.561   0.21363\n",
      " 30  O2-   0.0256   0.25    0.4084\n",
      " 31  O2-   0.9744   0.75    0.5916\n",
      " 32  O2-   0.3513   0.25    0.3933\n",
      " 33  O2-   0.6487   0.75    0.6067\n",
      " 34  O2-   0.7521   0.5599  0.4146\n",
      " 35  O2-   0.2479   0.0599  0.5854\n",
      " 36  O2-   0.2479   0.4401  0.5854\n",
      " 37  O2-   0.7521   0.9401  0.4146\n",
      " 38  O2-   0.1235   0.25    0.0924\n",
      " 39  O2-   0.8765   0.75    0.9076\n"
     ]
    }
   ],
   "source": [
    "from pymatgen.core.composition import Composition\n",
    "from pymatgen.core.lattice import Lattice\n",
    "from pymatgen.core.operations import SymmOp\n",
    "from pymatgen.core.periodic_table import Element, Species\n",
    "from pymatgen.core.structure import (\n",
    "    IMolecule,\n",
    "    IStructure,\n",
    "    Molecule,\n",
    "    Structure,\n",
    "    StructureError,\n",
    ")\n",
    "\n",
    "s = structure.get_primitive_structure()\n",
    "print(s)"
   ]
  },
  {
   "cell_type": "code",
   "execution_count": 8,
   "id": "b73e4db1",
   "metadata": {},
   "outputs": [
    {
     "name": "stderr",
     "output_type": "stream",
     "text": [
      "/apps/anaconda/envs/pymatgen/lib/python3.9/site-packages/pymatgen/io/vasp/inputs.py:1751: UserWarning: Ignoring unknown variable type SHA256\n",
      "  warnings.warn(\"Ignoring unknown variable type %s\" % key)\n",
      "/apps/anaconda/envs/pymatgen/lib/python3.9/site-packages/pymatgen/io/vasp/inputs.py:1751: UserWarning: Ignoring unknown variable type COPYR\n",
      "  warnings.warn(\"Ignoring unknown variable type %s\" % key)\n",
      "/apps/anaconda/envs/pymatgen/lib/python3.9/site-packages/pymatgen/io/vasp/sets.py:129: BadInputSetWarning: POTCAR data with symbol Ca_sv is not known by pymatgen to                    correspond with the selected potcar_functional PBE. This POTCAR                    is known to correspond with functionals ['PBE_52', 'PBE_54', 'unvie_PBE_52']. Please verify that                    you are using the right POTCARs!\n",
      "  warnings.warn(\n",
      "/apps/anaconda/envs/pymatgen/lib/python3.9/site-packages/pymatgen/io/vasp/sets.py:129: BadInputSetWarning: POTCAR data with symbol Fe_pv is not known by pymatgen to                    correspond with the selected potcar_functional PBE. This POTCAR                    is known to correspond with functionals ['PBE_52', 'PBE_54', 'unvie_PBE_52']. Please verify that                    you are using the right POTCARs!\n",
      "  warnings.warn(\n",
      "/apps/anaconda/envs/pymatgen/lib/python3.9/site-packages/pymatgen/io/vasp/sets.py:129: BadInputSetWarning: POTCAR data with symbol P is not known by pymatgen to                    correspond with the selected potcar_functional PBE. This POTCAR                    is known to correspond with functionals ['PBE_52', 'PBE_54', 'unvie_PBE_52']. Please verify that                    you are using the right POTCARs!\n",
      "  warnings.warn(\n",
      "/apps/anaconda/envs/pymatgen/lib/python3.9/site-packages/pymatgen/io/vasp/sets.py:129: BadInputSetWarning: POTCAR data with symbol O is not known by pymatgen to                    correspond with the selected potcar_functional PBE. This POTCAR                    is known to correspond with functionals ['PBE_52', 'PBE_54', 'unvie_PBE_52']. Please verify that                    you are using the right POTCARs!\n",
      "  warnings.warn(\n"
     ]
    }
   ],
   "source": [
    "from pymatgen.core.structure import Element\n",
    "from pymatgen.io.vasp.sets import MPRelaxSet\n",
    "from pymatgen.io.vasp.inputs import Potcar\n",
    "#import os\n",
    "#os.chdir('/home/derejeb/data/Vasp_potcars/potcars')\n",
    "\n",
    "from pymatgen.io.vasp.sets import MPRelaxSet\n",
    "from pymatgen.io.vasp.inputs import Kpoints\n",
    "kpoints = Kpoints.automatic(32)\n",
    "relaxset = MPRelaxSet(s,user_kpoints_settings=kpoints)\n",
    "relaxset.write_input('CaFe3P3O13')\n"
   ]
  },
  {
   "cell_type": "code",
   "execution_count": null,
   "id": "5611c676",
   "metadata": {},
   "outputs": [],
   "source": []
  }
 ],
 "metadata": {
  "kernelspec": {
   "display_name": "Python 3",
   "language": "python",
   "name": "python3"
  },
  "language_info": {
   "codemirror_mode": {
    "name": "ipython",
    "version": 3
   },
   "file_extension": ".py",
   "mimetype": "text/x-python",
   "name": "python",
   "nbconvert_exporter": "python",
   "pygments_lexer": "ipython3",
   "version": "3.9.4"
  }
 },
 "nbformat": 4,
 "nbformat_minor": 5
}
