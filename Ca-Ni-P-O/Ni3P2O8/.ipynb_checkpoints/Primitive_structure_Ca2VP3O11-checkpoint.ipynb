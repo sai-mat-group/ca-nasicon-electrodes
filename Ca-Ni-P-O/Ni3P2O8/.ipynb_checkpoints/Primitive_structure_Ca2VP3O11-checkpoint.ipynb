{
 "cells": [
  {
   "cell_type": "code",
   "execution_count": 1,
   "id": "04addb5d",
   "metadata": {},
   "outputs": [],
   "source": [
    "import pymatgen"
   ]
  },
  {
   "cell_type": "code",
   "execution_count": 2,
   "id": "029437c7",
   "metadata": {},
   "outputs": [],
   "source": [
    "from pymatgen.core import Structure"
   ]
  },
  {
   "cell_type": "code",
   "execution_count": 3,
   "id": "19230a4a",
   "metadata": {},
   "outputs": [],
   "source": [
    "import os"
   ]
  },
  {
   "cell_type": "code",
   "execution_count": 4,
   "id": "563851d1",
   "metadata": {},
   "outputs": [],
   "source": [
    "os.chdir('/home/derejeb/data/Ca-Ni-P-O/Ni3P2O8/')"
   ]
  },
  {
   "cell_type": "code",
   "execution_count": 5,
   "id": "36332a54",
   "metadata": {},
   "outputs": [
    {
     "name": "stdout",
     "output_type": "stream",
     "text": [
      "Full Formula (Ni6 P4 O16)\n",
      "Reduced Formula: Ni3(PO4)2\n",
      "abc   :   5.824000   4.694000  10.101000\n",
      "angles:  90.000000  91.134000  90.000000\n",
      "Sites (26)\n",
      "  #  SP         a       b       c\n",
      "---  ----  ------  ------  ------\n",
      "  0  Ni2+  0.5     0.5     0.5\n",
      "  1  Ni2+  0.5     0       0\n",
      "  2  Ni2+  0.2416  0.5145  0.7746\n",
      "  3  Ni2+  0.7584  0.0145  0.7254\n",
      "  4  Ni2+  0.7584  0.4855  0.2254\n",
      "  5  Ni2+  0.2416  0.9855  0.2746\n",
      "  6  P5+   0.25    0.0778  0.5945\n",
      "  7  P5+   0.75    0.5778  0.9055\n",
      "  8  P5+   0.75    0.9222  0.4055\n",
      "  9  P5+   0.25    0.4222  0.0945\n",
      " 10  O2-   0.2667  0.7534  0.6019\n",
      " 11  O2-   0.7333  0.2534  0.8981\n",
      " 12  O2-   0.7333  0.2466  0.3981\n",
      " 13  O2-   0.2667  0.7466  0.1019\n",
      " 14  O2-   0.2566  0.3072  0.9517\n",
      " 15  O2-   0.7434  0.8072  0.5483\n",
      " 16  O2-   0.7434  0.6928  0.0483\n",
      " 17  O2-   0.2566  0.1928  0.4517\n",
      " 18  O2-   0.0507  0.1997  0.6729\n",
      " 19  O2-   0.9493  0.6997  0.8271\n",
      " 20  O2-   0.9493  0.8003  0.3271\n",
      " 21  O2-   0.0507  0.3003  0.1729\n",
      " 22  O2-   0.4655  0.2349  0.6621\n",
      " 23  O2-   0.5345  0.7349  0.8379\n",
      " 24  O2-   0.5345  0.7651  0.3379\n",
      " 25  O2-   0.4655  0.2651  0.1621\n"
     ]
    }
   ],
   "source": [
    "structure = Structure.from_file(\"EntryWithCollCode153159.cif\")\n",
    "print(structure)"
   ]
  },
  {
   "cell_type": "code",
   "execution_count": 6,
   "id": "be4ce28c",
   "metadata": {},
   "outputs": [
    {
     "name": "stdout",
     "output_type": "stream",
     "text": [
      "Full Formula (Ni6 P4 O16)\n",
      "Reduced Formula: Ni3(PO4)2\n",
      "abc   :   5.824000   4.694000  10.101000\n",
      "angles:  90.000000  91.134000  90.000000\n",
      "Sites (26)\n",
      "  #  SP         a       b       c\n",
      "---  ----  ------  ------  ------\n",
      "  0  Ni2+  0.5     0.5     0.5\n",
      "  1  Ni2+  0.5     0       0\n",
      "  2  Ni2+  0.2416  0.5145  0.7746\n",
      "  3  Ni2+  0.7584  0.0145  0.7254\n",
      "  4  Ni2+  0.7584  0.4855  0.2254\n",
      "  5  Ni2+  0.2416  0.9855  0.2746\n",
      "  6  P5+   0.25    0.0778  0.5945\n",
      "  7  P5+   0.75    0.5778  0.9055\n",
      "  8  P5+   0.75    0.9222  0.4055\n",
      "  9  P5+   0.25    0.4222  0.0945\n",
      " 10  O2-   0.2667  0.7534  0.6019\n",
      " 11  O2-   0.7333  0.2534  0.8981\n",
      " 12  O2-   0.7333  0.2466  0.3981\n",
      " 13  O2-   0.2667  0.7466  0.1019\n",
      " 14  O2-   0.2566  0.3072  0.9517\n",
      " 15  O2-   0.7434  0.8072  0.5483\n",
      " 16  O2-   0.7434  0.6928  0.0483\n",
      " 17  O2-   0.2566  0.1928  0.4517\n",
      " 18  O2-   0.0507  0.1997  0.6729\n",
      " 19  O2-   0.9493  0.6997  0.8271\n",
      " 20  O2-   0.9493  0.8003  0.3271\n",
      " 21  O2-   0.0507  0.3003  0.1729\n",
      " 22  O2-   0.4655  0.2349  0.6621\n",
      " 23  O2-   0.5345  0.7349  0.8379\n",
      " 24  O2-   0.5345  0.7651  0.3379\n",
      " 25  O2-   0.4655  0.2651  0.1621\n"
     ]
    }
   ],
   "source": [
    "from pymatgen.core.composition import Composition\n",
    "from pymatgen.core.lattice import Lattice\n",
    "from pymatgen.core.operations import SymmOp\n",
    "from pymatgen.core.periodic_table import Element, Species\n",
    "from pymatgen.core.structure import (\n",
    "    IMolecule,\n",
    "    IStructure,\n",
    "    Molecule,\n",
    "    Structure,\n",
    "    StructureError,\n",
    ")\n",
    "\n",
    "s = structure.get_primitive_structure()\n",
    "print(s)"
   ]
  },
  {
   "cell_type": "code",
   "execution_count": 7,
   "id": "b73e4db1",
   "metadata": {},
   "outputs": [
    {
     "name": "stderr",
     "output_type": "stream",
     "text": [
      "/apps/anaconda/envs/pymatgen/lib/python3.9/site-packages/pymatgen/io/vasp/inputs.py:1751: UserWarning: Ignoring unknown variable type SHA256\n",
      "  warnings.warn(\"Ignoring unknown variable type %s\" % key)\n",
      "/apps/anaconda/envs/pymatgen/lib/python3.9/site-packages/pymatgen/io/vasp/inputs.py:1751: UserWarning: Ignoring unknown variable type COPYR\n",
      "  warnings.warn(\"Ignoring unknown variable type %s\" % key)\n",
      "/apps/anaconda/envs/pymatgen/lib/python3.9/site-packages/pymatgen/io/vasp/sets.py:129: BadInputSetWarning: POTCAR data with symbol Ni_pv is not known by pymatgen to                    correspond with the selected potcar_functional PBE. This POTCAR                    is known to correspond with functionals ['unvie_PBE_52', 'PBE_54', 'PBE_52']. Please verify that                    you are using the right POTCARs!\n",
      "  warnings.warn(\n",
      "/apps/anaconda/envs/pymatgen/lib/python3.9/site-packages/pymatgen/io/vasp/sets.py:129: BadInputSetWarning: POTCAR data with symbol P is not known by pymatgen to                    correspond with the selected potcar_functional PBE. This POTCAR                    is known to correspond with functionals ['unvie_PBE_52', 'PBE_54', 'PBE_52']. Please verify that                    you are using the right POTCARs!\n",
      "  warnings.warn(\n",
      "/apps/anaconda/envs/pymatgen/lib/python3.9/site-packages/pymatgen/io/vasp/sets.py:129: BadInputSetWarning: POTCAR data with symbol O is not known by pymatgen to                    correspond with the selected potcar_functional PBE. This POTCAR                    is known to correspond with functionals ['unvie_PBE_52', 'PBE_54', 'PBE_52']. Please verify that                    you are using the right POTCARs!\n",
      "  warnings.warn(\n"
     ]
    }
   ],
   "source": [
    "from pymatgen.core.structure import Element\n",
    "from pymatgen.io.vasp.sets import MPRelaxSet\n",
    "from pymatgen.io.vasp.inputs import Potcar\n",
    "#import os\n",
    "#os.chdir('/home/derejeb/data/Vasp_potcars/potcars')\n",
    "\n",
    "from pymatgen.io.vasp.sets import MPRelaxSet\n",
    "from pymatgen.io.vasp.inputs import Kpoints\n",
    "kpoints = Kpoints.automatic(32)\n",
    "relaxset = MPRelaxSet(s,user_kpoints_settings=kpoints)\n",
    "relaxset.write_input('Ni3P2O8')\n"
   ]
  },
  {
   "cell_type": "code",
   "execution_count": null,
   "id": "5611c676",
   "metadata": {},
   "outputs": [],
   "source": []
  }
 ],
 "metadata": {
  "kernelspec": {
   "display_name": "Python 3",
   "language": "python",
   "name": "python3"
  },
  "language_info": {
   "codemirror_mode": {
    "name": "ipython",
    "version": 3
   },
   "file_extension": ".py",
   "mimetype": "text/x-python",
   "name": "python",
   "nbconvert_exporter": "python",
   "pygments_lexer": "ipython3",
   "version": "3.9.4"
  }
 },
 "nbformat": 4,
 "nbformat_minor": 5
}
