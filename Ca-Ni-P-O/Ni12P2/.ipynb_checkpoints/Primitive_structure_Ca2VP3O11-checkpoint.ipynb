{
 "cells": [
  {
   "cell_type": "code",
   "execution_count": 1,
   "id": "04addb5d",
   "metadata": {},
   "outputs": [],
   "source": [
    "import pymatgen"
   ]
  },
  {
   "cell_type": "code",
   "execution_count": 2,
   "id": "029437c7",
   "metadata": {},
   "outputs": [],
   "source": [
    "from pymatgen.core import Structure"
   ]
  },
  {
   "cell_type": "code",
   "execution_count": 3,
   "id": "19230a4a",
   "metadata": {},
   "outputs": [],
   "source": [
    "import os"
   ]
  },
  {
   "cell_type": "code",
   "execution_count": 4,
   "id": "563851d1",
   "metadata": {},
   "outputs": [],
   "source": [
    "os.chdir('/home/derejeb/data/Ca-Ni-P-O/Ni12P2/')"
   ]
  },
  {
   "cell_type": "code",
   "execution_count": 5,
   "id": "36332a54",
   "metadata": {},
   "outputs": [
    {
     "name": "stdout",
     "output_type": "stream",
     "text": [
      "Full Formula (Ni24 P10)\n",
      "Reduced Formula: Ni12P5\n",
      "abc   :   8.646000   8.646000   5.070000\n",
      "angles:  90.000000  90.000000  90.000000\n",
      "Sites (34)\n",
      "  #  SP         a       b      c\n",
      "---  ----  ------  ------  -----\n",
      "  0  Ni0+  0.8188  0.1166  0.751\n",
      "  1  Ni0+  0.1812  0.8834  0.751\n",
      "  2  Ni0+  0.1166  0.1812  0.751\n",
      "  3  Ni0+  0.8834  0.8188  0.751\n",
      "  4  Ni0+  0.1812  0.8834  0.249\n",
      "  5  Ni0+  0.8188  0.1166  0.249\n",
      "  6  Ni0+  0.8834  0.8188  0.249\n",
      "  7  Ni0+  0.1166  0.1812  0.249\n",
      "  8  Ni0+  0.3188  0.6166  0.251\n",
      "  9  Ni0+  0.6812  0.3834  0.251\n",
      " 10  Ni0+  0.6166  0.6812  0.251\n",
      " 11  Ni0+  0.3834  0.3188  0.251\n",
      " 12  Ni0+  0.6812  0.3834  0.749\n",
      " 13  Ni0+  0.3188  0.6166  0.749\n",
      " 14  Ni0+  0.3834  0.3188  0.749\n",
      " 15  Ni0+  0.6166  0.6812  0.749\n",
      " 16  Ni0+  0.9391  0.3655  0\n",
      " 17  Ni0+  0.0609  0.6345  0\n",
      " 18  Ni0+  0.3655  0.0609  0\n",
      " 19  Ni0+  0.6345  0.9391  0\n",
      " 20  Ni0+  0.4391  0.8655  0.5\n",
      " 21  Ni0+  0.5609  0.1345  0.5\n",
      " 22  Ni0+  0.8655  0.5609  0.5\n",
      " 23  Ni0+  0.1345  0.4391  0.5\n",
      " 24  P0+   0.5868  0.1939  0\n",
      " 25  P0+   0.4132  0.8061  0\n",
      " 26  P0+   0.1939  0.4132  0\n",
      " 27  P0+   0.8061  0.5868  0\n",
      " 28  P0+   0.0868  0.6939  0.5\n",
      " 29  P0+   0.9132  0.3061  0.5\n",
      " 30  P0+   0.6939  0.9132  0.5\n",
      " 31  P0+   0.3061  0.0868  0.5\n",
      " 32  P0+   0       0       0\n",
      " 33  P0+   0.5     0.5     0.5\n"
     ]
    }
   ],
   "source": [
    "structure = Structure.from_file(\"EntryWithCollCode27158.cif\")\n",
    "print(structure)"
   ]
  },
  {
   "cell_type": "code",
   "execution_count": 6,
   "id": "be4ce28c",
   "metadata": {},
   "outputs": [
    {
     "name": "stdout",
     "output_type": "stream",
     "text": [
      "Full Formula (Ni12 P5)\n",
      "Reduced Formula: Ni12P5\n",
      "abc   :   5.070000   6.618375   6.618375\n",
      "angles:  81.563813  67.478843  67.478843\n",
      "Sites (17)\n",
      "  #  SP         a       b       c\n",
      "---  ----  ------  ------  ------\n",
      "  0  Ni0+  0.0678  0.0646  0.2978\n",
      "  1  Ni0+  0.4302  0.9354  0.7022\n",
      "  2  Ni0+  0.3656  0.7022  0.0646\n",
      "  3  Ni0+  0.1324  0.2978  0.9354\n",
      "  4  Ni0+  0.9322  0.9354  0.7022\n",
      "  5  Ni0+  0.5698  0.0646  0.2978\n",
      "  6  Ni0+  0.6344  0.2978  0.9354\n",
      "  7  Ni0+  0.8676  0.7022  0.0646\n",
      "  8  Ni0+  0.9391  0.6954  0.4264\n",
      "  9  Ni0+  0.0609  0.3046  0.5736\n",
      " 10  Ni0+  0.3655  0.5736  0.6954\n",
      " 11  Ni0+  0.6345  0.4264  0.3046\n",
      " 12  P0+   0.5868  0.2193  0.6071\n",
      " 13  P0+   0.4132  0.7807  0.3929\n",
      " 14  P0+   0.1939  0.3929  0.2193\n",
      " 15  P0+   0.8061  0.6071  0.7807\n",
      " 16  P0+   0       0       0\n"
     ]
    }
   ],
   "source": [
    "from pymatgen.core.composition import Composition\n",
    "from pymatgen.core.lattice import Lattice\n",
    "from pymatgen.core.operations import SymmOp\n",
    "from pymatgen.core.periodic_table import Element, Species\n",
    "from pymatgen.core.structure import (\n",
    "    IMolecule,\n",
    "    IStructure,\n",
    "    Molecule,\n",
    "    Structure,\n",
    "    StructureError,\n",
    ")\n",
    "\n",
    "s = structure.get_primitive_structure()\n",
    "print(s)"
   ]
  },
  {
   "cell_type": "code",
   "execution_count": 7,
   "id": "b73e4db1",
   "metadata": {},
   "outputs": [
    {
     "name": "stderr",
     "output_type": "stream",
     "text": [
      "/apps/anaconda/envs/pymatgen/lib/python3.9/site-packages/pymatgen/io/vasp/inputs.py:1751: UserWarning: Ignoring unknown variable type SHA256\n",
      "  warnings.warn(\"Ignoring unknown variable type %s\" % key)\n",
      "/apps/anaconda/envs/pymatgen/lib/python3.9/site-packages/pymatgen/io/vasp/inputs.py:1751: UserWarning: Ignoring unknown variable type COPYR\n",
      "  warnings.warn(\"Ignoring unknown variable type %s\" % key)\n",
      "/apps/anaconda/envs/pymatgen/lib/python3.9/site-packages/pymatgen/io/vasp/sets.py:129: BadInputSetWarning: POTCAR data with symbol Ni_pv is not known by pymatgen to                    correspond with the selected potcar_functional PBE. This POTCAR                    is known to correspond with functionals ['unvie_PBE_52', 'PBE_54', 'PBE_52']. Please verify that                    you are using the right POTCARs!\n",
      "  warnings.warn(\n",
      "/apps/anaconda/envs/pymatgen/lib/python3.9/site-packages/pymatgen/io/vasp/sets.py:129: BadInputSetWarning: POTCAR data with symbol P is not known by pymatgen to                    correspond with the selected potcar_functional PBE. This POTCAR                    is known to correspond with functionals ['unvie_PBE_52', 'PBE_54', 'PBE_52']. Please verify that                    you are using the right POTCARs!\n",
      "  warnings.warn(\n"
     ]
    }
   ],
   "source": [
    "from pymatgen.core.structure import Element\n",
    "from pymatgen.io.vasp.sets import MPRelaxSet\n",
    "from pymatgen.io.vasp.inputs import Potcar\n",
    "#import os\n",
    "#os.chdir('/home/derejeb/data/Vasp_potcars/potcars')\n",
    "\n",
    "from pymatgen.io.vasp.sets import MPRelaxSet\n",
    "from pymatgen.io.vasp.inputs import Kpoints\n",
    "kpoints = Kpoints.automatic(32)\n",
    "relaxset = MPRelaxSet(s,user_kpoints_settings=kpoints)\n",
    "relaxset.write_input('Ni12P2')\n"
   ]
  },
  {
   "cell_type": "code",
   "execution_count": null,
   "id": "5611c676",
   "metadata": {},
   "outputs": [],
   "source": []
  }
 ],
 "metadata": {
  "kernelspec": {
   "display_name": "Python 3",
   "language": "python",
   "name": "python3"
  },
  "language_info": {
   "codemirror_mode": {
    "name": "ipython",
    "version": 3
   },
   "file_extension": ".py",
   "mimetype": "text/x-python",
   "name": "python",
   "nbconvert_exporter": "python",
   "pygments_lexer": "ipython3",
   "version": "3.9.4"
  }
 },
 "nbformat": 4,
 "nbformat_minor": 5
}
