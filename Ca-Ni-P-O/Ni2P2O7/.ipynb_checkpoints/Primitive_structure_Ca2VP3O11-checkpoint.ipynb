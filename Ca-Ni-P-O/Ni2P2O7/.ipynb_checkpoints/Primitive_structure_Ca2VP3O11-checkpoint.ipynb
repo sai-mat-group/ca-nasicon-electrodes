{
 "cells": [
  {
   "cell_type": "code",
   "execution_count": 1,
   "id": "04addb5d",
   "metadata": {},
   "outputs": [],
   "source": [
    "import pymatgen"
   ]
  },
  {
   "cell_type": "code",
   "execution_count": 2,
   "id": "029437c7",
   "metadata": {},
   "outputs": [],
   "source": [
    "from pymatgen.core import Structure"
   ]
  },
  {
   "cell_type": "code",
   "execution_count": 3,
   "id": "19230a4a",
   "metadata": {},
   "outputs": [],
   "source": [
    "import os"
   ]
  },
  {
   "cell_type": "code",
   "execution_count": 4,
   "id": "563851d1",
   "metadata": {},
   "outputs": [],
   "source": [
    "os.chdir('/home/derejeb/data/Ca-Ni-P-O/Ni2P2O7/')"
   ]
  },
  {
   "cell_type": "code",
   "execution_count": 5,
   "id": "36332a54",
   "metadata": {},
   "outputs": [
    {
     "name": "stdout",
     "output_type": "stream",
     "text": [
      "Full Formula (Ni4 P4 O14)\n",
      "Reduced Formula: Ni2P2O7\n",
      "abc   :   5.212000   9.913000   4.475000\n",
      "angles:  90.000000  97.460000  90.000000\n",
      "Sites (22)\n",
      "  #  SP          a        b       c\n",
      "---  ----  -------  -------  ------\n",
      "  0  Ni2+  0.08406  0.15656  0.9034\n",
      "  1  Ni2+  0.41594  0.65656  0.0966\n",
      "  2  Ni2+  0.91594  0.84344  0.0966\n",
      "  3  Ni2+  0.58406  0.34344  0.9034\n",
      "  4  P5+   0.1569   0.38874  0.3579\n",
      "  5  P5+   0.3431   0.88874  0.6421\n",
      "  6  P5+   0.8431   0.61126  0.6421\n",
      "  7  P5+   0.6569   0.11126  0.3579\n",
      "  8  O2-   0.2618   0.2963   0.6177\n",
      "  9  O2-   0.2382   0.7963   0.3823\n",
      " 10  O2-   0.7382   0.7037   0.3823\n",
      " 11  O2-   0.7618   0.2037   0.6177\n",
      " 12  O2-   0.9635   0.3207   0.1194\n",
      " 13  O2-   0.5365   0.8207   0.8806\n",
      " 14  O2-   0.0365   0.6793   0.8806\n",
      " 15  O2-   0.4635   0.1793   0.1194\n",
      " 16  O2-   0.3713   0.4585   0.2132\n",
      " 17  O2-   0.1287   0.9585   0.7868\n",
      " 18  O2-   0.6287   0.5415   0.7868\n",
      " 19  O2-   0.8713   0.0415   0.2132\n",
      " 20  O2-   0        0.5      0.5\n",
      " 21  O2-   0.5      0        0.5\n"
     ]
    }
   ],
   "source": [
    "structure = Structure.from_file(\"EntryWithCollCode100194.cif\")\n",
    "print(structure)"
   ]
  },
  {
   "cell_type": "code",
   "execution_count": 6,
   "id": "be4ce28c",
   "metadata": {},
   "outputs": [
    {
     "name": "stdout",
     "output_type": "stream",
     "text": [
      "Full Formula (Ni4 P4 O14)\n",
      "Reduced Formula: Ni2P2O7\n",
      "abc   :   5.212000   9.913000   4.475000\n",
      "angles:  90.000000  97.460000  90.000000\n",
      "Sites (22)\n",
      "  #  SP          a        b       c\n",
      "---  ----  -------  -------  ------\n",
      "  0  Ni2+  0.08406  0.15656  0.9034\n",
      "  1  Ni2+  0.41594  0.65656  0.0966\n",
      "  2  Ni2+  0.91594  0.84344  0.0966\n",
      "  3  Ni2+  0.58406  0.34344  0.9034\n",
      "  4  P5+   0.1569   0.38874  0.3579\n",
      "  5  P5+   0.3431   0.88874  0.6421\n",
      "  6  P5+   0.8431   0.61126  0.6421\n",
      "  7  P5+   0.6569   0.11126  0.3579\n",
      "  8  O2-   0.2618   0.2963   0.6177\n",
      "  9  O2-   0.2382   0.7963   0.3823\n",
      " 10  O2-   0.7382   0.7037   0.3823\n",
      " 11  O2-   0.7618   0.2037   0.6177\n",
      " 12  O2-   0.9635   0.3207   0.1194\n",
      " 13  O2-   0.5365   0.8207   0.8806\n",
      " 14  O2-   0.0365   0.6793   0.8806\n",
      " 15  O2-   0.4635   0.1793   0.1194\n",
      " 16  O2-   0.3713   0.4585   0.2132\n",
      " 17  O2-   0.1287   0.9585   0.7868\n",
      " 18  O2-   0.6287   0.5415   0.7868\n",
      " 19  O2-   0.8713   0.0415   0.2132\n",
      " 20  O2-   0        0.5      0.5\n",
      " 21  O2-   0.5      0        0.5\n"
     ]
    }
   ],
   "source": [
    "from pymatgen.core.composition import Composition\n",
    "from pymatgen.core.lattice import Lattice\n",
    "from pymatgen.core.operations import SymmOp\n",
    "from pymatgen.core.periodic_table import Element, Species\n",
    "from pymatgen.core.structure import (\n",
    "    IMolecule,\n",
    "    IStructure,\n",
    "    Molecule,\n",
    "    Structure,\n",
    "    StructureError,\n",
    ")\n",
    "\n",
    "s = structure.get_primitive_structure()\n",
    "print(s)"
   ]
  },
  {
   "cell_type": "code",
   "execution_count": 7,
   "id": "b73e4db1",
   "metadata": {},
   "outputs": [
    {
     "name": "stderr",
     "output_type": "stream",
     "text": [
      "/apps/anaconda/envs/pymatgen/lib/python3.9/site-packages/pymatgen/io/vasp/inputs.py:1751: UserWarning: Ignoring unknown variable type SHA256\n",
      "  warnings.warn(\"Ignoring unknown variable type %s\" % key)\n",
      "/apps/anaconda/envs/pymatgen/lib/python3.9/site-packages/pymatgen/io/vasp/inputs.py:1751: UserWarning: Ignoring unknown variable type COPYR\n",
      "  warnings.warn(\"Ignoring unknown variable type %s\" % key)\n",
      "/apps/anaconda/envs/pymatgen/lib/python3.9/site-packages/pymatgen/io/vasp/sets.py:129: BadInputSetWarning: POTCAR data with symbol Ni_pv is not known by pymatgen to                    correspond with the selected potcar_functional PBE. This POTCAR                    is known to correspond with functionals ['PBE_54', 'PBE_52', 'unvie_PBE_52']. Please verify that                    you are using the right POTCARs!\n",
      "  warnings.warn(\n",
      "/apps/anaconda/envs/pymatgen/lib/python3.9/site-packages/pymatgen/io/vasp/sets.py:129: BadInputSetWarning: POTCAR data with symbol P is not known by pymatgen to                    correspond with the selected potcar_functional PBE. This POTCAR                    is known to correspond with functionals ['PBE_54', 'PBE_52', 'unvie_PBE_52']. Please verify that                    you are using the right POTCARs!\n",
      "  warnings.warn(\n",
      "/apps/anaconda/envs/pymatgen/lib/python3.9/site-packages/pymatgen/io/vasp/sets.py:129: BadInputSetWarning: POTCAR data with symbol O is not known by pymatgen to                    correspond with the selected potcar_functional PBE. This POTCAR                    is known to correspond with functionals ['PBE_54', 'PBE_52', 'unvie_PBE_52']. Please verify that                    you are using the right POTCARs!\n",
      "  warnings.warn(\n"
     ]
    }
   ],
   "source": [
    "from pymatgen.core.structure import Element\n",
    "from pymatgen.io.vasp.sets import MPRelaxSet\n",
    "from pymatgen.io.vasp.inputs import Potcar\n",
    "#import os\n",
    "#os.chdir('/home/derejeb/data/Vasp_potcars/potcars')\n",
    "\n",
    "from pymatgen.io.vasp.sets import MPRelaxSet\n",
    "from pymatgen.io.vasp.inputs import Kpoints\n",
    "kpoints = Kpoints.automatic(32)\n",
    "relaxset = MPRelaxSet(s,user_kpoints_settings=kpoints)\n",
    "relaxset.write_input('Ni2P2O7')\n"
   ]
  },
  {
   "cell_type": "code",
   "execution_count": null,
   "id": "5611c676",
   "metadata": {},
   "outputs": [],
   "source": []
  }
 ],
 "metadata": {
  "kernelspec": {
   "display_name": "Python 3",
   "language": "python",
   "name": "python3"
  },
  "language_info": {
   "codemirror_mode": {
    "name": "ipython",
    "version": 3
   },
   "file_extension": ".py",
   "mimetype": "text/x-python",
   "name": "python",
   "nbconvert_exporter": "python",
   "pygments_lexer": "ipython3",
   "version": "3.9.4"
  }
 },
 "nbformat": 4,
 "nbformat_minor": 5
}
