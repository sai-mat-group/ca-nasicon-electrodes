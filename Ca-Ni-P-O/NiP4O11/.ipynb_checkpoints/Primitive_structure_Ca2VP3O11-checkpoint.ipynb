{
 "cells": [
  {
   "cell_type": "code",
   "execution_count": 1,
   "id": "04addb5d",
   "metadata": {},
   "outputs": [],
   "source": [
    "import pymatgen"
   ]
  },
  {
   "cell_type": "code",
   "execution_count": 2,
   "id": "029437c7",
   "metadata": {},
   "outputs": [],
   "source": [
    "from pymatgen.core import Structure"
   ]
  },
  {
   "cell_type": "code",
   "execution_count": 3,
   "id": "19230a4a",
   "metadata": {},
   "outputs": [],
   "source": [
    "import os"
   ]
  },
  {
   "cell_type": "code",
   "execution_count": 4,
   "id": "563851d1",
   "metadata": {},
   "outputs": [],
   "source": [
    "os.chdir('/home/derejeb/data/Ca-Ni-P-O/NiP4O11/')"
   ]
  },
  {
   "cell_type": "code",
   "execution_count": 5,
   "id": "36332a54",
   "metadata": {},
   "outputs": [
    {
     "name": "stdout",
     "output_type": "stream",
     "text": [
      "Full Formula (Ni4 P16 O44)\n",
      "Reduced Formula: NiP4O11\n",
      "abc   :   9.375000   8.019000  11.135000\n",
      "angles:  90.000000 100.730000  90.000000\n",
      "Sites (64)\n",
      "  #  SP          a        b        c\n",
      "---  ----  -------  -------  -------\n",
      "  0  Ni2+  0.46688  0.51493  0.71947\n",
      "  1  Ni2+  0.96688  0.98507  0.21947\n",
      "  2  Ni2+  0.53312  0.48507  0.28053\n",
      "  3  Ni2+  0.03312  0.01493  0.78053\n",
      "  4  P5+   0.78727  0.12572  0.95715\n",
      "  5  P5+   0.28727  0.37428  0.45715\n",
      "  6  P5+   0.21273  0.87428  0.04285\n",
      "  7  P5+   0.71273  0.62572  0.54285\n",
      "  8  P5+   0.18776  0.38687  0.8249\n",
      "  9  P5+   0.68776  0.11313  0.3249\n",
      " 10  P5+   0.81224  0.61313  0.1751\n",
      " 11  P5+   0.31224  0.88687  0.6751\n",
      " 12  P5+   0.55998  0.11181  0.74479\n",
      " 13  P5+   0.05998  0.38819  0.24479\n",
      " 14  P5+   0.44002  0.88819  0.25521\n",
      " 15  P5+   0.94002  0.61181  0.75521\n",
      " 16  P5+   0.24186  0.50091  0.07245\n",
      " 17  P5+   0.74186  0.99909  0.57245\n",
      " 18  P5+   0.75814  0.49909  0.92755\n",
      " 19  P5+   0.25814  0.00091  0.42755\n",
      " 20  O2-   0.34288  0.4198   0.83201\n",
      " 21  O2-   0.84288  0.0802   0.33201\n",
      " 22  O2-   0.65712  0.5802   0.16799\n",
      " 23  O2-   0.15712  0.9198   0.66799\n",
      " 24  O2-   0.15624  0.3961   0.96438\n",
      " 25  O2-   0.65624  0.1039   0.46438\n",
      " 26  O2-   0.84376  0.6039   0.03562\n",
      " 27  O2-   0.34376  0.8961   0.53562\n",
      " 28  O2-   0.3868   0.742    0.73557\n",
      " 29  O2-   0.8868   0.758    0.23557\n",
      " 30  O2-   0.6132   0.258    0.26443\n",
      " 31  O2-   0.1132   0.242    0.76443\n",
      " 32  O2-   0.5753   0.2855   0.7095\n",
      " 33  O2-   0.0753   0.2145   0.2095\n",
      " 34  O2-   0.4247   0.7145   0.2905\n",
      " 35  O2-   0.9247   0.7855   0.7905\n",
      " 36  O2-   0.6187   0.5695   0.87272\n",
      " 37  O2-   0.1187   0.9305   0.37272\n",
      " 38  O2-   0.3813   0.4305   0.12728\n",
      " 39  O2-   0.8813   0.0695   0.62728\n",
      " 40  O2-   0.09896  0.5525   0.76851\n",
      " 41  O2-   0.59896  0.9475   0.26851\n",
      " 42  O2-   0.90104  0.4475   0.23149\n",
      " 43  O2-   0.40104  0.0525   0.73149\n",
      " 44  O2-   0.63     0.0691   0.87942\n",
      " 45  O2-   0.13     0.4309   0.37942\n",
      " 46  O2-   0.37     0.9309   0.12058\n",
      " 47  O2-   0.87     0.5691   0.62058\n",
      " 48  O2-   0.6043   0.6173   0.62106\n",
      " 49  O2-   0.1043   0.8827   0.12106\n",
      " 50  O2-   0.3957   0.3827   0.37894\n",
      " 51  O2-   0.8957   0.1173   0.87894\n",
      " 52  O2-   0.755    0.3205   0.98025\n",
      " 53  O2-   0.255    0.1795   0.48025\n",
      " 54  O2-   0.245    0.6795   0.01975\n",
      " 55  O2-   0.745    0.8205   0.51975\n",
      " 56  O2-   0.6302   0.9859   0.66312\n",
      " 57  O2-   0.1302   0.5141   0.16312\n",
      " 58  O2-   0.3698   0.0141   0.33688\n",
      " 59  O2-   0.8698   0.4859   0.83688\n",
      " 60  O2-   0.3027   0.4592   0.57532\n",
      " 61  O2-   0.8027   0.0408   0.07532\n",
      " 62  O2-   0.6973   0.5408   0.42468\n",
      " 63  O2-   0.1973   0.9592   0.92468\n"
     ]
    }
   ],
   "source": [
    "structure = Structure.from_file(\"EntryWithCollCode79697.cif\")\n",
    "print(structure)"
   ]
  },
  {
   "cell_type": "code",
   "execution_count": 6,
   "id": "be4ce28c",
   "metadata": {},
   "outputs": [
    {
     "name": "stdout",
     "output_type": "stream",
     "text": [
      "Full Formula (Ni4 P16 O44)\n",
      "Reduced Formula: NiP4O11\n",
      "abc   :   9.375000   8.019000  11.135000\n",
      "angles:  90.000000 100.730000  90.000000\n",
      "Sites (64)\n",
      "  #  SP          a        b        c\n",
      "---  ----  -------  -------  -------\n",
      "  0  Ni2+  0.46688  0.51493  0.71947\n",
      "  1  Ni2+  0.96688  0.98507  0.21947\n",
      "  2  Ni2+  0.53312  0.48507  0.28053\n",
      "  3  Ni2+  0.03312  0.01493  0.78053\n",
      "  4  P5+   0.78727  0.12572  0.95715\n",
      "  5  P5+   0.28727  0.37428  0.45715\n",
      "  6  P5+   0.21273  0.87428  0.04285\n",
      "  7  P5+   0.71273  0.62572  0.54285\n",
      "  8  P5+   0.18776  0.38687  0.8249\n",
      "  9  P5+   0.68776  0.11313  0.3249\n",
      " 10  P5+   0.81224  0.61313  0.1751\n",
      " 11  P5+   0.31224  0.88687  0.6751\n",
      " 12  P5+   0.55998  0.11181  0.74479\n",
      " 13  P5+   0.05998  0.38819  0.24479\n",
      " 14  P5+   0.44002  0.88819  0.25521\n",
      " 15  P5+   0.94002  0.61181  0.75521\n",
      " 16  P5+   0.24186  0.50091  0.07245\n",
      " 17  P5+   0.74186  0.99909  0.57245\n",
      " 18  P5+   0.75814  0.49909  0.92755\n",
      " 19  P5+   0.25814  0.00091  0.42755\n",
      " 20  O2-   0.34288  0.4198   0.83201\n",
      " 21  O2-   0.84288  0.0802   0.33201\n",
      " 22  O2-   0.65712  0.5802   0.16799\n",
      " 23  O2-   0.15712  0.9198   0.66799\n",
      " 24  O2-   0.15624  0.3961   0.96438\n",
      " 25  O2-   0.65624  0.1039   0.46438\n",
      " 26  O2-   0.84376  0.6039   0.03562\n",
      " 27  O2-   0.34376  0.8961   0.53562\n",
      " 28  O2-   0.3868   0.742    0.73557\n",
      " 29  O2-   0.8868   0.758    0.23557\n",
      " 30  O2-   0.6132   0.258    0.26443\n",
      " 31  O2-   0.1132   0.242    0.76443\n",
      " 32  O2-   0.5753   0.2855   0.7095\n",
      " 33  O2-   0.0753   0.2145   0.2095\n",
      " 34  O2-   0.4247   0.7145   0.2905\n",
      " 35  O2-   0.9247   0.7855   0.7905\n",
      " 36  O2-   0.6187   0.5695   0.87272\n",
      " 37  O2-   0.1187   0.9305   0.37272\n",
      " 38  O2-   0.3813   0.4305   0.12728\n",
      " 39  O2-   0.8813   0.0695   0.62728\n",
      " 40  O2-   0.09896  0.5525   0.76851\n",
      " 41  O2-   0.59896  0.9475   0.26851\n",
      " 42  O2-   0.90104  0.4475   0.23149\n",
      " 43  O2-   0.40104  0.0525   0.73149\n",
      " 44  O2-   0.63     0.0691   0.87942\n",
      " 45  O2-   0.13     0.4309   0.37942\n",
      " 46  O2-   0.37     0.9309   0.12058\n",
      " 47  O2-   0.87     0.5691   0.62058\n",
      " 48  O2-   0.6043   0.6173   0.62106\n",
      " 49  O2-   0.1043   0.8827   0.12106\n",
      " 50  O2-   0.3957   0.3827   0.37894\n",
      " 51  O2-   0.8957   0.1173   0.87894\n",
      " 52  O2-   0.755    0.3205   0.98025\n",
      " 53  O2-   0.255    0.1795   0.48025\n",
      " 54  O2-   0.245    0.6795   0.01975\n",
      " 55  O2-   0.745    0.8205   0.51975\n",
      " 56  O2-   0.6302   0.9859   0.66312\n",
      " 57  O2-   0.1302   0.5141   0.16312\n",
      " 58  O2-   0.3698   0.0141   0.33688\n",
      " 59  O2-   0.8698   0.4859   0.83688\n",
      " 60  O2-   0.3027   0.4592   0.57532\n",
      " 61  O2-   0.8027   0.0408   0.07532\n",
      " 62  O2-   0.6973   0.5408   0.42468\n",
      " 63  O2-   0.1973   0.9592   0.92468\n"
     ]
    }
   ],
   "source": [
    "from pymatgen.core.composition import Composition\n",
    "from pymatgen.core.lattice import Lattice\n",
    "from pymatgen.core.operations import SymmOp\n",
    "from pymatgen.core.periodic_table import Element, Species\n",
    "from pymatgen.core.structure import (\n",
    "    IMolecule,\n",
    "    IStructure,\n",
    "    Molecule,\n",
    "    Structure,\n",
    "    StructureError,\n",
    ")\n",
    "\n",
    "s = structure.get_primitive_structure()\n",
    "print(s)"
   ]
  },
  {
   "cell_type": "code",
   "execution_count": 7,
   "id": "b73e4db1",
   "metadata": {},
   "outputs": [
    {
     "name": "stderr",
     "output_type": "stream",
     "text": [
      "/apps/anaconda/envs/pymatgen/lib/python3.9/site-packages/pymatgen/io/vasp/inputs.py:1751: UserWarning: Ignoring unknown variable type SHA256\n",
      "  warnings.warn(\"Ignoring unknown variable type %s\" % key)\n",
      "/apps/anaconda/envs/pymatgen/lib/python3.9/site-packages/pymatgen/io/vasp/inputs.py:1751: UserWarning: Ignoring unknown variable type COPYR\n",
      "  warnings.warn(\"Ignoring unknown variable type %s\" % key)\n",
      "/apps/anaconda/envs/pymatgen/lib/python3.9/site-packages/pymatgen/io/vasp/sets.py:129: BadInputSetWarning: POTCAR data with symbol Ni_pv is not known by pymatgen to                    correspond with the selected potcar_functional PBE. This POTCAR                    is known to correspond with functionals ['PBE_54', 'unvie_PBE_52', 'PBE_52']. Please verify that                    you are using the right POTCARs!\n",
      "  warnings.warn(\n",
      "/apps/anaconda/envs/pymatgen/lib/python3.9/site-packages/pymatgen/io/vasp/sets.py:129: BadInputSetWarning: POTCAR data with symbol P is not known by pymatgen to                    correspond with the selected potcar_functional PBE. This POTCAR                    is known to correspond with functionals ['PBE_54', 'unvie_PBE_52', 'PBE_52']. Please verify that                    you are using the right POTCARs!\n",
      "  warnings.warn(\n",
      "/apps/anaconda/envs/pymatgen/lib/python3.9/site-packages/pymatgen/io/vasp/sets.py:129: BadInputSetWarning: POTCAR data with symbol O is not known by pymatgen to                    correspond with the selected potcar_functional PBE. This POTCAR                    is known to correspond with functionals ['PBE_54', 'unvie_PBE_52', 'PBE_52']. Please verify that                    you are using the right POTCARs!\n",
      "  warnings.warn(\n"
     ]
    }
   ],
   "source": [
    "from pymatgen.core.structure import Element\n",
    "from pymatgen.io.vasp.sets import MPRelaxSet\n",
    "from pymatgen.io.vasp.inputs import Potcar\n",
    "#import os\n",
    "#os.chdir('/home/derejeb/data/Vasp_potcars/potcars')\n",
    "\n",
    "from pymatgen.io.vasp.sets import MPRelaxSet\n",
    "from pymatgen.io.vasp.inputs import Kpoints\n",
    "kpoints = Kpoints.automatic(32)\n",
    "relaxset = MPRelaxSet(s,user_kpoints_settings=kpoints)\n",
    "relaxset.write_input('NiP4O11')\n"
   ]
  },
  {
   "cell_type": "code",
   "execution_count": null,
   "id": "5611c676",
   "metadata": {},
   "outputs": [],
   "source": []
  }
 ],
 "metadata": {
  "kernelspec": {
   "display_name": "Python 3",
   "language": "python",
   "name": "python3"
  },
  "language_info": {
   "codemirror_mode": {
    "name": "ipython",
    "version": 3
   },
   "file_extension": ".py",
   "mimetype": "text/x-python",
   "name": "python",
   "nbconvert_exporter": "python",
   "pygments_lexer": "ipython3",
   "version": "3.9.4"
  }
 },
 "nbformat": 4,
 "nbformat_minor": 5
}
