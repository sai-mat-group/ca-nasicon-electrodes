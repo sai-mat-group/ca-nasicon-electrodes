{
 "cells": [
  {
   "cell_type": "code",
   "execution_count": 1,
   "id": "04addb5d",
   "metadata": {},
   "outputs": [],
   "source": [
    "import pymatgen"
   ]
  },
  {
   "cell_type": "code",
   "execution_count": 2,
   "id": "029437c7",
   "metadata": {},
   "outputs": [],
   "source": [
    "from pymatgen.core import Structure"
   ]
  },
  {
   "cell_type": "code",
   "execution_count": 3,
   "id": "19230a4a",
   "metadata": {},
   "outputs": [],
   "source": [
    "import os"
   ]
  },
  {
   "cell_type": "code",
   "execution_count": 4,
   "id": "563851d1",
   "metadata": {},
   "outputs": [],
   "source": [
    "os.chdir('/home/derejeb/data/Ca-Ni-P-O/NiP3/')"
   ]
  },
  {
   "cell_type": "code",
   "execution_count": 5,
   "id": "36332a54",
   "metadata": {},
   "outputs": [
    {
     "name": "stdout",
     "output_type": "stream",
     "text": [
      "Full Formula (Ni8 P24)\n",
      "Reduced Formula: NiP3\n",
      "abc   :   7.815700   7.815700   7.815700\n",
      "angles:  90.000000  90.000000  90.000000\n",
      "Sites (32)\n",
      "  #  SP          a        b        c\n",
      "---  ----  -------  -------  -------\n",
      "  0  Ni0+  0.75     0.25     0.25\n",
      "  1  Ni0+  0.25     0.25     0.75\n",
      "  2  Ni0+  0.25     0.75     0.25\n",
      "  3  Ni0+  0.75     0.75     0.75\n",
      "  4  Ni0+  0.25     0.75     0.75\n",
      "  5  Ni0+  0.75     0.75     0.25\n",
      "  6  Ni0+  0.75     0.25     0.75\n",
      "  7  Ni0+  0.25     0.25     0.25\n",
      "  8  P0+   0.85766  0        0.35531\n",
      "  9  P0+   0.14234  0        0.64469\n",
      " 10  P0+   0.14234  0        0.35531\n",
      " 11  P0+   0.85766  0        0.64469\n",
      " 12  P0+   0.35531  0.85766  0\n",
      " 13  P0+   0.64469  0.14234  0\n",
      " 14  P0+   0.35531  0.14234  0\n",
      " 15  P0+   0.64469  0.85766  0\n",
      " 16  P0+   0        0.35531  0.85766\n",
      " 17  P0+   0        0.64469  0.14234\n",
      " 18  P0+   0        0.35531  0.14234\n",
      " 19  P0+   0        0.64469  0.85766\n",
      " 20  P0+   0.35766  0.5      0.85531\n",
      " 21  P0+   0.64234  0.5      0.14469\n",
      " 22  P0+   0.64234  0.5      0.85531\n",
      " 23  P0+   0.35766  0.5      0.14469\n",
      " 24  P0+   0.85531  0.35766  0.5\n",
      " 25  P0+   0.14469  0.64234  0.5\n",
      " 26  P0+   0.85531  0.64234  0.5\n",
      " 27  P0+   0.14469  0.35766  0.5\n",
      " 28  P0+   0.5      0.85531  0.35766\n",
      " 29  P0+   0.5      0.14469  0.64234\n",
      " 30  P0+   0.5      0.85531  0.64234\n",
      " 31  P0+   0.5      0.14469  0.35766\n"
     ]
    }
   ],
   "source": [
    "structure = Structure.from_file(\"EntryWithCollCode92394.cif\")\n",
    "print(structure)"
   ]
  },
  {
   "cell_type": "code",
   "execution_count": 6,
   "id": "be4ce28c",
   "metadata": {},
   "outputs": [
    {
     "name": "stdout",
     "output_type": "stream",
     "text": [
      "Full Formula (Ni4 P12)\n",
      "Reduced Formula: NiP3\n",
      "abc   :   6.768595   6.768595   6.768595\n",
      "angles: 109.471221 109.471221 109.471221\n",
      "Sites (16)\n",
      "  #  SP          a        b        c\n",
      "---  ----  -------  -------  -------\n",
      "  0  Ni0+  0        0.5      0\n",
      "  1  Ni0+  0.5      0.5      0.5\n",
      "  2  Ni0+  0        1        0.5\n",
      "  3  Ni0+  0.5      0        0\n",
      "  4  P0+   0.85766  0.50235  0.64469\n",
      "  5  P0+   0.14234  0.49765  0.35531\n",
      "  6  P0+   0.14234  0.78703  0.64469\n",
      "  7  P0+   0.85766  0.21297  0.35531\n",
      "  8  P0+   0.21297  0.35531  0.85766\n",
      "  9  P0+   0.78703  0.64469  0.14234\n",
      " 10  P0+   0.49765  0.35531  0.14234\n",
      " 11  P0+   0.50235  0.64469  0.85766\n",
      " 12  P0+   0.35531  0.14234  0.49765\n",
      " 13  P0+   0.64469  0.85766  0.50235\n",
      " 14  P0+   0.35531  0.85766  0.21297\n",
      " 15  P0+   0.64469  0.14234  0.78703\n"
     ]
    }
   ],
   "source": [
    "from pymatgen.core.composition import Composition\n",
    "from pymatgen.core.lattice import Lattice\n",
    "from pymatgen.core.operations import SymmOp\n",
    "from pymatgen.core.periodic_table import Element, Species\n",
    "from pymatgen.core.structure import (\n",
    "    IMolecule,\n",
    "    IStructure,\n",
    "    Molecule,\n",
    "    Structure,\n",
    "    StructureError,\n",
    ")\n",
    "\n",
    "s = structure.get_primitive_structure()\n",
    "print(s)"
   ]
  },
  {
   "cell_type": "code",
   "execution_count": 7,
   "id": "b73e4db1",
   "metadata": {},
   "outputs": [
    {
     "name": "stderr",
     "output_type": "stream",
     "text": [
      "/apps/anaconda/envs/pymatgen/lib/python3.9/site-packages/pymatgen/io/vasp/inputs.py:1751: UserWarning: Ignoring unknown variable type SHA256\n",
      "  warnings.warn(\"Ignoring unknown variable type %s\" % key)\n",
      "/apps/anaconda/envs/pymatgen/lib/python3.9/site-packages/pymatgen/io/vasp/inputs.py:1751: UserWarning: Ignoring unknown variable type COPYR\n",
      "  warnings.warn(\"Ignoring unknown variable type %s\" % key)\n",
      "/apps/anaconda/envs/pymatgen/lib/python3.9/site-packages/pymatgen/io/vasp/sets.py:129: BadInputSetWarning: POTCAR data with symbol Ni_pv is not known by pymatgen to                    correspond with the selected potcar_functional PBE. This POTCAR                    is known to correspond with functionals ['unvie_PBE_52', 'PBE_52', 'PBE_54']. Please verify that                    you are using the right POTCARs!\n",
      "  warnings.warn(\n",
      "/apps/anaconda/envs/pymatgen/lib/python3.9/site-packages/pymatgen/io/vasp/sets.py:129: BadInputSetWarning: POTCAR data with symbol P is not known by pymatgen to                    correspond with the selected potcar_functional PBE. This POTCAR                    is known to correspond with functionals ['unvie_PBE_52', 'PBE_52', 'PBE_54']. Please verify that                    you are using the right POTCARs!\n",
      "  warnings.warn(\n"
     ]
    }
   ],
   "source": [
    "from pymatgen.core.structure import Element\n",
    "from pymatgen.io.vasp.sets import MPRelaxSet\n",
    "from pymatgen.io.vasp.inputs import Potcar\n",
    "#import os\n",
    "#os.chdir('/home/derejeb/data/Vasp_potcars/potcars')\n",
    "\n",
    "from pymatgen.io.vasp.sets import MPRelaxSet\n",
    "from pymatgen.io.vasp.inputs import Kpoints\n",
    "kpoints = Kpoints.automatic(32)\n",
    "relaxset = MPRelaxSet(s,user_kpoints_settings=kpoints)\n",
    "relaxset.write_input('NiP3')\n"
   ]
  },
  {
   "cell_type": "code",
   "execution_count": null,
   "id": "5611c676",
   "metadata": {},
   "outputs": [],
   "source": []
  }
 ],
 "metadata": {
  "kernelspec": {
   "display_name": "Python 3",
   "language": "python",
   "name": "python3"
  },
  "language_info": {
   "codemirror_mode": {
    "name": "ipython",
    "version": 3
   },
   "file_extension": ".py",
   "mimetype": "text/x-python",
   "name": "python",
   "nbconvert_exporter": "python",
   "pygments_lexer": "ipython3",
   "version": "3.9.4"
  }
 },
 "nbformat": 4,
 "nbformat_minor": 5
}
