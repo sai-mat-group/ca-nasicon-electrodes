{
 "cells": [
  {
   "cell_type": "code",
   "execution_count": 1,
   "id": "extensive-syntax",
   "metadata": {},
   "outputs": [],
   "source": [
    "from pymatgen.core import Structure\n",
    "import os\n",
    "os.chdir('/home/smart/Downloads')\n",
    "structure = Structure.from_file('EntryWithCollCode20340.cif')"
   ]
  },
  {
   "cell_type": "code",
   "execution_count": 2,
   "id": "stylish-annotation",
   "metadata": {},
   "outputs": [],
   "source": [
    "s1 = structure.copy()\n",
    "\n",
    "#print(s1)"
   ]
  },
  {
   "cell_type": "code",
   "execution_count": 3,
   "id": "desirable-forth",
   "metadata": {},
   "outputs": [],
   "source": [
    "s1.replace_species({('Na+'):('Ca2+')})\n",
    "s2 = s1.copy()\n",
    "#print(s2)"
   ]
  },
  {
   "cell_type": "code",
   "execution_count": 4,
   "id": "thousand-parking",
   "metadata": {},
   "outputs": [],
   "source": [
    "s2.replace_species({('Zr4+'):('Ni2+')})\n",
    "s2.replace_species({('Si4+'):('P5+')})\n",
    "s3= s2.copy()\n",
    "#print(s3)"
   ]
  },
  {
   "cell_type": "code",
   "execution_count": 5,
   "id": "disciplinary-february",
   "metadata": {},
   "outputs": [],
   "source": [
    "from pymatgen.analysis.structure_prediction.volume_predictor import RLSVolumePredictor\n",
    "p = RLSVolumePredictor(radii_type=\"atomic\")\n",
    "s4= p.get_predicted_structure(s3,structure)"
   ]
  },
  {
   "cell_type": "code",
   "execution_count": 14,
   "id": "tropical-toolbox",
   "metadata": {},
   "outputs": [],
   "source": [
    "\n",
    "from pymatgen.core.structure import Element\n",
    "from pymatgen.transformations.standard_transformations import SubstitutionTransformation, AutoOxiStateDecorationTransformation \n",
    "trans = SubstitutionTransformation({'Ca2+':{'Ca2+':0.625}})\n",
    "s5 = trans.apply_transformation(s4)\n",
    "s6 = s5.copy()\n",
    "#print(s6)"
   ]
  },
  {
   "cell_type": "code",
   "execution_count": 7,
   "id": "b178c006",
   "metadata": {},
   "outputs": [],
   "source": [
    "from pymatgen.transformations.advanced_transformations import EnumerateStructureTransformation"
   ]
  },
  {
   "cell_type": "code",
   "execution_count": 8,
   "id": "fe4da697",
   "metadata": {},
   "outputs": [],
   "source": [
    "d=EnumerateStructureTransformation(refine_structure=False)\n"
   ]
  },
  {
   "cell_type": "code",
   "execution_count": 9,
   "id": "a9fa9911",
   "metadata": {},
   "outputs": [],
   "source": [
    "from pymatgen.alchemy.transmuters import StandardTransmuter"
   ]
  },
  {
   "cell_type": "code",
   "execution_count": 10,
   "id": "bd62a399",
   "metadata": {},
   "outputs": [],
   "source": [
    "transmuter = StandardTransmuter.from_structures([s6],transformations=[d], extend_collection=25000)\n"
   ]
  },
  {
   "cell_type": "code",
   "execution_count": 11,
   "id": "fe33f725",
   "metadata": {},
   "outputs": [],
   "source": [
    "from pymatgen.alchemy.filters import RemoveDuplicatesFilter\n",
    "fil = RemoveDuplicatesFilter(symprec=1e-5)\n",
    "transmuter.apply_filter(fil)"
   ]
  },
  {
   "cell_type": "code",
   "execution_count": 12,
   "id": "f8f5d6c6",
   "metadata": {},
   "outputs": [
    {
     "name": "stdout",
     "output_type": "stream",
     "text": [
      "7\n"
     ]
    }
   ],
   "source": [
    "print(len(transmuter))"
   ]
  },
  {
   "cell_type": "code",
   "execution_count": 13,
   "id": "1b22ff39",
   "metadata": {},
   "outputs": [
    {
     "name": "stderr",
     "output_type": "stream",
     "text": [
      "/home/smart/anaconda3/envs/ankit_pymatgen/lib/python3.7/site-packages/pymatgen/io/vasp/sets.py:138: BadInputSetWarning: POTCAR data with symbol Ca_sv is not known by pymatgen to                    correspond with the selected potcar_functional PBE. This POTCAR                    is known to correspond with functionals ['PBE_54', 'unvie_PBE_52', 'PBE_52']. Please verify that                    you are using the right POTCARs!\n",
      "  BadInputSetWarning,\n",
      "/home/smart/anaconda3/envs/ankit_pymatgen/lib/python3.7/site-packages/pymatgen/io/vasp/sets.py:138: BadInputSetWarning: POTCAR data with symbol Ni_pv is not known by pymatgen to                    correspond with the selected potcar_functional PBE. This POTCAR                    is known to correspond with functionals ['PBE_54', 'unvie_PBE_52', 'PBE_52']. Please verify that                    you are using the right POTCARs!\n",
      "  BadInputSetWarning,\n",
      "/home/smart/anaconda3/envs/ankit_pymatgen/lib/python3.7/site-packages/pymatgen/io/vasp/sets.py:138: BadInputSetWarning: POTCAR data with symbol P is not known by pymatgen to                    correspond with the selected potcar_functional PBE. This POTCAR                    is known to correspond with functionals ['PBE_54', 'unvie_PBE_52', 'PBE_52']. Please verify that                    you are using the right POTCARs!\n",
      "  BadInputSetWarning,\n",
      "/home/smart/anaconda3/envs/ankit_pymatgen/lib/python3.7/site-packages/pymatgen/io/vasp/sets.py:138: BadInputSetWarning: POTCAR data with symbol O is not known by pymatgen to                    correspond with the selected potcar_functional PBE. This POTCAR                    is known to correspond with functionals ['PBE_54', 'unvie_PBE_52', 'PBE_52']. Please verify that                    you are using the right POTCARs!\n",
      "  BadInputSetWarning,\n"
     ]
    }
   ],
   "source": [
    "from pymatgen.io.vasp.sets import MPRelaxSet\n",
    "from pymatgen.io.vasp.inputs import Kpoints\n",
    "import os\n",
    "os.chdir('/home/smart/Ankit/VASP/Ca2.5_M2_PO4_SCAN+U/Nickel/')\n",
    "kpoints = Kpoints.automatic(32)\n",
    "transmuter.write_vasp_input(vasp_input_set=MPRelaxSet,user_kpoints_settings=kpoints)"
   ]
  },
  {
   "cell_type": "code",
   "execution_count": null,
   "id": "d8ebd73d",
   "metadata": {},
   "outputs": [],
   "source": []
  }
 ],
 "metadata": {
  "kernelspec": {
   "display_name": "Python 3",
   "language": "python",
   "name": "python3"
  },
  "language_info": {
   "codemirror_mode": {
    "name": "ipython",
    "version": 3
   },
   "file_extension": ".py",
   "mimetype": "text/x-python",
   "name": "python",
   "nbconvert_exporter": "python",
   "pygments_lexer": "ipython3",
   "version": "3.7.10"
  }
 },
 "nbformat": 4,
 "nbformat_minor": 5
}
