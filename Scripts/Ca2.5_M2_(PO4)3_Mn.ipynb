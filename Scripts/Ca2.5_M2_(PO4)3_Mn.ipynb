{
 "cells": [
  {
   "cell_type": "code",
   "execution_count": 1,
   "id": "extensive-syntax",
   "metadata": {},
   "outputs": [],
   "source": [
    "from pymatgen.core import Structure\n",
    "import os\n",
    "os.chdir('/home/smart/Downloads')\n",
    "structure = Structure.from_file('EntryWithCollCode20340.cif')"
   ]
  },
  {
   "cell_type": "code",
   "execution_count": 2,
   "id": "stylish-annotation",
   "metadata": {},
   "outputs": [],
   "source": [
    "s1 = structure.copy()\n",
    "\n",
    "#print(s1)"
   ]
  },
  {
   "cell_type": "code",
   "execution_count": 3,
   "id": "desirable-forth",
   "metadata": {},
   "outputs": [],
   "source": [
    "s1.replace_species({('Na+'):('Ca2+')})\n",
    "s2 = s1.copy()\n",
    "#print(s2)"
   ]
  },
  {
   "cell_type": "code",
   "execution_count": 4,
   "id": "thousand-parking",
   "metadata": {},
   "outputs": [
    {
     "name": "stdout",
     "output_type": "stream",
     "text": [
      "Full Formula (Ca8 Mn4 P6 O24)\n",
      "Reduced Formula: Ca4Mn2(PO4)3\n",
      "abc   :   9.106000   9.106000   9.106000\n",
      "angles:  60.600000  60.600000  60.600000\n",
      "Sites (42)\n",
      "  #  SP         a       b       c\n",
      "---  ----  ------  ------  ------\n",
      "  0  Ca2+  0.5     0.5     0.5\n",
      "  1  Ca2+  0       0       0\n",
      "  2  Ca2+  0.3941  0.7462  0.1182\n",
      "  3  Ca2+  0.8941  0.6182  0.2462\n",
      "  4  Ca2+  0.1182  0.3941  0.7462\n",
      "  5  Ca2+  0.2462  0.8941  0.6182\n",
      "  6  Ca2+  0.7462  0.1182  0.3941\n",
      "  7  Ca2+  0.6182  0.2462  0.8941\n",
      "  8  Mn2+  0.6436  0.6436  0.6436\n",
      "  9  Mn2+  0.1436  0.1436  0.1436\n",
      " 10  Mn2+  0.8502  0.8502  0.8502\n",
      " 11  Mn2+  0.3502  0.3502  0.3502\n",
      " 12  P5+   0.9499  0.2463  0.5442\n",
      " 13  P5+   0.4499  0.0442  0.7463\n",
      " 14  P5+   0.5442  0.9499  0.2463\n",
      " 15  P5+   0.7463  0.4499  0.0442\n",
      " 16  P5+   0.2463  0.5442  0.9499\n",
      " 17  P5+   0.0442  0.7463  0.4499\n",
      " 18  O2-   0.4189  0.5612  0.7691\n",
      " 19  O2-   0.9189  0.2691  0.0612\n",
      " 20  O2-   0.7691  0.4189  0.5612\n",
      " 21  O2-   0.0612  0.9189  0.2691\n",
      " 22  O2-   0.5612  0.7691  0.4189\n",
      " 23  O2-   0.2691  0.0612  0.9189\n",
      " 24  O2-   0.7291  0.9301  0.0801\n",
      " 25  O2-   0.2291  0.5801  0.4301\n",
      " 26  O2-   0.0801  0.7291  0.9301\n",
      " 27  O2-   0.4301  0.2291  0.5801\n",
      " 28  O2-   0.9301  0.0801  0.7291\n",
      " 29  O2-   0.5801  0.4301  0.2291\n",
      " 30  O2-   0.9849  0.2102  0.3713\n",
      " 31  O2-   0.4849  0.8713  0.7102\n",
      " 32  O2-   0.3713  0.9849  0.2102\n",
      " 33  O2-   0.7102  0.4849  0.8713\n",
      " 34  O2-   0.2102  0.3713  0.9849\n",
      " 35  O2-   0.8713  0.7102  0.4849\n",
      " 36  O2-   0.1191  0.2919  0.5061\n",
      " 37  O2-   0.6191  0.0061  0.7919\n",
      " 38  O2-   0.5061  0.1191  0.2919\n",
      " 39  O2-   0.7919  0.6191  0.0061\n",
      " 40  O2-   0.2919  0.5061  0.1191\n",
      " 41  O2-   0.0061  0.7919  0.6191\n"
     ]
    }
   ],
   "source": [
    "s2.replace_species({('Zr4+'):('Mn2+')})\n",
    "s2.replace_species({('Si4+'):('P5+')})\n",
    "s3= s2.copy()\n",
    "print(s3)"
   ]
  },
  {
   "cell_type": "code",
   "execution_count": 5,
   "id": "disciplinary-february",
   "metadata": {},
   "outputs": [],
   "source": [
    "from pymatgen.analysis.structure_prediction.volume_predictor import RLSVolumePredictor\n",
    "p = RLSVolumePredictor(radii_type=\"atomic\")\n",
    "s4= p.get_predicted_structure(s3,structure)"
   ]
  },
  {
   "cell_type": "code",
   "execution_count": 6,
   "id": "tropical-toolbox",
   "metadata": {},
   "outputs": [
    {
     "name": "stdout",
     "output_type": "stream",
     "text": [
      "Full Formula (Ca5 Mn4 P6 O24)\n",
      "Reduced Formula: Ca5Mn4(PO4)6\n",
      "abc   :   8.715510   8.715510   8.715510\n",
      "angles:  60.600000  60.600000  60.600000\n",
      "Sites (42)\n",
      "  #  SP               a       b       c\n",
      "---  ----------  ------  ------  ------\n",
      "  0  Ca2+:0.625  0.5     0.5     0.5\n",
      "  1  Ca2+:0.625  0       0       0\n",
      "  2  Ca2+:0.625  0.3941  0.7462  0.1182\n",
      "  3  Ca2+:0.625  0.8941  0.6182  0.2462\n",
      "  4  Ca2+:0.625  0.1182  0.3941  0.7462\n",
      "  5  Ca2+:0.625  0.2462  0.8941  0.6182\n",
      "  6  Ca2+:0.625  0.7462  0.1182  0.3941\n",
      "  7  Ca2+:0.625  0.6182  0.2462  0.8941\n",
      "  8  Mn2+        0.6436  0.6436  0.6436\n",
      "  9  Mn2+        0.1436  0.1436  0.1436\n",
      " 10  Mn2+        0.8502  0.8502  0.8502\n",
      " 11  Mn2+        0.3502  0.3502  0.3502\n",
      " 12  P5+         0.9499  0.2463  0.5442\n",
      " 13  P5+         0.4499  0.0442  0.7463\n",
      " 14  P5+         0.5442  0.9499  0.2463\n",
      " 15  P5+         0.7463  0.4499  0.0442\n",
      " 16  P5+         0.2463  0.5442  0.9499\n",
      " 17  P5+         0.0442  0.7463  0.4499\n",
      " 18  O2-         0.4189  0.5612  0.7691\n",
      " 19  O2-         0.9189  0.2691  0.0612\n",
      " 20  O2-         0.7691  0.4189  0.5612\n",
      " 21  O2-         0.0612  0.9189  0.2691\n",
      " 22  O2-         0.5612  0.7691  0.4189\n",
      " 23  O2-         0.2691  0.0612  0.9189\n",
      " 24  O2-         0.7291  0.9301  0.0801\n",
      " 25  O2-         0.2291  0.5801  0.4301\n",
      " 26  O2-         0.0801  0.7291  0.9301\n",
      " 27  O2-         0.4301  0.2291  0.5801\n",
      " 28  O2-         0.9301  0.0801  0.7291\n",
      " 29  O2-         0.5801  0.4301  0.2291\n",
      " 30  O2-         0.9849  0.2102  0.3713\n",
      " 31  O2-         0.4849  0.8713  0.7102\n",
      " 32  O2-         0.3713  0.9849  0.2102\n",
      " 33  O2-         0.7102  0.4849  0.8713\n",
      " 34  O2-         0.2102  0.3713  0.9849\n",
      " 35  O2-         0.8713  0.7102  0.4849\n",
      " 36  O2-         0.1191  0.2919  0.5061\n",
      " 37  O2-         0.6191  0.0061  0.7919\n",
      " 38  O2-         0.5061  0.1191  0.2919\n",
      " 39  O2-         0.7919  0.6191  0.0061\n",
      " 40  O2-         0.2919  0.5061  0.1191\n",
      " 41  O2-         0.0061  0.7919  0.6191\n"
     ]
    }
   ],
   "source": [
    "\n",
    "from pymatgen.core.structure import Element\n",
    "from pymatgen.transformations.standard_transformations import SubstitutionTransformation, AutoOxiStateDecorationTransformation \n",
    "trans = SubstitutionTransformation({'Ca2+':{'Ca2+':0.625}})\n",
    "s5 = trans.apply_transformation(s4)\n",
    "s6 = s5.copy()\n",
    "print(s6)"
   ]
  },
  {
   "cell_type": "code",
   "execution_count": 7,
   "id": "b178c006",
   "metadata": {},
   "outputs": [],
   "source": [
    "from pymatgen.transformations.advanced_transformations import EnumerateStructureTransformation"
   ]
  },
  {
   "cell_type": "code",
   "execution_count": 8,
   "id": "fe4da697",
   "metadata": {},
   "outputs": [],
   "source": [
    "d=EnumerateStructureTransformation(refine_structure=False)\n"
   ]
  },
  {
   "cell_type": "code",
   "execution_count": 9,
   "id": "a9fa9911",
   "metadata": {},
   "outputs": [],
   "source": [
    "from pymatgen.alchemy.transmuters import StandardTransmuter"
   ]
  },
  {
   "cell_type": "code",
   "execution_count": 10,
   "id": "bd62a399",
   "metadata": {},
   "outputs": [],
   "source": [
    "transmuter = StandardTransmuter.from_structures([s6],transformations=[d], extend_collection=25000)\n"
   ]
  },
  {
   "cell_type": "code",
   "execution_count": 11,
   "id": "fe33f725",
   "metadata": {},
   "outputs": [],
   "source": [
    "from pymatgen.alchemy.filters import RemoveDuplicatesFilter\n",
    "fil = RemoveDuplicatesFilter(symprec=1e-5)\n",
    "transmuter.apply_filter(fil)"
   ]
  },
  {
   "cell_type": "code",
   "execution_count": 12,
   "id": "f8f5d6c6",
   "metadata": {},
   "outputs": [
    {
     "name": "stdout",
     "output_type": "stream",
     "text": [
      "7\n"
     ]
    }
   ],
   "source": [
    "print(len(transmuter))"
   ]
  },
  {
   "cell_type": "code",
   "execution_count": 14,
   "id": "1b22ff39",
   "metadata": {},
   "outputs": [],
   "source": [
    "from pymatgen.io.vasp.sets import MPRelaxSet\n",
    "from pymatgen.io.vasp.inputs import Kpoints\n",
    "import os\n",
    "os.chdir('/home/smart/Ankit/VASP/Ca2.5_M2_PO4_SCAN+U/Mangneese/')\n",
    "kpoints = Kpoints.automatic(32)\n",
    "transmuter.write_vasp_input(vasp_input_set=MPRelaxSet,user_kpoints_settings=kpoints)"
   ]
  },
  {
   "cell_type": "code",
   "execution_count": null,
   "id": "d8ebd73d",
   "metadata": {},
   "outputs": [],
   "source": []
  }
 ],
 "metadata": {
  "kernelspec": {
   "display_name": "Python 3",
   "language": "python",
   "name": "python3"
  },
  "language_info": {
   "codemirror_mode": {
    "name": "ipython",
    "version": 3
   },
   "file_extension": ".py",
   "mimetype": "text/x-python",
   "name": "python",
   "nbconvert_exporter": "python",
   "pygments_lexer": "ipython3",
   "version": "3.7.10"
  }
 },
 "nbformat": 4,
 "nbformat_minor": 5
}
