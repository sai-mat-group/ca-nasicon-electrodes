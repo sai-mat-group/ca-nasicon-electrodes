{
 "cells": [
  {
   "cell_type": "code",
   "execution_count": 1,
   "id": "ef7a86f6",
   "metadata": {},
   "outputs": [],
   "source": [
    "import pymatgen\n",
    "import os\n",
    "import unittest\n",
    "import warnings\n",
    "from numbers import Number\n",
    "\n",
    "from pathlib import Path\n",
    "#from collections import OrderDict\n",
    "import numpy as np\n",
    "from pymatgen.analysis.phase_diagram import(\n",
    "     CompoundPhaseDiagram, GrandPotentialPhaseDiagram,\n",
    "     GrandPotPDEntry, PDEntry,PDPlotter, PhaseDiagram,\n",
    "      ReactionDiagram,TransformedPDEntry, tet_coord,triangular_coord,uniquelines)"
   ]
  },
  {
   "cell_type": "code",
   "execution_count": 7,
   "id": "24c633a5",
   "metadata": {},
   "outputs": [],
   "source": [
    "input_data = {\"Ca\":-9.6682,\"Ti\":-14.0618155,\"O2\":-12.3101, \"S\":-9.638, \"SO3\":-32.918, \"SO2\":-25.005,\n",
    "              \"CaO\":-22.355494, \"CaS\": -24.15789,\n",
    "              \"CaSO4\":-58.721,\n",
    "              \"TiO2\":-36.72228, \"Ti2O3\":-63.46676,\n",
    "              \"CaTi2O4\": -86.1255796,\"CaTiO3\": -59.8985025,\n",
    "              \"Ti3O5\": -99.97147,\n",
    "              \"TiS3\":-47.483,\n",
    "              \"TiS\":-26.695, \"TiS2\":-37.979, \"Ti2S\":-41.183, \"TiOSO4\":-70.782,\n",
    "             \n",
    "              \n",
    "              \"Ti2S3O12\":-169.351,\"CaTi2S3O12\":-181.800}# +3.0\n",
    "              \n",
    "              "
   ]
  },
  {
   "cell_type": "code",
   "execution_count": 8,
   "id": "41e41df3",
   "metadata": {},
   "outputs": [
    {
     "data": {
      "application/vnd.plotly.v1+json": {
       "config": {
        "plotlyServerURL": "https://plot.ly"
       },
       "data": [
        {
         "hoverinfo": "none",
         "line": {
          "color": "rgba(0,0,0,1.0)",
          "width": 7
         },
         "mode": "lines",
         "showlegend": false,
         "type": "scatter3d",
         "x": [
          0.5714285714285714,
          0.5588235294117647,
          null,
          0.75,
          0.7,
          null,
          0.25,
          0.41666666666666663,
          null,
          0.25,
          1,
          null,
          0.6666666666666666,
          0.7,
          null,
          0.8333333333333333,
          0.25,
          null,
          0.5588235294117647,
          0.5,
          null,
          0.25,
          0.5,
          null,
          0.6666666666666666,
          0.6666666666666666,
          null,
          0.5,
          0.5588235294117647,
          null,
          0.25,
          0.5,
          null,
          0.6666666666666666,
          0.5,
          null,
          0.41666666666666663,
          0.5,
          null,
          0.5,
          0.5,
          null,
          0.25,
          0,
          null,
          0.6666666666666666,
          0.5,
          null,
          0.41666666666666663,
          0.5,
          null,
          0.7,
          1,
          null,
          0.25,
          0.5714285714285714,
          null,
          0.75,
          0.25,
          null,
          0.5,
          0.5,
          null,
          0.25,
          0.5,
          null,
          0.5,
          0.5714285714285714,
          null,
          0.6666666666666666,
          0.25,
          null,
          0.6666666666666666,
          0.5,
          null,
          0.5714285714285714,
          0.5,
          null,
          0.6666666666666666,
          0.5714285714285714,
          null,
          0.5588235294117647,
          0.41666666666666663,
          null,
          0.6666666666666666,
          0.7,
          null,
          0.25,
          0.41666666666666663,
          null,
          0.25,
          1,
          null,
          1,
          0,
          null,
          0.6666666666666666,
          0.41666666666666663,
          null,
          0.5,
          0.5,
          null,
          0.7,
          0.25,
          null,
          0.5714285714285714,
          1,
          null,
          0.7,
          0.5714285714285714,
          null,
          0.25,
          0.5,
          null,
          0.75,
          0.6666666666666666,
          null,
          0.75,
          0.8333333333333333,
          null,
          0.5714285714285714,
          0.41666666666666663,
          null,
          0.25,
          0,
          null,
          0.5,
          0.5,
          null,
          0.25,
          0.25,
          null,
          0.6666666666666666,
          0.5588235294117647,
          null,
          0.8333333333333333,
          1,
          null,
          0.5588235294117647,
          0.5,
          null,
          0.25,
          0.5714285714285714,
          null,
          0.6666666666666666,
          0.25,
          null,
          0.6666666666666666,
          0.5,
          null,
          0.41666666666666663,
          0.5,
          null,
          0.5,
          0.41666666666666663,
          null,
          0.7,
          0.8333333333333333,
          null,
          0.7,
          0.5,
          null
         ],
         "y": [
          0.329914439536929,
          0.3565986956759454,
          null,
          0.4330127018922193,
          0.1732050807568877,
          null,
          0.4330127018922193,
          0.33678765702728164,
          null,
          0.4330127018922193,
          0,
          null,
          0.5773502691896257,
          0.1732050807568877,
          null,
          0.28867513459481287,
          0.4330127018922193,
          null,
          0.3565986956759454,
          0.28867513459481287,
          null,
          0.14433756729740643,
          0.1732050807568877,
          null,
          0.19245008972987523,
          0.5773502691896257,
          null,
          0.4330127018922193,
          0.3565986956759454,
          null,
          0.14433756729740643,
          0.28867513459481287,
          null,
          0.19245008972987523,
          0.1732050807568877,
          null,
          0.33678765702728164,
          0.1732050807568877,
          null,
          0.4330127018922193,
          0.8660254037844386,
          null,
          0.14433756729740643,
          0,
          null,
          0.19245008972987523,
          0.28867513459481287,
          null,
          0.33678765702728164,
          0.28867513459481287,
          null,
          0.1732050807568877,
          0,
          null,
          0.4330127018922193,
          0.16495721976846447,
          null,
          0.4330127018922193,
          0.4330127018922193,
          null,
          0.1732050807568877,
          0.8660254037844386,
          null,
          0.4330127018922193,
          0.8660254037844386,
          null,
          0.1732050807568877,
          0.16495721976846447,
          null,
          0.5773502691896257,
          0.4330127018922193,
          null,
          0.5773502691896257,
          0.8660254037844386,
          null,
          0.329914439536929,
          0.28867513459481287,
          null,
          0.19245008972987523,
          0.329914439536929,
          null,
          0.3565986956759454,
          0.33678765702728164,
          null,
          0.19245008972987523,
          0.1732050807568877,
          null,
          0.14433756729740643,
          0.33678765702728164,
          null,
          0.14433756729740643,
          0,
          null,
          0,
          0,
          null,
          0.19245008972987523,
          0.33678765702728164,
          null,
          0.4330127018922193,
          0.28867513459481287,
          null,
          0.1732050807568877,
          0.4330127018922193,
          null,
          0.16495721976846447,
          0,
          null,
          0.1732050807568877,
          0.16495721976846447,
          null,
          0.4330127018922193,
          0.1732050807568877,
          null,
          0.4330127018922193,
          0.5773502691896257,
          null,
          0.4330127018922193,
          0.28867513459481287,
          null,
          0.329914439536929,
          0.33678765702728164,
          null,
          0.4330127018922193,
          0,
          null,
          0.1732050807568877,
          0.28867513459481287,
          null,
          0.14433756729740643,
          0.4330127018922193,
          null,
          0.19245008972987523,
          0.3565986956759454,
          null,
          0.28867513459481287,
          0,
          null,
          0.3565986956759454,
          0.8660254037844386,
          null,
          0.14433756729740643,
          0.16495721976846447,
          null,
          0.19245008972987523,
          0.4330127018922193,
          null,
          0.19245008972987523,
          0.8660254037844386,
          null,
          0.33678765702728164,
          0.8660254037844386,
          null,
          0.4330127018922193,
          0.33678765702728164,
          null,
          0.1732050807568877,
          0.28867513459481287,
          null,
          0.1732050807568877,
          0.1732050807568877,
          null
         ],
         "z": [
          0.5832118435198043,
          0.5763505277136889,
          null,
          0,
          0.48989794855663554,
          null,
          0,
          0.5443310539518172,
          null,
          0,
          0,
          null,
          0,
          0.48989794855663554,
          null,
          0,
          0,
          null,
          0.5763505277136889,
          0.8164965809277259,
          null,
          0.40824829046386296,
          0.48989794855663554,
          null,
          0.5443310539518172,
          0,
          null,
          0.6123724356957945,
          0.5763505277136889,
          null,
          0.40824829046386296,
          0.8164965809277259,
          null,
          0.5443310539518172,
          0.48989794855663554,
          null,
          0.5443310539518172,
          0.48989794855663554,
          null,
          0.6123724356957945,
          0,
          null,
          0.40824829046386296,
          0,
          null,
          0.5443310539518172,
          0.8164965809277259,
          null,
          0.5443310539518172,
          0.8164965809277259,
          null,
          0.48989794855663554,
          0,
          null,
          0,
          0.4665694748158434,
          null,
          0,
          0,
          null,
          0.48989794855663554,
          0,
          null,
          0,
          0,
          null,
          0.48989794855663554,
          0.4665694748158434,
          null,
          0,
          0,
          null,
          0,
          0,
          null,
          0.5832118435198043,
          0.8164965809277259,
          null,
          0.5443310539518172,
          0.5832118435198043,
          null,
          0.5763505277136889,
          0.5443310539518172,
          null,
          0.5443310539518172,
          0.48989794855663554,
          null,
          0.40824829046386296,
          0.5443310539518172,
          null,
          0.40824829046386296,
          0,
          null,
          0,
          0,
          null,
          0.5443310539518172,
          0.5443310539518172,
          null,
          0.6123724356957945,
          0.8164965809277259,
          null,
          0.48989794855663554,
          0,
          null,
          0.4665694748158434,
          0,
          null,
          0.48989794855663554,
          0.4665694748158434,
          null,
          0,
          0.48989794855663554,
          null,
          0,
          0,
          null,
          0,
          0,
          null,
          0.5832118435198043,
          0.5443310539518172,
          null,
          0,
          0,
          null,
          0.48989794855663554,
          0.8164965809277259,
          null,
          0.40824829046386296,
          0,
          null,
          0.5443310539518172,
          0.5763505277136889,
          null,
          0,
          0,
          null,
          0.5763505277136889,
          0,
          null,
          0.40824829046386296,
          0.4665694748158434,
          null,
          0.5443310539518172,
          0,
          null,
          0.5443310539518172,
          0,
          null,
          0.5443310539518172,
          0,
          null,
          0.6123724356957945,
          0.5443310539518172,
          null,
          0.48989794855663554,
          0,
          null,
          0.48989794855663554,
          0.48989794855663554,
          null
         ]
        },
        {
         "hoverinfo": "skip",
         "mode": "text",
         "name": "Labels (stable)",
         "opacity": 1,
         "showlegend": true,
         "text": [
          "TiSO<sub>5</sub>",
          "Ti<sub>2</sub>(SO<sub>4</sub>)<sub>3</sub>",
          "TiS",
          "Ti<sub>2</sub>O<sub>3</sub>",
          "CaS",
          "CaSO<sub>4</sub>",
          "TiS<sub>2</sub>",
          "Ti<sub>2</sub>S",
          "CaO",
          "CaTiO<sub>3</sub>",
          "TiO<sub>2</sub>",
          "SO<sub>3</sub>",
          "CaTi<sub>2</sub>O<sub>4</sub>"
         ],
         "textposition": [
          "bottom right",
          "bottom right",
          "bottom right",
          "bottom right",
          "bottom right",
          "bottom right",
          "bottom right",
          "bottom right",
          "bottom right",
          "bottom right",
          "bottom right",
          "bottom right",
          "bottom right"
         ],
         "type": "scatter3d",
         "visible": "legendonly",
         "x": [
          0.5614285714285714,
          0.5488235294117647,
          0.74,
          0.69,
          0.24,
          0.4066666666666666,
          0.6566666666666666,
          0.8233333333333333,
          0.24,
          0.49,
          0.6566666666666666,
          0.49,
          0.5614285714285714
         ],
         "y": [
          0.319914439536929,
          0.34659869567594537,
          0.4230127018922193,
          0.1632050807568877,
          0.4230127018922193,
          0.32678765702728163,
          0.5673502691896257,
          0.27867513459481286,
          0.13433756729740642,
          0.1632050807568877,
          0.18245008972987523,
          0.4230127018922193,
          0.15495721976846447
         ],
         "z": [
          0.5832118435198043,
          0.5763505277136889,
          0,
          0.48989794855663554,
          0,
          0.5443310539518172,
          0,
          0,
          0.40824829046386296,
          0.48989794855663554,
          0.5443310539518172,
          0.6123724356957945,
          0.4665694748158434
         ]
        },
        {
         "hoverinfo": "text",
         "hoverlabel": {
          "font": {
           "size": 14
          }
         },
         "hovertext": [
          "SO<sub>2</sub> (no ID) <br> -1.019 eV/atom (+0.051 eV/atom)",
          "TiS<sub>3</sub> (no ID) <br> -1.127 eV/atom (+0.034 eV/atom)",
          "Ti<sub>3</sub>O<sub>5</sub> (no ID) <br> -3.376 eV/atom (+0.027 eV/atom)",
          "CaTi<sub>2</sub>(SO<sub>4</sub>)<sub>3</sub> (no ID) <br> -2.291 eV/atom (+0.174 eV/atom)"
         ],
         "line": {
          "color": "black",
          "width": 2
         },
         "marker": {
          "color": [
           0.051,
           0.034,
           0.027,
           0.174
          ],
          "colorbar": {
           "len": 0.75,
           "title": {
            "text": "Energy Above Hull<br>(eV/atom)"
           },
           "x": 0.05
          },
          "colorscale": [
           [
            0,
            "#fad393"
           ],
           [
            0.5,
            "#ff813d"
           ],
           [
            1,
            "#ff0000"
           ]
          ],
          "size": 5,
          "symbol": "diamond"
         },
         "mode": "markers",
         "name": "Above Hull",
         "showlegend": true,
         "type": "scatter3d",
         "visible": "legendonly",
         "x": [
          0.5,
          0.625,
          0.6875,
          0.5277777777777777
         ],
         "y": [
          0.48112522432468807,
          0.649519052838329,
          0.18042195912175804,
          0.33678765702728164
         ],
         "z": [
          0.5443310539518172,
          0,
          0.5103103630798287,
          0.5443310539518172
         ]
        },
        {
         "hoverinfo": "text",
         "hoverlabel": {
          "font": {
           "size": 14
          }
         },
         "hovertext": [
          "TiSO<sub>5</sub> (no ID) <br> -2.33 eV/atom",
          "Ti<sub>2</sub>(SO<sub>4</sub>)<sub>3</sub> (no ID) <br> -2.262 eV/atom",
          "TiS (no ID) <br> -1.498 eV/atom",
          "Ti<sub>2</sub>O<sub>3</sub> (no ID) <br> -3.376 eV/atom",
          "CaS (no ID) <br> -2.426 eV/atom",
          "CaSO<sub>4</sub> (no ID) <br> -2.466 eV/atom",
          "Ti (no ID) <br> 0.0 eV/atom",
          "TiS<sub>2</sub> (no ID) <br> -1.547 eV/atom",
          "Ti<sub>2</sub>S (no ID) <br> -1.14 eV/atom",
          "O<sub>2</sub> (no ID) <br> 0.0 eV/atom",
          "CaO (no ID) <br> -3.266 eV/atom",
          "CaTiO<sub>3</sub> (no ID) <br> -3.541 eV/atom",
          "TiO<sub>2</sub> (no ID) <br> -3.45 eV/atom",
          "SO<sub>3</sub> (no ID) <br> -1.204 eV/atom",
          "S (no ID) <br> 0.0 eV/atom",
          "Ca (no ID) <br> 0.0 eV/atom",
          "CaTi<sub>2</sub>O<sub>4</sub> (no ID) <br> -3.388 eV/atom"
         ],
         "line": {
          "color": "black",
          "width": 2
         },
         "marker": {
          "color": [
           -2.33,
           -2.262,
           -1.498,
           -3.376,
           -2.426,
           -2.466,
           0,
           -1.547,
           -1.14,
           0,
           -3.266,
           -3.541,
           -3.45,
           -1.204,
           0,
           0,
           -3.388
          ],
          "colorscale": [
           [
            0,
            "#075400"
           ],
           [
            1,
            "#7ce371"
           ]
          ],
          "opacity": 0.9,
          "size": 8
         },
         "mode": "markers",
         "name": "Stable",
         "showlegend": true,
         "type": "scatter3d",
         "x": [
          0.5714285714285714,
          0.5588235294117647,
          0.75,
          0.7,
          0.25,
          0.41666666666666663,
          1,
          0.6666666666666666,
          0.8333333333333333,
          0.5,
          0.25,
          0.5,
          0.6666666666666666,
          0.5,
          0.5,
          0,
          0.5714285714285714
         ],
         "y": [
          0.329914439536929,
          0.3565986956759454,
          0.4330127018922193,
          0.1732050807568877,
          0.4330127018922193,
          0.33678765702728164,
          0,
          0.5773502691896257,
          0.28867513459481287,
          0.28867513459481287,
          0.14433756729740643,
          0.1732050807568877,
          0.19245008972987523,
          0.4330127018922193,
          0.8660254037844386,
          0,
          0.16495721976846447
         ],
         "z": [
          0.5832118435198043,
          0.5763505277136889,
          0,
          0.48989794855663554,
          0,
          0.5443310539518172,
          0,
          0,
          0,
          0.8164965809277259,
          0.40824829046386296,
          0.48989794855663554,
          0.5443310539518172,
          0.6123724356957945,
          0,
          0,
          0.4665694748158434
         ]
        }
       ],
       "layout": {
        "autosize": true,
        "height": 700,
        "hovermode": "closest",
        "legend": {
         "orientation": "h",
         "traceorder": "reversed",
         "x": 0.5,
         "xanchor": "center",
         "y": 0,
         "yanchor": "top"
        },
        "margin": {
         "b": 10,
         "l": 0,
         "pad": 0,
         "r": 0,
         "t": 0
        },
        "paper_bgcolor": "rgba(0,0,0,0)",
        "plot_bgcolor": "rgba(0,0,0,0)",
        "scene": {
         "annotations": [
          {
           "align": "center",
           "font": {
            "color": "#000000",
            "size": 24
           },
           "opacity": 1,
           "showarrow": false,
           "text": "Ti",
           "x": 1,
           "xanchor": "right",
           "xshift": -10,
           "y": 0,
           "yanchor": "auto",
           "yshift": -10,
           "z": 0
          },
          {
           "align": "center",
           "font": {
            "color": "#000000",
            "size": 24
           },
           "opacity": 1,
           "showarrow": false,
           "text": "O",
           "x": 0.5,
           "xanchor": "right",
           "xshift": -10,
           "y": 0.28867513459481287,
           "yanchor": "auto",
           "yshift": -10,
           "z": 0.8164965809277259
          },
          {
           "align": "center",
           "font": {
            "color": "#000000",
            "size": 24
           },
           "opacity": 1,
           "showarrow": false,
           "text": "S",
           "x": 0.5,
           "xanchor": "right",
           "xshift": -10,
           "y": 0.8660254037844386,
           "yanchor": "auto",
           "yshift": -10,
           "z": 0
          },
          {
           "align": "center",
           "font": {
            "color": "#000000",
            "size": 24
           },
           "opacity": 1,
           "showarrow": false,
           "text": "Ca",
           "x": 0,
           "xanchor": "right",
           "xshift": -10,
           "y": 0,
           "yanchor": "auto",
           "yshift": -10,
           "z": 0
          }
         ],
         "aspectratio": {
          "x": 1.4,
          "y": 1.4,
          "z": 1.4
         },
         "camera": {
          "center": {
           "x": 0,
           "y": -0.08,
           "z": 0
          },
          "projection": {
           "type": "orthographic"
          }
         },
         "xaxis": {
          "autorange": true,
          "showaxeslabels": false,
          "showgrid": false,
          "showline": false,
          "showspikes": false,
          "showticklabels": false,
          "ticks": "",
          "visible": false,
          "zeroline": false
         },
         "yaxis": {
          "autorange": true,
          "showaxeslabels": false,
          "showgrid": false,
          "showline": false,
          "showspikes": false,
          "showticklabels": false,
          "ticks": "",
          "visible": false,
          "zeroline": false
         },
         "zaxis": {
          "autorange": true,
          "showaxeslabels": false,
          "showgrid": false,
          "showline": false,
          "showspikes": false,
          "showticklabels": false,
          "ticks": "",
          "visible": false,
          "zeroline": false
         }
        },
        "showlegend": true,
        "template": {
         "data": {
          "bar": [
           {
            "error_x": {
             "color": "#2a3f5f"
            },
            "error_y": {
             "color": "#2a3f5f"
            },
            "marker": {
             "line": {
              "color": "#E5ECF6",
              "width": 0.5
             },
             "pattern": {
              "fillmode": "overlay",
              "size": 10,
              "solidity": 0.2
             }
            },
            "type": "bar"
           }
          ],
          "barpolar": [
           {
            "marker": {
             "line": {
              "color": "#E5ECF6",
              "width": 0.5
             },
             "pattern": {
              "fillmode": "overlay",
              "size": 10,
              "solidity": 0.2
             }
            },
            "type": "barpolar"
           }
          ],
          "carpet": [
           {
            "aaxis": {
             "endlinecolor": "#2a3f5f",
             "gridcolor": "white",
             "linecolor": "white",
             "minorgridcolor": "white",
             "startlinecolor": "#2a3f5f"
            },
            "baxis": {
             "endlinecolor": "#2a3f5f",
             "gridcolor": "white",
             "linecolor": "white",
             "minorgridcolor": "white",
             "startlinecolor": "#2a3f5f"
            },
            "type": "carpet"
           }
          ],
          "choropleth": [
           {
            "colorbar": {
             "outlinewidth": 0,
             "ticks": ""
            },
            "type": "choropleth"
           }
          ],
          "contour": [
           {
            "colorbar": {
             "outlinewidth": 0,
             "ticks": ""
            },
            "colorscale": [
             [
              0,
              "#0d0887"
             ],
             [
              0.1111111111111111,
              "#46039f"
             ],
             [
              0.2222222222222222,
              "#7201a8"
             ],
             [
              0.3333333333333333,
              "#9c179e"
             ],
             [
              0.4444444444444444,
              "#bd3786"
             ],
             [
              0.5555555555555556,
              "#d8576b"
             ],
             [
              0.6666666666666666,
              "#ed7953"
             ],
             [
              0.7777777777777778,
              "#fb9f3a"
             ],
             [
              0.8888888888888888,
              "#fdca26"
             ],
             [
              1,
              "#f0f921"
             ]
            ],
            "type": "contour"
           }
          ],
          "contourcarpet": [
           {
            "colorbar": {
             "outlinewidth": 0,
             "ticks": ""
            },
            "type": "contourcarpet"
           }
          ],
          "heatmap": [
           {
            "colorbar": {
             "outlinewidth": 0,
             "ticks": ""
            },
            "colorscale": [
             [
              0,
              "#0d0887"
             ],
             [
              0.1111111111111111,
              "#46039f"
             ],
             [
              0.2222222222222222,
              "#7201a8"
             ],
             [
              0.3333333333333333,
              "#9c179e"
             ],
             [
              0.4444444444444444,
              "#bd3786"
             ],
             [
              0.5555555555555556,
              "#d8576b"
             ],
             [
              0.6666666666666666,
              "#ed7953"
             ],
             [
              0.7777777777777778,
              "#fb9f3a"
             ],
             [
              0.8888888888888888,
              "#fdca26"
             ],
             [
              1,
              "#f0f921"
             ]
            ],
            "type": "heatmap"
           }
          ],
          "heatmapgl": [
           {
            "colorbar": {
             "outlinewidth": 0,
             "ticks": ""
            },
            "colorscale": [
             [
              0,
              "#0d0887"
             ],
             [
              0.1111111111111111,
              "#46039f"
             ],
             [
              0.2222222222222222,
              "#7201a8"
             ],
             [
              0.3333333333333333,
              "#9c179e"
             ],
             [
              0.4444444444444444,
              "#bd3786"
             ],
             [
              0.5555555555555556,
              "#d8576b"
             ],
             [
              0.6666666666666666,
              "#ed7953"
             ],
             [
              0.7777777777777778,
              "#fb9f3a"
             ],
             [
              0.8888888888888888,
              "#fdca26"
             ],
             [
              1,
              "#f0f921"
             ]
            ],
            "type": "heatmapgl"
           }
          ],
          "histogram": [
           {
            "marker": {
             "pattern": {
              "fillmode": "overlay",
              "size": 10,
              "solidity": 0.2
             }
            },
            "type": "histogram"
           }
          ],
          "histogram2d": [
           {
            "colorbar": {
             "outlinewidth": 0,
             "ticks": ""
            },
            "colorscale": [
             [
              0,
              "#0d0887"
             ],
             [
              0.1111111111111111,
              "#46039f"
             ],
             [
              0.2222222222222222,
              "#7201a8"
             ],
             [
              0.3333333333333333,
              "#9c179e"
             ],
             [
              0.4444444444444444,
              "#bd3786"
             ],
             [
              0.5555555555555556,
              "#d8576b"
             ],
             [
              0.6666666666666666,
              "#ed7953"
             ],
             [
              0.7777777777777778,
              "#fb9f3a"
             ],
             [
              0.8888888888888888,
              "#fdca26"
             ],
             [
              1,
              "#f0f921"
             ]
            ],
            "type": "histogram2d"
           }
          ],
          "histogram2dcontour": [
           {
            "colorbar": {
             "outlinewidth": 0,
             "ticks": ""
            },
            "colorscale": [
             [
              0,
              "#0d0887"
             ],
             [
              0.1111111111111111,
              "#46039f"
             ],
             [
              0.2222222222222222,
              "#7201a8"
             ],
             [
              0.3333333333333333,
              "#9c179e"
             ],
             [
              0.4444444444444444,
              "#bd3786"
             ],
             [
              0.5555555555555556,
              "#d8576b"
             ],
             [
              0.6666666666666666,
              "#ed7953"
             ],
             [
              0.7777777777777778,
              "#fb9f3a"
             ],
             [
              0.8888888888888888,
              "#fdca26"
             ],
             [
              1,
              "#f0f921"
             ]
            ],
            "type": "histogram2dcontour"
           }
          ],
          "mesh3d": [
           {
            "colorbar": {
             "outlinewidth": 0,
             "ticks": ""
            },
            "type": "mesh3d"
           }
          ],
          "parcoords": [
           {
            "line": {
             "colorbar": {
              "outlinewidth": 0,
              "ticks": ""
             }
            },
            "type": "parcoords"
           }
          ],
          "pie": [
           {
            "automargin": true,
            "type": "pie"
           }
          ],
          "scatter": [
           {
            "marker": {
             "colorbar": {
              "outlinewidth": 0,
              "ticks": ""
             }
            },
            "type": "scatter"
           }
          ],
          "scatter3d": [
           {
            "line": {
             "colorbar": {
              "outlinewidth": 0,
              "ticks": ""
             }
            },
            "marker": {
             "colorbar": {
              "outlinewidth": 0,
              "ticks": ""
             }
            },
            "type": "scatter3d"
           }
          ],
          "scattercarpet": [
           {
            "marker": {
             "colorbar": {
              "outlinewidth": 0,
              "ticks": ""
             }
            },
            "type": "scattercarpet"
           }
          ],
          "scattergeo": [
           {
            "marker": {
             "colorbar": {
              "outlinewidth": 0,
              "ticks": ""
             }
            },
            "type": "scattergeo"
           }
          ],
          "scattergl": [
           {
            "marker": {
             "colorbar": {
              "outlinewidth": 0,
              "ticks": ""
             }
            },
            "type": "scattergl"
           }
          ],
          "scattermapbox": [
           {
            "marker": {
             "colorbar": {
              "outlinewidth": 0,
              "ticks": ""
             }
            },
            "type": "scattermapbox"
           }
          ],
          "scatterpolar": [
           {
            "marker": {
             "colorbar": {
              "outlinewidth": 0,
              "ticks": ""
             }
            },
            "type": "scatterpolar"
           }
          ],
          "scatterpolargl": [
           {
            "marker": {
             "colorbar": {
              "outlinewidth": 0,
              "ticks": ""
             }
            },
            "type": "scatterpolargl"
           }
          ],
          "scatterternary": [
           {
            "marker": {
             "colorbar": {
              "outlinewidth": 0,
              "ticks": ""
             }
            },
            "type": "scatterternary"
           }
          ],
          "surface": [
           {
            "colorbar": {
             "outlinewidth": 0,
             "ticks": ""
            },
            "colorscale": [
             [
              0,
              "#0d0887"
             ],
             [
              0.1111111111111111,
              "#46039f"
             ],
             [
              0.2222222222222222,
              "#7201a8"
             ],
             [
              0.3333333333333333,
              "#9c179e"
             ],
             [
              0.4444444444444444,
              "#bd3786"
             ],
             [
              0.5555555555555556,
              "#d8576b"
             ],
             [
              0.6666666666666666,
              "#ed7953"
             ],
             [
              0.7777777777777778,
              "#fb9f3a"
             ],
             [
              0.8888888888888888,
              "#fdca26"
             ],
             [
              1,
              "#f0f921"
             ]
            ],
            "type": "surface"
           }
          ],
          "table": [
           {
            "cells": {
             "fill": {
              "color": "#EBF0F8"
             },
             "line": {
              "color": "white"
             }
            },
            "header": {
             "fill": {
              "color": "#C8D4E3"
             },
             "line": {
              "color": "white"
             }
            },
            "type": "table"
           }
          ]
         },
         "layout": {
          "annotationdefaults": {
           "arrowcolor": "#2a3f5f",
           "arrowhead": 0,
           "arrowwidth": 1
          },
          "autotypenumbers": "strict",
          "coloraxis": {
           "colorbar": {
            "outlinewidth": 0,
            "ticks": ""
           }
          },
          "colorscale": {
           "diverging": [
            [
             0,
             "#8e0152"
            ],
            [
             0.1,
             "#c51b7d"
            ],
            [
             0.2,
             "#de77ae"
            ],
            [
             0.3,
             "#f1b6da"
            ],
            [
             0.4,
             "#fde0ef"
            ],
            [
             0.5,
             "#f7f7f7"
            ],
            [
             0.6,
             "#e6f5d0"
            ],
            [
             0.7,
             "#b8e186"
            ],
            [
             0.8,
             "#7fbc41"
            ],
            [
             0.9,
             "#4d9221"
            ],
            [
             1,
             "#276419"
            ]
           ],
           "sequential": [
            [
             0,
             "#0d0887"
            ],
            [
             0.1111111111111111,
             "#46039f"
            ],
            [
             0.2222222222222222,
             "#7201a8"
            ],
            [
             0.3333333333333333,
             "#9c179e"
            ],
            [
             0.4444444444444444,
             "#bd3786"
            ],
            [
             0.5555555555555556,
             "#d8576b"
            ],
            [
             0.6666666666666666,
             "#ed7953"
            ],
            [
             0.7777777777777778,
             "#fb9f3a"
            ],
            [
             0.8888888888888888,
             "#fdca26"
            ],
            [
             1,
             "#f0f921"
            ]
           ],
           "sequentialminus": [
            [
             0,
             "#0d0887"
            ],
            [
             0.1111111111111111,
             "#46039f"
            ],
            [
             0.2222222222222222,
             "#7201a8"
            ],
            [
             0.3333333333333333,
             "#9c179e"
            ],
            [
             0.4444444444444444,
             "#bd3786"
            ],
            [
             0.5555555555555556,
             "#d8576b"
            ],
            [
             0.6666666666666666,
             "#ed7953"
            ],
            [
             0.7777777777777778,
             "#fb9f3a"
            ],
            [
             0.8888888888888888,
             "#fdca26"
            ],
            [
             1,
             "#f0f921"
            ]
           ]
          },
          "colorway": [
           "#636efa",
           "#EF553B",
           "#00cc96",
           "#ab63fa",
           "#FFA15A",
           "#19d3f3",
           "#FF6692",
           "#B6E880",
           "#FF97FF",
           "#FECB52"
          ],
          "font": {
           "color": "#2a3f5f"
          },
          "geo": {
           "bgcolor": "white",
           "lakecolor": "white",
           "landcolor": "#E5ECF6",
           "showlakes": true,
           "showland": true,
           "subunitcolor": "white"
          },
          "hoverlabel": {
           "align": "left"
          },
          "hovermode": "closest",
          "mapbox": {
           "style": "light"
          },
          "paper_bgcolor": "white",
          "plot_bgcolor": "#E5ECF6",
          "polar": {
           "angularaxis": {
            "gridcolor": "white",
            "linecolor": "white",
            "ticks": ""
           },
           "bgcolor": "#E5ECF6",
           "radialaxis": {
            "gridcolor": "white",
            "linecolor": "white",
            "ticks": ""
           }
          },
          "scene": {
           "xaxis": {
            "backgroundcolor": "#E5ECF6",
            "gridcolor": "white",
            "gridwidth": 2,
            "linecolor": "white",
            "showbackground": true,
            "ticks": "",
            "zerolinecolor": "white"
           },
           "yaxis": {
            "backgroundcolor": "#E5ECF6",
            "gridcolor": "white",
            "gridwidth": 2,
            "linecolor": "white",
            "showbackground": true,
            "ticks": "",
            "zerolinecolor": "white"
           },
           "zaxis": {
            "backgroundcolor": "#E5ECF6",
            "gridcolor": "white",
            "gridwidth": 2,
            "linecolor": "white",
            "showbackground": true,
            "ticks": "",
            "zerolinecolor": "white"
           }
          },
          "shapedefaults": {
           "line": {
            "color": "#2a3f5f"
           }
          },
          "ternary": {
           "aaxis": {
            "gridcolor": "white",
            "linecolor": "white",
            "ticks": ""
           },
           "baxis": {
            "gridcolor": "white",
            "linecolor": "white",
            "ticks": ""
           },
           "bgcolor": "#E5ECF6",
           "caxis": {
            "gridcolor": "white",
            "linecolor": "white",
            "ticks": ""
           }
          },
          "title": {
           "x": 0.05
          },
          "xaxis": {
           "automargin": true,
           "gridcolor": "white",
           "linecolor": "white",
           "ticks": "",
           "title": {
            "standoff": 15
           },
           "zerolinecolor": "white",
           "zerolinewidth": 2
          },
          "yaxis": {
           "automargin": true,
           "gridcolor": "white",
           "linecolor": "white",
           "ticks": "",
           "title": {
            "standoff": 15
           },
           "zerolinecolor": "white",
           "zerolinewidth": 2
          }
         }
        }
       }
      },
      "text/html": [
       "<div>                            <div id=\"27d70ca6-b1ea-419c-86af-f93a85490a5b\" class=\"plotly-graph-div\" style=\"height:700px; width:100%;\"></div>            <script type=\"text/javascript\">                require([\"plotly\"], function(Plotly) {                    window.PLOTLYENV=window.PLOTLYENV || {};                                    if (document.getElementById(\"27d70ca6-b1ea-419c-86af-f93a85490a5b\")) {                    Plotly.newPlot(                        \"27d70ca6-b1ea-419c-86af-f93a85490a5b\",                        [{\"hoverinfo\":\"none\",\"line\":{\"color\":\"rgba(0,0,0,1.0)\",\"width\":7.0},\"mode\":\"lines\",\"showlegend\":false,\"x\":[0.5714285714285714,0.5588235294117647,null,0.75,0.7,null,0.25,0.41666666666666663,null,0.25,1.0,null,0.6666666666666666,0.7,null,0.8333333333333333,0.25,null,0.5588235294117647,0.5,null,0.25,0.5,null,0.6666666666666666,0.6666666666666666,null,0.5,0.5588235294117647,null,0.25,0.5,null,0.6666666666666666,0.5,null,0.41666666666666663,0.5,null,0.5,0.5,null,0.25,0.0,null,0.6666666666666666,0.5,null,0.41666666666666663,0.5,null,0.7,1.0,null,0.25,0.5714285714285714,null,0.75,0.25,null,0.5,0.5,null,0.25,0.5,null,0.5,0.5714285714285714,null,0.6666666666666666,0.25,null,0.6666666666666666,0.5,null,0.5714285714285714,0.5,null,0.6666666666666666,0.5714285714285714,null,0.5588235294117647,0.41666666666666663,null,0.6666666666666666,0.7,null,0.25,0.41666666666666663,null,0.25,1.0,null,1.0,0.0,null,0.6666666666666666,0.41666666666666663,null,0.5,0.5,null,0.7,0.25,null,0.5714285714285714,1.0,null,0.7,0.5714285714285714,null,0.25,0.5,null,0.75,0.6666666666666666,null,0.75,0.8333333333333333,null,0.5714285714285714,0.41666666666666663,null,0.25,0.0,null,0.5,0.5,null,0.25,0.25,null,0.6666666666666666,0.5588235294117647,null,0.8333333333333333,1.0,null,0.5588235294117647,0.5,null,0.25,0.5714285714285714,null,0.6666666666666666,0.25,null,0.6666666666666666,0.5,null,0.41666666666666663,0.5,null,0.5,0.41666666666666663,null,0.7,0.8333333333333333,null,0.7,0.5,null],\"y\":[0.329914439536929,0.3565986956759454,null,0.4330127018922193,0.1732050807568877,null,0.4330127018922193,0.33678765702728164,null,0.4330127018922193,0.0,null,0.5773502691896257,0.1732050807568877,null,0.28867513459481287,0.4330127018922193,null,0.3565986956759454,0.28867513459481287,null,0.14433756729740643,0.1732050807568877,null,0.19245008972987523,0.5773502691896257,null,0.4330127018922193,0.3565986956759454,null,0.14433756729740643,0.28867513459481287,null,0.19245008972987523,0.1732050807568877,null,0.33678765702728164,0.1732050807568877,null,0.4330127018922193,0.8660254037844386,null,0.14433756729740643,0.0,null,0.19245008972987523,0.28867513459481287,null,0.33678765702728164,0.28867513459481287,null,0.1732050807568877,0.0,null,0.4330127018922193,0.16495721976846447,null,0.4330127018922193,0.4330127018922193,null,0.1732050807568877,0.8660254037844386,null,0.4330127018922193,0.8660254037844386,null,0.1732050807568877,0.16495721976846447,null,0.5773502691896257,0.4330127018922193,null,0.5773502691896257,0.8660254037844386,null,0.329914439536929,0.28867513459481287,null,0.19245008972987523,0.329914439536929,null,0.3565986956759454,0.33678765702728164,null,0.19245008972987523,0.1732050807568877,null,0.14433756729740643,0.33678765702728164,null,0.14433756729740643,0.0,null,0.0,0.0,null,0.19245008972987523,0.33678765702728164,null,0.4330127018922193,0.28867513459481287,null,0.1732050807568877,0.4330127018922193,null,0.16495721976846447,0.0,null,0.1732050807568877,0.16495721976846447,null,0.4330127018922193,0.1732050807568877,null,0.4330127018922193,0.5773502691896257,null,0.4330127018922193,0.28867513459481287,null,0.329914439536929,0.33678765702728164,null,0.4330127018922193,0.0,null,0.1732050807568877,0.28867513459481287,null,0.14433756729740643,0.4330127018922193,null,0.19245008972987523,0.3565986956759454,null,0.28867513459481287,0.0,null,0.3565986956759454,0.8660254037844386,null,0.14433756729740643,0.16495721976846447,null,0.19245008972987523,0.4330127018922193,null,0.19245008972987523,0.8660254037844386,null,0.33678765702728164,0.8660254037844386,null,0.4330127018922193,0.33678765702728164,null,0.1732050807568877,0.28867513459481287,null,0.1732050807568877,0.1732050807568877,null],\"z\":[0.5832118435198043,0.5763505277136889,null,0.0,0.48989794855663554,null,0.0,0.5443310539518172,null,0.0,0.0,null,0.0,0.48989794855663554,null,0.0,0.0,null,0.5763505277136889,0.8164965809277259,null,0.40824829046386296,0.48989794855663554,null,0.5443310539518172,0.0,null,0.6123724356957945,0.5763505277136889,null,0.40824829046386296,0.8164965809277259,null,0.5443310539518172,0.48989794855663554,null,0.5443310539518172,0.48989794855663554,null,0.6123724356957945,0.0,null,0.40824829046386296,0.0,null,0.5443310539518172,0.8164965809277259,null,0.5443310539518172,0.8164965809277259,null,0.48989794855663554,0.0,null,0.0,0.4665694748158434,null,0.0,0.0,null,0.48989794855663554,0.0,null,0.0,0.0,null,0.48989794855663554,0.4665694748158434,null,0.0,0.0,null,0.0,0.0,null,0.5832118435198043,0.8164965809277259,null,0.5443310539518172,0.5832118435198043,null,0.5763505277136889,0.5443310539518172,null,0.5443310539518172,0.48989794855663554,null,0.40824829046386296,0.5443310539518172,null,0.40824829046386296,0.0,null,0.0,0.0,null,0.5443310539518172,0.5443310539518172,null,0.6123724356957945,0.8164965809277259,null,0.48989794855663554,0.0,null,0.4665694748158434,0.0,null,0.48989794855663554,0.4665694748158434,null,0.0,0.48989794855663554,null,0.0,0.0,null,0.0,0.0,null,0.5832118435198043,0.5443310539518172,null,0.0,0.0,null,0.48989794855663554,0.8164965809277259,null,0.40824829046386296,0.0,null,0.5443310539518172,0.5763505277136889,null,0.0,0.0,null,0.5763505277136889,0.0,null,0.40824829046386296,0.4665694748158434,null,0.5443310539518172,0.0,null,0.5443310539518172,0.0,null,0.5443310539518172,0.0,null,0.6123724356957945,0.5443310539518172,null,0.48989794855663554,0.0,null,0.48989794855663554,0.48989794855663554,null],\"type\":\"scatter3d\"},{\"hoverinfo\":\"skip\",\"mode\":\"text\",\"name\":\"Labels (stable)\",\"opacity\":1.0,\"showlegend\":true,\"text\":[\"TiSO<sub>5</sub>\",\"Ti<sub>2</sub>(SO<sub>4</sub>)<sub>3</sub>\",\"TiS\",\"Ti<sub>2</sub>O<sub>3</sub>\",\"CaS\",\"CaSO<sub>4</sub>\",\"TiS<sub>2</sub>\",\"Ti<sub>2</sub>S\",\"CaO\",\"CaTiO<sub>3</sub>\",\"TiO<sub>2</sub>\",\"SO<sub>3</sub>\",\"CaTi<sub>2</sub>O<sub>4</sub>\"],\"textposition\":[\"bottom right\",\"bottom right\",\"bottom right\",\"bottom right\",\"bottom right\",\"bottom right\",\"bottom right\",\"bottom right\",\"bottom right\",\"bottom right\",\"bottom right\",\"bottom right\",\"bottom right\"],\"visible\":\"legendonly\",\"x\":[0.5614285714285714,0.5488235294117647,0.74,0.69,0.24,0.4066666666666666,0.6566666666666666,0.8233333333333333,0.24,0.49,0.6566666666666666,0.49,0.5614285714285714],\"y\":[0.319914439536929,0.34659869567594537,0.4230127018922193,0.1632050807568877,0.4230127018922193,0.32678765702728163,0.5673502691896257,0.27867513459481286,0.13433756729740642,0.1632050807568877,0.18245008972987523,0.4230127018922193,0.15495721976846447],\"z\":[0.5832118435198043,0.5763505277136889,0.0,0.48989794855663554,0.0,0.5443310539518172,0.0,0.0,0.40824829046386296,0.48989794855663554,0.5443310539518172,0.6123724356957945,0.4665694748158434],\"type\":\"scatter3d\"},{\"hoverinfo\":\"text\",\"hoverlabel\":{\"font\":{\"size\":14}},\"hovertext\":[\"SO<sub>2</sub> (no ID) <br> -1.019 eV/atom (+0.051 eV/atom)\",\"TiS<sub>3</sub> (no ID) <br> -1.127 eV/atom (+0.034 eV/atom)\",\"Ti<sub>3</sub>O<sub>5</sub> (no ID) <br> -3.376 eV/atom (+0.027 eV/atom)\",\"CaTi<sub>2</sub>(SO<sub>4</sub>)<sub>3</sub> (no ID) <br> -2.291 eV/atom (+0.174 eV/atom)\"],\"line\":{\"color\":\"black\",\"width\":2},\"marker\":{\"color\":[0.051,0.034,0.027,0.174],\"colorbar\":{\"len\":0.75,\"title\":{\"text\":\"Energy Above Hull<br>(eV/atom)\"},\"x\":0.05},\"colorscale\":[[0.0,\"#fad393\"],[0.5,\"#ff813d\"],[1.0,\"#ff0000\"]],\"size\":5,\"symbol\":\"diamond\"},\"mode\":\"markers\",\"name\":\"Above Hull\",\"showlegend\":true,\"visible\":\"legendonly\",\"x\":[0.5,0.625,0.6875,0.5277777777777777],\"y\":[0.48112522432468807,0.649519052838329,0.18042195912175804,0.33678765702728164],\"z\":[0.5443310539518172,0.0,0.5103103630798287,0.5443310539518172],\"type\":\"scatter3d\"},{\"hoverinfo\":\"text\",\"hoverlabel\":{\"font\":{\"size\":14}},\"hovertext\":[\"TiSO<sub>5</sub> (no ID) <br> -2.33 eV/atom\",\"Ti<sub>2</sub>(SO<sub>4</sub>)<sub>3</sub> (no ID) <br> -2.262 eV/atom\",\"TiS (no ID) <br> -1.498 eV/atom\",\"Ti<sub>2</sub>O<sub>3</sub> (no ID) <br> -3.376 eV/atom\",\"CaS (no ID) <br> -2.426 eV/atom\",\"CaSO<sub>4</sub> (no ID) <br> -2.466 eV/atom\",\"Ti (no ID) <br> 0.0 eV/atom\",\"TiS<sub>2</sub> (no ID) <br> -1.547 eV/atom\",\"Ti<sub>2</sub>S (no ID) <br> -1.14 eV/atom\",\"O<sub>2</sub> (no ID) <br> 0.0 eV/atom\",\"CaO (no ID) <br> -3.266 eV/atom\",\"CaTiO<sub>3</sub> (no ID) <br> -3.541 eV/atom\",\"TiO<sub>2</sub> (no ID) <br> -3.45 eV/atom\",\"SO<sub>3</sub> (no ID) <br> -1.204 eV/atom\",\"S (no ID) <br> 0.0 eV/atom\",\"Ca (no ID) <br> 0.0 eV/atom\",\"CaTi<sub>2</sub>O<sub>4</sub> (no ID) <br> -3.388 eV/atom\"],\"line\":{\"color\":\"black\",\"width\":2},\"marker\":{\"color\":[-2.33,-2.262,-1.498,-3.376,-2.426,-2.466,0.0,-1.547,-1.14,0.0,-3.266,-3.541,-3.45,-1.204,0.0,0.0,-3.388],\"colorscale\":[[0.0,\"#075400\"],[1.0,\"#7ce371\"]],\"opacity\":0.9,\"size\":8},\"mode\":\"markers\",\"name\":\"Stable\",\"showlegend\":true,\"x\":[0.5714285714285714,0.5588235294117647,0.75,0.7,0.25,0.41666666666666663,1.0,0.6666666666666666,0.8333333333333333,0.5,0.25,0.5,0.6666666666666666,0.5,0.5,0.0,0.5714285714285714],\"y\":[0.329914439536929,0.3565986956759454,0.4330127018922193,0.1732050807568877,0.4330127018922193,0.33678765702728164,0.0,0.5773502691896257,0.28867513459481287,0.28867513459481287,0.14433756729740643,0.1732050807568877,0.19245008972987523,0.4330127018922193,0.8660254037844386,0.0,0.16495721976846447],\"z\":[0.5832118435198043,0.5763505277136889,0.0,0.48989794855663554,0.0,0.5443310539518172,0.0,0.0,0.0,0.8164965809277259,0.40824829046386296,0.48989794855663554,0.5443310539518172,0.6123724356957945,0.0,0.0,0.4665694748158434],\"type\":\"scatter3d\"}],                        {\"autosize\":true,\"height\":700,\"hovermode\":\"closest\",\"legend\":{\"orientation\":\"h\",\"traceorder\":\"reversed\",\"x\":0.5,\"xanchor\":\"center\",\"y\":0.0,\"yanchor\":\"top\"},\"margin\":{\"b\":10,\"l\":0,\"pad\":0,\"r\":0,\"t\":0},\"paper_bgcolor\":\"rgba(0,0,0,0)\",\"plot_bgcolor\":\"rgba(0,0,0,0)\",\"scene\":{\"annotations\":[{\"align\":\"center\",\"font\":{\"color\":\"#000000\",\"size\":24.0},\"opacity\":1.0,\"showarrow\":false,\"text\":\"Ti\",\"x\":1.0,\"xanchor\":\"right\",\"xshift\":-10,\"y\":0.0,\"yanchor\":\"auto\",\"yshift\":-10,\"z\":0.0},{\"align\":\"center\",\"font\":{\"color\":\"#000000\",\"size\":24.0},\"opacity\":1.0,\"showarrow\":false,\"text\":\"O\",\"x\":0.5,\"xanchor\":\"right\",\"xshift\":-10,\"y\":0.28867513459481287,\"yanchor\":\"auto\",\"yshift\":-10,\"z\":0.8164965809277259},{\"align\":\"center\",\"font\":{\"color\":\"#000000\",\"size\":24.0},\"opacity\":1.0,\"showarrow\":false,\"text\":\"S\",\"x\":0.5,\"xanchor\":\"right\",\"xshift\":-10,\"y\":0.8660254037844386,\"yanchor\":\"auto\",\"yshift\":-10,\"z\":0.0},{\"align\":\"center\",\"font\":{\"color\":\"#000000\",\"size\":24.0},\"opacity\":1.0,\"showarrow\":false,\"text\":\"Ca\",\"x\":0.0,\"xanchor\":\"right\",\"xshift\":-10,\"y\":0.0,\"yanchor\":\"auto\",\"yshift\":-10,\"z\":0.0}],\"xaxis\":{\"autorange\":true,\"showaxeslabels\":false,\"showgrid\":false,\"showline\":false,\"showspikes\":false,\"showticklabels\":false,\"ticks\":\"\",\"visible\":false,\"zeroline\":false},\"yaxis\":{\"autorange\":true,\"showaxeslabels\":false,\"showgrid\":false,\"showline\":false,\"showspikes\":false,\"showticklabels\":false,\"ticks\":\"\",\"visible\":false,\"zeroline\":false},\"zaxis\":{\"autorange\":true,\"showaxeslabels\":false,\"showgrid\":false,\"showline\":false,\"showspikes\":false,\"showticklabels\":false,\"ticks\":\"\",\"visible\":false,\"zeroline\":false},\"camera\":{\"center\":{\"x\":0,\"y\":-0.08,\"z\":0},\"projection\":{\"type\":\"orthographic\"}},\"aspectratio\":{\"x\":1.4,\"y\":1.4,\"z\":1.4}},\"showlegend\":true,\"template\":{\"data\":{\"bar\":[{\"error_x\":{\"color\":\"#2a3f5f\"},\"error_y\":{\"color\":\"#2a3f5f\"},\"marker\":{\"line\":{\"color\":\"#E5ECF6\",\"width\":0.5},\"pattern\":{\"fillmode\":\"overlay\",\"size\":10,\"solidity\":0.2}},\"type\":\"bar\"}],\"barpolar\":[{\"marker\":{\"line\":{\"color\":\"#E5ECF6\",\"width\":0.5},\"pattern\":{\"fillmode\":\"overlay\",\"size\":10,\"solidity\":0.2}},\"type\":\"barpolar\"}],\"carpet\":[{\"aaxis\":{\"endlinecolor\":\"#2a3f5f\",\"gridcolor\":\"white\",\"linecolor\":\"white\",\"minorgridcolor\":\"white\",\"startlinecolor\":\"#2a3f5f\"},\"baxis\":{\"endlinecolor\":\"#2a3f5f\",\"gridcolor\":\"white\",\"linecolor\":\"white\",\"minorgridcolor\":\"white\",\"startlinecolor\":\"#2a3f5f\"},\"type\":\"carpet\"}],\"choropleth\":[{\"colorbar\":{\"outlinewidth\":0,\"ticks\":\"\"},\"type\":\"choropleth\"}],\"contour\":[{\"colorbar\":{\"outlinewidth\":0,\"ticks\":\"\"},\"colorscale\":[[0.0,\"#0d0887\"],[0.1111111111111111,\"#46039f\"],[0.2222222222222222,\"#7201a8\"],[0.3333333333333333,\"#9c179e\"],[0.4444444444444444,\"#bd3786\"],[0.5555555555555556,\"#d8576b\"],[0.6666666666666666,\"#ed7953\"],[0.7777777777777778,\"#fb9f3a\"],[0.8888888888888888,\"#fdca26\"],[1.0,\"#f0f921\"]],\"type\":\"contour\"}],\"contourcarpet\":[{\"colorbar\":{\"outlinewidth\":0,\"ticks\":\"\"},\"type\":\"contourcarpet\"}],\"heatmap\":[{\"colorbar\":{\"outlinewidth\":0,\"ticks\":\"\"},\"colorscale\":[[0.0,\"#0d0887\"],[0.1111111111111111,\"#46039f\"],[0.2222222222222222,\"#7201a8\"],[0.3333333333333333,\"#9c179e\"],[0.4444444444444444,\"#bd3786\"],[0.5555555555555556,\"#d8576b\"],[0.6666666666666666,\"#ed7953\"],[0.7777777777777778,\"#fb9f3a\"],[0.8888888888888888,\"#fdca26\"],[1.0,\"#f0f921\"]],\"type\":\"heatmap\"}],\"heatmapgl\":[{\"colorbar\":{\"outlinewidth\":0,\"ticks\":\"\"},\"colorscale\":[[0.0,\"#0d0887\"],[0.1111111111111111,\"#46039f\"],[0.2222222222222222,\"#7201a8\"],[0.3333333333333333,\"#9c179e\"],[0.4444444444444444,\"#bd3786\"],[0.5555555555555556,\"#d8576b\"],[0.6666666666666666,\"#ed7953\"],[0.7777777777777778,\"#fb9f3a\"],[0.8888888888888888,\"#fdca26\"],[1.0,\"#f0f921\"]],\"type\":\"heatmapgl\"}],\"histogram\":[{\"marker\":{\"pattern\":{\"fillmode\":\"overlay\",\"size\":10,\"solidity\":0.2}},\"type\":\"histogram\"}],\"histogram2d\":[{\"colorbar\":{\"outlinewidth\":0,\"ticks\":\"\"},\"colorscale\":[[0.0,\"#0d0887\"],[0.1111111111111111,\"#46039f\"],[0.2222222222222222,\"#7201a8\"],[0.3333333333333333,\"#9c179e\"],[0.4444444444444444,\"#bd3786\"],[0.5555555555555556,\"#d8576b\"],[0.6666666666666666,\"#ed7953\"],[0.7777777777777778,\"#fb9f3a\"],[0.8888888888888888,\"#fdca26\"],[1.0,\"#f0f921\"]],\"type\":\"histogram2d\"}],\"histogram2dcontour\":[{\"colorbar\":{\"outlinewidth\":0,\"ticks\":\"\"},\"colorscale\":[[0.0,\"#0d0887\"],[0.1111111111111111,\"#46039f\"],[0.2222222222222222,\"#7201a8\"],[0.3333333333333333,\"#9c179e\"],[0.4444444444444444,\"#bd3786\"],[0.5555555555555556,\"#d8576b\"],[0.6666666666666666,\"#ed7953\"],[0.7777777777777778,\"#fb9f3a\"],[0.8888888888888888,\"#fdca26\"],[1.0,\"#f0f921\"]],\"type\":\"histogram2dcontour\"}],\"mesh3d\":[{\"colorbar\":{\"outlinewidth\":0,\"ticks\":\"\"},\"type\":\"mesh3d\"}],\"parcoords\":[{\"line\":{\"colorbar\":{\"outlinewidth\":0,\"ticks\":\"\"}},\"type\":\"parcoords\"}],\"pie\":[{\"automargin\":true,\"type\":\"pie\"}],\"scatter\":[{\"marker\":{\"colorbar\":{\"outlinewidth\":0,\"ticks\":\"\"}},\"type\":\"scatter\"}],\"scatter3d\":[{\"line\":{\"colorbar\":{\"outlinewidth\":0,\"ticks\":\"\"}},\"marker\":{\"colorbar\":{\"outlinewidth\":0,\"ticks\":\"\"}},\"type\":\"scatter3d\"}],\"scattercarpet\":[{\"marker\":{\"colorbar\":{\"outlinewidth\":0,\"ticks\":\"\"}},\"type\":\"scattercarpet\"}],\"scattergeo\":[{\"marker\":{\"colorbar\":{\"outlinewidth\":0,\"ticks\":\"\"}},\"type\":\"scattergeo\"}],\"scattergl\":[{\"marker\":{\"colorbar\":{\"outlinewidth\":0,\"ticks\":\"\"}},\"type\":\"scattergl\"}],\"scattermapbox\":[{\"marker\":{\"colorbar\":{\"outlinewidth\":0,\"ticks\":\"\"}},\"type\":\"scattermapbox\"}],\"scatterpolar\":[{\"marker\":{\"colorbar\":{\"outlinewidth\":0,\"ticks\":\"\"}},\"type\":\"scatterpolar\"}],\"scatterpolargl\":[{\"marker\":{\"colorbar\":{\"outlinewidth\":0,\"ticks\":\"\"}},\"type\":\"scatterpolargl\"}],\"scatterternary\":[{\"marker\":{\"colorbar\":{\"outlinewidth\":0,\"ticks\":\"\"}},\"type\":\"scatterternary\"}],\"surface\":[{\"colorbar\":{\"outlinewidth\":0,\"ticks\":\"\"},\"colorscale\":[[0.0,\"#0d0887\"],[0.1111111111111111,\"#46039f\"],[0.2222222222222222,\"#7201a8\"],[0.3333333333333333,\"#9c179e\"],[0.4444444444444444,\"#bd3786\"],[0.5555555555555556,\"#d8576b\"],[0.6666666666666666,\"#ed7953\"],[0.7777777777777778,\"#fb9f3a\"],[0.8888888888888888,\"#fdca26\"],[1.0,\"#f0f921\"]],\"type\":\"surface\"}],\"table\":[{\"cells\":{\"fill\":{\"color\":\"#EBF0F8\"},\"line\":{\"color\":\"white\"}},\"header\":{\"fill\":{\"color\":\"#C8D4E3\"},\"line\":{\"color\":\"white\"}},\"type\":\"table\"}]},\"layout\":{\"annotationdefaults\":{\"arrowcolor\":\"#2a3f5f\",\"arrowhead\":0,\"arrowwidth\":1},\"autotypenumbers\":\"strict\",\"coloraxis\":{\"colorbar\":{\"outlinewidth\":0,\"ticks\":\"\"}},\"colorscale\":{\"diverging\":[[0,\"#8e0152\"],[0.1,\"#c51b7d\"],[0.2,\"#de77ae\"],[0.3,\"#f1b6da\"],[0.4,\"#fde0ef\"],[0.5,\"#f7f7f7\"],[0.6,\"#e6f5d0\"],[0.7,\"#b8e186\"],[0.8,\"#7fbc41\"],[0.9,\"#4d9221\"],[1,\"#276419\"]],\"sequential\":[[0.0,\"#0d0887\"],[0.1111111111111111,\"#46039f\"],[0.2222222222222222,\"#7201a8\"],[0.3333333333333333,\"#9c179e\"],[0.4444444444444444,\"#bd3786\"],[0.5555555555555556,\"#d8576b\"],[0.6666666666666666,\"#ed7953\"],[0.7777777777777778,\"#fb9f3a\"],[0.8888888888888888,\"#fdca26\"],[1.0,\"#f0f921\"]],\"sequentialminus\":[[0.0,\"#0d0887\"],[0.1111111111111111,\"#46039f\"],[0.2222222222222222,\"#7201a8\"],[0.3333333333333333,\"#9c179e\"],[0.4444444444444444,\"#bd3786\"],[0.5555555555555556,\"#d8576b\"],[0.6666666666666666,\"#ed7953\"],[0.7777777777777778,\"#fb9f3a\"],[0.8888888888888888,\"#fdca26\"],[1.0,\"#f0f921\"]]},\"colorway\":[\"#636efa\",\"#EF553B\",\"#00cc96\",\"#ab63fa\",\"#FFA15A\",\"#19d3f3\",\"#FF6692\",\"#B6E880\",\"#FF97FF\",\"#FECB52\"],\"font\":{\"color\":\"#2a3f5f\"},\"geo\":{\"bgcolor\":\"white\",\"lakecolor\":\"white\",\"landcolor\":\"#E5ECF6\",\"showlakes\":true,\"showland\":true,\"subunitcolor\":\"white\"},\"hoverlabel\":{\"align\":\"left\"},\"hovermode\":\"closest\",\"mapbox\":{\"style\":\"light\"},\"paper_bgcolor\":\"white\",\"plot_bgcolor\":\"#E5ECF6\",\"polar\":{\"angularaxis\":{\"gridcolor\":\"white\",\"linecolor\":\"white\",\"ticks\":\"\"},\"bgcolor\":\"#E5ECF6\",\"radialaxis\":{\"gridcolor\":\"white\",\"linecolor\":\"white\",\"ticks\":\"\"}},\"scene\":{\"xaxis\":{\"backgroundcolor\":\"#E5ECF6\",\"gridcolor\":\"white\",\"gridwidth\":2,\"linecolor\":\"white\",\"showbackground\":true,\"ticks\":\"\",\"zerolinecolor\":\"white\"},\"yaxis\":{\"backgroundcolor\":\"#E5ECF6\",\"gridcolor\":\"white\",\"gridwidth\":2,\"linecolor\":\"white\",\"showbackground\":true,\"ticks\":\"\",\"zerolinecolor\":\"white\"},\"zaxis\":{\"backgroundcolor\":\"#E5ECF6\",\"gridcolor\":\"white\",\"gridwidth\":2,\"linecolor\":\"white\",\"showbackground\":true,\"ticks\":\"\",\"zerolinecolor\":\"white\"}},\"shapedefaults\":{\"line\":{\"color\":\"#2a3f5f\"}},\"ternary\":{\"aaxis\":{\"gridcolor\":\"white\",\"linecolor\":\"white\",\"ticks\":\"\"},\"baxis\":{\"gridcolor\":\"white\",\"linecolor\":\"white\",\"ticks\":\"\"},\"bgcolor\":\"#E5ECF6\",\"caxis\":{\"gridcolor\":\"white\",\"linecolor\":\"white\",\"ticks\":\"\"}},\"title\":{\"x\":0.05},\"xaxis\":{\"automargin\":true,\"gridcolor\":\"white\",\"linecolor\":\"white\",\"ticks\":\"\",\"title\":{\"standoff\":15},\"zerolinecolor\":\"white\",\"zerolinewidth\":2},\"yaxis\":{\"automargin\":true,\"gridcolor\":\"white\",\"linecolor\":\"white\",\"ticks\":\"\",\"title\":{\"standoff\":15},\"zerolinecolor\":\"white\",\"zerolinewidth\":2}}}},                        {\"responsive\": true}                    ).then(function(){\n",
       "                            \n",
       "var gd = document.getElementById('27d70ca6-b1ea-419c-86af-f93a85490a5b');\n",
       "var x = new MutationObserver(function (mutations, observer) {{\n",
       "        var display = window.getComputedStyle(gd).display;\n",
       "        if (!display || display === 'none') {{\n",
       "            console.log([gd, 'removed!']);\n",
       "            Plotly.purge(gd);\n",
       "            observer.disconnect();\n",
       "        }}\n",
       "}});\n",
       "\n",
       "// Listen for the removal of the full notebook cells\n",
       "var notebookContainer = gd.closest('#notebook-container');\n",
       "if (notebookContainer) {{\n",
       "    x.observe(notebookContainer, {childList: true});\n",
       "}}\n",
       "\n",
       "// Listen for the clearing of the current output cell\n",
       "var outputEl = gd.closest('.output');\n",
       "if (outputEl) {{\n",
       "    x.observe(outputEl, {childList: true});\n",
       "}}\n",
       "\n",
       "                        })                };                });            </script>        </div>"
      ]
     },
     "metadata": {},
     "output_type": "display_data"
    },
    {
     "name": "stdout",
     "output_type": "stream",
     "text": [
      "{PDEntry : Ti2 S3 O12 with energy = -169.3510, PDEntry : Ca1 S1 with energy = -24.1579, PDEntry : Ti2 O3 with energy = -63.4668, PDEntry : S1 O3 with energy = -32.9180, PDEntry : Ti1 S2 with energy = -37.9790, PDEntry : S1 with energy = -9.6380, PDEntry : Ti1 with energy = -14.0618, PDEntry : Ca1 O1 with energy = -22.3555, PDEntry : Ti1 S1 with energy = -26.6950, PDEntry : Ca1 Ti2 O4 with energy = -86.1256, PDEntry : O2 with energy = -12.3101, PDEntry : Ti1 O2 with energy = -36.7223, PDEntry : Ca1 Ti1 O3 with energy = -59.8985, PDEntry : Ti2 S1 with energy = -41.1830, PDEntry : Ti1 O5 S1 with energy = -70.7820, PDEntry : Ca1 S1 O4 with energy = -58.7210, PDEntry : Ca1 with energy = -9.6682}\n"
     ]
    }
   ],
   "source": [
    "from pymatgen.analysis.phase_diagram import Composition\n",
    "\n",
    "entries =[PDEntry(k,v) for k,v in input_data.items()]\n",
    "\n",
    "phase_diagram_1 = PhaseDiagram(entries)\n",
    "plotter_1 = PDPlotter(phase_diagram_1, show_unstable=True, markersize=20)\n",
    "plotter_1.show() \n",
    "print(phase_diagram_1.stable_entries)"
   ]
  },
  {
   "cell_type": "code",
   "execution_count": 9,
   "id": "cb99d1ac",
   "metadata": {},
   "outputs": [
    {
     "data": {
      "text/plain": [
       "{PDEntry : Ti2 S3 O12 with energy = -169.3510: 1.0}"
      ]
     },
     "execution_count": 9,
     "metadata": {},
     "output_type": "execute_result"
    }
   ],
   "source": [
    "decomp_1= phase_diagram_1.get_decomposition(Composition(\"Ti2S3O12\"))\n",
    "decomp_1"
   ]
  },
  {
   "cell_type": "code",
   "execution_count": 10,
   "id": "367341f9",
   "metadata": {},
   "outputs": [
    {
     "data": {
      "text/plain": [
       "{PDEntry : Ti2 S3 O12 with energy = -169.3510: 0.47222222222222143,\n",
       " PDEntry : Ca1 S1 O4 with energy = -58.7210: 0.33333333333333304,\n",
       " PDEntry : Ti1 O2 with energy = -36.7223: 0.16666666666666696,\n",
       " PDEntry : S1 with energy = -9.6380: 0.02777777777777779}"
      ]
     },
     "execution_count": 10,
     "metadata": {},
     "output_type": "execute_result"
    }
   ],
   "source": [
    "decomp_2= phase_diagram_1.get_decomposition(Composition(\"CaTi2S3O12\"))\n",
    "decomp_2"
   ]
  },
  {
   "cell_type": "code",
   "execution_count": 6,
   "id": "c1c58162",
   "metadata": {},
   "outputs": [
    {
     "ename": "ValueError",
     "evalue": "No valid decomp found for PDEntry : Ti2 S3 O12 with energy = -169.3510! (e -0.15464705882352803)",
     "output_type": "error",
     "traceback": [
      "\u001b[0;31m---------------------------------------------------------------------------\u001b[0m",
      "\u001b[0;31mValueError\u001b[0m                                Traceback (most recent call last)",
      "\u001b[0;32m/tmp/ipykernel_1491797/1553478806.py\u001b[0m in \u001b[0;36m<module>\u001b[0;34m\u001b[0m\n\u001b[0;32m----> 1\u001b[0;31m \u001b[0mehull_1\u001b[0m \u001b[0;34m=\u001b[0m \u001b[0mphase_diagram_1\u001b[0m\u001b[0;34m.\u001b[0m\u001b[0mget_e_above_hull\u001b[0m\u001b[0;34m(\u001b[0m\u001b[0mPDEntry\u001b[0m\u001b[0;34m(\u001b[0m \u001b[0;34m\"Ti2S3O12\"\u001b[0m\u001b[0;34m,\u001b[0m\u001b[0;34m-\u001b[0m\u001b[0;36m169.351\u001b[0m\u001b[0;34m)\u001b[0m\u001b[0;34m)\u001b[0m\u001b[0;34m\u001b[0m\u001b[0;34m\u001b[0m\u001b[0m\n\u001b[0m\u001b[1;32m      2\u001b[0m \u001b[0;34m\u001b[0m\u001b[0m\n\u001b[1;32m      3\u001b[0m \u001b[0;31m#Returns:- Stable entries should have energy above convex hull of 0. The energy is given per atom.\u001b[0m\u001b[0;34m\u001b[0m\u001b[0;34m\u001b[0m\u001b[0m\n\u001b[1;32m      4\u001b[0m \u001b[0;34m\u001b[0m\u001b[0m\n\u001b[1;32m      5\u001b[0m \u001b[0mprint\u001b[0m\u001b[0;34m(\u001b[0m\u001b[0;34m\"The energy above hull of Ca4Cr2(SiO4)3 is {0} eV/atom.\"\u001b[0m\u001b[0;34m.\u001b[0m\u001b[0mformat\u001b[0m\u001b[0;34m(\u001b[0m\u001b[0mehull_1\u001b[0m\u001b[0;34m)\u001b[0m\u001b[0;34m)\u001b[0m\u001b[0;34m\u001b[0m\u001b[0;34m\u001b[0m\u001b[0m\n",
      "\u001b[0;32m~/anaconda3/lib/python3.9/site-packages/pymatgen/analysis/phase_diagram.py\u001b[0m in \u001b[0;36mget_e_above_hull\u001b[0;34m(self, entry, **kwargs)\u001b[0m\n\u001b[1;32m    718\u001b[0m             \u001b[0menergy\u001b[0m \u001b[0mabove\u001b[0m \u001b[0mhull\u001b[0m \u001b[0mof\u001b[0m \u001b[0;36m0.\u001b[0m \u001b[0mThe\u001b[0m \u001b[0menergy\u001b[0m \u001b[0;32mis\u001b[0m \u001b[0mgiven\u001b[0m \u001b[0mper\u001b[0m \u001b[0matom\u001b[0m\u001b[0;34m.\u001b[0m\u001b[0;34m\u001b[0m\u001b[0;34m\u001b[0m\u001b[0m\n\u001b[1;32m    719\u001b[0m         \"\"\"\n\u001b[0;32m--> 720\u001b[0;31m         \u001b[0;32mreturn\u001b[0m \u001b[0mself\u001b[0m\u001b[0;34m.\u001b[0m\u001b[0mget_decomp_and_e_above_hull\u001b[0m\u001b[0;34m(\u001b[0m\u001b[0mentry\u001b[0m\u001b[0;34m,\u001b[0m \u001b[0;34m**\u001b[0m\u001b[0mkwargs\u001b[0m\u001b[0;34m)\u001b[0m\u001b[0;34m[\u001b[0m\u001b[0;36m1\u001b[0m\u001b[0;34m]\u001b[0m\u001b[0;34m\u001b[0m\u001b[0;34m\u001b[0m\u001b[0m\n\u001b[0m\u001b[1;32m    721\u001b[0m \u001b[0;34m\u001b[0m\u001b[0m\n\u001b[1;32m    722\u001b[0m     \u001b[0;32mdef\u001b[0m \u001b[0mget_equilibrium_reaction_energy\u001b[0m\u001b[0;34m(\u001b[0m\u001b[0mself\u001b[0m\u001b[0;34m,\u001b[0m \u001b[0mentry\u001b[0m\u001b[0;34m)\u001b[0m\u001b[0;34m:\u001b[0m\u001b[0;34m\u001b[0m\u001b[0;34m\u001b[0m\u001b[0m\n",
      "\u001b[0;32m~/anaconda3/lib/python3.9/site-packages/pymatgen/analysis/phase_diagram.py\u001b[0m in \u001b[0;36mget_decomp_and_e_above_hull\u001b[0;34m(self, entry, allow_negative, check_stable)\u001b[0m\n\u001b[1;32m    705\u001b[0m             \u001b[0;32mreturn\u001b[0m \u001b[0mdecomp\u001b[0m\u001b[0;34m,\u001b[0m \u001b[0me_above_hull\u001b[0m\u001b[0;34m\u001b[0m\u001b[0;34m\u001b[0m\u001b[0m\n\u001b[1;32m    706\u001b[0m \u001b[0;34m\u001b[0m\u001b[0m\n\u001b[0;32m--> 707\u001b[0;31m         \u001b[0;32mraise\u001b[0m \u001b[0mValueError\u001b[0m\u001b[0;34m(\u001b[0m\u001b[0;34mf\"No valid decomp found for {entry}! (e {e_above_hull})\"\u001b[0m\u001b[0;34m)\u001b[0m\u001b[0;34m\u001b[0m\u001b[0;34m\u001b[0m\u001b[0m\n\u001b[0m\u001b[1;32m    708\u001b[0m \u001b[0;34m\u001b[0m\u001b[0m\n\u001b[1;32m    709\u001b[0m     \u001b[0;32mdef\u001b[0m \u001b[0mget_e_above_hull\u001b[0m\u001b[0;34m(\u001b[0m\u001b[0mself\u001b[0m\u001b[0;34m,\u001b[0m \u001b[0mentry\u001b[0m\u001b[0;34m,\u001b[0m \u001b[0;34m**\u001b[0m\u001b[0mkwargs\u001b[0m\u001b[0;34m)\u001b[0m\u001b[0;34m:\u001b[0m\u001b[0;34m\u001b[0m\u001b[0;34m\u001b[0m\u001b[0m\n",
      "\u001b[0;31mValueError\u001b[0m: No valid decomp found for PDEntry : Ti2 S3 O12 with energy = -169.3510! (e -0.15464705882352803)"
     ]
    }
   ],
   "source": [
    "ehull_1 = phase_diagram_1.get_e_above_hull(PDEntry( \"Ti2S3O12\",-169.351))\n",
    "\n",
    "#Returns:- Stable entries should have energy above convex hull of 0. The energy is given per atom.\n",
    "\n",
    "print(\"The energy above hull of Ca4Cr2(SiO4)3 is {0} eV/atom.\".format(ehull_1))\n",
    "    "
   ]
  },
  {
   "cell_type": "code",
   "execution_count": 11,
   "id": "cdf03a4b",
   "metadata": {},
   "outputs": [
    {
     "name": "stdout",
     "output_type": "stream",
     "text": [
      "The energy above hull of Ca2Cr2(SiO4)3 is 0.1743211111111016 eV/atom.\n"
     ]
    }
   ],
   "source": [
    "ehull_2 = phase_diagram_1.get_e_above_hull(PDEntry(\"CaTi2S3O12\",-181.800))\n",
    "print(\"The energy above hull of Ca2Cr2(SiO4)3 is {0} eV/atom.\".format(ehull_2))"
   ]
  },
  {
   "cell_type": "code",
   "execution_count": null,
   "id": "7d1571af",
   "metadata": {},
   "outputs": [],
   "source": [
    "phase_diagram_2 = CompoundPhaseDiagram(entries,[Composition(\"CaO\"),\n",
    "                                                Composition(\"CaTiO3\"),\n",
    "                                                Composition(\"Ti2S3O12\"),\n",
    "                                                Composition(\"S\")])\n",
    "\n",
    "compound_plotter_2 = PDPlotter(phase_diagram_2, show_unstable=True, backend = \"matplotlib\",  markersize=20)\n",
    "z = compound_plotter_2.get_plot(label_unstable=False, label_stable=False)\n",
    "#z.savefig('30-CaTi2S3O12.pdf')\n",
    "z.show()   \n",
    " \n",
    "compound_plotter_2 = PDPlotter(phase_diagram_2, show_unstable = True, markerize=20)\n",
    "y = compound_plotter_2.get_plot(phase_diagram_2, label_unstable=False)\n",
    "y.show()\n",
    "\n",
    "\n"
   ]
  },
  {
   "cell_type": "code",
   "execution_count": null,
   "id": "e091d3b3",
   "metadata": {},
   "outputs": [],
   "source": [
    "phase_diagram_2 = CompoundPhaseDiagram(entries,[Composition(\"O\"),\n",
    "                                                Composition(\"Ti\"),\n",
    "                                                Composition(\"S\")])\n",
    "\n",
    "compound_plotter_2 = PDPlotter(phase_diagram_2, show_unstable=True, backend = \"matplotlib\",  markersize=20)\n",
    "z = compound_plotter_2.get_plot(label_unstable=False, label_stable=False)\n",
    "#z.savefig('29-Ti2S3O12.pdf')\n",
    "z.show()   \n",
    " \n",
    "compound_plotter_2 = PDPlotter(phase_diagram_2, show_unstable = True, markerize=20)\n",
    "y = compound_plotter_2.get_plot(phase_diagram_2, label_unstable=False)\n",
    "y.show()\n",
    "\n"
   ]
  },
  {
   "cell_type": "code",
   "execution_count": null,
   "id": "6222b97a",
   "metadata": {},
   "outputs": [],
   "source": [
    "phase_diagram_3 = CompoundPhaseDiagram(entries,[Composition(\"Ca\"),\n",
    "                                                Composition(\"S\"),\n",
    "                                                Composition(\"O2\")])\n",
    "#CompoundPhaseDiagram:-Generates phase diagrams from compounds as terminations instead of elements\n",
    "\n",
    "\n",
    "#get_plot and show:- Draw the phase diagram using Plotly (or Matplotlib) and show it.\n",
    "\n",
    "compound_plotter_3 = PDPlotter(phase_diagram_3, show_unstable=True, markerize=20)\n",
    "z = compound_plotter_3.get_plot(phase_diagram_3, label_unstable=True)\n",
    "z.show()"
   ]
  },
  {
   "cell_type": "code",
   "execution_count": null,
   "id": "d4dd3b4e",
   "metadata": {},
   "outputs": [],
   "source": [
    "phase_diagram_4 = CompoundPhaseDiagram(entries,[Composition(\"Ti\"),\n",
    "                                                Composition(\"S\"),\n",
    "                                                Composition(\"O2\")])\n",
    "#CompoundPhaseDiagram:-Generates phase diagrams from compounds as terminations instead of elements\n",
    "\n",
    "\n",
    "#get_plot and show:- Draw the phase diagram using Plotly (or Matplotlib) and show it.\n",
    "\n",
    "compound_plotter_4 = PDPlotter(phase_diagram_4, show_unstable=True, markerize=20)\n",
    "z = compound_plotter_4.get_plot(phase_diagram_4, label_unstable=True)\n",
    "z.show()"
   ]
  },
  {
   "cell_type": "code",
   "execution_count": null,
   "id": "026ac35d",
   "metadata": {},
   "outputs": [],
   "source": []
  },
  {
   "cell_type": "code",
   "execution_count": null,
   "id": "b7eccdc6",
   "metadata": {},
   "outputs": [],
   "source": []
  }
 ],
 "metadata": {
  "kernelspec": {
   "display_name": "Python 3 (ipykernel)",
   "language": "python",
   "name": "python3"
  },
  "language_info": {
   "codemirror_mode": {
    "name": "ipython",
    "version": 3
   },
   "file_extension": ".py",
   "mimetype": "text/x-python",
   "name": "python",
   "nbconvert_exporter": "python",
   "pygments_lexer": "ipython3",
   "version": "3.9.7"
  }
 },
 "nbformat": 4,
 "nbformat_minor": 5
}
