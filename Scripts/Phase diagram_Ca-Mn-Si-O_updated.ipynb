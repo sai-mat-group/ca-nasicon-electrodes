{
 "cells": [
  {
   "cell_type": "code",
   "execution_count": 1,
   "id": "978aa659",
   "metadata": {},
   "outputs": [],
   "source": [
    "import pymatgen\n",
    "import os\n",
    "import unittest\n",
    "import warnings\n",
    "from numbers import Number\n",
    "\n",
    "from pathlib import Path\n",
    "#from collections import OrderDict\n",
    "import numpy as np\n",
    "from pymatgen.analysis.phase_diagram import(CompoundPhaseDiagram, PDEntry, PDPlotter, PhaseDiagram, ReactionDiagram, TransformedPDEntry, tet_coord, triangular_coord, uniquelines, uniquelines)\n",
    "from pymatgen.core.composition import Composition\n",
    "from pymatgen.core.periodic_table import DummySpecies, Element\n",
    "from pymatgen.entries.computed_entries import ComputedEntry\n",
    "from pymatgen.entries.entry_tools import EntrySet\n",
    "from pymatgen.analysis.phase_diagram import Composition"
   ]
  },
  {
   "cell_type": "code",
   "execution_count": 13,
   "id": "59d73204",
   "metadata": {},
   "outputs": [],
   "source": [
    "input_data = {\"Ca2Mn3O8\":-152.56351,\"Ca2MnO4\":-80.831838,\"Ca3Mn2O14Si4\":-259.799655, \n",
    "              \"Ca3Mn2Si3O12\":-228.409598,  \"CaMn2O4\":-86.587565, \"CaMn4Si5O15\":-293.440865,\n",
    "              \"CaMn6SiO12\":-246.506575, \"CaMn7O12\":-249.57392,  \"CaMnSi2O6\":-114.49429,\n",
    "              \"Mn2SiO4\":-87.54651, \"Mn4SiO7\":-150.74472, \"Mn5Si3O12\":-245.984375, \"Mn7SiO12\":-251.54555,\n",
    "              \"MnSiO3\":-59.605772, \n",
    "              \n",
    "              #\"CaSiO3\":-54.816605, \n",
    "             # \"Ca2SiO4\":-77.546325, \"Ca3Si2O7\":-132.383868,\"Ca3SiO\":-53.2873387,\n",
    "                   \n",
    "              #\"Ca3SiO5\":-99.8492667, \"CaSi2O5\":-85.967765, \n",
    "              \n",
    "              \"MnSi2O5\":-90.67979,\n",
    "              \"Ca4Mn3O10\":-194.420795, \"CaMnO3\":-58.29231 , \"Ca3Mn2O7\":-139.1215, \n",
    "              \n",
    "              \"Mn2O3\":-63.684207, \"MnO\":-27.759088, \"MnO2\":-35.332674,\n",
    "              \"Mn3O4\":-91.811649, \n",
    "              \n",
    "              \"CaO\":-22.355494, \"SiO2\":-31.5938, \"O2\":-12.3101, \"Si\":-5.4252155, \"Ca\":-9.6682, \"Mn\":-16.982424, \n",
    "              \n",
    "              \"Ca4Mn2Si3O12\":-240.99698, \"Ca2Mn2Si3O12\":-209.866955}\n",
    "              \n",
    "              \n",
    "              \n"
   ]
  },
  {
   "cell_type": "code",
   "execution_count": 14,
   "id": "86ac1ef8",
   "metadata": {},
   "outputs": [
    {
     "data": {
      "application/vnd.plotly.v1+json": {
       "config": {
        "plotlyServerURL": "https://plot.ly"
       },
       "data": [
        {
         "hoverinfo": "none",
         "line": {
          "color": "rgba(0,0,0,1.0)",
          "width": 7
         },
         "mode": "lines",
         "showlegend": false,
         "type": "scatter3d",
         "x": [
          0.75,
          1,
          null,
          0.7142857142857142,
          0.6499999999999999,
          null,
          0.42857142857142855,
          0.5384615384615385,
          null,
          0.42857142857142855,
          0.5,
          null,
          0.7142857142857142,
          0.5384615384615385,
          null,
          0.5384615384615385,
          0.5,
          null,
          0.7,
          0.7142857142857142,
          null,
          0.5,
          0.6666666666666666,
          null,
          0.475,
          0.5,
          null,
          0.625,
          0.5714285714285714,
          null,
          0.625,
          0.25,
          null,
          0.625,
          0.6499999999999999,
          null,
          0.6666666666666666,
          0.7,
          null,
          0.25,
          0.5714285714285714,
          null,
          0.5,
          1,
          null,
          0.5,
          0.25,
          null,
          0.625,
          0.5384615384615385,
          null,
          0.75,
          0.625,
          null,
          0.5,
          0.5384615384615385,
          null,
          0.25,
          0.5,
          null,
          0.5,
          0.5,
          null,
          0.5,
          0,
          null,
          0.25,
          0,
          null,
          0.6666666666666666,
          0.5384615384615385,
          null,
          0.6666666666666666,
          0.5,
          null,
          0.42857142857142855,
          0.475,
          null,
          0.5384615384615385,
          0.475,
          null,
          0.7,
          0.625,
          null,
          0.5714285714285714,
          0.42857142857142855,
          null,
          0.625,
          0.5,
          null,
          0.6499999999999999,
          0.5384615384615385,
          null,
          0.75,
          0.25,
          null,
          0.25,
          0.5,
          null,
          1,
          0,
          null,
          0.5,
          0.5,
          null,
          0.625,
          0.475,
          null,
          0.625,
          1,
          null,
          0.25,
          0.475,
          null,
          0.5,
          1,
          null,
          0.25,
          1,
          null,
          0.5,
          0.475,
          null,
          0.75,
          0.5714285714285714,
          null,
          0.7142857142857142,
          0.625,
          null,
          0.5,
          0.475,
          null,
          0.5,
          1,
          null,
          0.56,
          1,
          null,
          0.5714285714285714,
          0.5384615384615385,
          null,
          0.5,
          0.625,
          null,
          0.7,
          0.6499999999999999,
          null,
          0.625,
          0.56,
          null,
          0.7,
          0.5384615384615385,
          null,
          0.6666666666666666,
          0.625,
          null,
          0.75,
          0.7142857142857142,
          null,
          0.75,
          0.5,
          null,
          0.625,
          0.42857142857142855,
          null,
          0.5,
          0.56,
          null,
          0.5,
          0,
          null,
          0.25,
          0.42857142857142855,
          null,
          0.5,
          0.56,
          null,
          0.5,
          0.5,
          null,
          0.7142857142857142,
          0.5714285714285714,
          null
         ],
         "y": [
          0.14433756729740643,
          0,
          null,
          0.16495721976846447,
          0.1732050807568877,
          null,
          0.16495721976846447,
          0.177646236673731,
          null,
          0.16495721976846447,
          0.28867513459481287,
          null,
          0.16495721976846447,
          0.177646236673731,
          null,
          0.177646236673731,
          0.28867513459481287,
          null,
          0.1732050807568877,
          0.16495721976846447,
          null,
          0.48112522432468807,
          0.19245008972987523,
          null,
          0.3031088913245535,
          0.28867513459481287,
          null,
          0.3031088913245535,
          0.16495721976846447,
          null,
          0.3031088913245535,
          0.14433756729740643,
          null,
          0.3031088913245535,
          0.1732050807568877,
          null,
          0.19245008972987523,
          0.1732050807568877,
          null,
          0.14433756729740643,
          0.16495721976846447,
          null,
          0.8660254037844386,
          0,
          null,
          0.48112522432468807,
          0.14433756729740643,
          null,
          0.3031088913245535,
          0.177646236673731,
          null,
          0.14433756729740643,
          0.3031088913245535,
          null,
          0.48112522432468807,
          0.177646236673731,
          null,
          0.14433756729740643,
          0.28867513459481287,
          null,
          0.48112522432468807,
          0.28867513459481287,
          null,
          0.48112522432468807,
          0,
          null,
          0.14433756729740643,
          0,
          null,
          0.19245008972987523,
          0.177646236673731,
          null,
          0.19245008972987523,
          0.28867513459481287,
          null,
          0.16495721976846447,
          0.3031088913245535,
          null,
          0.177646236673731,
          0.3031088913245535,
          null,
          0.1732050807568877,
          0.3031088913245535,
          null,
          0.16495721976846447,
          0.16495721976846447,
          null,
          0.3031088913245535,
          0.34641016151377546,
          null,
          0.1732050807568877,
          0.177646236673731,
          null,
          0.14433756729740643,
          0.14433756729740643,
          null,
          0.14433756729740643,
          0.34641016151377546,
          null,
          0,
          0,
          null,
          0.48112522432468807,
          0.34641016151377546,
          null,
          0.3031088913245535,
          0.3031088913245535,
          null,
          0.3031088913245535,
          0,
          null,
          0.14433756729740643,
          0.3031088913245535,
          null,
          0.48112522432468807,
          0,
          null,
          0.14433756729740643,
          0,
          null,
          0.48112522432468807,
          0.3031088913245535,
          null,
          0.14433756729740643,
          0.16495721976846447,
          null,
          0.16495721976846447,
          0.3031088913245535,
          null,
          0.34641016151377546,
          0.3031088913245535,
          null,
          0.34641016151377546,
          0,
          null,
          0.34641016151377546,
          0,
          null,
          0.16495721976846447,
          0.177646236673731,
          null,
          0.48112522432468807,
          0.3031088913245535,
          null,
          0.1732050807568877,
          0.1732050807568877,
          null,
          0.3031088913245535,
          0.34641016151377546,
          null,
          0.1732050807568877,
          0.177646236673731,
          null,
          0.19245008972987523,
          0.3031088913245535,
          null,
          0.14433756729740643,
          0.16495721976846447,
          null,
          0.14433756729740643,
          0.34641016151377546,
          null,
          0.3031088913245535,
          0.16495721976846447,
          null,
          0.48112522432468807,
          0.34641016151377546,
          null,
          0.8660254037844386,
          0,
          null,
          0.14433756729740643,
          0.16495721976846447,
          null,
          0.34641016151377546,
          0.34641016151377546,
          null,
          0.48112522432468807,
          0.8660254037844386,
          null,
          0.16495721976846447,
          0.16495721976846447,
          null
         ],
         "z": [
          0.40824829046386296,
          0,
          null,
          0.4665694748158434,
          0.48989794855663554,
          null,
          0.4665694748158434,
          0.5024594344170621,
          null,
          0.4665694748158434,
          0.8164965809277259,
          null,
          0.4665694748158434,
          0.5024594344170621,
          null,
          0.5024594344170621,
          0.8164965809277259,
          null,
          0.48989794855663554,
          0.4665694748158434,
          null,
          0.5443310539518172,
          0.5443310539518172,
          null,
          0.48989794855663554,
          0.8164965809277259,
          null,
          0.48989794855663554,
          0.4665694748158434,
          null,
          0.48989794855663554,
          0.40824829046386296,
          null,
          0.48989794855663554,
          0.48989794855663554,
          null,
          0.5443310539518172,
          0.48989794855663554,
          null,
          0.40824829046386296,
          0.4665694748158434,
          null,
          0,
          0,
          null,
          0.5443310539518172,
          0.40824829046386296,
          null,
          0.48989794855663554,
          0.5024594344170621,
          null,
          0.40824829046386296,
          0.48989794855663554,
          null,
          0.5443310539518172,
          0.5024594344170621,
          null,
          0.40824829046386296,
          0.8164965809277259,
          null,
          0.5443310539518172,
          0.8164965809277259,
          null,
          0.5443310539518172,
          0,
          null,
          0.40824829046386296,
          0,
          null,
          0.5443310539518172,
          0.5024594344170621,
          null,
          0.5443310539518172,
          0.8164965809277259,
          null,
          0.4665694748158434,
          0.48989794855663554,
          null,
          0.5024594344170621,
          0.48989794855663554,
          null,
          0.48989794855663554,
          0.48989794855663554,
          null,
          0.4665694748158434,
          0.4665694748158434,
          null,
          0.48989794855663554,
          0.48989794855663554,
          null,
          0.48989794855663554,
          0.5024594344170621,
          null,
          0.40824829046386296,
          0.40824829046386296,
          null,
          0.40824829046386296,
          0.48989794855663554,
          null,
          0,
          0,
          null,
          0.5443310539518172,
          0.48989794855663554,
          null,
          0.48989794855663554,
          0.48989794855663554,
          null,
          0.48989794855663554,
          0,
          null,
          0.40824829046386296,
          0.48989794855663554,
          null,
          0.5443310539518172,
          0,
          null,
          0.40824829046386296,
          0,
          null,
          0.5443310539518172,
          0.48989794855663554,
          null,
          0.40824829046386296,
          0.4665694748158434,
          null,
          0.4665694748158434,
          0.48989794855663554,
          null,
          0.48989794855663554,
          0.48989794855663554,
          null,
          0.48989794855663554,
          0,
          null,
          0.48989794855663554,
          0,
          null,
          0.4665694748158434,
          0.5024594344170621,
          null,
          0.5443310539518172,
          0.48989794855663554,
          null,
          0.48989794855663554,
          0.48989794855663554,
          null,
          0.48989794855663554,
          0.48989794855663554,
          null,
          0.48989794855663554,
          0.5024594344170621,
          null,
          0.5443310539518172,
          0.48989794855663554,
          null,
          0.40824829046386296,
          0.4665694748158434,
          null,
          0.40824829046386296,
          0.48989794855663554,
          null,
          0.48989794855663554,
          0.4665694748158434,
          null,
          0.5443310539518172,
          0.48989794855663554,
          null,
          0,
          0,
          null,
          0.40824829046386296,
          0.4665694748158434,
          null,
          0.48989794855663554,
          0.48989794855663554,
          null,
          0.5443310539518172,
          0,
          null,
          0.4665694748158434,
          0.4665694748158434,
          null
         ]
        },
        {
         "hoverinfo": "skip",
         "mode": "text",
         "name": "Labels (stable)",
         "opacity": 1,
         "showlegend": true,
         "text": [
          "MnO",
          "Mn<sub>3</sub>O<sub>4</sub>",
          "CaMn<sub>7</sub>O<sub>12</sub>",
          "Ca<sub>2</sub>MnO<sub>4</sub>",
          "Ca<sub>2</sub>Mn<sub>3</sub>O<sub>8</sub>",
          "Mn<sub>2</sub>O<sub>3</sub>",
          "SiO<sub>2</sub>",
          "MnO<sub>2</sub>",
          "Ca<sub>3</sub>Mn<sub>2</sub>(SiO<sub>4</sub>)<sub>3</sub>",
          "Mn<sub>5</sub>(SiO<sub>4</sub>)<sub>3</sub>",
          "CaMn<sub>2</sub>O<sub>4</sub>",
          "CaO",
          "CaMn(SiO<sub>3</sub>)<sub>2</sub>",
          "CaMn<sub>4</sub>(SiO<sub>3</sub>)<sub>5</sub>"
         ],
         "textposition": [
          "bottom right",
          "bottom right",
          "bottom right",
          "bottom right",
          "bottom right",
          "bottom right",
          "bottom right",
          "bottom right",
          "bottom right",
          "bottom right",
          "bottom right",
          "bottom right",
          "bottom right",
          "bottom right"
         ],
         "type": "scatter3d",
         "visible": "legendonly",
         "x": [
          0.74,
          0.7042857142857142,
          0.6399999999999999,
          0.41857142857142854,
          0.5284615384615385,
          0.69,
          0.49,
          0.6566666666666666,
          0.46499999999999997,
          0.615,
          0.5614285714285714,
          0.24,
          0.49,
          0.55
         ],
         "y": [
          0.13433756729740642,
          0.15495721976846447,
          0.1632050807568877,
          0.15495721976846447,
          0.167646236673731,
          0.1632050807568877,
          0.47112522432468806,
          0.18245008972987523,
          0.2931088913245535,
          0.2931088913245535,
          0.15495721976846447,
          0.13433756729740642,
          0.33641016151377545,
          0.33641016151377545
         ],
         "z": [
          0.40824829046386296,
          0.4665694748158434,
          0.48989794855663554,
          0.4665694748158434,
          0.5024594344170621,
          0.48989794855663554,
          0.5443310539518172,
          0.5443310539518172,
          0.48989794855663554,
          0.48989794855663554,
          0.4665694748158434,
          0.40824829046386296,
          0.48989794855663554,
          0.48989794855663554
         ]
        },
        {
         "hoverinfo": "text",
         "hoverlabel": {
          "font": {
           "size": 14
          }
         },
         "hovertext": [
          "MnSiO<sub>3</sub> (no ID) <br> -3.747 eV/atom (+0.004 eV/atom)",
          "MnSi<sub>2</sub>O<sub>5</sub> (no ID) <br> -4.009 eV/atom (+0.067 eV/atom)",
          "Mn<sub>2</sub>SiO<sub>4</sub> (no ID) <br> -3.362 eV/atom (+0.016 eV/atom)",
          "Mn<sub>4</sub>SiO<sub>7</sub> (no ID) <br> -2.859 eV/atom (+0.143 eV/atom)",
          "Mn<sub>7</sub>SiO<sub>12</sub> (no ID) <br> -2.669 eV/atom (+0.014 eV/atom)",
          "CaMnO<sub>3</sub> (no ID) <br> -2.635 eV/atom (+0.011 eV/atom)",
          "CaMn<sub>6</sub>SiO<sub>12</sub> (no ID) <br> -2.783 eV/atom (+0.007 eV/atom)",
          "Ca<sub>2</sub>Mn<sub>2</sub>(SiO<sub>4</sub>)<sub>3</sub> (no ID) <br> -3.496 eV/atom (+0.098 eV/atom)",
          "Ca<sub>3</sub>Mn<sub>2</sub>O<sub>7</sub> (no ID) <br> -2.756 eV/atom (+0.005 eV/atom)",
          "Ca<sub>3</sub>Mn<sub>2</sub>(Si<sub>2</sub>O<sub>7</sub>)<sub>2</sub> (no ID) <br> -3.868 eV/atom (+0.009 eV/atom)",
          "Ca<sub>4</sub>Mn<sub>2</sub>(SiO<sub>4</sub>)<sub>3</sub> (no ID) <br> -3.725 eV/atom (+0.024 eV/atom)",
          "Ca<sub>4</sub>Mn<sub>3</sub>O<sub>10</sub> (no ID) <br> -2.544 eV/atom (+0.183 eV/atom)"
         ],
         "line": {
          "color": "black",
          "width": 2
         },
         "marker": {
          "color": [
           0.004,
           0.067,
           0.016,
           0.143,
           0.014,
           0.011,
           0.007,
           0.098,
           0.005,
           0.009,
           0.024,
           0.183
          ],
          "colorbar": {
           "len": 0.75,
           "title": {
            "text": "Energy Above Hull<br>(eV/atom)"
           },
           "x": 0.05
          },
          "colorscale": [
           [
            0,
            "#fad393"
           ],
           [
            0.5,
            "#ff813d"
           ],
           [
            1,
            "#ff0000"
           ]
          ],
          "size": 5,
          "symbol": "diamond"
         },
         "mode": "markers",
         "name": "Above Hull",
         "showlegend": true,
         "type": "scatter3d",
         "visible": "legendonly",
         "x": [
          0.6000000000000001,
          0.5625,
          0.6428571428571428,
          0.6666666666666667,
          0.675,
          0.5,
          0.625,
          0.5,
          0.45833333333333337,
          0.4782608695652174,
          0.45238095238095233,
          0.47058823529411764
         ],
         "y": [
          0.34641016151377546,
          0.39692831006786766,
          0.28867513459481287,
          0.24056261216234406,
          0.21650635094610965,
          0.1732050807568877,
          0.21650635094610965,
          0.31906199086795106,
          0.16839382851364085,
          0.32632841302022325,
          0.28867513459481287,
          0.1698089027028311
         ],
         "z": [
          0.48989794855663554,
          0.5103103630798287,
          0.4665694748158434,
          0.47628967220784013,
          0.48989794855663554,
          0.48989794855663554,
          0.48989794855663554,
          0.515682051112248,
          0.47628967220784013,
          0.4969979188255723,
          0.4665694748158434,
          0.4802921064280741
         ]
        },
        {
         "hoverinfo": "text",
         "hoverlabel": {
          "font": {
           "size": 14
          }
         },
         "hovertext": [
          "MnO (no ID) <br> -2.311 eV/atom",
          "Mn (no ID) <br> 0.0 eV/atom",
          "Mn<sub>3</sub>O<sub>4</sub> (no ID) <br> -2.321 eV/atom",
          "CaMn<sub>7</sub>O<sub>12</sub> (no ID) <br> -2.358 eV/atom",
          "Ca<sub>2</sub>MnO<sub>4</sub> (no ID) <br> -2.842 eV/atom",
          "Ca<sub>2</sub>Mn<sub>3</sub>O<sub>8</sub> (no ID) <br> -2.541 eV/atom",
          "O<sub>2</sub> (no ID) <br> 0.0 eV/atom",
          "Mn<sub>2</sub>O<sub>3</sub> (no ID) <br> -2.251 eV/atom",
          "SiO<sub>2</sub> (no ID) <br> -4.619 eV/atom",
          "MnO<sub>2</sub> (no ID) <br> -2.013 eV/atom",
          "Ca<sub>3</sub>Mn<sub>2</sub>(SiO<sub>4</sub>)<sub>3</sub> (no ID) <br> -3.765 eV/atom",
          "Mn<sub>5</sub>(SiO<sub>4</sub>)<sub>3</sub> (no ID) <br> -3.547 eV/atom",
          "CaMn<sub>2</sub>O<sub>4</sub> (no ID) <br> -2.619 eV/atom",
          "CaO (no ID) <br> -3.266 eV/atom",
          "Si (no ID) <br> 0.0 eV/atom",
          "Ca (no ID) <br> 0.0 eV/atom",
          "CaMn(SiO<sub>3</sub>)<sub>2</sub> (no ID) <br> -4.006 eV/atom",
          "CaMn<sub>4</sub>(SiO<sub>3</sub>)<sub>5</sub> (no ID) <br> -3.856 eV/atom"
         ],
         "line": {
          "color": "black",
          "width": 2
         },
         "marker": {
          "color": [
           -2.311,
           0,
           -2.321,
           -2.358,
           -2.842,
           -2.541,
           0,
           -2.251,
           -4.619,
           -2.013,
           -3.765,
           -3.547,
           -2.619,
           -3.266,
           0,
           0,
           -4.006,
           -3.856
          ],
          "colorscale": [
           [
            0,
            "#075400"
           ],
           [
            1,
            "#7ce371"
           ]
          ],
          "opacity": 0.9,
          "size": 8
         },
         "mode": "markers",
         "name": "Stable",
         "showlegend": true,
         "type": "scatter3d",
         "x": [
          0.75,
          1,
          0.7142857142857142,
          0.6499999999999999,
          0.42857142857142855,
          0.5384615384615385,
          0.5,
          0.7,
          0.5,
          0.6666666666666666,
          0.475,
          0.625,
          0.5714285714285714,
          0.25,
          0.5,
          0,
          0.5,
          0.56
         ],
         "y": [
          0.14433756729740643,
          0,
          0.16495721976846447,
          0.1732050807568877,
          0.16495721976846447,
          0.177646236673731,
          0.28867513459481287,
          0.1732050807568877,
          0.48112522432468807,
          0.19245008972987523,
          0.3031088913245535,
          0.3031088913245535,
          0.16495721976846447,
          0.14433756729740643,
          0.8660254037844386,
          0,
          0.34641016151377546,
          0.34641016151377546
         ],
         "z": [
          0.40824829046386296,
          0,
          0.4665694748158434,
          0.48989794855663554,
          0.4665694748158434,
          0.5024594344170621,
          0.8164965809277259,
          0.48989794855663554,
          0.5443310539518172,
          0.5443310539518172,
          0.48989794855663554,
          0.48989794855663554,
          0.4665694748158434,
          0.40824829046386296,
          0,
          0,
          0.48989794855663554,
          0.48989794855663554
         ]
        }
       ],
       "layout": {
        "autosize": true,
        "height": 700,
        "hovermode": "closest",
        "legend": {
         "orientation": "h",
         "traceorder": "reversed",
         "x": 0.5,
         "xanchor": "center",
         "y": 0,
         "yanchor": "top"
        },
        "margin": {
         "b": 10,
         "l": 0,
         "pad": 0,
         "r": 0,
         "t": 0
        },
        "paper_bgcolor": "rgba(0,0,0,0)",
        "plot_bgcolor": "rgba(0,0,0,0)",
        "scene": {
         "annotations": [
          {
           "align": "center",
           "font": {
            "color": "#000000",
            "size": 24
           },
           "opacity": 1,
           "showarrow": false,
           "text": "Mn",
           "x": 1,
           "xanchor": "right",
           "xshift": -10,
           "y": 0,
           "yanchor": "auto",
           "yshift": -10,
           "z": 0
          },
          {
           "align": "center",
           "font": {
            "color": "#000000",
            "size": 24
           },
           "opacity": 1,
           "showarrow": false,
           "text": "O",
           "x": 0.5,
           "xanchor": "right",
           "xshift": -10,
           "y": 0.28867513459481287,
           "yanchor": "auto",
           "yshift": -10,
           "z": 0.8164965809277259
          },
          {
           "align": "center",
           "font": {
            "color": "#000000",
            "size": 24
           },
           "opacity": 1,
           "showarrow": false,
           "text": "Si",
           "x": 0.5,
           "xanchor": "right",
           "xshift": -10,
           "y": 0.8660254037844386,
           "yanchor": "auto",
           "yshift": -10,
           "z": 0
          },
          {
           "align": "center",
           "font": {
            "color": "#000000",
            "size": 24
           },
           "opacity": 1,
           "showarrow": false,
           "text": "Ca",
           "x": 0,
           "xanchor": "right",
           "xshift": -10,
           "y": 0,
           "yanchor": "auto",
           "yshift": -10,
           "z": 0
          }
         ],
         "aspectratio": {
          "x": 1.4,
          "y": 1.4,
          "z": 1.4
         },
         "camera": {
          "center": {
           "x": 0,
           "y": -0.08,
           "z": 0
          },
          "projection": {
           "type": "orthographic"
          }
         },
         "xaxis": {
          "autorange": true,
          "showaxeslabels": false,
          "showgrid": false,
          "showline": false,
          "showspikes": false,
          "showticklabels": false,
          "ticks": "",
          "visible": false,
          "zeroline": false
         },
         "yaxis": {
          "autorange": true,
          "showaxeslabels": false,
          "showgrid": false,
          "showline": false,
          "showspikes": false,
          "showticklabels": false,
          "ticks": "",
          "visible": false,
          "zeroline": false
         },
         "zaxis": {
          "autorange": true,
          "showaxeslabels": false,
          "showgrid": false,
          "showline": false,
          "showspikes": false,
          "showticklabels": false,
          "ticks": "",
          "visible": false,
          "zeroline": false
         }
        },
        "showlegend": true,
        "template": {
         "data": {
          "bar": [
           {
            "error_x": {
             "color": "#2a3f5f"
            },
            "error_y": {
             "color": "#2a3f5f"
            },
            "marker": {
             "line": {
              "color": "#E5ECF6",
              "width": 0.5
             },
             "pattern": {
              "fillmode": "overlay",
              "size": 10,
              "solidity": 0.2
             }
            },
            "type": "bar"
           }
          ],
          "barpolar": [
           {
            "marker": {
             "line": {
              "color": "#E5ECF6",
              "width": 0.5
             },
             "pattern": {
              "fillmode": "overlay",
              "size": 10,
              "solidity": 0.2
             }
            },
            "type": "barpolar"
           }
          ],
          "carpet": [
           {
            "aaxis": {
             "endlinecolor": "#2a3f5f",
             "gridcolor": "white",
             "linecolor": "white",
             "minorgridcolor": "white",
             "startlinecolor": "#2a3f5f"
            },
            "baxis": {
             "endlinecolor": "#2a3f5f",
             "gridcolor": "white",
             "linecolor": "white",
             "minorgridcolor": "white",
             "startlinecolor": "#2a3f5f"
            },
            "type": "carpet"
           }
          ],
          "choropleth": [
           {
            "colorbar": {
             "outlinewidth": 0,
             "ticks": ""
            },
            "type": "choropleth"
           }
          ],
          "contour": [
           {
            "colorbar": {
             "outlinewidth": 0,
             "ticks": ""
            },
            "colorscale": [
             [
              0,
              "#0d0887"
             ],
             [
              0.1111111111111111,
              "#46039f"
             ],
             [
              0.2222222222222222,
              "#7201a8"
             ],
             [
              0.3333333333333333,
              "#9c179e"
             ],
             [
              0.4444444444444444,
              "#bd3786"
             ],
             [
              0.5555555555555556,
              "#d8576b"
             ],
             [
              0.6666666666666666,
              "#ed7953"
             ],
             [
              0.7777777777777778,
              "#fb9f3a"
             ],
             [
              0.8888888888888888,
              "#fdca26"
             ],
             [
              1,
              "#f0f921"
             ]
            ],
            "type": "contour"
           }
          ],
          "contourcarpet": [
           {
            "colorbar": {
             "outlinewidth": 0,
             "ticks": ""
            },
            "type": "contourcarpet"
           }
          ],
          "heatmap": [
           {
            "colorbar": {
             "outlinewidth": 0,
             "ticks": ""
            },
            "colorscale": [
             [
              0,
              "#0d0887"
             ],
             [
              0.1111111111111111,
              "#46039f"
             ],
             [
              0.2222222222222222,
              "#7201a8"
             ],
             [
              0.3333333333333333,
              "#9c179e"
             ],
             [
              0.4444444444444444,
              "#bd3786"
             ],
             [
              0.5555555555555556,
              "#d8576b"
             ],
             [
              0.6666666666666666,
              "#ed7953"
             ],
             [
              0.7777777777777778,
              "#fb9f3a"
             ],
             [
              0.8888888888888888,
              "#fdca26"
             ],
             [
              1,
              "#f0f921"
             ]
            ],
            "type": "heatmap"
           }
          ],
          "heatmapgl": [
           {
            "colorbar": {
             "outlinewidth": 0,
             "ticks": ""
            },
            "colorscale": [
             [
              0,
              "#0d0887"
             ],
             [
              0.1111111111111111,
              "#46039f"
             ],
             [
              0.2222222222222222,
              "#7201a8"
             ],
             [
              0.3333333333333333,
              "#9c179e"
             ],
             [
              0.4444444444444444,
              "#bd3786"
             ],
             [
              0.5555555555555556,
              "#d8576b"
             ],
             [
              0.6666666666666666,
              "#ed7953"
             ],
             [
              0.7777777777777778,
              "#fb9f3a"
             ],
             [
              0.8888888888888888,
              "#fdca26"
             ],
             [
              1,
              "#f0f921"
             ]
            ],
            "type": "heatmapgl"
           }
          ],
          "histogram": [
           {
            "marker": {
             "pattern": {
              "fillmode": "overlay",
              "size": 10,
              "solidity": 0.2
             }
            },
            "type": "histogram"
           }
          ],
          "histogram2d": [
           {
            "colorbar": {
             "outlinewidth": 0,
             "ticks": ""
            },
            "colorscale": [
             [
              0,
              "#0d0887"
             ],
             [
              0.1111111111111111,
              "#46039f"
             ],
             [
              0.2222222222222222,
              "#7201a8"
             ],
             [
              0.3333333333333333,
              "#9c179e"
             ],
             [
              0.4444444444444444,
              "#bd3786"
             ],
             [
              0.5555555555555556,
              "#d8576b"
             ],
             [
              0.6666666666666666,
              "#ed7953"
             ],
             [
              0.7777777777777778,
              "#fb9f3a"
             ],
             [
              0.8888888888888888,
              "#fdca26"
             ],
             [
              1,
              "#f0f921"
             ]
            ],
            "type": "histogram2d"
           }
          ],
          "histogram2dcontour": [
           {
            "colorbar": {
             "outlinewidth": 0,
             "ticks": ""
            },
            "colorscale": [
             [
              0,
              "#0d0887"
             ],
             [
              0.1111111111111111,
              "#46039f"
             ],
             [
              0.2222222222222222,
              "#7201a8"
             ],
             [
              0.3333333333333333,
              "#9c179e"
             ],
             [
              0.4444444444444444,
              "#bd3786"
             ],
             [
              0.5555555555555556,
              "#d8576b"
             ],
             [
              0.6666666666666666,
              "#ed7953"
             ],
             [
              0.7777777777777778,
              "#fb9f3a"
             ],
             [
              0.8888888888888888,
              "#fdca26"
             ],
             [
              1,
              "#f0f921"
             ]
            ],
            "type": "histogram2dcontour"
           }
          ],
          "mesh3d": [
           {
            "colorbar": {
             "outlinewidth": 0,
             "ticks": ""
            },
            "type": "mesh3d"
           }
          ],
          "parcoords": [
           {
            "line": {
             "colorbar": {
              "outlinewidth": 0,
              "ticks": ""
             }
            },
            "type": "parcoords"
           }
          ],
          "pie": [
           {
            "automargin": true,
            "type": "pie"
           }
          ],
          "scatter": [
           {
            "marker": {
             "colorbar": {
              "outlinewidth": 0,
              "ticks": ""
             }
            },
            "type": "scatter"
           }
          ],
          "scatter3d": [
           {
            "line": {
             "colorbar": {
              "outlinewidth": 0,
              "ticks": ""
             }
            },
            "marker": {
             "colorbar": {
              "outlinewidth": 0,
              "ticks": ""
             }
            },
            "type": "scatter3d"
           }
          ],
          "scattercarpet": [
           {
            "marker": {
             "colorbar": {
              "outlinewidth": 0,
              "ticks": ""
             }
            },
            "type": "scattercarpet"
           }
          ],
          "scattergeo": [
           {
            "marker": {
             "colorbar": {
              "outlinewidth": 0,
              "ticks": ""
             }
            },
            "type": "scattergeo"
           }
          ],
          "scattergl": [
           {
            "marker": {
             "colorbar": {
              "outlinewidth": 0,
              "ticks": ""
             }
            },
            "type": "scattergl"
           }
          ],
          "scattermapbox": [
           {
            "marker": {
             "colorbar": {
              "outlinewidth": 0,
              "ticks": ""
             }
            },
            "type": "scattermapbox"
           }
          ],
          "scatterpolar": [
           {
            "marker": {
             "colorbar": {
              "outlinewidth": 0,
              "ticks": ""
             }
            },
            "type": "scatterpolar"
           }
          ],
          "scatterpolargl": [
           {
            "marker": {
             "colorbar": {
              "outlinewidth": 0,
              "ticks": ""
             }
            },
            "type": "scatterpolargl"
           }
          ],
          "scatterternary": [
           {
            "marker": {
             "colorbar": {
              "outlinewidth": 0,
              "ticks": ""
             }
            },
            "type": "scatterternary"
           }
          ],
          "surface": [
           {
            "colorbar": {
             "outlinewidth": 0,
             "ticks": ""
            },
            "colorscale": [
             [
              0,
              "#0d0887"
             ],
             [
              0.1111111111111111,
              "#46039f"
             ],
             [
              0.2222222222222222,
              "#7201a8"
             ],
             [
              0.3333333333333333,
              "#9c179e"
             ],
             [
              0.4444444444444444,
              "#bd3786"
             ],
             [
              0.5555555555555556,
              "#d8576b"
             ],
             [
              0.6666666666666666,
              "#ed7953"
             ],
             [
              0.7777777777777778,
              "#fb9f3a"
             ],
             [
              0.8888888888888888,
              "#fdca26"
             ],
             [
              1,
              "#f0f921"
             ]
            ],
            "type": "surface"
           }
          ],
          "table": [
           {
            "cells": {
             "fill": {
              "color": "#EBF0F8"
             },
             "line": {
              "color": "white"
             }
            },
            "header": {
             "fill": {
              "color": "#C8D4E3"
             },
             "line": {
              "color": "white"
             }
            },
            "type": "table"
           }
          ]
         },
         "layout": {
          "annotationdefaults": {
           "arrowcolor": "#2a3f5f",
           "arrowhead": 0,
           "arrowwidth": 1
          },
          "autotypenumbers": "strict",
          "coloraxis": {
           "colorbar": {
            "outlinewidth": 0,
            "ticks": ""
           }
          },
          "colorscale": {
           "diverging": [
            [
             0,
             "#8e0152"
            ],
            [
             0.1,
             "#c51b7d"
            ],
            [
             0.2,
             "#de77ae"
            ],
            [
             0.3,
             "#f1b6da"
            ],
            [
             0.4,
             "#fde0ef"
            ],
            [
             0.5,
             "#f7f7f7"
            ],
            [
             0.6,
             "#e6f5d0"
            ],
            [
             0.7,
             "#b8e186"
            ],
            [
             0.8,
             "#7fbc41"
            ],
            [
             0.9,
             "#4d9221"
            ],
            [
             1,
             "#276419"
            ]
           ],
           "sequential": [
            [
             0,
             "#0d0887"
            ],
            [
             0.1111111111111111,
             "#46039f"
            ],
            [
             0.2222222222222222,
             "#7201a8"
            ],
            [
             0.3333333333333333,
             "#9c179e"
            ],
            [
             0.4444444444444444,
             "#bd3786"
            ],
            [
             0.5555555555555556,
             "#d8576b"
            ],
            [
             0.6666666666666666,
             "#ed7953"
            ],
            [
             0.7777777777777778,
             "#fb9f3a"
            ],
            [
             0.8888888888888888,
             "#fdca26"
            ],
            [
             1,
             "#f0f921"
            ]
           ],
           "sequentialminus": [
            [
             0,
             "#0d0887"
            ],
            [
             0.1111111111111111,
             "#46039f"
            ],
            [
             0.2222222222222222,
             "#7201a8"
            ],
            [
             0.3333333333333333,
             "#9c179e"
            ],
            [
             0.4444444444444444,
             "#bd3786"
            ],
            [
             0.5555555555555556,
             "#d8576b"
            ],
            [
             0.6666666666666666,
             "#ed7953"
            ],
            [
             0.7777777777777778,
             "#fb9f3a"
            ],
            [
             0.8888888888888888,
             "#fdca26"
            ],
            [
             1,
             "#f0f921"
            ]
           ]
          },
          "colorway": [
           "#636efa",
           "#EF553B",
           "#00cc96",
           "#ab63fa",
           "#FFA15A",
           "#19d3f3",
           "#FF6692",
           "#B6E880",
           "#FF97FF",
           "#FECB52"
          ],
          "font": {
           "color": "#2a3f5f"
          },
          "geo": {
           "bgcolor": "white",
           "lakecolor": "white",
           "landcolor": "#E5ECF6",
           "showlakes": true,
           "showland": true,
           "subunitcolor": "white"
          },
          "hoverlabel": {
           "align": "left"
          },
          "hovermode": "closest",
          "mapbox": {
           "style": "light"
          },
          "paper_bgcolor": "white",
          "plot_bgcolor": "#E5ECF6",
          "polar": {
           "angularaxis": {
            "gridcolor": "white",
            "linecolor": "white",
            "ticks": ""
           },
           "bgcolor": "#E5ECF6",
           "radialaxis": {
            "gridcolor": "white",
            "linecolor": "white",
            "ticks": ""
           }
          },
          "scene": {
           "xaxis": {
            "backgroundcolor": "#E5ECF6",
            "gridcolor": "white",
            "gridwidth": 2,
            "linecolor": "white",
            "showbackground": true,
            "ticks": "",
            "zerolinecolor": "white"
           },
           "yaxis": {
            "backgroundcolor": "#E5ECF6",
            "gridcolor": "white",
            "gridwidth": 2,
            "linecolor": "white",
            "showbackground": true,
            "ticks": "",
            "zerolinecolor": "white"
           },
           "zaxis": {
            "backgroundcolor": "#E5ECF6",
            "gridcolor": "white",
            "gridwidth": 2,
            "linecolor": "white",
            "showbackground": true,
            "ticks": "",
            "zerolinecolor": "white"
           }
          },
          "shapedefaults": {
           "line": {
            "color": "#2a3f5f"
           }
          },
          "ternary": {
           "aaxis": {
            "gridcolor": "white",
            "linecolor": "white",
            "ticks": ""
           },
           "baxis": {
            "gridcolor": "white",
            "linecolor": "white",
            "ticks": ""
           },
           "bgcolor": "#E5ECF6",
           "caxis": {
            "gridcolor": "white",
            "linecolor": "white",
            "ticks": ""
           }
          },
          "title": {
           "x": 0.05
          },
          "xaxis": {
           "automargin": true,
           "gridcolor": "white",
           "linecolor": "white",
           "ticks": "",
           "title": {
            "standoff": 15
           },
           "zerolinecolor": "white",
           "zerolinewidth": 2
          },
          "yaxis": {
           "automargin": true,
           "gridcolor": "white",
           "linecolor": "white",
           "ticks": "",
           "title": {
            "standoff": 15
           },
           "zerolinecolor": "white",
           "zerolinewidth": 2
          }
         }
        }
       }
      },
      "text/html": [
       "<div>                            <div id=\"332065be-ae81-48b1-9690-d82f12267971\" class=\"plotly-graph-div\" style=\"height:700px; width:100%;\"></div>            <script type=\"text/javascript\">                require([\"plotly\"], function(Plotly) {                    window.PLOTLYENV=window.PLOTLYENV || {};                                    if (document.getElementById(\"332065be-ae81-48b1-9690-d82f12267971\")) {                    Plotly.newPlot(                        \"332065be-ae81-48b1-9690-d82f12267971\",                        [{\"hoverinfo\":\"none\",\"line\":{\"color\":\"rgba(0,0,0,1.0)\",\"width\":7.0},\"mode\":\"lines\",\"showlegend\":false,\"x\":[0.75,1.0,null,0.7142857142857142,0.6499999999999999,null,0.42857142857142855,0.5384615384615385,null,0.42857142857142855,0.5,null,0.7142857142857142,0.5384615384615385,null,0.5384615384615385,0.5,null,0.7,0.7142857142857142,null,0.5,0.6666666666666666,null,0.475,0.5,null,0.625,0.5714285714285714,null,0.625,0.25,null,0.625,0.6499999999999999,null,0.6666666666666666,0.7,null,0.25,0.5714285714285714,null,0.5,1.0,null,0.5,0.25,null,0.625,0.5384615384615385,null,0.75,0.625,null,0.5,0.5384615384615385,null,0.25,0.5,null,0.5,0.5,null,0.5,0.0,null,0.25,0.0,null,0.6666666666666666,0.5384615384615385,null,0.6666666666666666,0.5,null,0.42857142857142855,0.475,null,0.5384615384615385,0.475,null,0.7,0.625,null,0.5714285714285714,0.42857142857142855,null,0.625,0.5,null,0.6499999999999999,0.5384615384615385,null,0.75,0.25,null,0.25,0.5,null,1.0,0.0,null,0.5,0.5,null,0.625,0.475,null,0.625,1.0,null,0.25,0.475,null,0.5,1.0,null,0.25,1.0,null,0.5,0.475,null,0.75,0.5714285714285714,null,0.7142857142857142,0.625,null,0.5,0.475,null,0.5,1.0,null,0.56,1.0,null,0.5714285714285714,0.5384615384615385,null,0.5,0.625,null,0.7,0.6499999999999999,null,0.625,0.56,null,0.7,0.5384615384615385,null,0.6666666666666666,0.625,null,0.75,0.7142857142857142,null,0.75,0.5,null,0.625,0.42857142857142855,null,0.5,0.56,null,0.5,0.0,null,0.25,0.42857142857142855,null,0.5,0.56,null,0.5,0.5,null,0.7142857142857142,0.5714285714285714,null],\"y\":[0.14433756729740643,0.0,null,0.16495721976846447,0.1732050807568877,null,0.16495721976846447,0.177646236673731,null,0.16495721976846447,0.28867513459481287,null,0.16495721976846447,0.177646236673731,null,0.177646236673731,0.28867513459481287,null,0.1732050807568877,0.16495721976846447,null,0.48112522432468807,0.19245008972987523,null,0.3031088913245535,0.28867513459481287,null,0.3031088913245535,0.16495721976846447,null,0.3031088913245535,0.14433756729740643,null,0.3031088913245535,0.1732050807568877,null,0.19245008972987523,0.1732050807568877,null,0.14433756729740643,0.16495721976846447,null,0.8660254037844386,0.0,null,0.48112522432468807,0.14433756729740643,null,0.3031088913245535,0.177646236673731,null,0.14433756729740643,0.3031088913245535,null,0.48112522432468807,0.177646236673731,null,0.14433756729740643,0.28867513459481287,null,0.48112522432468807,0.28867513459481287,null,0.48112522432468807,0.0,null,0.14433756729740643,0.0,null,0.19245008972987523,0.177646236673731,null,0.19245008972987523,0.28867513459481287,null,0.16495721976846447,0.3031088913245535,null,0.177646236673731,0.3031088913245535,null,0.1732050807568877,0.3031088913245535,null,0.16495721976846447,0.16495721976846447,null,0.3031088913245535,0.34641016151377546,null,0.1732050807568877,0.177646236673731,null,0.14433756729740643,0.14433756729740643,null,0.14433756729740643,0.34641016151377546,null,0.0,0.0,null,0.48112522432468807,0.34641016151377546,null,0.3031088913245535,0.3031088913245535,null,0.3031088913245535,0.0,null,0.14433756729740643,0.3031088913245535,null,0.48112522432468807,0.0,null,0.14433756729740643,0.0,null,0.48112522432468807,0.3031088913245535,null,0.14433756729740643,0.16495721976846447,null,0.16495721976846447,0.3031088913245535,null,0.34641016151377546,0.3031088913245535,null,0.34641016151377546,0.0,null,0.34641016151377546,0.0,null,0.16495721976846447,0.177646236673731,null,0.48112522432468807,0.3031088913245535,null,0.1732050807568877,0.1732050807568877,null,0.3031088913245535,0.34641016151377546,null,0.1732050807568877,0.177646236673731,null,0.19245008972987523,0.3031088913245535,null,0.14433756729740643,0.16495721976846447,null,0.14433756729740643,0.34641016151377546,null,0.3031088913245535,0.16495721976846447,null,0.48112522432468807,0.34641016151377546,null,0.8660254037844386,0.0,null,0.14433756729740643,0.16495721976846447,null,0.34641016151377546,0.34641016151377546,null,0.48112522432468807,0.8660254037844386,null,0.16495721976846447,0.16495721976846447,null],\"z\":[0.40824829046386296,0.0,null,0.4665694748158434,0.48989794855663554,null,0.4665694748158434,0.5024594344170621,null,0.4665694748158434,0.8164965809277259,null,0.4665694748158434,0.5024594344170621,null,0.5024594344170621,0.8164965809277259,null,0.48989794855663554,0.4665694748158434,null,0.5443310539518172,0.5443310539518172,null,0.48989794855663554,0.8164965809277259,null,0.48989794855663554,0.4665694748158434,null,0.48989794855663554,0.40824829046386296,null,0.48989794855663554,0.48989794855663554,null,0.5443310539518172,0.48989794855663554,null,0.40824829046386296,0.4665694748158434,null,0.0,0.0,null,0.5443310539518172,0.40824829046386296,null,0.48989794855663554,0.5024594344170621,null,0.40824829046386296,0.48989794855663554,null,0.5443310539518172,0.5024594344170621,null,0.40824829046386296,0.8164965809277259,null,0.5443310539518172,0.8164965809277259,null,0.5443310539518172,0.0,null,0.40824829046386296,0.0,null,0.5443310539518172,0.5024594344170621,null,0.5443310539518172,0.8164965809277259,null,0.4665694748158434,0.48989794855663554,null,0.5024594344170621,0.48989794855663554,null,0.48989794855663554,0.48989794855663554,null,0.4665694748158434,0.4665694748158434,null,0.48989794855663554,0.48989794855663554,null,0.48989794855663554,0.5024594344170621,null,0.40824829046386296,0.40824829046386296,null,0.40824829046386296,0.48989794855663554,null,0.0,0.0,null,0.5443310539518172,0.48989794855663554,null,0.48989794855663554,0.48989794855663554,null,0.48989794855663554,0.0,null,0.40824829046386296,0.48989794855663554,null,0.5443310539518172,0.0,null,0.40824829046386296,0.0,null,0.5443310539518172,0.48989794855663554,null,0.40824829046386296,0.4665694748158434,null,0.4665694748158434,0.48989794855663554,null,0.48989794855663554,0.48989794855663554,null,0.48989794855663554,0.0,null,0.48989794855663554,0.0,null,0.4665694748158434,0.5024594344170621,null,0.5443310539518172,0.48989794855663554,null,0.48989794855663554,0.48989794855663554,null,0.48989794855663554,0.48989794855663554,null,0.48989794855663554,0.5024594344170621,null,0.5443310539518172,0.48989794855663554,null,0.40824829046386296,0.4665694748158434,null,0.40824829046386296,0.48989794855663554,null,0.48989794855663554,0.4665694748158434,null,0.5443310539518172,0.48989794855663554,null,0.0,0.0,null,0.40824829046386296,0.4665694748158434,null,0.48989794855663554,0.48989794855663554,null,0.5443310539518172,0.0,null,0.4665694748158434,0.4665694748158434,null],\"type\":\"scatter3d\"},{\"hoverinfo\":\"skip\",\"mode\":\"text\",\"name\":\"Labels (stable)\",\"opacity\":1.0,\"showlegend\":true,\"text\":[\"MnO\",\"Mn<sub>3</sub>O<sub>4</sub>\",\"CaMn<sub>7</sub>O<sub>12</sub>\",\"Ca<sub>2</sub>MnO<sub>4</sub>\",\"Ca<sub>2</sub>Mn<sub>3</sub>O<sub>8</sub>\",\"Mn<sub>2</sub>O<sub>3</sub>\",\"SiO<sub>2</sub>\",\"MnO<sub>2</sub>\",\"Ca<sub>3</sub>Mn<sub>2</sub>(SiO<sub>4</sub>)<sub>3</sub>\",\"Mn<sub>5</sub>(SiO<sub>4</sub>)<sub>3</sub>\",\"CaMn<sub>2</sub>O<sub>4</sub>\",\"CaO\",\"CaMn(SiO<sub>3</sub>)<sub>2</sub>\",\"CaMn<sub>4</sub>(SiO<sub>3</sub>)<sub>5</sub>\"],\"textposition\":[\"bottom right\",\"bottom right\",\"bottom right\",\"bottom right\",\"bottom right\",\"bottom right\",\"bottom right\",\"bottom right\",\"bottom right\",\"bottom right\",\"bottom right\",\"bottom right\",\"bottom right\",\"bottom right\"],\"visible\":\"legendonly\",\"x\":[0.74,0.7042857142857142,0.6399999999999999,0.41857142857142854,0.5284615384615385,0.69,0.49,0.6566666666666666,0.46499999999999997,0.615,0.5614285714285714,0.24,0.49,0.55],\"y\":[0.13433756729740642,0.15495721976846447,0.1632050807568877,0.15495721976846447,0.167646236673731,0.1632050807568877,0.47112522432468806,0.18245008972987523,0.2931088913245535,0.2931088913245535,0.15495721976846447,0.13433756729740642,0.33641016151377545,0.33641016151377545],\"z\":[0.40824829046386296,0.4665694748158434,0.48989794855663554,0.4665694748158434,0.5024594344170621,0.48989794855663554,0.5443310539518172,0.5443310539518172,0.48989794855663554,0.48989794855663554,0.4665694748158434,0.40824829046386296,0.48989794855663554,0.48989794855663554],\"type\":\"scatter3d\"},{\"hoverinfo\":\"text\",\"hoverlabel\":{\"font\":{\"size\":14}},\"hovertext\":[\"MnSiO<sub>3</sub> (no ID) <br> -3.747 eV/atom (+0.004 eV/atom)\",\"MnSi<sub>2</sub>O<sub>5</sub> (no ID) <br> -4.009 eV/atom (+0.067 eV/atom)\",\"Mn<sub>2</sub>SiO<sub>4</sub> (no ID) <br> -3.362 eV/atom (+0.016 eV/atom)\",\"Mn<sub>4</sub>SiO<sub>7</sub> (no ID) <br> -2.859 eV/atom (+0.143 eV/atom)\",\"Mn<sub>7</sub>SiO<sub>12</sub> (no ID) <br> -2.669 eV/atom (+0.014 eV/atom)\",\"CaMnO<sub>3</sub> (no ID) <br> -2.635 eV/atom (+0.011 eV/atom)\",\"CaMn<sub>6</sub>SiO<sub>12</sub> (no ID) <br> -2.783 eV/atom (+0.007 eV/atom)\",\"Ca<sub>2</sub>Mn<sub>2</sub>(SiO<sub>4</sub>)<sub>3</sub> (no ID) <br> -3.496 eV/atom (+0.098 eV/atom)\",\"Ca<sub>3</sub>Mn<sub>2</sub>O<sub>7</sub> (no ID) <br> -2.756 eV/atom (+0.005 eV/atom)\",\"Ca<sub>3</sub>Mn<sub>2</sub>(Si<sub>2</sub>O<sub>7</sub>)<sub>2</sub> (no ID) <br> -3.868 eV/atom (+0.009 eV/atom)\",\"Ca<sub>4</sub>Mn<sub>2</sub>(SiO<sub>4</sub>)<sub>3</sub> (no ID) <br> -3.725 eV/atom (+0.024 eV/atom)\",\"Ca<sub>4</sub>Mn<sub>3</sub>O<sub>10</sub> (no ID) <br> -2.544 eV/atom (+0.183 eV/atom)\"],\"line\":{\"color\":\"black\",\"width\":2},\"marker\":{\"color\":[0.004,0.067,0.016,0.143,0.014,0.011,0.007,0.098,0.005,0.009,0.024,0.183],\"colorbar\":{\"len\":0.75,\"title\":{\"text\":\"Energy Above Hull<br>(eV/atom)\"},\"x\":0.05},\"colorscale\":[[0.0,\"#fad393\"],[0.5,\"#ff813d\"],[1.0,\"#ff0000\"]],\"size\":5,\"symbol\":\"diamond\"},\"mode\":\"markers\",\"name\":\"Above Hull\",\"showlegend\":true,\"visible\":\"legendonly\",\"x\":[0.6000000000000001,0.5625,0.6428571428571428,0.6666666666666667,0.675,0.5,0.625,0.5,0.45833333333333337,0.4782608695652174,0.45238095238095233,0.47058823529411764],\"y\":[0.34641016151377546,0.39692831006786766,0.28867513459481287,0.24056261216234406,0.21650635094610965,0.1732050807568877,0.21650635094610965,0.31906199086795106,0.16839382851364085,0.32632841302022325,0.28867513459481287,0.1698089027028311],\"z\":[0.48989794855663554,0.5103103630798287,0.4665694748158434,0.47628967220784013,0.48989794855663554,0.48989794855663554,0.48989794855663554,0.515682051112248,0.47628967220784013,0.4969979188255723,0.4665694748158434,0.4802921064280741],\"type\":\"scatter3d\"},{\"hoverinfo\":\"text\",\"hoverlabel\":{\"font\":{\"size\":14}},\"hovertext\":[\"MnO (no ID) <br> -2.311 eV/atom\",\"Mn (no ID) <br> 0.0 eV/atom\",\"Mn<sub>3</sub>O<sub>4</sub> (no ID) <br> -2.321 eV/atom\",\"CaMn<sub>7</sub>O<sub>12</sub> (no ID) <br> -2.358 eV/atom\",\"Ca<sub>2</sub>MnO<sub>4</sub> (no ID) <br> -2.842 eV/atom\",\"Ca<sub>2</sub>Mn<sub>3</sub>O<sub>8</sub> (no ID) <br> -2.541 eV/atom\",\"O<sub>2</sub> (no ID) <br> 0.0 eV/atom\",\"Mn<sub>2</sub>O<sub>3</sub> (no ID) <br> -2.251 eV/atom\",\"SiO<sub>2</sub> (no ID) <br> -4.619 eV/atom\",\"MnO<sub>2</sub> (no ID) <br> -2.013 eV/atom\",\"Ca<sub>3</sub>Mn<sub>2</sub>(SiO<sub>4</sub>)<sub>3</sub> (no ID) <br> -3.765 eV/atom\",\"Mn<sub>5</sub>(SiO<sub>4</sub>)<sub>3</sub> (no ID) <br> -3.547 eV/atom\",\"CaMn<sub>2</sub>O<sub>4</sub> (no ID) <br> -2.619 eV/atom\",\"CaO (no ID) <br> -3.266 eV/atom\",\"Si (no ID) <br> 0.0 eV/atom\",\"Ca (no ID) <br> 0.0 eV/atom\",\"CaMn(SiO<sub>3</sub>)<sub>2</sub> (no ID) <br> -4.006 eV/atom\",\"CaMn<sub>4</sub>(SiO<sub>3</sub>)<sub>5</sub> (no ID) <br> -3.856 eV/atom\"],\"line\":{\"color\":\"black\",\"width\":2},\"marker\":{\"color\":[-2.311,0.0,-2.321,-2.358,-2.842,-2.541,0.0,-2.251,-4.619,-2.013,-3.765,-3.547,-2.619,-3.266,0.0,0.0,-4.006,-3.856],\"colorscale\":[[0.0,\"#075400\"],[1.0,\"#7ce371\"]],\"opacity\":0.9,\"size\":8},\"mode\":\"markers\",\"name\":\"Stable\",\"showlegend\":true,\"x\":[0.75,1.0,0.7142857142857142,0.6499999999999999,0.42857142857142855,0.5384615384615385,0.5,0.7,0.5,0.6666666666666666,0.475,0.625,0.5714285714285714,0.25,0.5,0.0,0.5,0.56],\"y\":[0.14433756729740643,0.0,0.16495721976846447,0.1732050807568877,0.16495721976846447,0.177646236673731,0.28867513459481287,0.1732050807568877,0.48112522432468807,0.19245008972987523,0.3031088913245535,0.3031088913245535,0.16495721976846447,0.14433756729740643,0.8660254037844386,0.0,0.34641016151377546,0.34641016151377546],\"z\":[0.40824829046386296,0.0,0.4665694748158434,0.48989794855663554,0.4665694748158434,0.5024594344170621,0.8164965809277259,0.48989794855663554,0.5443310539518172,0.5443310539518172,0.48989794855663554,0.48989794855663554,0.4665694748158434,0.40824829046386296,0.0,0.0,0.48989794855663554,0.48989794855663554],\"type\":\"scatter3d\"}],                        {\"autosize\":true,\"height\":700,\"hovermode\":\"closest\",\"legend\":{\"orientation\":\"h\",\"traceorder\":\"reversed\",\"x\":0.5,\"xanchor\":\"center\",\"y\":0.0,\"yanchor\":\"top\"},\"margin\":{\"b\":10,\"l\":0,\"pad\":0,\"r\":0,\"t\":0},\"paper_bgcolor\":\"rgba(0,0,0,0)\",\"plot_bgcolor\":\"rgba(0,0,0,0)\",\"scene\":{\"annotations\":[{\"align\":\"center\",\"font\":{\"color\":\"#000000\",\"size\":24.0},\"opacity\":1.0,\"showarrow\":false,\"text\":\"Mn\",\"x\":1.0,\"xanchor\":\"right\",\"xshift\":-10,\"y\":0.0,\"yanchor\":\"auto\",\"yshift\":-10,\"z\":0.0},{\"align\":\"center\",\"font\":{\"color\":\"#000000\",\"size\":24.0},\"opacity\":1.0,\"showarrow\":false,\"text\":\"O\",\"x\":0.5,\"xanchor\":\"right\",\"xshift\":-10,\"y\":0.28867513459481287,\"yanchor\":\"auto\",\"yshift\":-10,\"z\":0.8164965809277259},{\"align\":\"center\",\"font\":{\"color\":\"#000000\",\"size\":24.0},\"opacity\":1.0,\"showarrow\":false,\"text\":\"Si\",\"x\":0.5,\"xanchor\":\"right\",\"xshift\":-10,\"y\":0.8660254037844386,\"yanchor\":\"auto\",\"yshift\":-10,\"z\":0.0},{\"align\":\"center\",\"font\":{\"color\":\"#000000\",\"size\":24.0},\"opacity\":1.0,\"showarrow\":false,\"text\":\"Ca\",\"x\":0.0,\"xanchor\":\"right\",\"xshift\":-10,\"y\":0.0,\"yanchor\":\"auto\",\"yshift\":-10,\"z\":0.0}],\"xaxis\":{\"autorange\":true,\"showaxeslabels\":false,\"showgrid\":false,\"showline\":false,\"showspikes\":false,\"showticklabels\":false,\"ticks\":\"\",\"visible\":false,\"zeroline\":false},\"yaxis\":{\"autorange\":true,\"showaxeslabels\":false,\"showgrid\":false,\"showline\":false,\"showspikes\":false,\"showticklabels\":false,\"ticks\":\"\",\"visible\":false,\"zeroline\":false},\"zaxis\":{\"autorange\":true,\"showaxeslabels\":false,\"showgrid\":false,\"showline\":false,\"showspikes\":false,\"showticklabels\":false,\"ticks\":\"\",\"visible\":false,\"zeroline\":false},\"camera\":{\"center\":{\"x\":0,\"y\":-0.08,\"z\":0},\"projection\":{\"type\":\"orthographic\"}},\"aspectratio\":{\"x\":1.4,\"y\":1.4,\"z\":1.4}},\"showlegend\":true,\"template\":{\"data\":{\"bar\":[{\"error_x\":{\"color\":\"#2a3f5f\"},\"error_y\":{\"color\":\"#2a3f5f\"},\"marker\":{\"line\":{\"color\":\"#E5ECF6\",\"width\":0.5},\"pattern\":{\"fillmode\":\"overlay\",\"size\":10,\"solidity\":0.2}},\"type\":\"bar\"}],\"barpolar\":[{\"marker\":{\"line\":{\"color\":\"#E5ECF6\",\"width\":0.5},\"pattern\":{\"fillmode\":\"overlay\",\"size\":10,\"solidity\":0.2}},\"type\":\"barpolar\"}],\"carpet\":[{\"aaxis\":{\"endlinecolor\":\"#2a3f5f\",\"gridcolor\":\"white\",\"linecolor\":\"white\",\"minorgridcolor\":\"white\",\"startlinecolor\":\"#2a3f5f\"},\"baxis\":{\"endlinecolor\":\"#2a3f5f\",\"gridcolor\":\"white\",\"linecolor\":\"white\",\"minorgridcolor\":\"white\",\"startlinecolor\":\"#2a3f5f\"},\"type\":\"carpet\"}],\"choropleth\":[{\"colorbar\":{\"outlinewidth\":0,\"ticks\":\"\"},\"type\":\"choropleth\"}],\"contour\":[{\"colorbar\":{\"outlinewidth\":0,\"ticks\":\"\"},\"colorscale\":[[0.0,\"#0d0887\"],[0.1111111111111111,\"#46039f\"],[0.2222222222222222,\"#7201a8\"],[0.3333333333333333,\"#9c179e\"],[0.4444444444444444,\"#bd3786\"],[0.5555555555555556,\"#d8576b\"],[0.6666666666666666,\"#ed7953\"],[0.7777777777777778,\"#fb9f3a\"],[0.8888888888888888,\"#fdca26\"],[1.0,\"#f0f921\"]],\"type\":\"contour\"}],\"contourcarpet\":[{\"colorbar\":{\"outlinewidth\":0,\"ticks\":\"\"},\"type\":\"contourcarpet\"}],\"heatmap\":[{\"colorbar\":{\"outlinewidth\":0,\"ticks\":\"\"},\"colorscale\":[[0.0,\"#0d0887\"],[0.1111111111111111,\"#46039f\"],[0.2222222222222222,\"#7201a8\"],[0.3333333333333333,\"#9c179e\"],[0.4444444444444444,\"#bd3786\"],[0.5555555555555556,\"#d8576b\"],[0.6666666666666666,\"#ed7953\"],[0.7777777777777778,\"#fb9f3a\"],[0.8888888888888888,\"#fdca26\"],[1.0,\"#f0f921\"]],\"type\":\"heatmap\"}],\"heatmapgl\":[{\"colorbar\":{\"outlinewidth\":0,\"ticks\":\"\"},\"colorscale\":[[0.0,\"#0d0887\"],[0.1111111111111111,\"#46039f\"],[0.2222222222222222,\"#7201a8\"],[0.3333333333333333,\"#9c179e\"],[0.4444444444444444,\"#bd3786\"],[0.5555555555555556,\"#d8576b\"],[0.6666666666666666,\"#ed7953\"],[0.7777777777777778,\"#fb9f3a\"],[0.8888888888888888,\"#fdca26\"],[1.0,\"#f0f921\"]],\"type\":\"heatmapgl\"}],\"histogram\":[{\"marker\":{\"pattern\":{\"fillmode\":\"overlay\",\"size\":10,\"solidity\":0.2}},\"type\":\"histogram\"}],\"histogram2d\":[{\"colorbar\":{\"outlinewidth\":0,\"ticks\":\"\"},\"colorscale\":[[0.0,\"#0d0887\"],[0.1111111111111111,\"#46039f\"],[0.2222222222222222,\"#7201a8\"],[0.3333333333333333,\"#9c179e\"],[0.4444444444444444,\"#bd3786\"],[0.5555555555555556,\"#d8576b\"],[0.6666666666666666,\"#ed7953\"],[0.7777777777777778,\"#fb9f3a\"],[0.8888888888888888,\"#fdca26\"],[1.0,\"#f0f921\"]],\"type\":\"histogram2d\"}],\"histogram2dcontour\":[{\"colorbar\":{\"outlinewidth\":0,\"ticks\":\"\"},\"colorscale\":[[0.0,\"#0d0887\"],[0.1111111111111111,\"#46039f\"],[0.2222222222222222,\"#7201a8\"],[0.3333333333333333,\"#9c179e\"],[0.4444444444444444,\"#bd3786\"],[0.5555555555555556,\"#d8576b\"],[0.6666666666666666,\"#ed7953\"],[0.7777777777777778,\"#fb9f3a\"],[0.8888888888888888,\"#fdca26\"],[1.0,\"#f0f921\"]],\"type\":\"histogram2dcontour\"}],\"mesh3d\":[{\"colorbar\":{\"outlinewidth\":0,\"ticks\":\"\"},\"type\":\"mesh3d\"}],\"parcoords\":[{\"line\":{\"colorbar\":{\"outlinewidth\":0,\"ticks\":\"\"}},\"type\":\"parcoords\"}],\"pie\":[{\"automargin\":true,\"type\":\"pie\"}],\"scatter\":[{\"marker\":{\"colorbar\":{\"outlinewidth\":0,\"ticks\":\"\"}},\"type\":\"scatter\"}],\"scatter3d\":[{\"line\":{\"colorbar\":{\"outlinewidth\":0,\"ticks\":\"\"}},\"marker\":{\"colorbar\":{\"outlinewidth\":0,\"ticks\":\"\"}},\"type\":\"scatter3d\"}],\"scattercarpet\":[{\"marker\":{\"colorbar\":{\"outlinewidth\":0,\"ticks\":\"\"}},\"type\":\"scattercarpet\"}],\"scattergeo\":[{\"marker\":{\"colorbar\":{\"outlinewidth\":0,\"ticks\":\"\"}},\"type\":\"scattergeo\"}],\"scattergl\":[{\"marker\":{\"colorbar\":{\"outlinewidth\":0,\"ticks\":\"\"}},\"type\":\"scattergl\"}],\"scattermapbox\":[{\"marker\":{\"colorbar\":{\"outlinewidth\":0,\"ticks\":\"\"}},\"type\":\"scattermapbox\"}],\"scatterpolar\":[{\"marker\":{\"colorbar\":{\"outlinewidth\":0,\"ticks\":\"\"}},\"type\":\"scatterpolar\"}],\"scatterpolargl\":[{\"marker\":{\"colorbar\":{\"outlinewidth\":0,\"ticks\":\"\"}},\"type\":\"scatterpolargl\"}],\"scatterternary\":[{\"marker\":{\"colorbar\":{\"outlinewidth\":0,\"ticks\":\"\"}},\"type\":\"scatterternary\"}],\"surface\":[{\"colorbar\":{\"outlinewidth\":0,\"ticks\":\"\"},\"colorscale\":[[0.0,\"#0d0887\"],[0.1111111111111111,\"#46039f\"],[0.2222222222222222,\"#7201a8\"],[0.3333333333333333,\"#9c179e\"],[0.4444444444444444,\"#bd3786\"],[0.5555555555555556,\"#d8576b\"],[0.6666666666666666,\"#ed7953\"],[0.7777777777777778,\"#fb9f3a\"],[0.8888888888888888,\"#fdca26\"],[1.0,\"#f0f921\"]],\"type\":\"surface\"}],\"table\":[{\"cells\":{\"fill\":{\"color\":\"#EBF0F8\"},\"line\":{\"color\":\"white\"}},\"header\":{\"fill\":{\"color\":\"#C8D4E3\"},\"line\":{\"color\":\"white\"}},\"type\":\"table\"}]},\"layout\":{\"annotationdefaults\":{\"arrowcolor\":\"#2a3f5f\",\"arrowhead\":0,\"arrowwidth\":1},\"autotypenumbers\":\"strict\",\"coloraxis\":{\"colorbar\":{\"outlinewidth\":0,\"ticks\":\"\"}},\"colorscale\":{\"diverging\":[[0,\"#8e0152\"],[0.1,\"#c51b7d\"],[0.2,\"#de77ae\"],[0.3,\"#f1b6da\"],[0.4,\"#fde0ef\"],[0.5,\"#f7f7f7\"],[0.6,\"#e6f5d0\"],[0.7,\"#b8e186\"],[0.8,\"#7fbc41\"],[0.9,\"#4d9221\"],[1,\"#276419\"]],\"sequential\":[[0.0,\"#0d0887\"],[0.1111111111111111,\"#46039f\"],[0.2222222222222222,\"#7201a8\"],[0.3333333333333333,\"#9c179e\"],[0.4444444444444444,\"#bd3786\"],[0.5555555555555556,\"#d8576b\"],[0.6666666666666666,\"#ed7953\"],[0.7777777777777778,\"#fb9f3a\"],[0.8888888888888888,\"#fdca26\"],[1.0,\"#f0f921\"]],\"sequentialminus\":[[0.0,\"#0d0887\"],[0.1111111111111111,\"#46039f\"],[0.2222222222222222,\"#7201a8\"],[0.3333333333333333,\"#9c179e\"],[0.4444444444444444,\"#bd3786\"],[0.5555555555555556,\"#d8576b\"],[0.6666666666666666,\"#ed7953\"],[0.7777777777777778,\"#fb9f3a\"],[0.8888888888888888,\"#fdca26\"],[1.0,\"#f0f921\"]]},\"colorway\":[\"#636efa\",\"#EF553B\",\"#00cc96\",\"#ab63fa\",\"#FFA15A\",\"#19d3f3\",\"#FF6692\",\"#B6E880\",\"#FF97FF\",\"#FECB52\"],\"font\":{\"color\":\"#2a3f5f\"},\"geo\":{\"bgcolor\":\"white\",\"lakecolor\":\"white\",\"landcolor\":\"#E5ECF6\",\"showlakes\":true,\"showland\":true,\"subunitcolor\":\"white\"},\"hoverlabel\":{\"align\":\"left\"},\"hovermode\":\"closest\",\"mapbox\":{\"style\":\"light\"},\"paper_bgcolor\":\"white\",\"plot_bgcolor\":\"#E5ECF6\",\"polar\":{\"angularaxis\":{\"gridcolor\":\"white\",\"linecolor\":\"white\",\"ticks\":\"\"},\"bgcolor\":\"#E5ECF6\",\"radialaxis\":{\"gridcolor\":\"white\",\"linecolor\":\"white\",\"ticks\":\"\"}},\"scene\":{\"xaxis\":{\"backgroundcolor\":\"#E5ECF6\",\"gridcolor\":\"white\",\"gridwidth\":2,\"linecolor\":\"white\",\"showbackground\":true,\"ticks\":\"\",\"zerolinecolor\":\"white\"},\"yaxis\":{\"backgroundcolor\":\"#E5ECF6\",\"gridcolor\":\"white\",\"gridwidth\":2,\"linecolor\":\"white\",\"showbackground\":true,\"ticks\":\"\",\"zerolinecolor\":\"white\"},\"zaxis\":{\"backgroundcolor\":\"#E5ECF6\",\"gridcolor\":\"white\",\"gridwidth\":2,\"linecolor\":\"white\",\"showbackground\":true,\"ticks\":\"\",\"zerolinecolor\":\"white\"}},\"shapedefaults\":{\"line\":{\"color\":\"#2a3f5f\"}},\"ternary\":{\"aaxis\":{\"gridcolor\":\"white\",\"linecolor\":\"white\",\"ticks\":\"\"},\"baxis\":{\"gridcolor\":\"white\",\"linecolor\":\"white\",\"ticks\":\"\"},\"bgcolor\":\"#E5ECF6\",\"caxis\":{\"gridcolor\":\"white\",\"linecolor\":\"white\",\"ticks\":\"\"}},\"title\":{\"x\":0.05},\"xaxis\":{\"automargin\":true,\"gridcolor\":\"white\",\"linecolor\":\"white\",\"ticks\":\"\",\"title\":{\"standoff\":15},\"zerolinecolor\":\"white\",\"zerolinewidth\":2},\"yaxis\":{\"automargin\":true,\"gridcolor\":\"white\",\"linecolor\":\"white\",\"ticks\":\"\",\"title\":{\"standoff\":15},\"zerolinecolor\":\"white\",\"zerolinewidth\":2}}}},                        {\"responsive\": true}                    ).then(function(){\n",
       "                            \n",
       "var gd = document.getElementById('332065be-ae81-48b1-9690-d82f12267971');\n",
       "var x = new MutationObserver(function (mutations, observer) {{\n",
       "        var display = window.getComputedStyle(gd).display;\n",
       "        if (!display || display === 'none') {{\n",
       "            console.log([gd, 'removed!']);\n",
       "            Plotly.purge(gd);\n",
       "            observer.disconnect();\n",
       "        }}\n",
       "}});\n",
       "\n",
       "// Listen for the removal of the full notebook cells\n",
       "var notebookContainer = gd.closest('#notebook-container');\n",
       "if (notebookContainer) {{\n",
       "    x.observe(notebookContainer, {childList: true});\n",
       "}}\n",
       "\n",
       "// Listen for the clearing of the current output cell\n",
       "var outputEl = gd.closest('.output');\n",
       "if (outputEl) {{\n",
       "    x.observe(outputEl, {childList: true});\n",
       "}}\n",
       "\n",
       "                        })                };                });            </script>        </div>"
      ]
     },
     "metadata": {},
     "output_type": "display_data"
    },
    {
     "name": "stdout",
     "output_type": "stream",
     "text": [
      "{PDEntry : Ca1 O1 with energy = -22.3555, PDEntry : Mn1 with energy = -16.9824, PDEntry : Ca2 Mn1 O4 with energy = -80.8318, PDEntry : Si1 with energy = -5.4252, PDEntry : Mn3 O4 with energy = -91.8116, PDEntry : Ca1 Mn2 O4 with energy = -86.5876, PDEntry : Mn5 Si3 O12 with energy = -245.9844, PDEntry : Ca1 Mn7 O12 with energy = -249.5739, PDEntry : Mn1 O1 with energy = -27.7591, PDEntry : O2 with energy = -12.3101, PDEntry : Ca1 Mn1 Si2 O6 with energy = -114.4943, PDEntry : Mn1 O2 with energy = -35.3327, PDEntry : Mn2 O3 with energy = -63.6842, PDEntry : Ca2 Mn3 O8 with energy = -152.5635, PDEntry : Ca3 Mn2 Si3 O12 with energy = -228.4096, PDEntry : Ca1 Mn4 Si5 O15 with energy = -293.4409, PDEntry : Ca1 with energy = -9.6682, PDEntry : Si1 O2 with energy = -31.5938}\n"
     ]
    }
   ],
   "source": [
    "from pymatgen.analysis.phase_diagram import Composition\n",
    "\n",
    "entries =[PDEntry(k,v) for k,v in input_data.items()]\n",
    "\n",
    "phase_diagram_1 = PhaseDiagram(entries)\n",
    "plotter_1 = PDPlotter(phase_diagram_1, show_unstable=True, markersize=20)\n",
    "plotter_1.show() \n",
    "print(phase_diagram_1.stable_entries)"
   ]
  },
  {
   "cell_type": "code",
   "execution_count": 15,
   "id": "e5155ffc",
   "metadata": {},
   "outputs": [
    {
     "data": {
      "text/plain": [
       "{PDEntry : Ca3 Mn2 Si3 O12 with energy = -228.4096: 0.4210526315789487,\n",
       " PDEntry : Ca2 Mn3 O8 with energy = -152.5635: 0.27368421052631575,\n",
       " PDEntry : O2 with energy = -12.3101: 0.02105263157894738,\n",
       " PDEntry : Si1 O2 with energy = -31.5938: 0.284210526315789}"
      ]
     },
     "execution_count": 15,
     "metadata": {},
     "output_type": "execute_result"
    }
   ],
   "source": [
    "decomp_1= phase_diagram_1.get_decomposition(Composition(\"Ca2Mn2Si3O12\"))\n",
    "decomp_1"
   ]
  },
  {
   "cell_type": "code",
   "execution_count": 5,
   "id": "7cbf8f3a",
   "metadata": {},
   "outputs": [
    {
     "data": {
      "text/plain": [
       "{PDEntry : Ca1 Mn1 Si2 O6 with energy = -114.4943: 0.7142857142857142,\n",
       " PDEntry : Mn1 O1 with energy = -27.7591: 0.04761904761904745,\n",
       " PDEntry : Ca1 O1 with energy = -22.3555: 0.23809523809523814}"
      ]
     },
     "execution_count": 5,
     "metadata": {},
     "output_type": "execute_result"
    }
   ],
   "source": [
    "decomp_2= phase_diagram_1.get_decomposition(Composition(\"Ca4Mn2Si3O12\"))\n",
    "decomp_2"
   ]
  },
  {
   "cell_type": "code",
   "execution_count": 6,
   "id": "c1f03da3",
   "metadata": {},
   "outputs": [
    {
     "name": "stdout",
     "output_type": "stream",
     "text": [
      "The energy above hull of Ca4Mn2(SiO4)3 is 0.024415904761900364 eV/atom.\n"
     ]
    }
   ],
   "source": [
    "ehull_1 = phase_diagram_1.get_e_above_hull(PDEntry(\"Ca4Mn2Si3O12\",-240.99698))\n",
    "\n",
    "#Returns:- Stable entries should have energy above convex hull of 0. The energy is given per atom.\n",
    "\n",
    "print(\"The energy above hull of Ca4Mn2(SiO4)3 is {0} eV/atom.\".format(ehull_1))\n",
    "    "
   ]
  },
  {
   "cell_type": "code",
   "execution_count": 7,
   "id": "a74286f9",
   "metadata": {},
   "outputs": [
    {
     "name": "stdout",
     "output_type": "stream",
     "text": [
      "The energy above hull of Ca2Mn2(SiO4)3 is 0.09753411578948601 eV/atom.\n"
     ]
    }
   ],
   "source": [
    "ehull_2 = phase_diagram_1.get_e_above_hull(PDEntry(\"Ca2Mn2Si3O12\",-209.866955))\n",
    "print(\"The energy above hull of Ca2Mn2(SiO4)3 is {0} eV/atom.\".format(ehull_2))"
   ]
  },
  {
   "cell_type": "code",
   "execution_count": 8,
   "id": "38abcbf3",
   "metadata": {},
   "outputs": [
    {
     "data": {
      "image/png": "[encoded data removed]",
      "text/plain": [
       "<Figure size 576x432 with 1 Axes>"
      ]
     },
     "metadata": {},
     "output_type": "display_data"
    },
    {
     "data": {
      "application/vnd.plotly.v1+json": {
       "config": {
        "plotlyServerURL": "https://plot.ly"
       },
       "data": [
        {
         "hoverinfo": "none",
         "line": {
          "color": "rgba(0,0,0,1.0)",
          "width": 7
         },
         "mode": "lines",
         "showlegend": false,
         "type": "scatter3d",
         "x": [
          0.5196152422706634,
          0.37115374447904503,
          null,
          0.37115374447904503,
          0.5196152422706635,
          null,
          0.5196152422706635,
          0,
          null,
          0.5196152422706634,
          0.5196152422706638,
          null,
          0.8660254037844386,
          0,
          null,
          0.5196152422706635,
          0.5196152422706638,
          null,
          0,
          0,
          null,
          0.5196152422706635,
          0,
          null,
          0.5196152422706634,
          0.8660254037844386,
          null,
          0.37115374447904503,
          0,
          null,
          0.5196152422706635,
          0.8660254037844386,
          null,
          0.37115374447904503,
          0.5196152422706638,
          null,
          0.5196152422706638,
          0.8660254037844386,
          null
         ],
         "y": [
          0.7,
          0.7857142857142858,
          null,
          0.7857142857142858,
          0.5000000000000002,
          null,
          0.5000000000000002,
          0,
          null,
          0.7,
          0.6199999999999997,
          null,
          0.5,
          0,
          null,
          0.5000000000000002,
          0.6199999999999997,
          null,
          1,
          0,
          null,
          0.5000000000000002,
          1,
          null,
          0.7,
          0.5,
          null,
          0.7857142857142858,
          1,
          null,
          0.5000000000000002,
          0.5,
          null,
          0.7857142857142858,
          0.6199999999999997,
          null,
          0.6199999999999997,
          0.5,
          null
         ],
         "z": [
          -0.0505767999999989,
          -0.062076285714285626,
          null,
          -0.062076285714285626,
          -0.11921080000000477,
          null,
          -0.11921080000000477,
          0,
          null,
          -0.0505767999999989,
          -0.08320075999999285,
          null,
          0,
          0,
          null,
          -0.11921080000000477,
          -0.08320075999999285,
          null,
          0,
          0,
          null,
          -0.11921080000000477,
          0,
          null,
          -0.0505767999999989,
          0,
          null,
          -0.062076285714285626,
          0,
          null,
          -0.11921080000000477,
          0,
          null,
          -0.062076285714285626,
          -0.08320075999999285,
          null,
          -0.08320075999999285,
          0,
          null
         ]
        },
        {
         "hoverinfo": "none",
         "line": {
          "color": "rgba (0, 0, 0, 0.4)",
          "dash": "solid",
          "width": 1
         },
         "mode": "lines",
         "showlegend": false,
         "type": "scatter3d",
         "x": [
          0.8660254037844386,
          0,
          null,
          0.8660254037844386,
          0,
          null,
          0.8660254037844386,
          0,
          null,
          0.8660254037844386,
          0,
          null,
          0,
          0,
          null,
          0,
          0,
          null,
          0.8660254037844386,
          0.8660254037844386,
          null,
          0,
          0,
          null,
          0,
          0,
          null
         ],
         "y": [
          0.5,
          1,
          null,
          0.5,
          1,
          null,
          0.5,
          0,
          null,
          0.5,
          0,
          null,
          1,
          0,
          null,
          1,
          0,
          null,
          0.5,
          0.5,
          null,
          1,
          1,
          null,
          0,
          0,
          null
         ],
         "z": [
          0,
          0,
          null,
          -0.11921080000000477,
          -0.11921080000000477,
          null,
          0,
          0,
          null,
          -0.11921080000000477,
          -0.11921080000000477,
          null,
          0,
          0,
          null,
          -0.11921080000000477,
          -0.11921080000000477,
          null,
          0,
          -0.11921080000000477,
          null,
          0,
          -0.11921080000000477,
          null,
          0,
          -0.11921080000000477,
          null
         ]
        },
        {
         "colorbar": {
          "len": 0.75,
          "title": {
           "text": "Formation energy<br>(eV/atom)"
          },
          "x": 0.9
         },
         "colorscale": [
          [
           0,
           "#0c8c00"
          ],
          [
           0.5,
           "#d8ffd4"
          ],
          [
           1,
           "#ffffff"
          ]
         ],
         "flatshading": true,
         "hoverinfo": "none",
         "i": [
          2,
          2,
          2,
          2,
          1,
          3,
          3
         ],
         "intensity": [
          -0.0505767999999989,
          -0.062076285714285626,
          -0.11921080000000477,
          -0.08320075999999285,
          -0.060734666666668276,
          0,
          0,
          0
         ],
         "j": [
          7,
          7,
          1,
          3,
          3,
          0,
          0
         ],
         "k": [
          5,
          6,
          6,
          5,
          2,
          5,
          1
         ],
         "lighting": {
          "ambient": 1,
          "diffuse": 0
         },
         "name": "Convex Hull (shading)",
         "opacity": 0.8,
         "showlegend": true,
         "type": "mesh3d",
         "x": [
          0.5196152422706634,
          0.37115374447904503,
          0.5196152422706635,
          0.5196152422706638,
          0.3711537444790451,
          0.8660254037844386,
          0,
          0
         ],
         "y": [
          0.7,
          0.7857142857142858,
          0.5000000000000002,
          0.6199999999999997,
          0.4047619047619048,
          0.5,
          1,
          0
         ],
         "z": [
          -0.0505767999999989,
          -0.062076285714285626,
          -0.11921080000000477,
          -0.08320075999999285,
          -0.060734666666668276,
          0,
          0,
          0
         ]
        },
        {
         "hoverinfo": "skip",
         "mode": "text",
         "name": "Labels (stable)",
         "opacity": 1,
         "showlegend": true,
         "text": [
          "MnSiO<sub>3</sub>",
          "Mn<sub>2</sub>SiO<sub>4</sub>",
          "CaMn(SiO<sub>3</sub>)<sub>2</sub>",
          "CaMn<sub>4</sub>(SiO<sub>3</sub>)<sub>5</sub>"
         ],
         "textposition": [
          "middle center",
          "middle center",
          "middle center",
          "middle center"
         ],
         "type": "scatter3d",
         "visible": true,
         "x": [
          0.5096152422706633,
          0.38115374447904504,
          0.5096152422706635,
          0.5096152422706638
         ],
         "y": [
          0.71,
          0.7957142857142858,
          0.5100000000000002,
          0.6299999999999997
         ],
         "z": [
          -0.03865571999999842,
          -0.050155205714285146,
          -0.1072897200000043,
          -0.07127967999999238
         ]
        },
        {
         "hoverinfo": "text",
         "hoverlabel": {
          "font": {
           "size": 14
          }
         },
         "hovertext": [
          "MnSi<sub>2</sub>O<sub>5</sub> (None) <br> 0.033 eV/atom (+0.065 eV/atom)",
          "Ca<sub>4</sub>Mn<sub>2</sub>(SiO<sub>4</sub>)<sub>3</sub> (None) <br> -0.061 eV/atom (+0.024 eV/atom)"
         ],
         "marker": {
          "color": [
           0.065,
           0.024
          ],
          "colorbar": {
           "len": 0.75,
           "title": {
            "text": "Energy Above Hull<br>(eV/atom)"
           },
           "x": 0.05
          },
          "colorscale": [
           [
            0,
            "#fad393"
           ],
           [
            0.5,
            "#ff813d"
           ],
           [
            1,
            "#ff0000"
           ]
          ],
          "size": 6,
          "symbol": "diamond"
         },
         "mode": "markers",
         "name": "Above Hull",
         "showlegend": true,
         "type": "scatter3d",
         "x": [
          0.6495190528383308,
          0.3711537444790451
         ],
         "y": [
          0.624999999999999,
          0.4047619047619048
         ],
         "z": [
          0.033,
          -0.061
         ]
        },
        {
         "error_z": {
          "array": [
           0,
           0,
           0,
           0,
           0,
           0,
           0
          ],
          "color": "darkgray",
          "thickness": 5,
          "type": "data",
          "width": 10
         },
         "hoverinfo": "text",
         "hoverlabel": {
          "font": {
           "size": 14
          }
         },
         "hovertext": [
          "MnSiO<sub>3</sub> (None) <br> -0.051 eV/atom",
          "Mn<sub>2</sub>SiO<sub>4</sub> (None) <br> -0.062 eV/atom",
          "CaMn(SiO<sub>3</sub>)<sub>2</sub> (None) <br> -0.119 eV/atom",
          "CaO (None) <br> 0.0 eV/atom",
          "CaMn<sub>4</sub>(SiO<sub>3</sub>)<sub>5</sub> (None) <br> -0.083 eV/atom",
          "SiO<sub>2</sub> (None) <br> 0.0 eV/atom",
          "MnO (None) <br> 0.0 eV/atom"
         ],
         "marker": {
          "color": "black",
          "line": {
           "color": "black",
           "width": 3
          },
          "opacity": 0.8,
          "size": 12
         },
         "mode": "markers",
         "name": "Stable",
         "showlegend": true,
         "type": "scatter3d",
         "x": [
          0.5196152422706634,
          0.37115374447904503,
          0.5196152422706635,
          0,
          0.5196152422706638,
          0.8660254037844386,
          0
         ],
         "y": [
          0.7,
          0.7857142857142858,
          0.5000000000000002,
          0,
          0.6199999999999997,
          0.5,
          1
         ],
         "z": [
          -0.051,
          -0.062,
          -0.119,
          0,
          -0.083,
          0,
          0
         ]
        }
       ],
       "layout": {
        "autosize": true,
        "height": 700,
        "hovermode": "closest",
        "legend": {
         "orientation": "h",
         "traceorder": "reversed",
         "x": 0.5,
         "xanchor": "center",
         "y": 0,
         "yanchor": "top"
        },
        "margin": {
         "b": 10,
         "l": 0,
         "pad": 0,
         "r": 0,
         "t": 0
        },
        "paper_bgcolor": "rgba(0,0,0,0)",
        "plot_bgcolor": "rgba(0,0,0,0)",
        "scene": {
         "annotations": [
          {
           "align": "center",
           "font": {
            "color": "#000000",
            "size": 24
           },
           "opacity": 1,
           "showarrow": false,
           "text": "CaO",
           "x": 0,
           "xanchor": "right",
           "xshift": -10,
           "y": 0,
           "yanchor": "auto",
           "yshift": -10,
           "z": -0.1072897200000043
          },
          {
           "align": "center",
           "font": {
            "color": "#000000",
            "size": 24
           },
           "opacity": 1,
           "showarrow": false,
           "text": "SiO<sub>2</sub>",
           "x": 0.8660254037844386,
           "xanchor": "right",
           "xshift": -10,
           "y": 0.5,
           "yanchor": "auto",
           "yshift": -10,
           "z": -0.1072897200000043
          },
          {
           "align": "center",
           "font": {
            "color": "#000000",
            "size": 24
           },
           "opacity": 1,
           "showarrow": false,
           "text": "MnO",
           "x": 0,
           "xanchor": "right",
           "xshift": -10,
           "y": 1,
           "yanchor": "auto",
           "yshift": -10,
           "z": -0.1072897200000043
          },
          {
           "opacity": 0,
           "text": "",
           "x": 1,
           "y": 1,
           "z": 0
          }
         ],
         "aspectratio": {
          "x": 1.7,
          "y": 1.7,
          "z": 1.2
         },
         "camera": {
          "center": {
           "x": -0.1,
           "y": 0,
           "z": -0.15
          },
          "eye": {
           "x": -0.1,
           "y": 0,
           "z": 2.5
          },
          "projection": {
           "type": "orthographic"
          }
         },
         "xaxis": {
          "autorange": true,
          "showaxeslabels": false,
          "showgrid": false,
          "showline": false,
          "showspikes": false,
          "showticklabels": false,
          "ticks": "",
          "visible": false,
          "zeroline": false
         },
         "yaxis": {
          "autorange": true,
          "showaxeslabels": false,
          "showgrid": false,
          "showline": false,
          "showspikes": false,
          "showticklabels": false,
          "ticks": "",
          "visible": false,
          "zeroline": false
         },
         "zaxis": {
          "autorange": true,
          "showaxeslabels": false,
          "showgrid": false,
          "showline": false,
          "showspikes": false,
          "showticklabels": false,
          "ticks": "",
          "visible": false,
          "zeroline": false
         }
        },
        "showlegend": true,
        "template": {
         "data": {
          "bar": [
           {
            "error_x": {
             "color": "#2a3f5f"
            },
            "error_y": {
             "color": "#2a3f5f"
            },
            "marker": {
             "line": {
              "color": "#E5ECF6",
              "width": 0.5
             },
             "pattern": {
              "fillmode": "overlay",
              "size": 10,
              "solidity": 0.2
             }
            },
            "type": "bar"
           }
          ],
          "barpolar": [
           {
            "marker": {
             "line": {
              "color": "#E5ECF6",
              "width": 0.5
             },
             "pattern": {
              "fillmode": "overlay",
              "size": 10,
              "solidity": 0.2
             }
            },
            "type": "barpolar"
           }
          ],
          "carpet": [
           {
            "aaxis": {
             "endlinecolor": "#2a3f5f",
             "gridcolor": "white",
             "linecolor": "white",
             "minorgridcolor": "white",
             "startlinecolor": "#2a3f5f"
            },
            "baxis": {
             "endlinecolor": "#2a3f5f",
             "gridcolor": "white",
             "linecolor": "white",
             "minorgridcolor": "white",
             "startlinecolor": "#2a3f5f"
            },
            "type": "carpet"
           }
          ],
          "choropleth": [
           {
            "colorbar": {
             "outlinewidth": 0,
             "ticks": ""
            },
            "type": "choropleth"
           }
          ],
          "contour": [
           {
            "colorbar": {
             "outlinewidth": 0,
             "ticks": ""
            },
            "colorscale": [
             [
              0,
              "#0d0887"
             ],
             [
              0.1111111111111111,
              "#46039f"
             ],
             [
              0.2222222222222222,
              "#7201a8"
             ],
             [
              0.3333333333333333,
              "#9c179e"
             ],
             [
              0.4444444444444444,
              "#bd3786"
             ],
             [
              0.5555555555555556,
              "#d8576b"
             ],
             [
              0.6666666666666666,
              "#ed7953"
             ],
             [
              0.7777777777777778,
              "#fb9f3a"
             ],
             [
              0.8888888888888888,
              "#fdca26"
             ],
             [
              1,
              "#f0f921"
             ]
            ],
            "type": "contour"
           }
          ],
          "contourcarpet": [
           {
            "colorbar": {
             "outlinewidth": 0,
             "ticks": ""
            },
            "type": "contourcarpet"
           }
          ],
          "heatmap": [
           {
            "colorbar": {
             "outlinewidth": 0,
             "ticks": ""
            },
            "colorscale": [
             [
              0,
              "#0d0887"
             ],
             [
              0.1111111111111111,
              "#46039f"
             ],
             [
              0.2222222222222222,
              "#7201a8"
             ],
             [
              0.3333333333333333,
              "#9c179e"
             ],
             [
              0.4444444444444444,
              "#bd3786"
             ],
             [
              0.5555555555555556,
              "#d8576b"
             ],
             [
              0.6666666666666666,
              "#ed7953"
             ],
             [
              0.7777777777777778,
              "#fb9f3a"
             ],
             [
              0.8888888888888888,
              "#fdca26"
             ],
             [
              1,
              "#f0f921"
             ]
            ],
            "type": "heatmap"
           }
          ],
          "heatmapgl": [
           {
            "colorbar": {
             "outlinewidth": 0,
             "ticks": ""
            },
            "colorscale": [
             [
              0,
              "#0d0887"
             ],
             [
              0.1111111111111111,
              "#46039f"
             ],
             [
              0.2222222222222222,
              "#7201a8"
             ],
             [
              0.3333333333333333,
              "#9c179e"
             ],
             [
              0.4444444444444444,
              "#bd3786"
             ],
             [
              0.5555555555555556,
              "#d8576b"
             ],
             [
              0.6666666666666666,
              "#ed7953"
             ],
             [
              0.7777777777777778,
              "#fb9f3a"
             ],
             [
              0.8888888888888888,
              "#fdca26"
             ],
             [
              1,
              "#f0f921"
             ]
            ],
            "type": "heatmapgl"
           }
          ],
          "histogram": [
           {
            "marker": {
             "pattern": {
              "fillmode": "overlay",
              "size": 10,
              "solidity": 0.2
             }
            },
            "type": "histogram"
           }
          ],
          "histogram2d": [
           {
            "colorbar": {
             "outlinewidth": 0,
             "ticks": ""
            },
            "colorscale": [
             [
              0,
              "#0d0887"
             ],
             [
              0.1111111111111111,
              "#46039f"
             ],
             [
              0.2222222222222222,
              "#7201a8"
             ],
             [
              0.3333333333333333,
              "#9c179e"
             ],
             [
              0.4444444444444444,
              "#bd3786"
             ],
             [
              0.5555555555555556,
              "#d8576b"
             ],
             [
              0.6666666666666666,
              "#ed7953"
             ],
             [
              0.7777777777777778,
              "#fb9f3a"
             ],
             [
              0.8888888888888888,
              "#fdca26"
             ],
             [
              1,
              "#f0f921"
             ]
            ],
            "type": "histogram2d"
           }
          ],
          "histogram2dcontour": [
           {
            "colorbar": {
             "outlinewidth": 0,
             "ticks": ""
            },
            "colorscale": [
             [
              0,
              "#0d0887"
             ],
             [
              0.1111111111111111,
              "#46039f"
             ],
             [
              0.2222222222222222,
              "#7201a8"
             ],
             [
              0.3333333333333333,
              "#9c179e"
             ],
             [
              0.4444444444444444,
              "#bd3786"
             ],
             [
              0.5555555555555556,
              "#d8576b"
             ],
             [
              0.6666666666666666,
              "#ed7953"
             ],
             [
              0.7777777777777778,
              "#fb9f3a"
             ],
             [
              0.8888888888888888,
              "#fdca26"
             ],
             [
              1,
              "#f0f921"
             ]
            ],
            "type": "histogram2dcontour"
           }
          ],
          "mesh3d": [
           {
            "colorbar": {
             "outlinewidth": 0,
             "ticks": ""
            },
            "type": "mesh3d"
           }
          ],
          "parcoords": [
           {
            "line": {
             "colorbar": {
              "outlinewidth": 0,
              "ticks": ""
             }
            },
            "type": "parcoords"
           }
          ],
          "pie": [
           {
            "automargin": true,
            "type": "pie"
           }
          ],
          "scatter": [
           {
            "marker": {
             "colorbar": {
              "outlinewidth": 0,
              "ticks": ""
             }
            },
            "type": "scatter"
           }
          ],
          "scatter3d": [
           {
            "line": {
             "colorbar": {
              "outlinewidth": 0,
              "ticks": ""
             }
            },
            "marker": {
             "colorbar": {
              "outlinewidth": 0,
              "ticks": ""
             }
            },
            "type": "scatter3d"
           }
          ],
          "scattercarpet": [
           {
            "marker": {
             "colorbar": {
              "outlinewidth": 0,
              "ticks": ""
             }
            },
            "type": "scattercarpet"
           }
          ],
          "scattergeo": [
           {
            "marker": {
             "colorbar": {
              "outlinewidth": 0,
              "ticks": ""
             }
            },
            "type": "scattergeo"
           }
          ],
          "scattergl": [
           {
            "marker": {
             "colorbar": {
              "outlinewidth": 0,
              "ticks": ""
             }
            },
            "type": "scattergl"
           }
          ],
          "scattermapbox": [
           {
            "marker": {
             "colorbar": {
              "outlinewidth": 0,
              "ticks": ""
             }
            },
            "type": "scattermapbox"
           }
          ],
          "scatterpolar": [
           {
            "marker": {
             "colorbar": {
              "outlinewidth": 0,
              "ticks": ""
             }
            },
            "type": "scatterpolar"
           }
          ],
          "scatterpolargl": [
           {
            "marker": {
             "colorbar": {
              "outlinewidth": 0,
              "ticks": ""
             }
            },
            "type": "scatterpolargl"
           }
          ],
          "scatterternary": [
           {
            "marker": {
             "colorbar": {
              "outlinewidth": 0,
              "ticks": ""
             }
            },
            "type": "scatterternary"
           }
          ],
          "surface": [
           {
            "colorbar": {
             "outlinewidth": 0,
             "ticks": ""
            },
            "colorscale": [
             [
              0,
              "#0d0887"
             ],
             [
              0.1111111111111111,
              "#46039f"
             ],
             [
              0.2222222222222222,
              "#7201a8"
             ],
             [
              0.3333333333333333,
              "#9c179e"
             ],
             [
              0.4444444444444444,
              "#bd3786"
             ],
             [
              0.5555555555555556,
              "#d8576b"
             ],
             [
              0.6666666666666666,
              "#ed7953"
             ],
             [
              0.7777777777777778,
              "#fb9f3a"
             ],
             [
              0.8888888888888888,
              "#fdca26"
             ],
             [
              1,
              "#f0f921"
             ]
            ],
            "type": "surface"
           }
          ],
          "table": [
           {
            "cells": {
             "fill": {
              "color": "#EBF0F8"
             },
             "line": {
              "color": "white"
             }
            },
            "header": {
             "fill": {
              "color": "#C8D4E3"
             },
             "line": {
              "color": "white"
             }
            },
            "type": "table"
           }
          ]
         },
         "layout": {
          "annotationdefaults": {
           "arrowcolor": "#2a3f5f",
           "arrowhead": 0,
           "arrowwidth": 1
          },
          "autotypenumbers": "strict",
          "coloraxis": {
           "colorbar": {
            "outlinewidth": 0,
            "ticks": ""
           }
          },
          "colorscale": {
           "diverging": [
            [
             0,
             "#8e0152"
            ],
            [
             0.1,
             "#c51b7d"
            ],
            [
             0.2,
             "#de77ae"
            ],
            [
             0.3,
             "#f1b6da"
            ],
            [
             0.4,
             "#fde0ef"
            ],
            [
             0.5,
             "#f7f7f7"
            ],
            [
             0.6,
             "#e6f5d0"
            ],
            [
             0.7,
             "#b8e186"
            ],
            [
             0.8,
             "#7fbc41"
            ],
            [
             0.9,
             "#4d9221"
            ],
            [
             1,
             "#276419"
            ]
           ],
           "sequential": [
            [
             0,
             "#0d0887"
            ],
            [
             0.1111111111111111,
             "#46039f"
            ],
            [
             0.2222222222222222,
             "#7201a8"
            ],
            [
             0.3333333333333333,
             "#9c179e"
            ],
            [
             0.4444444444444444,
             "#bd3786"
            ],
            [
             0.5555555555555556,
             "#d8576b"
            ],
            [
             0.6666666666666666,
             "#ed7953"
            ],
            [
             0.7777777777777778,
             "#fb9f3a"
            ],
            [
             0.8888888888888888,
             "#fdca26"
            ],
            [
             1,
             "#f0f921"
            ]
           ],
           "sequentialminus": [
            [
             0,
             "#0d0887"
            ],
            [
             0.1111111111111111,
             "#46039f"
            ],
            [
             0.2222222222222222,
             "#7201a8"
            ],
            [
             0.3333333333333333,
             "#9c179e"
            ],
            [
             0.4444444444444444,
             "#bd3786"
            ],
            [
             0.5555555555555556,
             "#d8576b"
            ],
            [
             0.6666666666666666,
             "#ed7953"
            ],
            [
             0.7777777777777778,
             "#fb9f3a"
            ],
            [
             0.8888888888888888,
             "#fdca26"
            ],
            [
             1,
             "#f0f921"
            ]
           ]
          },
          "colorway": [
           "#636efa",
           "#EF553B",
           "#00cc96",
           "#ab63fa",
           "#FFA15A",
           "#19d3f3",
           "#FF6692",
           "#B6E880",
           "#FF97FF",
           "#FECB52"
          ],
          "font": {
           "color": "#2a3f5f"
          },
          "geo": {
           "bgcolor": "white",
           "lakecolor": "white",
           "landcolor": "#E5ECF6",
           "showlakes": true,
           "showland": true,
           "subunitcolor": "white"
          },
          "hoverlabel": {
           "align": "left"
          },
          "hovermode": "closest",
          "mapbox": {
           "style": "light"
          },
          "paper_bgcolor": "white",
          "plot_bgcolor": "#E5ECF6",
          "polar": {
           "angularaxis": {
            "gridcolor": "white",
            "linecolor": "white",
            "ticks": ""
           },
           "bgcolor": "#E5ECF6",
           "radialaxis": {
            "gridcolor": "white",
            "linecolor": "white",
            "ticks": ""
           }
          },
          "scene": {
           "xaxis": {
            "backgroundcolor": "#E5ECF6",
            "gridcolor": "white",
            "gridwidth": 2,
            "linecolor": "white",
            "showbackground": true,
            "ticks": "",
            "zerolinecolor": "white"
           },
           "yaxis": {
            "backgroundcolor": "#E5ECF6",
            "gridcolor": "white",
            "gridwidth": 2,
            "linecolor": "white",
            "showbackground": true,
            "ticks": "",
            "zerolinecolor": "white"
           },
           "zaxis": {
            "backgroundcolor": "#E5ECF6",
            "gridcolor": "white",
            "gridwidth": 2,
            "linecolor": "white",
            "showbackground": true,
            "ticks": "",
            "zerolinecolor": "white"
           }
          },
          "shapedefaults": {
           "line": {
            "color": "#2a3f5f"
           }
          },
          "ternary": {
           "aaxis": {
            "gridcolor": "white",
            "linecolor": "white",
            "ticks": ""
           },
           "baxis": {
            "gridcolor": "white",
            "linecolor": "white",
            "ticks": ""
           },
           "bgcolor": "#E5ECF6",
           "caxis": {
            "gridcolor": "white",
            "linecolor": "white",
            "ticks": ""
           }
          },
          "title": {
           "x": 0.05
          },
          "xaxis": {
           "automargin": true,
           "gridcolor": "white",
           "linecolor": "white",
           "ticks": "",
           "title": {
            "standoff": 15
           },
           "zerolinecolor": "white",
           "zerolinewidth": 2
          },
          "yaxis": {
           "automargin": true,
           "gridcolor": "white",
           "linecolor": "white",
           "ticks": "",
           "title": {
            "standoff": 15
           },
           "zerolinecolor": "white",
           "zerolinewidth": 2
          }
         }
        }
       }
      },
      "text/html": [
       "<div>                            <div id=\"bfa51279-f42a-46d3-8911-43d39d459804\" class=\"plotly-graph-div\" style=\"height:700px; width:100%;\"></div>            <script type=\"text/javascript\">                require([\"plotly\"], function(Plotly) {                    window.PLOTLYENV=window.PLOTLYENV || {};                                    if (document.getElementById(\"bfa51279-f42a-46d3-8911-43d39d459804\")) {                    Plotly.newPlot(                        \"bfa51279-f42a-46d3-8911-43d39d459804\",                        [{\"hoverinfo\":\"none\",\"line\":{\"color\":\"rgba(0,0,0,1.0)\",\"width\":7.0},\"mode\":\"lines\",\"showlegend\":false,\"x\":[0.5196152422706634,0.37115374447904503,null,0.37115374447904503,0.5196152422706635,null,0.5196152422706635,0.0,null,0.5196152422706634,0.5196152422706638,null,0.8660254037844386,0.0,null,0.5196152422706635,0.5196152422706638,null,0.0,0.0,null,0.5196152422706635,0.0,null,0.5196152422706634,0.8660254037844386,null,0.37115374447904503,0.0,null,0.5196152422706635,0.8660254037844386,null,0.37115374447904503,0.5196152422706638,null,0.5196152422706638,0.8660254037844386,null],\"y\":[0.7,0.7857142857142858,null,0.7857142857142858,0.5000000000000002,null,0.5000000000000002,0.0,null,0.7,0.6199999999999997,null,0.5,0.0,null,0.5000000000000002,0.6199999999999997,null,1.0,0.0,null,0.5000000000000002,1.0,null,0.7,0.5,null,0.7857142857142858,1.0,null,0.5000000000000002,0.5,null,0.7857142857142858,0.6199999999999997,null,0.6199999999999997,0.5,null],\"z\":[-0.0505767999999989,-0.062076285714285626,null,-0.062076285714285626,-0.11921080000000477,null,-0.11921080000000477,0.0,null,-0.0505767999999989,-0.08320075999999285,null,0.0,0.0,null,-0.11921080000000477,-0.08320075999999285,null,0.0,0.0,null,-0.11921080000000477,0.0,null,-0.0505767999999989,0.0,null,-0.062076285714285626,0.0,null,-0.11921080000000477,0.0,null,-0.062076285714285626,-0.08320075999999285,null,-0.08320075999999285,0.0,null],\"type\":\"scatter3d\"},{\"hoverinfo\":\"none\",\"line\":{\"color\":\"rgba (0, 0, 0, 0.4)\",\"dash\":\"solid\",\"width\":1.0},\"mode\":\"lines\",\"showlegend\":false,\"x\":[0.8660254037844386,0.0,null,0.8660254037844386,0.0,null,0.8660254037844386,0.0,null,0.8660254037844386,0.0,null,0.0,0.0,null,0.0,0.0,null,0.8660254037844386,0.8660254037844386,null,0.0,0.0,null,0.0,0.0,null],\"y\":[0.5,1.0,null,0.5,1.0,null,0.5,0.0,null,0.5,0.0,null,1.0,0.0,null,1.0,0.0,null,0.5,0.5,null,1.0,1.0,null,0.0,0.0,null],\"z\":[0,0,null,-0.11921080000000477,-0.11921080000000477,null,0,0,null,-0.11921080000000477,-0.11921080000000477,null,0,0,null,-0.11921080000000477,-0.11921080000000477,null,0,-0.11921080000000477,null,0,-0.11921080000000477,null,0,-0.11921080000000477,null],\"type\":\"scatter3d\"},{\"colorbar\":{\"len\":0.75,\"title\":{\"text\":\"Formation energy<br>(eV/atom)\"},\"x\":0.9},\"colorscale\":[[0.0,\"#0c8c00\"],[0.5,\"#d8ffd4\"],[1.0,\"#ffffff\"]],\"flatshading\":true,\"hoverinfo\":\"none\",\"i\":[2,2,2,2,1,3,3],\"intensity\":[-0.0505767999999989,-0.062076285714285626,-0.11921080000000477,-0.08320075999999285,-0.060734666666668276,0.0,0.0,0.0],\"j\":[7,7,1,3,3,0,0],\"k\":[5,6,6,5,2,5,1],\"lighting\":{\"ambient\":1.0,\"diffuse\":0.0},\"name\":\"Convex Hull (shading)\",\"opacity\":0.8,\"showlegend\":true,\"x\":[0.5196152422706634,0.37115374447904503,0.5196152422706635,0.5196152422706638,0.3711537444790451,0.8660254037844386,0.0,0.0],\"y\":[0.7,0.7857142857142858,0.5000000000000002,0.6199999999999997,0.4047619047619048,0.5,1.0,0.0],\"z\":[-0.0505767999999989,-0.062076285714285626,-0.11921080000000477,-0.08320075999999285,-0.060734666666668276,0.0,0.0,0.0],\"type\":\"mesh3d\"},{\"hoverinfo\":\"skip\",\"mode\":\"text\",\"name\":\"Labels (stable)\",\"opacity\":1.0,\"showlegend\":true,\"text\":[\"MnSiO<sub>3</sub>\",\"Mn<sub>2</sub>SiO<sub>4</sub>\",\"CaMn(SiO<sub>3</sub>)<sub>2</sub>\",\"CaMn<sub>4</sub>(SiO<sub>3</sub>)<sub>5</sub>\"],\"textposition\":[\"middle center\",\"middle center\",\"middle center\",\"middle center\"],\"visible\":true,\"x\":[0.5096152422706633,0.38115374447904504,0.5096152422706635,0.5096152422706638],\"y\":[0.71,0.7957142857142858,0.5100000000000002,0.6299999999999997],\"z\":[-0.03865571999999842,-0.050155205714285146,-0.1072897200000043,-0.07127967999999238],\"type\":\"scatter3d\"},{\"hoverinfo\":\"text\",\"hoverlabel\":{\"font\":{\"size\":14}},\"hovertext\":[\"MnSi<sub>2</sub>O<sub>5</sub> (None) <br> 0.033 eV/atom (+0.065 eV/atom)\",\"Ca<sub>4</sub>Mn<sub>2</sub>(SiO<sub>4</sub>)<sub>3</sub> (None) <br> -0.061 eV/atom (+0.024 eV/atom)\"],\"marker\":{\"color\":[0.065,0.024],\"colorbar\":{\"len\":0.75,\"title\":{\"text\":\"Energy Above Hull<br>(eV/atom)\"},\"x\":0.05},\"colorscale\":[[0.0,\"#fad393\"],[0.5,\"#ff813d\"],[1.0,\"#ff0000\"]],\"size\":6,\"symbol\":\"diamond\"},\"mode\":\"markers\",\"name\":\"Above Hull\",\"showlegend\":true,\"x\":[0.6495190528383308,0.3711537444790451],\"y\":[0.624999999999999,0.4047619047619048],\"z\":[0.033,-0.061],\"type\":\"scatter3d\"},{\"error_z\":{\"array\":[0,0,0,0,0,0,0],\"color\":\"darkgray\",\"thickness\":5,\"type\":\"data\",\"width\":10},\"hoverinfo\":\"text\",\"hoverlabel\":{\"font\":{\"size\":14}},\"hovertext\":[\"MnSiO<sub>3</sub> (None) <br> -0.051 eV/atom\",\"Mn<sub>2</sub>SiO<sub>4</sub> (None) <br> -0.062 eV/atom\",\"CaMn(SiO<sub>3</sub>)<sub>2</sub> (None) <br> -0.119 eV/atom\",\"CaO (None) <br> 0.0 eV/atom\",\"CaMn<sub>4</sub>(SiO<sub>3</sub>)<sub>5</sub> (None) <br> -0.083 eV/atom\",\"SiO<sub>2</sub> (None) <br> 0.0 eV/atom\",\"MnO (None) <br> 0.0 eV/atom\"],\"marker\":{\"color\":\"black\",\"line\":{\"color\":\"black\",\"width\":3},\"opacity\":0.8,\"size\":12},\"mode\":\"markers\",\"name\":\"Stable\",\"showlegend\":true,\"x\":[0.5196152422706634,0.37115374447904503,0.5196152422706635,0.0,0.5196152422706638,0.8660254037844386,0.0],\"y\":[0.7,0.7857142857142858,0.5000000000000002,0.0,0.6199999999999997,0.5,1.0],\"z\":[-0.051,-0.062,-0.119,0.0,-0.083,0.0,0.0],\"type\":\"scatter3d\"}],                        {\"autosize\":true,\"height\":700,\"hovermode\":\"closest\",\"legend\":{\"orientation\":\"h\",\"traceorder\":\"reversed\",\"x\":0.5,\"xanchor\":\"center\",\"y\":0.0,\"yanchor\":\"top\"},\"margin\":{\"b\":10,\"l\":0,\"pad\":0,\"r\":0,\"t\":0},\"paper_bgcolor\":\"rgba(0,0,0,0)\",\"plot_bgcolor\":\"rgba(0,0,0,0)\",\"scene\":{\"annotations\":[{\"align\":\"center\",\"font\":{\"color\":\"#000000\",\"size\":24.0},\"opacity\":1.0,\"showarrow\":false,\"text\":\"CaO\",\"x\":0.0,\"xanchor\":\"right\",\"xshift\":-10,\"y\":0.0,\"yanchor\":\"auto\",\"yshift\":-10,\"z\":-0.1072897200000043},{\"align\":\"center\",\"font\":{\"color\":\"#000000\",\"size\":24.0},\"opacity\":1.0,\"showarrow\":false,\"text\":\"SiO<sub>2</sub>\",\"x\":0.8660254037844386,\"xanchor\":\"right\",\"xshift\":-10,\"y\":0.5,\"yanchor\":\"auto\",\"yshift\":-10,\"z\":-0.1072897200000043},{\"align\":\"center\",\"font\":{\"color\":\"#000000\",\"size\":24.0},\"opacity\":1.0,\"showarrow\":false,\"text\":\"MnO\",\"x\":0.0,\"xanchor\":\"right\",\"xshift\":-10,\"y\":1.0,\"yanchor\":\"auto\",\"yshift\":-10,\"z\":-0.1072897200000043},{\"opacity\":0,\"text\":\"\",\"x\":1,\"y\":1,\"z\":0}],\"xaxis\":{\"autorange\":true,\"showaxeslabels\":false,\"showgrid\":false,\"showline\":false,\"showspikes\":false,\"showticklabels\":false,\"ticks\":\"\",\"visible\":false,\"zeroline\":false},\"yaxis\":{\"autorange\":true,\"showaxeslabels\":false,\"showgrid\":false,\"showline\":false,\"showspikes\":false,\"showticklabels\":false,\"ticks\":\"\",\"visible\":false,\"zeroline\":false},\"zaxis\":{\"autorange\":true,\"showaxeslabels\":false,\"showgrid\":false,\"showline\":false,\"showspikes\":false,\"showticklabels\":false,\"ticks\":\"\",\"visible\":false,\"zeroline\":false},\"camera\":{\"center\":{\"x\":-0.1,\"y\":0,\"z\":-0.15},\"eye\":{\"x\":-0.1,\"y\":0,\"z\":2.5},\"projection\":{\"type\":\"orthographic\"}},\"aspectratio\":{\"x\":1.7,\"y\":1.7,\"z\":1.2}},\"showlegend\":true,\"template\":{\"data\":{\"bar\":[{\"error_x\":{\"color\":\"#2a3f5f\"},\"error_y\":{\"color\":\"#2a3f5f\"},\"marker\":{\"line\":{\"color\":\"#E5ECF6\",\"width\":0.5},\"pattern\":{\"fillmode\":\"overlay\",\"size\":10,\"solidity\":0.2}},\"type\":\"bar\"}],\"barpolar\":[{\"marker\":{\"line\":{\"color\":\"#E5ECF6\",\"width\":0.5},\"pattern\":{\"fillmode\":\"overlay\",\"size\":10,\"solidity\":0.2}},\"type\":\"barpolar\"}],\"carpet\":[{\"aaxis\":{\"endlinecolor\":\"#2a3f5f\",\"gridcolor\":\"white\",\"linecolor\":\"white\",\"minorgridcolor\":\"white\",\"startlinecolor\":\"#2a3f5f\"},\"baxis\":{\"endlinecolor\":\"#2a3f5f\",\"gridcolor\":\"white\",\"linecolor\":\"white\",\"minorgridcolor\":\"white\",\"startlinecolor\":\"#2a3f5f\"},\"type\":\"carpet\"}],\"choropleth\":[{\"colorbar\":{\"outlinewidth\":0,\"ticks\":\"\"},\"type\":\"choropleth\"}],\"contour\":[{\"colorbar\":{\"outlinewidth\":0,\"ticks\":\"\"},\"colorscale\":[[0.0,\"#0d0887\"],[0.1111111111111111,\"#46039f\"],[0.2222222222222222,\"#7201a8\"],[0.3333333333333333,\"#9c179e\"],[0.4444444444444444,\"#bd3786\"],[0.5555555555555556,\"#d8576b\"],[0.6666666666666666,\"#ed7953\"],[0.7777777777777778,\"#fb9f3a\"],[0.8888888888888888,\"#fdca26\"],[1.0,\"#f0f921\"]],\"type\":\"contour\"}],\"contourcarpet\":[{\"colorbar\":{\"outlinewidth\":0,\"ticks\":\"\"},\"type\":\"contourcarpet\"}],\"heatmap\":[{\"colorbar\":{\"outlinewidth\":0,\"ticks\":\"\"},\"colorscale\":[[0.0,\"#0d0887\"],[0.1111111111111111,\"#46039f\"],[0.2222222222222222,\"#7201a8\"],[0.3333333333333333,\"#9c179e\"],[0.4444444444444444,\"#bd3786\"],[0.5555555555555556,\"#d8576b\"],[0.6666666666666666,\"#ed7953\"],[0.7777777777777778,\"#fb9f3a\"],[0.8888888888888888,\"#fdca26\"],[1.0,\"#f0f921\"]],\"type\":\"heatmap\"}],\"heatmapgl\":[{\"colorbar\":{\"outlinewidth\":0,\"ticks\":\"\"},\"colorscale\":[[0.0,\"#0d0887\"],[0.1111111111111111,\"#46039f\"],[0.2222222222222222,\"#7201a8\"],[0.3333333333333333,\"#9c179e\"],[0.4444444444444444,\"#bd3786\"],[0.5555555555555556,\"#d8576b\"],[0.6666666666666666,\"#ed7953\"],[0.7777777777777778,\"#fb9f3a\"],[0.8888888888888888,\"#fdca26\"],[1.0,\"#f0f921\"]],\"type\":\"heatmapgl\"}],\"histogram\":[{\"marker\":{\"pattern\":{\"fillmode\":\"overlay\",\"size\":10,\"solidity\":0.2}},\"type\":\"histogram\"}],\"histogram2d\":[{\"colorbar\":{\"outlinewidth\":0,\"ticks\":\"\"},\"colorscale\":[[0.0,\"#0d0887\"],[0.1111111111111111,\"#46039f\"],[0.2222222222222222,\"#7201a8\"],[0.3333333333333333,\"#9c179e\"],[0.4444444444444444,\"#bd3786\"],[0.5555555555555556,\"#d8576b\"],[0.6666666666666666,\"#ed7953\"],[0.7777777777777778,\"#fb9f3a\"],[0.8888888888888888,\"#fdca26\"],[1.0,\"#f0f921\"]],\"type\":\"histogram2d\"}],\"histogram2dcontour\":[{\"colorbar\":{\"outlinewidth\":0,\"ticks\":\"\"},\"colorscale\":[[0.0,\"#0d0887\"],[0.1111111111111111,\"#46039f\"],[0.2222222222222222,\"#7201a8\"],[0.3333333333333333,\"#9c179e\"],[0.4444444444444444,\"#bd3786\"],[0.5555555555555556,\"#d8576b\"],[0.6666666666666666,\"#ed7953\"],[0.7777777777777778,\"#fb9f3a\"],[0.8888888888888888,\"#fdca26\"],[1.0,\"#f0f921\"]],\"type\":\"histogram2dcontour\"}],\"mesh3d\":[{\"colorbar\":{\"outlinewidth\":0,\"ticks\":\"\"},\"type\":\"mesh3d\"}],\"parcoords\":[{\"line\":{\"colorbar\":{\"outlinewidth\":0,\"ticks\":\"\"}},\"type\":\"parcoords\"}],\"pie\":[{\"automargin\":true,\"type\":\"pie\"}],\"scatter\":[{\"marker\":{\"colorbar\":{\"outlinewidth\":0,\"ticks\":\"\"}},\"type\":\"scatter\"}],\"scatter3d\":[{\"line\":{\"colorbar\":{\"outlinewidth\":0,\"ticks\":\"\"}},\"marker\":{\"colorbar\":{\"outlinewidth\":0,\"ticks\":\"\"}},\"type\":\"scatter3d\"}],\"scattercarpet\":[{\"marker\":{\"colorbar\":{\"outlinewidth\":0,\"ticks\":\"\"}},\"type\":\"scattercarpet\"}],\"scattergeo\":[{\"marker\":{\"colorbar\":{\"outlinewidth\":0,\"ticks\":\"\"}},\"type\":\"scattergeo\"}],\"scattergl\":[{\"marker\":{\"colorbar\":{\"outlinewidth\":0,\"ticks\":\"\"}},\"type\":\"scattergl\"}],\"scattermapbox\":[{\"marker\":{\"colorbar\":{\"outlinewidth\":0,\"ticks\":\"\"}},\"type\":\"scattermapbox\"}],\"scatterpolar\":[{\"marker\":{\"colorbar\":{\"outlinewidth\":0,\"ticks\":\"\"}},\"type\":\"scatterpolar\"}],\"scatterpolargl\":[{\"marker\":{\"colorbar\":{\"outlinewidth\":0,\"ticks\":\"\"}},\"type\":\"scatterpolargl\"}],\"scatterternary\":[{\"marker\":{\"colorbar\":{\"outlinewidth\":0,\"ticks\":\"\"}},\"type\":\"scatterternary\"}],\"surface\":[{\"colorbar\":{\"outlinewidth\":0,\"ticks\":\"\"},\"colorscale\":[[0.0,\"#0d0887\"],[0.1111111111111111,\"#46039f\"],[0.2222222222222222,\"#7201a8\"],[0.3333333333333333,\"#9c179e\"],[0.4444444444444444,\"#bd3786\"],[0.5555555555555556,\"#d8576b\"],[0.6666666666666666,\"#ed7953\"],[0.7777777777777778,\"#fb9f3a\"],[0.8888888888888888,\"#fdca26\"],[1.0,\"#f0f921\"]],\"type\":\"surface\"}],\"table\":[{\"cells\":{\"fill\":{\"color\":\"#EBF0F8\"},\"line\":{\"color\":\"white\"}},\"header\":{\"fill\":{\"color\":\"#C8D4E3\"},\"line\":{\"color\":\"white\"}},\"type\":\"table\"}]},\"layout\":{\"annotationdefaults\":{\"arrowcolor\":\"#2a3f5f\",\"arrowhead\":0,\"arrowwidth\":1},\"autotypenumbers\":\"strict\",\"coloraxis\":{\"colorbar\":{\"outlinewidth\":0,\"ticks\":\"\"}},\"colorscale\":{\"diverging\":[[0,\"#8e0152\"],[0.1,\"#c51b7d\"],[0.2,\"#de77ae\"],[0.3,\"#f1b6da\"],[0.4,\"#fde0ef\"],[0.5,\"#f7f7f7\"],[0.6,\"#e6f5d0\"],[0.7,\"#b8e186\"],[0.8,\"#7fbc41\"],[0.9,\"#4d9221\"],[1,\"#276419\"]],\"sequential\":[[0.0,\"#0d0887\"],[0.1111111111111111,\"#46039f\"],[0.2222222222222222,\"#7201a8\"],[0.3333333333333333,\"#9c179e\"],[0.4444444444444444,\"#bd3786\"],[0.5555555555555556,\"#d8576b\"],[0.6666666666666666,\"#ed7953\"],[0.7777777777777778,\"#fb9f3a\"],[0.8888888888888888,\"#fdca26\"],[1.0,\"#f0f921\"]],\"sequentialminus\":[[0.0,\"#0d0887\"],[0.1111111111111111,\"#46039f\"],[0.2222222222222222,\"#7201a8\"],[0.3333333333333333,\"#9c179e\"],[0.4444444444444444,\"#bd3786\"],[0.5555555555555556,\"#d8576b\"],[0.6666666666666666,\"#ed7953\"],[0.7777777777777778,\"#fb9f3a\"],[0.8888888888888888,\"#fdca26\"],[1.0,\"#f0f921\"]]},\"colorway\":[\"#636efa\",\"#EF553B\",\"#00cc96\",\"#ab63fa\",\"#FFA15A\",\"#19d3f3\",\"#FF6692\",\"#B6E880\",\"#FF97FF\",\"#FECB52\"],\"font\":{\"color\":\"#2a3f5f\"},\"geo\":{\"bgcolor\":\"white\",\"lakecolor\":\"white\",\"landcolor\":\"#E5ECF6\",\"showlakes\":true,\"showland\":true,\"subunitcolor\":\"white\"},\"hoverlabel\":{\"align\":\"left\"},\"hovermode\":\"closest\",\"mapbox\":{\"style\":\"light\"},\"paper_bgcolor\":\"white\",\"plot_bgcolor\":\"#E5ECF6\",\"polar\":{\"angularaxis\":{\"gridcolor\":\"white\",\"linecolor\":\"white\",\"ticks\":\"\"},\"bgcolor\":\"#E5ECF6\",\"radialaxis\":{\"gridcolor\":\"white\",\"linecolor\":\"white\",\"ticks\":\"\"}},\"scene\":{\"xaxis\":{\"backgroundcolor\":\"#E5ECF6\",\"gridcolor\":\"white\",\"gridwidth\":2,\"linecolor\":\"white\",\"showbackground\":true,\"ticks\":\"\",\"zerolinecolor\":\"white\"},\"yaxis\":{\"backgroundcolor\":\"#E5ECF6\",\"gridcolor\":\"white\",\"gridwidth\":2,\"linecolor\":\"white\",\"showbackground\":true,\"ticks\":\"\",\"zerolinecolor\":\"white\"},\"zaxis\":{\"backgroundcolor\":\"#E5ECF6\",\"gridcolor\":\"white\",\"gridwidth\":2,\"linecolor\":\"white\",\"showbackground\":true,\"ticks\":\"\",\"zerolinecolor\":\"white\"}},\"shapedefaults\":{\"line\":{\"color\":\"#2a3f5f\"}},\"ternary\":{\"aaxis\":{\"gridcolor\":\"white\",\"linecolor\":\"white\",\"ticks\":\"\"},\"baxis\":{\"gridcolor\":\"white\",\"linecolor\":\"white\",\"ticks\":\"\"},\"bgcolor\":\"#E5ECF6\",\"caxis\":{\"gridcolor\":\"white\",\"linecolor\":\"white\",\"ticks\":\"\"}},\"title\":{\"x\":0.05},\"xaxis\":{\"automargin\":true,\"gridcolor\":\"white\",\"linecolor\":\"white\",\"ticks\":\"\",\"title\":{\"standoff\":15},\"zerolinecolor\":\"white\",\"zerolinewidth\":2},\"yaxis\":{\"automargin\":true,\"gridcolor\":\"white\",\"linecolor\":\"white\",\"ticks\":\"\",\"title\":{\"standoff\":15},\"zerolinecolor\":\"white\",\"zerolinewidth\":2}}}},                        {\"responsive\": true}                    ).then(function(){\n",
       "                            \n",
       "var gd = document.getElementById('bfa51279-f42a-46d3-8911-43d39d459804');\n",
       "var x = new MutationObserver(function (mutations, observer) {{\n",
       "        var display = window.getComputedStyle(gd).display;\n",
       "        if (!display || display === 'none') {{\n",
       "            console.log([gd, 'removed!']);\n",
       "            Plotly.purge(gd);\n",
       "            observer.disconnect();\n",
       "        }}\n",
       "}});\n",
       "\n",
       "// Listen for the removal of the full notebook cells\n",
       "var notebookContainer = gd.closest('#notebook-container');\n",
       "if (notebookContainer) {{\n",
       "    x.observe(notebookContainer, {childList: true});\n",
       "}}\n",
       "\n",
       "// Listen for the clearing of the current output cell\n",
       "var outputEl = gd.closest('.output');\n",
       "if (outputEl) {{\n",
       "    x.observe(outputEl, {childList: true});\n",
       "}}\n",
       "\n",
       "                        })                };                });            </script>        </div>"
      ]
     },
     "metadata": {},
     "output_type": "display_data"
    }
   ],
   "source": [
    "phase_diagram_2 = CompoundPhaseDiagram(entries,[Composition(\"CaO\"),\n",
    "                                                Composition(\"MnO\"),\n",
    "                                                Composition(\"SiO2\")])\n",
    "#CompoundPhaseDiagram:-Generates phase diagrams from compounds as terminations instead of elements\n",
    "\n",
    "\n",
    "#get_plot and show:- Draw the phase diagram using Plotly (or Matplotlib) and show it.\n",
    "\n",
    "compound_plotter_2 = PDPlotter(phase_diagram_2, show_unstable=True, backend = \"matplotlib\",  markersize=20)\n",
    "z = compound_plotter_2.get_plot(label_unstable=True, label_stable=True)\n",
    "#z.savefig('8-Ca4Mn2SiO.pdf')\n",
    "z.show()\n",
    "\n",
    "compound_plotter_2 = PDPlotter(phase_diagram_2, show_unstable=True, markerize=20)\n",
    "y = compound_plotter_2.get_plot(phase_diagram_2, label_unstable=True)\n",
    "y.show()\n"
   ]
  },
  {
   "cell_type": "code",
   "execution_count": 9,
   "id": "a28ec04d",
   "metadata": {},
   "outputs": [
    {
     "data": {
      "application/vnd.plotly.v1+json": {
       "config": {
        "plotlyServerURL": "https://plot.ly"
       },
       "data": [
        {
         "hoverinfo": "none",
         "line": {
          "color": "rgba(0,0,0,1.0)",
          "width": 7
         },
         "mode": "lines",
         "showlegend": false,
         "type": "scatter3d",
         "x": [
          0.5773502691896258,
          0.5196152422706632,
          null,
          0.5773502691896258,
          0.5196152422706631,
          null,
          0.5773502691896258,
          0,
          null,
          0.4330127018922194,
          0.5196152422706632,
          null,
          0.5773502691896258,
          0.8660254037844386,
          null,
          0.5196152422706631,
          0.5196152422706632,
          null,
          0.4330127018922194,
          0.49487165930539345,
          null,
          0.5773502691896258,
          0,
          null,
          0,
          0,
          null,
          0.5773502691896258,
          0.5773502691896258,
          null,
          0.49487165930539345,
          0.5196152422706632,
          null,
          0.4330127018922194,
          0,
          null,
          0.5196152422706631,
          0.49487165930539345,
          null,
          0.5773502691896258,
          0.5196152422706632,
          null,
          0.5773502691896258,
          0.8660254037844386,
          null,
          0.5196152422706632,
          0,
          null
         ],
         "y": [
          0.33333333333333337,
          0.55,
          null,
          0.6666666666666666,
          0.7,
          null,
          0.33333333333333337,
          0,
          null,
          0.75,
          0.55,
          null,
          0.6666666666666666,
          0.5,
          null,
          0.7,
          0.55,
          null,
          0.75,
          0.7142857142857142,
          null,
          0.33333333333333337,
          1,
          null,
          1,
          0,
          null,
          0.6666666666666666,
          0.33333333333333337,
          null,
          0.7142857142857142,
          0.55,
          null,
          0.75,
          1,
          null,
          0.7,
          0.7142857142857142,
          null,
          0.6666666666666666,
          0.55,
          null,
          0.33333333333333337,
          0.5,
          null,
          0.55,
          1,
          null
         ],
         "z": [
          -4.619494833333336,
          -3.546800424999997,
          null,
          -2.013383333333332,
          -2.250841800000001,
          null,
          -4.619494833333336,
          0,
          null,
          -2.3108069999999965,
          -3.546800424999997,
          null,
          -2.013383333333332,
          0,
          null,
          -2.250841800000001,
          -3.546800424999997,
          null,
          -2.3108069999999965,
          -2.320596714285718,
          null,
          -4.619494833333336,
          0,
          null,
          0,
          0,
          null,
          -2.013383333333332,
          -4.619494833333336,
          null,
          -2.320596714285718,
          -3.546800424999997,
          null,
          -2.3108069999999965,
          0,
          null,
          -2.250841800000001,
          -2.320596714285718,
          null,
          -2.013383333333332,
          -3.546800424999997,
          null,
          -4.619494833333336,
          0,
          null,
          -3.546800424999997,
          0,
          null
         ]
        },
        {
         "hoverinfo": "none",
         "line": {
          "color": "rgba (0, 0, 0, 0.4)",
          "dash": "solid",
          "width": 1
         },
         "mode": "lines",
         "showlegend": false,
         "type": "scatter3d",
         "x": [
          0.8660254037844386,
          0,
          null,
          0.8660254037844386,
          0,
          null,
          0.8660254037844386,
          0,
          null,
          0.8660254037844386,
          0,
          null,
          0,
          0,
          null,
          0,
          0,
          null,
          0.8660254037844386,
          0.8660254037844386,
          null,
          0,
          0,
          null,
          0,
          0,
          null
         ],
         "y": [
          0.5,
          1,
          null,
          0.5,
          1,
          null,
          0.5,
          0,
          null,
          0.5,
          0,
          null,
          1,
          0,
          null,
          1,
          0,
          null,
          0.5,
          0.5,
          null,
          1,
          1,
          null,
          0,
          0,
          null
         ],
         "z": [
          0,
          0,
          null,
          -4.619494833333336,
          -4.619494833333336,
          null,
          0,
          0,
          null,
          -4.619494833333336,
          -4.619494833333336,
          null,
          0,
          0,
          null,
          -4.619494833333336,
          -4.619494833333336,
          null,
          0,
          -4.619494833333336,
          null,
          0,
          -4.619494833333336,
          null,
          0,
          -4.619494833333336,
          null
         ]
        },
        {
         "colorbar": {
          "len": 0.75,
          "title": {
           "text": "Formation energy<br>(eV/atom)"
          },
          "x": 0.9
         },
         "colorscale": [
          [
           0,
           "#0c8c00"
          ],
          [
           0.5,
           "#d8ffd4"
          ],
          [
           1,
           "#ffffff"
          ]
         ],
         "flatshading": true,
         "hoverinfo": "none",
         "i": [
          12,
          11,
          0,
          12,
          0,
          1,
          10,
          10
         ],
         "intensity": [
          -2.3108069999999965,
          -2.013383333333332,
          -2.250841800000001,
          -2.320596714285718,
          -4.619494833333336,
          -3.746596499999998,
          -3.3623209285714273,
          -2.858704874999995,
          -2.669138325000004,
          -4.008960625000001,
          -3.546800424999997,
          0,
          0,
          0
         ],
         "j": [
          13,
          1,
          10,
          10,
          10,
          10,
          2,
          2
         ],
         "k": [
          4,
          4,
          12,
          4,
          3,
          4,
          3,
          1
         ],
         "lighting": {
          "ambient": 1,
          "diffuse": 0
         },
         "name": "Convex Hull (shading)",
         "opacity": 0.8,
         "showlegend": true,
         "type": "mesh3d",
         "x": [
          0.4330127018922194,
          0.5773502691896258,
          0.5196152422706631,
          0.49487165930539345,
          0.5773502691896258,
          0.5196152422706634,
          0.49487165930539345,
          0.5051814855409227,
          0.5196152422706631,
          0.5412658773652741,
          0.5196152422706632,
          0.8660254037844386,
          0,
          0
         ],
         "y": [
          0.75,
          0.6666666666666666,
          0.7,
          0.7142857142857142,
          0.33333333333333337,
          0.5000000000000001,
          0.5714285714285714,
          0.6250000000000001,
          0.6499999999999999,
          0.4375,
          0.55,
          0.5,
          1,
          0
         ],
         "z": [
          -2.3108069999999965,
          -2.013383333333332,
          -2.250841800000001,
          -2.320596714285718,
          -4.619494833333336,
          -3.746596499999998,
          -3.3623209285714273,
          -2.858704874999995,
          -2.669138325000004,
          -4.008960625000001,
          -3.546800424999997,
          0,
          0,
          0
         ]
        },
        {
         "hoverinfo": "skip",
         "mode": "text",
         "name": "Labels (stable)",
         "opacity": 1,
         "showlegend": true,
         "text": [
          "SiO<sub>2</sub>",
          "Mn<sub>5</sub>(SiO<sub>4</sub>)<sub>3</sub>",
          "MnO<sub>2</sub>",
          "Mn<sub>2</sub>O<sub>3</sub>",
          "MnO",
          "Mn<sub>3</sub>O<sub>4</sub>"
         ],
         "textposition": [
          "middle center",
          "middle center",
          "middle center",
          "middle center",
          "middle center",
          "middle center"
         ],
         "type": "scatter3d",
         "visible": true,
         "x": [
          0.5673502691896258,
          0.5096152422706632,
          0.5673502691896258,
          0.5096152422706631,
          0.4230127018922194,
          0.48487165930539344
         ],
         "y": [
          0.32333333333333336,
          0.56,
          0.6766666666666666,
          0.71,
          0.76,
          0.7242857142857142
         ],
         "z": [
          -4.157545350000002,
          -3.0848509416666636,
          -1.5514338499999987,
          -1.7888923166666673,
          -1.848857516666663,
          -1.8586472309523843
         ]
        },
        {
         "hoverinfo": "text",
         "hoverlabel": {
          "font": {
           "size": 14
          }
         },
         "hovertext": [
          "MnSiO<sub>3</sub> (None) <br> -3.747 eV/atom (+0.004 eV/atom)",
          "Mn<sub>2</sub>SiO<sub>4</sub> (None) <br> -3.362 eV/atom (+0.016 eV/atom)",
          "Mn<sub>4</sub>SiO<sub>7</sub> (None) <br> -2.859 eV/atom (+0.143 eV/atom)",
          "Mn<sub>7</sub>SiO<sub>12</sub> (None) <br> -2.669 eV/atom (+0.014 eV/atom)",
          "MnSi<sub>2</sub>O<sub>5</sub> (None) <br> -4.009 eV/atom (+0.067 eV/atom)"
         ],
         "marker": {
          "color": [
           0.004,
           0.016,
           0.143,
           0.014,
           0.067
          ],
          "colorbar": {
           "len": 0.75,
           "title": {
            "text": "Energy Above Hull<br>(eV/atom)"
           },
           "x": 0.05
          },
          "colorscale": [
           [
            0,
            "#fad393"
           ],
           [
            0.5,
            "#ff813d"
           ],
           [
            1,
            "#ff0000"
           ]
          ],
          "size": 6,
          "symbol": "diamond"
         },
         "mode": "markers",
         "name": "Above Hull",
         "showlegend": true,
         "type": "scatter3d",
         "x": [
          0.5196152422706634,
          0.49487165930539345,
          0.5051814855409227,
          0.5196152422706631,
          0.5412658773652741
         ],
         "y": [
          0.5000000000000001,
          0.5714285714285714,
          0.6250000000000001,
          0.6499999999999999,
          0.4375
         ],
         "z": [
          -3.747,
          -3.362,
          -2.859,
          -2.669,
          -4.009
         ]
        },
        {
         "error_z": {
          "array": [
           0,
           0,
           0,
           0,
           0,
           0,
           0,
           0,
           0
          ],
          "color": "darkgray",
          "thickness": 5,
          "type": "data",
          "width": 10
         },
         "hoverinfo": "text",
         "hoverlabel": {
          "font": {
           "size": 14
          }
         },
         "hovertext": [
          "SiO<sub>2</sub> (None) <br> -4.619 eV/atom",
          "Mn<sub>5</sub>(SiO<sub>4</sub>)<sub>3</sub> (None) <br> -3.547 eV/atom",
          "MnO<sub>2</sub> (None) <br> -2.013 eV/atom",
          "Mn<sub>2</sub>O<sub>3</sub> (None) <br> -2.251 eV/atom",
          "Si (None) <br> 0.0 eV/atom",
          "MnO (None) <br> -2.311 eV/atom",
          "O<sub>2</sub> (None) <br> 0.0 eV/atom",
          "Mn<sub>3</sub>O<sub>4</sub> (None) <br> -2.321 eV/atom",
          "Mn (None) <br> 0.0 eV/atom"
         ],
         "marker": {
          "color": "black",
          "line": {
           "color": "black",
           "width": 3
          },
          "opacity": 0.8,
          "size": 12
         },
         "mode": "markers",
         "name": "Stable",
         "showlegend": true,
         "type": "scatter3d",
         "x": [
          0.5773502691896258,
          0.5196152422706632,
          0.5773502691896258,
          0.5196152422706631,
          0,
          0.4330127018922194,
          0.8660254037844386,
          0.49487165930539345,
          0
         ],
         "y": [
          0.33333333333333337,
          0.55,
          0.6666666666666666,
          0.7,
          0,
          0.75,
          0.5,
          0.7142857142857142,
          1
         ],
         "z": [
          -4.619,
          -3.547,
          -2.013,
          -2.251,
          0,
          -2.311,
          0,
          -2.321,
          0
         ]
        }
       ],
       "layout": {
        "autosize": true,
        "height": 700,
        "hovermode": "closest",
        "legend": {
         "orientation": "h",
         "traceorder": "reversed",
         "x": 0.5,
         "xanchor": "center",
         "y": 0,
         "yanchor": "top"
        },
        "margin": {
         "b": 10,
         "l": 0,
         "pad": 0,
         "r": 0,
         "t": 0
        },
        "paper_bgcolor": "rgba(0,0,0,0)",
        "plot_bgcolor": "rgba(0,0,0,0)",
        "scene": {
         "annotations": [
          {
           "align": "center",
           "font": {
            "color": "#000000",
            "size": 24
           },
           "opacity": 1,
           "showarrow": false,
           "text": "Si",
           "x": 0,
           "xanchor": "right",
           "xshift": -10,
           "y": 0,
           "yanchor": "auto",
           "yshift": -10,
           "z": -4.157545350000003
          },
          {
           "align": "center",
           "font": {
            "color": "#000000",
            "size": 24
           },
           "opacity": 1,
           "showarrow": false,
           "text": "O<sub>2</sub>",
           "x": 0.8660254037844386,
           "xanchor": "right",
           "xshift": -10,
           "y": 0.5,
           "yanchor": "auto",
           "yshift": -10,
           "z": -4.157545350000003
          },
          {
           "align": "center",
           "font": {
            "color": "#000000",
            "size": 24
           },
           "opacity": 1,
           "showarrow": false,
           "text": "Mn",
           "x": 0,
           "xanchor": "right",
           "xshift": -10,
           "y": 1,
           "yanchor": "auto",
           "yshift": -10,
           "z": -4.157545350000003
          },
          {
           "opacity": 0,
           "text": "",
           "x": 1,
           "y": 1,
           "z": 0
          }
         ],
         "aspectratio": {
          "x": 1.7,
          "y": 1.7,
          "z": 1.2
         },
         "camera": {
          "center": {
           "x": -0.1,
           "y": 0,
           "z": -0.15
          },
          "eye": {
           "x": -0.1,
           "y": 0,
           "z": 2.5
          },
          "projection": {
           "type": "orthographic"
          }
         },
         "xaxis": {
          "autorange": true,
          "showaxeslabels": false,
          "showgrid": false,
          "showline": false,
          "showspikes": false,
          "showticklabels": false,
          "ticks": "",
          "visible": false,
          "zeroline": false
         },
         "yaxis": {
          "autorange": true,
          "showaxeslabels": false,
          "showgrid": false,
          "showline": false,
          "showspikes": false,
          "showticklabels": false,
          "ticks": "",
          "visible": false,
          "zeroline": false
         },
         "zaxis": {
          "autorange": true,
          "showaxeslabels": false,
          "showgrid": false,
          "showline": false,
          "showspikes": false,
          "showticklabels": false,
          "ticks": "",
          "visible": false,
          "zeroline": false
         }
        },
        "showlegend": true,
        "template": {
         "data": {
          "bar": [
           {
            "error_x": {
             "color": "#2a3f5f"
            },
            "error_y": {
             "color": "#2a3f5f"
            },
            "marker": {
             "line": {
              "color": "#E5ECF6",
              "width": 0.5
             },
             "pattern": {
              "fillmode": "overlay",
              "size": 10,
              "solidity": 0.2
             }
            },
            "type": "bar"
           }
          ],
          "barpolar": [
           {
            "marker": {
             "line": {
              "color": "#E5ECF6",
              "width": 0.5
             },
             "pattern": {
              "fillmode": "overlay",
              "size": 10,
              "solidity": 0.2
             }
            },
            "type": "barpolar"
           }
          ],
          "carpet": [
           {
            "aaxis": {
             "endlinecolor": "#2a3f5f",
             "gridcolor": "white",
             "linecolor": "white",
             "minorgridcolor": "white",
             "startlinecolor": "#2a3f5f"
            },
            "baxis": {
             "endlinecolor": "#2a3f5f",
             "gridcolor": "white",
             "linecolor": "white",
             "minorgridcolor": "white",
             "startlinecolor": "#2a3f5f"
            },
            "type": "carpet"
           }
          ],
          "choropleth": [
           {
            "colorbar": {
             "outlinewidth": 0,
             "ticks": ""
            },
            "type": "choropleth"
           }
          ],
          "contour": [
           {
            "colorbar": {
             "outlinewidth": 0,
             "ticks": ""
            },
            "colorscale": [
             [
              0,
              "#0d0887"
             ],
             [
              0.1111111111111111,
              "#46039f"
             ],
             [
              0.2222222222222222,
              "#7201a8"
             ],
             [
              0.3333333333333333,
              "#9c179e"
             ],
             [
              0.4444444444444444,
              "#bd3786"
             ],
             [
              0.5555555555555556,
              "#d8576b"
             ],
             [
              0.6666666666666666,
              "#ed7953"
             ],
             [
              0.7777777777777778,
              "#fb9f3a"
             ],
             [
              0.8888888888888888,
              "#fdca26"
             ],
             [
              1,
              "#f0f921"
             ]
            ],
            "type": "contour"
           }
          ],
          "contourcarpet": [
           {
            "colorbar": {
             "outlinewidth": 0,
             "ticks": ""
            },
            "type": "contourcarpet"
           }
          ],
          "heatmap": [
           {
            "colorbar": {
             "outlinewidth": 0,
             "ticks": ""
            },
            "colorscale": [
             [
              0,
              "#0d0887"
             ],
             [
              0.1111111111111111,
              "#46039f"
             ],
             [
              0.2222222222222222,
              "#7201a8"
             ],
             [
              0.3333333333333333,
              "#9c179e"
             ],
             [
              0.4444444444444444,
              "#bd3786"
             ],
             [
              0.5555555555555556,
              "#d8576b"
             ],
             [
              0.6666666666666666,
              "#ed7953"
             ],
             [
              0.7777777777777778,
              "#fb9f3a"
             ],
             [
              0.8888888888888888,
              "#fdca26"
             ],
             [
              1,
              "#f0f921"
             ]
            ],
            "type": "heatmap"
           }
          ],
          "heatmapgl": [
           {
            "colorbar": {
             "outlinewidth": 0,
             "ticks": ""
            },
            "colorscale": [
             [
              0,
              "#0d0887"
             ],
             [
              0.1111111111111111,
              "#46039f"
             ],
             [
              0.2222222222222222,
              "#7201a8"
             ],
             [
              0.3333333333333333,
              "#9c179e"
             ],
             [
              0.4444444444444444,
              "#bd3786"
             ],
             [
              0.5555555555555556,
              "#d8576b"
             ],
             [
              0.6666666666666666,
              "#ed7953"
             ],
             [
              0.7777777777777778,
              "#fb9f3a"
             ],
             [
              0.8888888888888888,
              "#fdca26"
             ],
             [
              1,
              "#f0f921"
             ]
            ],
            "type": "heatmapgl"
           }
          ],
          "histogram": [
           {
            "marker": {
             "pattern": {
              "fillmode": "overlay",
              "size": 10,
              "solidity": 0.2
             }
            },
            "type": "histogram"
           }
          ],
          "histogram2d": [
           {
            "colorbar": {
             "outlinewidth": 0,
             "ticks": ""
            },
            "colorscale": [
             [
              0,
              "#0d0887"
             ],
             [
              0.1111111111111111,
              "#46039f"
             ],
             [
              0.2222222222222222,
              "#7201a8"
             ],
             [
              0.3333333333333333,
              "#9c179e"
             ],
             [
              0.4444444444444444,
              "#bd3786"
             ],
             [
              0.5555555555555556,
              "#d8576b"
             ],
             [
              0.6666666666666666,
              "#ed7953"
             ],
             [
              0.7777777777777778,
              "#fb9f3a"
             ],
             [
              0.8888888888888888,
              "#fdca26"
             ],
             [
              1,
              "#f0f921"
             ]
            ],
            "type": "histogram2d"
           }
          ],
          "histogram2dcontour": [
           {
            "colorbar": {
             "outlinewidth": 0,
             "ticks": ""
            },
            "colorscale": [
             [
              0,
              "#0d0887"
             ],
             [
              0.1111111111111111,
              "#46039f"
             ],
             [
              0.2222222222222222,
              "#7201a8"
             ],
             [
              0.3333333333333333,
              "#9c179e"
             ],
             [
              0.4444444444444444,
              "#bd3786"
             ],
             [
              0.5555555555555556,
              "#d8576b"
             ],
             [
              0.6666666666666666,
              "#ed7953"
             ],
             [
              0.7777777777777778,
              "#fb9f3a"
             ],
             [
              0.8888888888888888,
              "#fdca26"
             ],
             [
              1,
              "#f0f921"
             ]
            ],
            "type": "histogram2dcontour"
           }
          ],
          "mesh3d": [
           {
            "colorbar": {
             "outlinewidth": 0,
             "ticks": ""
            },
            "type": "mesh3d"
           }
          ],
          "parcoords": [
           {
            "line": {
             "colorbar": {
              "outlinewidth": 0,
              "ticks": ""
             }
            },
            "type": "parcoords"
           }
          ],
          "pie": [
           {
            "automargin": true,
            "type": "pie"
           }
          ],
          "scatter": [
           {
            "marker": {
             "colorbar": {
              "outlinewidth": 0,
              "ticks": ""
             }
            },
            "type": "scatter"
           }
          ],
          "scatter3d": [
           {
            "line": {
             "colorbar": {
              "outlinewidth": 0,
              "ticks": ""
             }
            },
            "marker": {
             "colorbar": {
              "outlinewidth": 0,
              "ticks": ""
             }
            },
            "type": "scatter3d"
           }
          ],
          "scattercarpet": [
           {
            "marker": {
             "colorbar": {
              "outlinewidth": 0,
              "ticks": ""
             }
            },
            "type": "scattercarpet"
           }
          ],
          "scattergeo": [
           {
            "marker": {
             "colorbar": {
              "outlinewidth": 0,
              "ticks": ""
             }
            },
            "type": "scattergeo"
           }
          ],
          "scattergl": [
           {
            "marker": {
             "colorbar": {
              "outlinewidth": 0,
              "ticks": ""
             }
            },
            "type": "scattergl"
           }
          ],
          "scattermapbox": [
           {
            "marker": {
             "colorbar": {
              "outlinewidth": 0,
              "ticks": ""
             }
            },
            "type": "scattermapbox"
           }
          ],
          "scatterpolar": [
           {
            "marker": {
             "colorbar": {
              "outlinewidth": 0,
              "ticks": ""
             }
            },
            "type": "scatterpolar"
           }
          ],
          "scatterpolargl": [
           {
            "marker": {
             "colorbar": {
              "outlinewidth": 0,
              "ticks": ""
             }
            },
            "type": "scatterpolargl"
           }
          ],
          "scatterternary": [
           {
            "marker": {
             "colorbar": {
              "outlinewidth": 0,
              "ticks": ""
             }
            },
            "type": "scatterternary"
           }
          ],
          "surface": [
           {
            "colorbar": {
             "outlinewidth": 0,
             "ticks": ""
            },
            "colorscale": [
             [
              0,
              "#0d0887"
             ],
             [
              0.1111111111111111,
              "#46039f"
             ],
             [
              0.2222222222222222,
              "#7201a8"
             ],
             [
              0.3333333333333333,
              "#9c179e"
             ],
             [
              0.4444444444444444,
              "#bd3786"
             ],
             [
              0.5555555555555556,
              "#d8576b"
             ],
             [
              0.6666666666666666,
              "#ed7953"
             ],
             [
              0.7777777777777778,
              "#fb9f3a"
             ],
             [
              0.8888888888888888,
              "#fdca26"
             ],
             [
              1,
              "#f0f921"
             ]
            ],
            "type": "surface"
           }
          ],
          "table": [
           {
            "cells": {
             "fill": {
              "color": "#EBF0F8"
             },
             "line": {
              "color": "white"
             }
            },
            "header": {
             "fill": {
              "color": "#C8D4E3"
             },
             "line": {
              "color": "white"
             }
            },
            "type": "table"
           }
          ]
         },
         "layout": {
          "annotationdefaults": {
           "arrowcolor": "#2a3f5f",
           "arrowhead": 0,
           "arrowwidth": 1
          },
          "autotypenumbers": "strict",
          "coloraxis": {
           "colorbar": {
            "outlinewidth": 0,
            "ticks": ""
           }
          },
          "colorscale": {
           "diverging": [
            [
             0,
             "#8e0152"
            ],
            [
             0.1,
             "#c51b7d"
            ],
            [
             0.2,
             "#de77ae"
            ],
            [
             0.3,
             "#f1b6da"
            ],
            [
             0.4,
             "#fde0ef"
            ],
            [
             0.5,
             "#f7f7f7"
            ],
            [
             0.6,
             "#e6f5d0"
            ],
            [
             0.7,
             "#b8e186"
            ],
            [
             0.8,
             "#7fbc41"
            ],
            [
             0.9,
             "#4d9221"
            ],
            [
             1,
             "#276419"
            ]
           ],
           "sequential": [
            [
             0,
             "#0d0887"
            ],
            [
             0.1111111111111111,
             "#46039f"
            ],
            [
             0.2222222222222222,
             "#7201a8"
            ],
            [
             0.3333333333333333,
             "#9c179e"
            ],
            [
             0.4444444444444444,
             "#bd3786"
            ],
            [
             0.5555555555555556,
             "#d8576b"
            ],
            [
             0.6666666666666666,
             "#ed7953"
            ],
            [
             0.7777777777777778,
             "#fb9f3a"
            ],
            [
             0.8888888888888888,
             "#fdca26"
            ],
            [
             1,
             "#f0f921"
            ]
           ],
           "sequentialminus": [
            [
             0,
             "#0d0887"
            ],
            [
             0.1111111111111111,
             "#46039f"
            ],
            [
             0.2222222222222222,
             "#7201a8"
            ],
            [
             0.3333333333333333,
             "#9c179e"
            ],
            [
             0.4444444444444444,
             "#bd3786"
            ],
            [
             0.5555555555555556,
             "#d8576b"
            ],
            [
             0.6666666666666666,
             "#ed7953"
            ],
            [
             0.7777777777777778,
             "#fb9f3a"
            ],
            [
             0.8888888888888888,
             "#fdca26"
            ],
            [
             1,
             "#f0f921"
            ]
           ]
          },
          "colorway": [
           "#636efa",
           "#EF553B",
           "#00cc96",
           "#ab63fa",
           "#FFA15A",
           "#19d3f3",
           "#FF6692",
           "#B6E880",
           "#FF97FF",
           "#FECB52"
          ],
          "font": {
           "color": "#2a3f5f"
          },
          "geo": {
           "bgcolor": "white",
           "lakecolor": "white",
           "landcolor": "#E5ECF6",
           "showlakes": true,
           "showland": true,
           "subunitcolor": "white"
          },
          "hoverlabel": {
           "align": "left"
          },
          "hovermode": "closest",
          "mapbox": {
           "style": "light"
          },
          "paper_bgcolor": "white",
          "plot_bgcolor": "#E5ECF6",
          "polar": {
           "angularaxis": {
            "gridcolor": "white",
            "linecolor": "white",
            "ticks": ""
           },
           "bgcolor": "#E5ECF6",
           "radialaxis": {
            "gridcolor": "white",
            "linecolor": "white",
            "ticks": ""
           }
          },
          "scene": {
           "xaxis": {
            "backgroundcolor": "#E5ECF6",
            "gridcolor": "white",
            "gridwidth": 2,
            "linecolor": "white",
            "showbackground": true,
            "ticks": "",
            "zerolinecolor": "white"
           },
           "yaxis": {
            "backgroundcolor": "#E5ECF6",
            "gridcolor": "white",
            "gridwidth": 2,
            "linecolor": "white",
            "showbackground": true,
            "ticks": "",
            "zerolinecolor": "white"
           },
           "zaxis": {
            "backgroundcolor": "#E5ECF6",
            "gridcolor": "white",
            "gridwidth": 2,
            "linecolor": "white",
            "showbackground": true,
            "ticks": "",
            "zerolinecolor": "white"
           }
          },
          "shapedefaults": {
           "line": {
            "color": "#2a3f5f"
           }
          },
          "ternary": {
           "aaxis": {
            "gridcolor": "white",
            "linecolor": "white",
            "ticks": ""
           },
           "baxis": {
            "gridcolor": "white",
            "linecolor": "white",
            "ticks": ""
           },
           "bgcolor": "#E5ECF6",
           "caxis": {
            "gridcolor": "white",
            "linecolor": "white",
            "ticks": ""
           }
          },
          "title": {
           "x": 0.05
          },
          "xaxis": {
           "automargin": true,
           "gridcolor": "white",
           "linecolor": "white",
           "ticks": "",
           "title": {
            "standoff": 15
           },
           "zerolinecolor": "white",
           "zerolinewidth": 2
          },
          "yaxis": {
           "automargin": true,
           "gridcolor": "white",
           "linecolor": "white",
           "ticks": "",
           "title": {
            "standoff": 15
           },
           "zerolinecolor": "white",
           "zerolinewidth": 2
          }
         }
        }
       }
      },
      "text/html": [
       "<div>                            <div id=\"37bbd777-311d-4cb0-b17f-3382554a865f\" class=\"plotly-graph-div\" style=\"height:700px; width:100%;\"></div>            <script type=\"text/javascript\">                require([\"plotly\"], function(Plotly) {                    window.PLOTLYENV=window.PLOTLYENV || {};                                    if (document.getElementById(\"37bbd777-311d-4cb0-b17f-3382554a865f\")) {                    Plotly.newPlot(                        \"37bbd777-311d-4cb0-b17f-3382554a865f\",                        [{\"hoverinfo\":\"none\",\"line\":{\"color\":\"rgba(0,0,0,1.0)\",\"width\":7.0},\"mode\":\"lines\",\"showlegend\":false,\"x\":[0.5773502691896258,0.5196152422706632,null,0.5773502691896258,0.5196152422706631,null,0.5773502691896258,0.0,null,0.4330127018922194,0.5196152422706632,null,0.5773502691896258,0.8660254037844386,null,0.5196152422706631,0.5196152422706632,null,0.4330127018922194,0.49487165930539345,null,0.5773502691896258,0.0,null,0.0,0.0,null,0.5773502691896258,0.5773502691896258,null,0.49487165930539345,0.5196152422706632,null,0.4330127018922194,0.0,null,0.5196152422706631,0.49487165930539345,null,0.5773502691896258,0.5196152422706632,null,0.5773502691896258,0.8660254037844386,null,0.5196152422706632,0.0,null],\"y\":[0.33333333333333337,0.55,null,0.6666666666666666,0.7,null,0.33333333333333337,0.0,null,0.75,0.55,null,0.6666666666666666,0.5,null,0.7,0.55,null,0.75,0.7142857142857142,null,0.33333333333333337,1.0,null,1.0,0.0,null,0.6666666666666666,0.33333333333333337,null,0.7142857142857142,0.55,null,0.75,1.0,null,0.7,0.7142857142857142,null,0.6666666666666666,0.55,null,0.33333333333333337,0.5,null,0.55,1.0,null],\"z\":[-4.619494833333336,-3.546800424999997,null,-2.013383333333332,-2.250841800000001,null,-4.619494833333336,0.0,null,-2.3108069999999965,-3.546800424999997,null,-2.013383333333332,0.0,null,-2.250841800000001,-3.546800424999997,null,-2.3108069999999965,-2.320596714285718,null,-4.619494833333336,0.0,null,0.0,0.0,null,-2.013383333333332,-4.619494833333336,null,-2.320596714285718,-3.546800424999997,null,-2.3108069999999965,0.0,null,-2.250841800000001,-2.320596714285718,null,-2.013383333333332,-3.546800424999997,null,-4.619494833333336,0.0,null,-3.546800424999997,0.0,null],\"type\":\"scatter3d\"},{\"hoverinfo\":\"none\",\"line\":{\"color\":\"rgba (0, 0, 0, 0.4)\",\"dash\":\"solid\",\"width\":1.0},\"mode\":\"lines\",\"showlegend\":false,\"x\":[0.8660254037844386,0.0,null,0.8660254037844386,0.0,null,0.8660254037844386,0.0,null,0.8660254037844386,0.0,null,0.0,0.0,null,0.0,0.0,null,0.8660254037844386,0.8660254037844386,null,0.0,0.0,null,0.0,0.0,null],\"y\":[0.5,1.0,null,0.5,1.0,null,0.5,0.0,null,0.5,0.0,null,1.0,0.0,null,1.0,0.0,null,0.5,0.5,null,1.0,1.0,null,0.0,0.0,null],\"z\":[0,0,null,-4.619494833333336,-4.619494833333336,null,0,0,null,-4.619494833333336,-4.619494833333336,null,0,0,null,-4.619494833333336,-4.619494833333336,null,0,-4.619494833333336,null,0,-4.619494833333336,null,0,-4.619494833333336,null],\"type\":\"scatter3d\"},{\"colorbar\":{\"len\":0.75,\"title\":{\"text\":\"Formation energy<br>(eV/atom)\"},\"x\":0.9},\"colorscale\":[[0.0,\"#0c8c00\"],[0.5,\"#d8ffd4\"],[1.0,\"#ffffff\"]],\"flatshading\":true,\"hoverinfo\":\"none\",\"i\":[12,11,0,12,0,1,10,10],\"intensity\":[-2.3108069999999965,-2.013383333333332,-2.250841800000001,-2.320596714285718,-4.619494833333336,-3.746596499999998,-3.3623209285714273,-2.858704874999995,-2.669138325000004,-4.008960625000001,-3.546800424999997,0.0,0.0,0.0],\"j\":[13,1,10,10,10,10,2,2],\"k\":[4,4,12,4,3,4,3,1],\"lighting\":{\"ambient\":1.0,\"diffuse\":0.0},\"name\":\"Convex Hull (shading)\",\"opacity\":0.8,\"showlegend\":true,\"x\":[0.4330127018922194,0.5773502691896258,0.5196152422706631,0.49487165930539345,0.5773502691896258,0.5196152422706634,0.49487165930539345,0.5051814855409227,0.5196152422706631,0.5412658773652741,0.5196152422706632,0.8660254037844386,0.0,0.0],\"y\":[0.75,0.6666666666666666,0.7,0.7142857142857142,0.33333333333333337,0.5000000000000001,0.5714285714285714,0.6250000000000001,0.6499999999999999,0.4375,0.55,0.5,1.0,0.0],\"z\":[-2.3108069999999965,-2.013383333333332,-2.250841800000001,-2.320596714285718,-4.619494833333336,-3.746596499999998,-3.3623209285714273,-2.858704874999995,-2.669138325000004,-4.008960625000001,-3.546800424999997,0.0,0.0,0.0],\"type\":\"mesh3d\"},{\"hoverinfo\":\"skip\",\"mode\":\"text\",\"name\":\"Labels (stable)\",\"opacity\":1.0,\"showlegend\":true,\"text\":[\"SiO<sub>2</sub>\",\"Mn<sub>5</sub>(SiO<sub>4</sub>)<sub>3</sub>\",\"MnO<sub>2</sub>\",\"Mn<sub>2</sub>O<sub>3</sub>\",\"MnO\",\"Mn<sub>3</sub>O<sub>4</sub>\"],\"textposition\":[\"middle center\",\"middle center\",\"middle center\",\"middle center\",\"middle center\",\"middle center\"],\"visible\":true,\"x\":[0.5673502691896258,0.5096152422706632,0.5673502691896258,0.5096152422706631,0.4230127018922194,0.48487165930539344],\"y\":[0.32333333333333336,0.56,0.6766666666666666,0.71,0.76,0.7242857142857142],\"z\":[-4.157545350000002,-3.0848509416666636,-1.5514338499999987,-1.7888923166666673,-1.848857516666663,-1.8586472309523843],\"type\":\"scatter3d\"},{\"hoverinfo\":\"text\",\"hoverlabel\":{\"font\":{\"size\":14}},\"hovertext\":[\"MnSiO<sub>3</sub> (None) <br> -3.747 eV/atom (+0.004 eV/atom)\",\"Mn<sub>2</sub>SiO<sub>4</sub> (None) <br> -3.362 eV/atom (+0.016 eV/atom)\",\"Mn<sub>4</sub>SiO<sub>7</sub> (None) <br> -2.859 eV/atom (+0.143 eV/atom)\",\"Mn<sub>7</sub>SiO<sub>12</sub> (None) <br> -2.669 eV/atom (+0.014 eV/atom)\",\"MnSi<sub>2</sub>O<sub>5</sub> (None) <br> -4.009 eV/atom (+0.067 eV/atom)\"],\"marker\":{\"color\":[0.004,0.016,0.143,0.014,0.067],\"colorbar\":{\"len\":0.75,\"title\":{\"text\":\"Energy Above Hull<br>(eV/atom)\"},\"x\":0.05},\"colorscale\":[[0.0,\"#fad393\"],[0.5,\"#ff813d\"],[1.0,\"#ff0000\"]],\"size\":6,\"symbol\":\"diamond\"},\"mode\":\"markers\",\"name\":\"Above Hull\",\"showlegend\":true,\"x\":[0.5196152422706634,0.49487165930539345,0.5051814855409227,0.5196152422706631,0.5412658773652741],\"y\":[0.5000000000000001,0.5714285714285714,0.6250000000000001,0.6499999999999999,0.4375],\"z\":[-3.747,-3.362,-2.859,-2.669,-4.009],\"type\":\"scatter3d\"},{\"error_z\":{\"array\":[0,0,0,0,0,0,0,0,0],\"color\":\"darkgray\",\"thickness\":5,\"type\":\"data\",\"width\":10},\"hoverinfo\":\"text\",\"hoverlabel\":{\"font\":{\"size\":14}},\"hovertext\":[\"SiO<sub>2</sub> (None) <br> -4.619 eV/atom\",\"Mn<sub>5</sub>(SiO<sub>4</sub>)<sub>3</sub> (None) <br> -3.547 eV/atom\",\"MnO<sub>2</sub> (None) <br> -2.013 eV/atom\",\"Mn<sub>2</sub>O<sub>3</sub> (None) <br> -2.251 eV/atom\",\"Si (None) <br> 0.0 eV/atom\",\"MnO (None) <br> -2.311 eV/atom\",\"O<sub>2</sub> (None) <br> 0.0 eV/atom\",\"Mn<sub>3</sub>O<sub>4</sub> (None) <br> -2.321 eV/atom\",\"Mn (None) <br> 0.0 eV/atom\"],\"marker\":{\"color\":\"black\",\"line\":{\"color\":\"black\",\"width\":3},\"opacity\":0.8,\"size\":12},\"mode\":\"markers\",\"name\":\"Stable\",\"showlegend\":true,\"x\":[0.5773502691896258,0.5196152422706632,0.5773502691896258,0.5196152422706631,0.0,0.4330127018922194,0.8660254037844386,0.49487165930539345,0.0],\"y\":[0.33333333333333337,0.55,0.6666666666666666,0.7,0.0,0.75,0.5,0.7142857142857142,1.0],\"z\":[-4.619,-3.547,-2.013,-2.251,0.0,-2.311,0.0,-2.321,0.0],\"type\":\"scatter3d\"}],                        {\"autosize\":true,\"height\":700,\"hovermode\":\"closest\",\"legend\":{\"orientation\":\"h\",\"traceorder\":\"reversed\",\"x\":0.5,\"xanchor\":\"center\",\"y\":0.0,\"yanchor\":\"top\"},\"margin\":{\"b\":10,\"l\":0,\"pad\":0,\"r\":0,\"t\":0},\"paper_bgcolor\":\"rgba(0,0,0,0)\",\"plot_bgcolor\":\"rgba(0,0,0,0)\",\"scene\":{\"annotations\":[{\"align\":\"center\",\"font\":{\"color\":\"#000000\",\"size\":24.0},\"opacity\":1.0,\"showarrow\":false,\"text\":\"Si\",\"x\":0.0,\"xanchor\":\"right\",\"xshift\":-10,\"y\":0.0,\"yanchor\":\"auto\",\"yshift\":-10,\"z\":-4.157545350000003},{\"align\":\"center\",\"font\":{\"color\":\"#000000\",\"size\":24.0},\"opacity\":1.0,\"showarrow\":false,\"text\":\"O<sub>2</sub>\",\"x\":0.8660254037844386,\"xanchor\":\"right\",\"xshift\":-10,\"y\":0.5,\"yanchor\":\"auto\",\"yshift\":-10,\"z\":-4.157545350000003},{\"align\":\"center\",\"font\":{\"color\":\"#000000\",\"size\":24.0},\"opacity\":1.0,\"showarrow\":false,\"text\":\"Mn\",\"x\":0.0,\"xanchor\":\"right\",\"xshift\":-10,\"y\":1.0,\"yanchor\":\"auto\",\"yshift\":-10,\"z\":-4.157545350000003},{\"opacity\":0,\"text\":\"\",\"x\":1,\"y\":1,\"z\":0}],\"xaxis\":{\"autorange\":true,\"showaxeslabels\":false,\"showgrid\":false,\"showline\":false,\"showspikes\":false,\"showticklabels\":false,\"ticks\":\"\",\"visible\":false,\"zeroline\":false},\"yaxis\":{\"autorange\":true,\"showaxeslabels\":false,\"showgrid\":false,\"showline\":false,\"showspikes\":false,\"showticklabels\":false,\"ticks\":\"\",\"visible\":false,\"zeroline\":false},\"zaxis\":{\"autorange\":true,\"showaxeslabels\":false,\"showgrid\":false,\"showline\":false,\"showspikes\":false,\"showticklabels\":false,\"ticks\":\"\",\"visible\":false,\"zeroline\":false},\"camera\":{\"center\":{\"x\":-0.1,\"y\":0,\"z\":-0.15},\"eye\":{\"x\":-0.1,\"y\":0,\"z\":2.5},\"projection\":{\"type\":\"orthographic\"}},\"aspectratio\":{\"x\":1.7,\"y\":1.7,\"z\":1.2}},\"showlegend\":true,\"template\":{\"data\":{\"bar\":[{\"error_x\":{\"color\":\"#2a3f5f\"},\"error_y\":{\"color\":\"#2a3f5f\"},\"marker\":{\"line\":{\"color\":\"#E5ECF6\",\"width\":0.5},\"pattern\":{\"fillmode\":\"overlay\",\"size\":10,\"solidity\":0.2}},\"type\":\"bar\"}],\"barpolar\":[{\"marker\":{\"line\":{\"color\":\"#E5ECF6\",\"width\":0.5},\"pattern\":{\"fillmode\":\"overlay\",\"size\":10,\"solidity\":0.2}},\"type\":\"barpolar\"}],\"carpet\":[{\"aaxis\":{\"endlinecolor\":\"#2a3f5f\",\"gridcolor\":\"white\",\"linecolor\":\"white\",\"minorgridcolor\":\"white\",\"startlinecolor\":\"#2a3f5f\"},\"baxis\":{\"endlinecolor\":\"#2a3f5f\",\"gridcolor\":\"white\",\"linecolor\":\"white\",\"minorgridcolor\":\"white\",\"startlinecolor\":\"#2a3f5f\"},\"type\":\"carpet\"}],\"choropleth\":[{\"colorbar\":{\"outlinewidth\":0,\"ticks\":\"\"},\"type\":\"choropleth\"}],\"contour\":[{\"colorbar\":{\"outlinewidth\":0,\"ticks\":\"\"},\"colorscale\":[[0.0,\"#0d0887\"],[0.1111111111111111,\"#46039f\"],[0.2222222222222222,\"#7201a8\"],[0.3333333333333333,\"#9c179e\"],[0.4444444444444444,\"#bd3786\"],[0.5555555555555556,\"#d8576b\"],[0.6666666666666666,\"#ed7953\"],[0.7777777777777778,\"#fb9f3a\"],[0.8888888888888888,\"#fdca26\"],[1.0,\"#f0f921\"]],\"type\":\"contour\"}],\"contourcarpet\":[{\"colorbar\":{\"outlinewidth\":0,\"ticks\":\"\"},\"type\":\"contourcarpet\"}],\"heatmap\":[{\"colorbar\":{\"outlinewidth\":0,\"ticks\":\"\"},\"colorscale\":[[0.0,\"#0d0887\"],[0.1111111111111111,\"#46039f\"],[0.2222222222222222,\"#7201a8\"],[0.3333333333333333,\"#9c179e\"],[0.4444444444444444,\"#bd3786\"],[0.5555555555555556,\"#d8576b\"],[0.6666666666666666,\"#ed7953\"],[0.7777777777777778,\"#fb9f3a\"],[0.8888888888888888,\"#fdca26\"],[1.0,\"#f0f921\"]],\"type\":\"heatmap\"}],\"heatmapgl\":[{\"colorbar\":{\"outlinewidth\":0,\"ticks\":\"\"},\"colorscale\":[[0.0,\"#0d0887\"],[0.1111111111111111,\"#46039f\"],[0.2222222222222222,\"#7201a8\"],[0.3333333333333333,\"#9c179e\"],[0.4444444444444444,\"#bd3786\"],[0.5555555555555556,\"#d8576b\"],[0.6666666666666666,\"#ed7953\"],[0.7777777777777778,\"#fb9f3a\"],[0.8888888888888888,\"#fdca26\"],[1.0,\"#f0f921\"]],\"type\":\"heatmapgl\"}],\"histogram\":[{\"marker\":{\"pattern\":{\"fillmode\":\"overlay\",\"size\":10,\"solidity\":0.2}},\"type\":\"histogram\"}],\"histogram2d\":[{\"colorbar\":{\"outlinewidth\":0,\"ticks\":\"\"},\"colorscale\":[[0.0,\"#0d0887\"],[0.1111111111111111,\"#46039f\"],[0.2222222222222222,\"#7201a8\"],[0.3333333333333333,\"#9c179e\"],[0.4444444444444444,\"#bd3786\"],[0.5555555555555556,\"#d8576b\"],[0.6666666666666666,\"#ed7953\"],[0.7777777777777778,\"#fb9f3a\"],[0.8888888888888888,\"#fdca26\"],[1.0,\"#f0f921\"]],\"type\":\"histogram2d\"}],\"histogram2dcontour\":[{\"colorbar\":{\"outlinewidth\":0,\"ticks\":\"\"},\"colorscale\":[[0.0,\"#0d0887\"],[0.1111111111111111,\"#46039f\"],[0.2222222222222222,\"#7201a8\"],[0.3333333333333333,\"#9c179e\"],[0.4444444444444444,\"#bd3786\"],[0.5555555555555556,\"#d8576b\"],[0.6666666666666666,\"#ed7953\"],[0.7777777777777778,\"#fb9f3a\"],[0.8888888888888888,\"#fdca26\"],[1.0,\"#f0f921\"]],\"type\":\"histogram2dcontour\"}],\"mesh3d\":[{\"colorbar\":{\"outlinewidth\":0,\"ticks\":\"\"},\"type\":\"mesh3d\"}],\"parcoords\":[{\"line\":{\"colorbar\":{\"outlinewidth\":0,\"ticks\":\"\"}},\"type\":\"parcoords\"}],\"pie\":[{\"automargin\":true,\"type\":\"pie\"}],\"scatter\":[{\"marker\":{\"colorbar\":{\"outlinewidth\":0,\"ticks\":\"\"}},\"type\":\"scatter\"}],\"scatter3d\":[{\"line\":{\"colorbar\":{\"outlinewidth\":0,\"ticks\":\"\"}},\"marker\":{\"colorbar\":{\"outlinewidth\":0,\"ticks\":\"\"}},\"type\":\"scatter3d\"}],\"scattercarpet\":[{\"marker\":{\"colorbar\":{\"outlinewidth\":0,\"ticks\":\"\"}},\"type\":\"scattercarpet\"}],\"scattergeo\":[{\"marker\":{\"colorbar\":{\"outlinewidth\":0,\"ticks\":\"\"}},\"type\":\"scattergeo\"}],\"scattergl\":[{\"marker\":{\"colorbar\":{\"outlinewidth\":0,\"ticks\":\"\"}},\"type\":\"scattergl\"}],\"scattermapbox\":[{\"marker\":{\"colorbar\":{\"outlinewidth\":0,\"ticks\":\"\"}},\"type\":\"scattermapbox\"}],\"scatterpolar\":[{\"marker\":{\"colorbar\":{\"outlinewidth\":0,\"ticks\":\"\"}},\"type\":\"scatterpolar\"}],\"scatterpolargl\":[{\"marker\":{\"colorbar\":{\"outlinewidth\":0,\"ticks\":\"\"}},\"type\":\"scatterpolargl\"}],\"scatterternary\":[{\"marker\":{\"colorbar\":{\"outlinewidth\":0,\"ticks\":\"\"}},\"type\":\"scatterternary\"}],\"surface\":[{\"colorbar\":{\"outlinewidth\":0,\"ticks\":\"\"},\"colorscale\":[[0.0,\"#0d0887\"],[0.1111111111111111,\"#46039f\"],[0.2222222222222222,\"#7201a8\"],[0.3333333333333333,\"#9c179e\"],[0.4444444444444444,\"#bd3786\"],[0.5555555555555556,\"#d8576b\"],[0.6666666666666666,\"#ed7953\"],[0.7777777777777778,\"#fb9f3a\"],[0.8888888888888888,\"#fdca26\"],[1.0,\"#f0f921\"]],\"type\":\"surface\"}],\"table\":[{\"cells\":{\"fill\":{\"color\":\"#EBF0F8\"},\"line\":{\"color\":\"white\"}},\"header\":{\"fill\":{\"color\":\"#C8D4E3\"},\"line\":{\"color\":\"white\"}},\"type\":\"table\"}]},\"layout\":{\"annotationdefaults\":{\"arrowcolor\":\"#2a3f5f\",\"arrowhead\":0,\"arrowwidth\":1},\"autotypenumbers\":\"strict\",\"coloraxis\":{\"colorbar\":{\"outlinewidth\":0,\"ticks\":\"\"}},\"colorscale\":{\"diverging\":[[0,\"#8e0152\"],[0.1,\"#c51b7d\"],[0.2,\"#de77ae\"],[0.3,\"#f1b6da\"],[0.4,\"#fde0ef\"],[0.5,\"#f7f7f7\"],[0.6,\"#e6f5d0\"],[0.7,\"#b8e186\"],[0.8,\"#7fbc41\"],[0.9,\"#4d9221\"],[1,\"#276419\"]],\"sequential\":[[0.0,\"#0d0887\"],[0.1111111111111111,\"#46039f\"],[0.2222222222222222,\"#7201a8\"],[0.3333333333333333,\"#9c179e\"],[0.4444444444444444,\"#bd3786\"],[0.5555555555555556,\"#d8576b\"],[0.6666666666666666,\"#ed7953\"],[0.7777777777777778,\"#fb9f3a\"],[0.8888888888888888,\"#fdca26\"],[1.0,\"#f0f921\"]],\"sequentialminus\":[[0.0,\"#0d0887\"],[0.1111111111111111,\"#46039f\"],[0.2222222222222222,\"#7201a8\"],[0.3333333333333333,\"#9c179e\"],[0.4444444444444444,\"#bd3786\"],[0.5555555555555556,\"#d8576b\"],[0.6666666666666666,\"#ed7953\"],[0.7777777777777778,\"#fb9f3a\"],[0.8888888888888888,\"#fdca26\"],[1.0,\"#f0f921\"]]},\"colorway\":[\"#636efa\",\"#EF553B\",\"#00cc96\",\"#ab63fa\",\"#FFA15A\",\"#19d3f3\",\"#FF6692\",\"#B6E880\",\"#FF97FF\",\"#FECB52\"],\"font\":{\"color\":\"#2a3f5f\"},\"geo\":{\"bgcolor\":\"white\",\"lakecolor\":\"white\",\"landcolor\":\"#E5ECF6\",\"showlakes\":true,\"showland\":true,\"subunitcolor\":\"white\"},\"hoverlabel\":{\"align\":\"left\"},\"hovermode\":\"closest\",\"mapbox\":{\"style\":\"light\"},\"paper_bgcolor\":\"white\",\"plot_bgcolor\":\"#E5ECF6\",\"polar\":{\"angularaxis\":{\"gridcolor\":\"white\",\"linecolor\":\"white\",\"ticks\":\"\"},\"bgcolor\":\"#E5ECF6\",\"radialaxis\":{\"gridcolor\":\"white\",\"linecolor\":\"white\",\"ticks\":\"\"}},\"scene\":{\"xaxis\":{\"backgroundcolor\":\"#E5ECF6\",\"gridcolor\":\"white\",\"gridwidth\":2,\"linecolor\":\"white\",\"showbackground\":true,\"ticks\":\"\",\"zerolinecolor\":\"white\"},\"yaxis\":{\"backgroundcolor\":\"#E5ECF6\",\"gridcolor\":\"white\",\"gridwidth\":2,\"linecolor\":\"white\",\"showbackground\":true,\"ticks\":\"\",\"zerolinecolor\":\"white\"},\"zaxis\":{\"backgroundcolor\":\"#E5ECF6\",\"gridcolor\":\"white\",\"gridwidth\":2,\"linecolor\":\"white\",\"showbackground\":true,\"ticks\":\"\",\"zerolinecolor\":\"white\"}},\"shapedefaults\":{\"line\":{\"color\":\"#2a3f5f\"}},\"ternary\":{\"aaxis\":{\"gridcolor\":\"white\",\"linecolor\":\"white\",\"ticks\":\"\"},\"baxis\":{\"gridcolor\":\"white\",\"linecolor\":\"white\",\"ticks\":\"\"},\"bgcolor\":\"#E5ECF6\",\"caxis\":{\"gridcolor\":\"white\",\"linecolor\":\"white\",\"ticks\":\"\"}},\"title\":{\"x\":0.05},\"xaxis\":{\"automargin\":true,\"gridcolor\":\"white\",\"linecolor\":\"white\",\"ticks\":\"\",\"title\":{\"standoff\":15},\"zerolinecolor\":\"white\",\"zerolinewidth\":2},\"yaxis\":{\"automargin\":true,\"gridcolor\":\"white\",\"linecolor\":\"white\",\"ticks\":\"\",\"title\":{\"standoff\":15},\"zerolinecolor\":\"white\",\"zerolinewidth\":2}}}},                        {\"responsive\": true}                    ).then(function(){\n",
       "                            \n",
       "var gd = document.getElementById('37bbd777-311d-4cb0-b17f-3382554a865f');\n",
       "var x = new MutationObserver(function (mutations, observer) {{\n",
       "        var display = window.getComputedStyle(gd).display;\n",
       "        if (!display || display === 'none') {{\n",
       "            console.log([gd, 'removed!']);\n",
       "            Plotly.purge(gd);\n",
       "            observer.disconnect();\n",
       "        }}\n",
       "}});\n",
       "\n",
       "// Listen for the removal of the full notebook cells\n",
       "var notebookContainer = gd.closest('#notebook-container');\n",
       "if (notebookContainer) {{\n",
       "    x.observe(notebookContainer, {childList: true});\n",
       "}}\n",
       "\n",
       "// Listen for the clearing of the current output cell\n",
       "var outputEl = gd.closest('.output');\n",
       "if (outputEl) {{\n",
       "    x.observe(outputEl, {childList: true});\n",
       "}}\n",
       "\n",
       "                        })                };                });            </script>        </div>"
      ]
     },
     "metadata": {},
     "output_type": "display_data"
    }
   ],
   "source": [
    "phase_diagram_3 = CompoundPhaseDiagram(entries,[Composition(\"Si\"),\n",
    "                                                Composition(\"Mn\"),\n",
    "                                                Composition(\"O2\")])\n",
    "#CompoundPhaseDiagram:-Generates phase diagrams from compounds as terminations instead of elements\n",
    "\n",
    "\n",
    "#get_plot and show:- Draw the phase diagram using Plotly (or Matplotlib) and show it.\n",
    "\n",
    "compound_plotter_3 = PDPlotter(phase_diagram_3, show_unstable=True, markerize=20)\n",
    "y = compound_plotter_3.get_plot(phase_diagram_3, energy_colormap=None, label_unstable=True)\n",
    "y.show()\n",
    "\n"
   ]
  },
  {
   "cell_type": "code",
   "execution_count": null,
   "id": "12a283e8",
   "metadata": {},
   "outputs": [],
   "source": []
  }
 ],
 "metadata": {
  "kernelspec": {
   "display_name": "Python 3 (ipykernel)",
   "language": "python",
   "name": "python3"
  },
  "language_info": {
   "codemirror_mode": {
    "name": "ipython",
    "version": 3
   },
   "file_extension": ".py",
   "mimetype": "text/x-python",
   "name": "python",
   "nbconvert_exporter": "python",
   "pygments_lexer": "ipython3",
   "version": "3.9.7"
  }
 },
 "nbformat": 4,
 "nbformat_minor": 5
}
